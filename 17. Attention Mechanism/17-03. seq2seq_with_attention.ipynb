{
  "nbformat": 4,
  "nbformat_minor": 0,
  "metadata": {
    "colab": {
      "provenance": [],
      "gpuType": "T4"
    },
    "kernelspec": {
      "name": "python3",
      "display_name": "Python 3"
    },
    "language_info": {
      "name": "python"
    },
    "accelerator": "GPU"
  },
  "cells": [
    {
      "cell_type": "code",
      "execution_count": 1,
      "metadata": {
        "id": "1JwrqkTioAa-"
      },
      "outputs": [],
      "source": [
        "import re\n",
        "import os\n",
        "import unicodedata\n",
        "import urllib3\n",
        "import zipfile\n",
        "import shutil\n",
        "import numpy as np\n",
        "import pandas as pd\n",
        "import torch\n",
        "from collections import Counter\n",
        "from tqdm import tqdm\n",
        "from torch.utils.data import DataLoader, TensorDataset"
      ]
    },
    {
      "cell_type": "code",
      "source": [
        "num_samples = 33000"
      ],
      "metadata": {
        "id": "koA-BsP5oLa6"
      },
      "execution_count": 2,
      "outputs": []
    },
    {
      "cell_type": "code",
      "source": [
        "!wget -c http://www.manythings.org/anki/fra-eng.zip && unzip -o fra-eng.zip"
      ],
      "metadata": {
        "colab": {
          "base_uri": "https://localhost:8080/"
        },
        "id": "ZuLxJm8aoMYR",
        "outputId": "1325b041-b0d0-4714-de43-1a97d0cede92"
      },
      "execution_count": 3,
      "outputs": [
        {
          "output_type": "stream",
          "name": "stdout",
          "text": [
            "--2024-09-05 14:55:29--  http://www.manythings.org/anki/fra-eng.zip\n",
            "Resolving www.manythings.org (www.manythings.org)... 173.254.30.110\n",
            "Connecting to www.manythings.org (www.manythings.org)|173.254.30.110|:80... connected.\n",
            "HTTP request sent, awaiting response... 200 OK\n",
            "Length: 7943074 (7.6M) [application/zip]\n",
            "Saving to: ‘fra-eng.zip’\n",
            "\n",
            "fra-eng.zip         100%[===================>]   7.57M  14.5MB/s    in 0.5s    \n",
            "\n",
            "2024-09-05 14:55:30 (14.5 MB/s) - ‘fra-eng.zip’ saved [7943074/7943074]\n",
            "\n",
            "Archive:  fra-eng.zip\n",
            "  inflating: _about.txt              \n",
            "  inflating: fra.txt                 \n"
          ]
        }
      ]
    },
    {
      "cell_type": "code",
      "source": [
        "def unicode_to_ascii(s):\n",
        "  # 프랑스어 악센트(accent) 삭제\n",
        "  # 예시 : 'déjà diné' -> deja dine\n",
        "  return ''.join(c for c in unicodedata.normalize('NFD', s) if unicodedata.category(c) != 'Mn')"
      ],
      "metadata": {
        "id": "Q7Abk5lqoNVp"
      },
      "execution_count": 4,
      "outputs": []
    },
    {
      "cell_type": "code",
      "source": [
        "def preprocess_sentence(sent):\n",
        "  # 악센트 삭제 함수 호출\n",
        "  sent = unicode_to_ascii(sent.lower())\n",
        "\n",
        "  # 단어와 구두점 사이에 공백을 만듭니다.\n",
        "  # Ex) \"he is a boy.\" => \"he is a boy .\"\n",
        "  sent = re.sub(r\"([?.!,¿])\", r\" \\1\", sent)\n",
        "\n",
        "  # (a-z, A-Z, \".\", \"?\", \"!\", \",\") 이들을 제외하고는 전부 공백으로 변환합니다.\n",
        "  sent = re.sub(r\"[^a-zA-Z!.?]+\", r\" \", sent)\n",
        "\n",
        "  # 다수 개의 공백을 하나의 공백으로 치환\n",
        "  sent = re.sub(r\"\\s+\", \" \", sent)\n",
        "  return sent"
      ],
      "metadata": {
        "id": "Pk_BGZhioPA5"
      },
      "execution_count": 5,
      "outputs": []
    },
    {
      "cell_type": "code",
      "source": [
        "def load_preprocessed_data():\n",
        "  encoder_input, decoder_input, decoder_target = [], [], []\n",
        "\n",
        "  with open(\"fra.txt\", \"r\") as lines:\n",
        "    for i, line in enumerate(lines):\n",
        "      # source 데이터와 target 데이터 분리\n",
        "      src_line, tar_line, _ = line.strip().split('\\t')\n",
        "\n",
        "      # source 데이터 전처리\n",
        "      src_line = [w for w in preprocess_sentence(src_line).split()]\n",
        "\n",
        "      # target 데이터 전처리\n",
        "      tar_line = preprocess_sentence(tar_line)\n",
        "      tar_line_in = [w for w in (\"<sos> \" + tar_line).split()]\n",
        "      tar_line_out = [w for w in (tar_line + \" <eos>\").split()]\n",
        "\n",
        "      encoder_input.append(src_line)\n",
        "      decoder_input.append(tar_line_in)\n",
        "      decoder_target.append(tar_line_out)\n",
        "\n",
        "      if i == num_samples - 1:\n",
        "        break\n",
        "\n",
        "  return encoder_input, decoder_input, decoder_target"
      ],
      "metadata": {
        "id": "0vHFfP1ioP8x"
      },
      "execution_count": 6,
      "outputs": []
    },
    {
      "cell_type": "code",
      "source": [
        "# 전처리 테스트\n",
        "en_sent = u\"Have you had dinner?\"\n",
        "fr_sent = u\"Avez-vous déjà diné?\"\n",
        "\n",
        "print('전처리 전 영어 문장 :', en_sent)\n",
        "print('전처리 후 영어 문장 :',preprocess_sentence(en_sent))\n",
        "print('전처리 전 프랑스어 문장 :', fr_sent)\n",
        "print('전처리 후 프랑스어 문장 :', preprocess_sentence(fr_sent))"
      ],
      "metadata": {
        "colab": {
          "base_uri": "https://localhost:8080/"
        },
        "id": "0sP_CEgfoRB5",
        "outputId": "07d7112f-361b-454a-a8ce-f12968a1f36b"
      },
      "execution_count": 7,
      "outputs": [
        {
          "output_type": "stream",
          "name": "stdout",
          "text": [
            "전처리 전 영어 문장 : Have you had dinner?\n",
            "전처리 후 영어 문장 : have you had dinner ?\n",
            "전처리 전 프랑스어 문장 : Avez-vous déjà diné?\n",
            "전처리 후 프랑스어 문장 : avez vous deja dine ?\n"
          ]
        }
      ]
    },
    {
      "cell_type": "code",
      "source": [
        "sents_en_in, sents_fra_in, sents_fra_out = load_preprocessed_data()"
      ],
      "metadata": {
        "id": "E6zJEsM3oSTB"
      },
      "execution_count": 8,
      "outputs": []
    },
    {
      "cell_type": "code",
      "source": [
        "sents_en_in, sents_fra_in, sents_fra_out = load_preprocessed_data()\n",
        "print('인코더의 입력 :',sents_en_in[:5])\n",
        "print('디코더의 입력 :',sents_fra_in[:5])\n",
        "print('디코더의 레이블 :',sents_fra_out[:5])"
      ],
      "metadata": {
        "colab": {
          "base_uri": "https://localhost:8080/"
        },
        "id": "MkdTA07ToTtZ",
        "outputId": "16543092-cf5d-4cb7-d3bb-89c14c4f572d"
      },
      "execution_count": 9,
      "outputs": [
        {
          "output_type": "stream",
          "name": "stdout",
          "text": [
            "인코더의 입력 : [['go', '.'], ['go', '.'], ['go', '.'], ['go', '.'], ['hi', '.']]\n",
            "디코더의 입력 : [['<sos>', 'va', '!'], ['<sos>', 'marche', '.'], ['<sos>', 'en', 'route', '!'], ['<sos>', 'bouge', '!'], ['<sos>', 'salut', '!']]\n",
            "디코더의 레이블 : [['va', '!', '<eos>'], ['marche', '.', '<eos>'], ['en', 'route', '!', '<eos>'], ['bouge', '!', '<eos>'], ['salut', '!', '<eos>']]\n"
          ]
        }
      ]
    },
    {
      "cell_type": "code",
      "source": [
        "def build_vocab(sents):\n",
        "  word_list = []\n",
        "\n",
        "  for sent in sents:\n",
        "      for word in sent:\n",
        "        word_list.append(word)\n",
        "\n",
        "  # 각 단어별 등장 빈도를 계산하여 등장 빈도가 높은 순서로 정렬\n",
        "  word_counts = Counter(word_list)\n",
        "  vocab = sorted(word_counts, key=word_counts.get, reverse=True)\n",
        "\n",
        "  word_to_index = {}\n",
        "  word_to_index['<PAD>'] = 0\n",
        "  word_to_index['<UNK>'] = 1\n",
        "\n",
        "  # 등장 빈도가 높은 단어일수록 낮은 정수를 부여\n",
        "  for index, word in enumerate(vocab) :\n",
        "    word_to_index[word] = index + 2\n",
        "\n",
        "  return word_to_index"
      ],
      "metadata": {
        "id": "ePt7ytsZoUoR"
      },
      "execution_count": 10,
      "outputs": []
    },
    {
      "cell_type": "code",
      "source": [
        "src_vocab = build_vocab(sents_en_in)\n",
        "tar_vocab = build_vocab(sents_fra_in + sents_fra_out)\n",
        "\n",
        "src_vocab_size = len(src_vocab)\n",
        "tar_vocab_size = len(tar_vocab)\n",
        "print(\"영어 단어 집합의 크기 : {:d}, 프랑스어 단어 집합의 크기 : {:d}\".format(src_vocab_size, tar_vocab_size))"
      ],
      "metadata": {
        "colab": {
          "base_uri": "https://localhost:8080/"
        },
        "id": "U_YX35UWokop",
        "outputId": "55440e11-01e9-46ce-dc80-d789d5a2cfbf"
      },
      "execution_count": 11,
      "outputs": [
        {
          "output_type": "stream",
          "name": "stdout",
          "text": [
            "영어 단어 집합의 크기 : 4486, 프랑스어 단어 집합의 크기 : 7879\n"
          ]
        }
      ]
    },
    {
      "cell_type": "code",
      "source": [
        "index_to_src = {v: k for k, v in src_vocab.items()}\n",
        "index_to_tar = {v: k for k, v in tar_vocab.items()}\n",
        "\n",
        "def texts_to_sequences(sents, word_to_index):\n",
        "  encoded_X_data = []\n",
        "  for sent in tqdm(sents):\n",
        "    index_sequences = []\n",
        "    for word in sent:\n",
        "      try:\n",
        "          index_sequences.append(word_to_index[word])\n",
        "      except KeyError:\n",
        "          index_sequences.append(word_to_index['<UNK>'])\n",
        "    encoded_X_data.append(index_sequences)\n",
        "  return encoded_X_data"
      ],
      "metadata": {
        "id": "YQX3b7m3olqJ"
      },
      "execution_count": 12,
      "outputs": []
    },
    {
      "cell_type": "code",
      "source": [
        "encoder_input = texts_to_sequences(sents_en_in, src_vocab)\n",
        "decoder_input = texts_to_sequences(sents_fra_in, tar_vocab)\n",
        "decoder_target = texts_to_sequences(sents_fra_out, tar_vocab)"
      ],
      "metadata": {
        "colab": {
          "base_uri": "https://localhost:8080/"
        },
        "id": "dmMrh1fsomoA",
        "outputId": "e00204fb-bacc-4651-bde7-cf302a6666fd"
      },
      "execution_count": 13,
      "outputs": [
        {
          "output_type": "stream",
          "name": "stderr",
          "text": [
            "100%|██████████| 33000/33000 [00:00<00:00, 379842.73it/s]\n",
            "100%|██████████| 33000/33000 [00:00<00:00, 375542.05it/s]\n",
            "100%|██████████| 33000/33000 [00:00<00:00, 115858.16it/s]\n"
          ]
        }
      ]
    },
    {
      "cell_type": "code",
      "source": [
        "# 상위 5개의 샘플에 대해서 정수 인코딩 전, 후 문장 출력\n",
        "# 인코더 입력이므로 <sos>나 <eos>가 없음\n",
        "for i, (item1, item2) in zip(range(5), zip(sents_en_in, encoder_input)):\n",
        "    print(f\"Index: {i}, 정수 인코딩 전: {item1}, 정수 인코딩 후: {item2}\")"
      ],
      "metadata": {
        "colab": {
          "base_uri": "https://localhost:8080/"
        },
        "id": "1yKs-nOVonjZ",
        "outputId": "6951f79e-25b6-41e2-abd4-720976e5ae52"
      },
      "execution_count": 14,
      "outputs": [
        {
          "output_type": "stream",
          "name": "stdout",
          "text": [
            "Index: 0, 정수 인코딩 전: ['go', '.'], 정수 인코딩 후: [27, 2]\n",
            "Index: 1, 정수 인코딩 전: ['go', '.'], 정수 인코딩 후: [27, 2]\n",
            "Index: 2, 정수 인코딩 전: ['go', '.'], 정수 인코딩 후: [27, 2]\n",
            "Index: 3, 정수 인코딩 전: ['go', '.'], 정수 인코딩 후: [27, 2]\n",
            "Index: 4, 정수 인코딩 전: ['hi', '.'], 정수 인코딩 후: [736, 2]\n"
          ]
        }
      ]
    },
    {
      "cell_type": "code",
      "source": [
        "def pad_sequences(sentences, max_len=None):\n",
        "    # 최대 길이 값이 주어지지 않을 경우 데이터 내 최대 길이로 패딩\n",
        "    if max_len is None:\n",
        "        max_len = max([len(sentence) for sentence in sentences])\n",
        "\n",
        "    features = np.zeros((len(sentences), max_len), dtype=int)\n",
        "    for index, sentence in enumerate(sentences):\n",
        "        if len(sentence) != 0:\n",
        "            features[index, :len(sentence)] = np.array(sentence)[:max_len]\n",
        "    return features"
      ],
      "metadata": {
        "id": "gROTzA-TooYB"
      },
      "execution_count": 15,
      "outputs": []
    },
    {
      "cell_type": "code",
      "source": [
        "encoder_input = pad_sequences(encoder_input)\n",
        "decoder_input = pad_sequences(decoder_input)\n",
        "decoder_target = pad_sequences(decoder_target)"
      ],
      "metadata": {
        "id": "AEDYtzGvoq7J"
      },
      "execution_count": 16,
      "outputs": []
    },
    {
      "cell_type": "code",
      "source": [
        "print('인코더의 입력의 크기(shape) :',encoder_input.shape)\n",
        "print('디코더의 입력의 크기(shape) :',decoder_input.shape)\n",
        "print('디코더의 레이블의 크기(shape) :',decoder_target.shape)"
      ],
      "metadata": {
        "colab": {
          "base_uri": "https://localhost:8080/"
        },
        "id": "xhoK6k7SosEh",
        "outputId": "388fa0d0-4a36-420d-c86a-f0088067cc6e"
      },
      "execution_count": 17,
      "outputs": [
        {
          "output_type": "stream",
          "name": "stdout",
          "text": [
            "인코더의 입력의 크기(shape) : (33000, 7)\n",
            "디코더의 입력의 크기(shape) : (33000, 16)\n",
            "디코더의 레이블의 크기(shape) : (33000, 16)\n"
          ]
        }
      ]
    },
    {
      "cell_type": "code",
      "source": [
        "indices = np.arange(encoder_input.shape[0])\n",
        "np.random.shuffle(indices)\n",
        "print('랜덤 시퀀스 :',indices)"
      ],
      "metadata": {
        "colab": {
          "base_uri": "https://localhost:8080/"
        },
        "id": "IjYNVtUtotWZ",
        "outputId": "faa2c7d3-c265-47ed-bfe0-2b0536e8864b"
      },
      "execution_count": 18,
      "outputs": [
        {
          "output_type": "stream",
          "name": "stdout",
          "text": [
            "랜덤 시퀀스 : [12479  9365 20901 ... 11254 18145 23491]\n"
          ]
        }
      ]
    },
    {
      "cell_type": "code",
      "source": [
        "encoder_input = encoder_input[indices]\n",
        "decoder_input = decoder_input[indices]\n",
        "decoder_target = decoder_target[indices]"
      ],
      "metadata": {
        "id": "aef-DcrBouZp"
      },
      "execution_count": 19,
      "outputs": []
    },
    {
      "cell_type": "code",
      "source": [
        "print([index_to_src[word] for word in encoder_input[30997]])\n",
        "print([index_to_tar[word] for word in decoder_input[30997]])\n",
        "print([index_to_tar[word] for word in decoder_target[30997]])"
      ],
      "metadata": {
        "colab": {
          "base_uri": "https://localhost:8080/"
        },
        "id": "J7zlLA6HovPh",
        "outputId": "aae26755-bd2f-4bf8-8749-92f5808bb32c"
      },
      "execution_count": 20,
      "outputs": [
        {
          "output_type": "stream",
          "name": "stdout",
          "text": [
            "['how', 's', 'your', 'sister', '?', '<PAD>', '<PAD>']\n",
            "['<sos>', 'comment', 'va', 'ta', 's', 'ur', '?', '<PAD>', '<PAD>', '<PAD>', '<PAD>', '<PAD>', '<PAD>', '<PAD>', '<PAD>', '<PAD>']\n",
            "['comment', 'va', 'ta', 's', 'ur', '?', '<eos>', '<PAD>', '<PAD>', '<PAD>', '<PAD>', '<PAD>', '<PAD>', '<PAD>', '<PAD>', '<PAD>']\n"
          ]
        }
      ]
    },
    {
      "cell_type": "code",
      "source": [
        "n_of_val = int(33000*0.1)\n",
        "print('검증 데이터의 개수 :',n_of_val)"
      ],
      "metadata": {
        "colab": {
          "base_uri": "https://localhost:8080/"
        },
        "id": "IkleGE80owkZ",
        "outputId": "bab0cc37-7db9-4e13-8eb6-44c98413d15c"
      },
      "execution_count": 21,
      "outputs": [
        {
          "output_type": "stream",
          "name": "stdout",
          "text": [
            "검증 데이터의 개수 : 3300\n"
          ]
        }
      ]
    },
    {
      "cell_type": "code",
      "source": [
        "encoder_input_train = encoder_input[:-n_of_val]\n",
        "decoder_input_train = decoder_input[:-n_of_val]\n",
        "decoder_target_train = decoder_target[:-n_of_val]\n",
        "\n",
        "encoder_input_test = encoder_input[-n_of_val:]\n",
        "decoder_input_test = decoder_input[-n_of_val:]\n",
        "decoder_target_test = decoder_target[-n_of_val:]"
      ],
      "metadata": {
        "id": "TGv2-Tmkoxhx"
      },
      "execution_count": 22,
      "outputs": []
    },
    {
      "cell_type": "code",
      "source": [
        "print('훈련 source 데이터의 크기 :',encoder_input_train.shape)\n",
        "print('훈련 target 데이터의 크기 :',decoder_input_train.shape)\n",
        "print('훈련 target 레이블의 크기 :',decoder_target_train.shape)\n",
        "print('테스트 source 데이터의 크기 :',encoder_input_test.shape)\n",
        "print('테스트 target 데이터의 크기 :',decoder_input_test.shape)\n",
        "print('테스트 target 레이블의 크기 :',decoder_target_test.shape)"
      ],
      "metadata": {
        "colab": {
          "base_uri": "https://localhost:8080/"
        },
        "id": "St0ZxAuEoytB",
        "outputId": "ced7a9f2-f221-4ee8-b44d-b5302c35dd3b"
      },
      "execution_count": 23,
      "outputs": [
        {
          "output_type": "stream",
          "name": "stdout",
          "text": [
            "훈련 source 데이터의 크기 : (29700, 7)\n",
            "훈련 target 데이터의 크기 : (29700, 16)\n",
            "훈련 target 레이블의 크기 : (29700, 16)\n",
            "테스트 source 데이터의 크기 : (3300, 7)\n",
            "테스트 target 데이터의 크기 : (3300, 16)\n",
            "테스트 target 레이블의 크기 : (3300, 16)\n"
          ]
        }
      ]
    },
    {
      "cell_type": "code",
      "source": [
        "import torch\n",
        "import torch.nn as nn\n",
        "import torch.optim as optim\n",
        "\n",
        "embedding_dim = 256\n",
        "hidden_units = 256"
      ],
      "metadata": {
        "id": "EqQlpYdjoz1x"
      },
      "execution_count": 24,
      "outputs": []
    },
    {
      "cell_type": "code",
      "source": [
        "class Encoder(nn.Module):\n",
        "    def __init__(self, src_vocab_size, embedding_dim, hidden_units):\n",
        "        super(Encoder, self).__init__()\n",
        "        self.embedding = nn.Embedding(src_vocab_size, embedding_dim, padding_idx=0)\n",
        "        self.lstm = nn.LSTM(embedding_dim, hidden_units, batch_first=True)\n",
        "\n",
        "    def forward(self, x):\n",
        "        # x.shape == (batch_size, seq_len, embedding_dim)\n",
        "        x = self.embedding(x)\n",
        "        # hidden.shape == (1, batch_size, hidden_units), cell.shape == (1, batch_size, hidden_units)\n",
        "        outputs, (hidden, cell) = self.lstm(x)\n",
        "        return outputs, hidden, cell"
      ],
      "metadata": {
        "id": "pAYiT5T0o0_p"
      },
      "execution_count": 25,
      "outputs": []
    },
    {
      "cell_type": "code",
      "source": [
        "class Decoder(nn.Module):\n",
        "    def __init__(self, tar_vocab_size, embedding_dim, hidden_units):\n",
        "        super(Decoder, self).__init__()\n",
        "        self.embedding = nn.Embedding(tar_vocab_size, embedding_dim, padding_idx=0)\n",
        "        self.lstm = nn.LSTM(embedding_dim + hidden_units, hidden_units, batch_first=True)\n",
        "        self.fc = nn.Linear(hidden_units, tar_vocab_size)\n",
        "        self.softmax = nn.Softmax(dim=2)\n",
        "\n",
        "    def forward(self, x, encoder_outputs, hidden, cell):\n",
        "        x = self.embedding(x)\n",
        "\n",
        "        # Dot product attention\n",
        "        # attention_scores.shape: (batch_size, source_seq_len, 1)\n",
        "        attention_scores = torch.bmm(encoder_outputs, hidden.transpose(0, 1).transpose(1, 2))\n",
        "\n",
        "        # attention_weights.shape: (batch_size, source_seq_len, 1)\n",
        "        attention_weights = self.softmax(attention_scores)\n",
        "\n",
        "        # context_vector.shape: (batch_size, 1, hidden_units)\n",
        "        context_vector = torch.bmm(attention_weights.transpose(1, 2), encoder_outputs)\n",
        "\n",
        "        # Repeat context_vector to match seq_len\n",
        "        # context_vector_repeated.shape: (batch_size, target_seq_len, hidden_units)\n",
        "        seq_len = x.shape[1]\n",
        "        context_vector_repeated = context_vector.repeat(1, seq_len, 1)\n",
        "\n",
        "        # Concatenate context vector and embedded input\n",
        "        # x.shape: (batch_size, target_seq_len, embedding_dim + hidden_units)\n",
        "        x = torch.cat((x, context_vector_repeated), dim=2)\n",
        "\n",
        "        # output.shape: (batch_size, target_seq_len, hidden_units)\n",
        "        # hidden.shape: (1, batch_size, hidden_units)\n",
        "        # cell.shape: (1, batch_size, hidden_units)\n",
        "        output, (hidden, cell) = self.lstm(x, (hidden, cell))\n",
        "\n",
        "        # output.shape: (batch_size, target_seq_len, tar_vocab_size)\n",
        "        output = self.fc(output)\n",
        "\n",
        "        return output, hidden, cell"
      ],
      "metadata": {
        "id": "0jiwJf_to2iA"
      },
      "execution_count": 26,
      "outputs": []
    },
    {
      "cell_type": "code",
      "source": [
        "class Seq2Seq(nn.Module):\n",
        "    def __init__(self, encoder, decoder):\n",
        "        super(Seq2Seq, self).__init__()\n",
        "        self.encoder = encoder\n",
        "        self.decoder = decoder\n",
        "\n",
        "    def forward(self, src, trg):\n",
        "        encoder_outputs, hidden, cell = self.encoder(src)\n",
        "        output, _, _ = self.decoder(trg, encoder_outputs, hidden, cell)\n",
        "        return output\n",
        "\n",
        "encoder = Encoder(src_vocab_size, embedding_dim, hidden_units)\n",
        "decoder = Decoder(tar_vocab_size, embedding_dim, hidden_units)\n",
        "model = Seq2Seq(encoder, decoder)\n",
        "\n",
        "loss_function = nn.CrossEntropyLoss(ignore_index=0)\n",
        "optimizer = optim.Adam(model.parameters())"
      ],
      "metadata": {
        "id": "V2MSnNslo31B"
      },
      "execution_count": 27,
      "outputs": []
    },
    {
      "cell_type": "code",
      "source": [
        "def evaluation(model, dataloader, loss_function, device):\n",
        "    model.eval()\n",
        "    total_loss = 0.0\n",
        "    total_correct = 0\n",
        "    total_count = 0\n",
        "\n",
        "    with torch.no_grad():\n",
        "        for encoder_inputs, decoder_inputs, decoder_targets in dataloader:\n",
        "            encoder_inputs = encoder_inputs.to(device)\n",
        "            decoder_inputs = decoder_inputs.to(device)\n",
        "            decoder_targets = decoder_targets.to(device)\n",
        "\n",
        "            # 순방향 전파\n",
        "            # outputs.shape == (batch_size, seq_len, tar_vocab_size)\n",
        "            outputs = model(encoder_inputs, decoder_inputs)\n",
        "\n",
        "            # 손실 계산\n",
        "            # outputs.view(-1, outputs.size(-1))의 shape는 (batch_size * seq_len, tar_vocab_size)\n",
        "            # decoder_targets.view(-1)의 shape는 (batch_size * seq_len)\n",
        "            loss = loss_function(outputs.view(-1, outputs.size(-1)), decoder_targets.view(-1))\n",
        "            total_loss += loss.item()\n",
        "\n",
        "            # 정확도 계산 (패딩 토큰 제외)\n",
        "            mask = decoder_targets != 0\n",
        "            total_correct += ((outputs.argmax(dim=-1) == decoder_targets) * mask).sum().item()\n",
        "            total_count += mask.sum().item()\n",
        "\n",
        "    return total_loss / len(dataloader), total_correct / total_count"
      ],
      "metadata": {
        "id": "JUTF3MJdsEOV"
      },
      "execution_count": 30,
      "outputs": []
    },
    {
      "cell_type": "code",
      "source": [
        "encoder_input_train_tensor = torch.tensor(encoder_input_train, dtype=torch.long)\n",
        "decoder_input_train_tensor = torch.tensor(decoder_input_train, dtype=torch.long)\n",
        "decoder_target_train_tensor = torch.tensor(decoder_target_train, dtype=torch.long)\n",
        "\n",
        "encoder_input_test_tensor = torch.tensor(encoder_input_test, dtype=torch.long)\n",
        "decoder_input_test_tensor = torch.tensor(decoder_input_test, dtype=torch.long)\n",
        "decoder_target_test_tensor = torch.tensor(decoder_target_test, dtype=torch.long)\n",
        "\n",
        "# 데이터셋 및 데이터로더 생성\n",
        "batch_size = 128\n",
        "\n",
        "train_dataset = TensorDataset(encoder_input_train_tensor, decoder_input_train_tensor, decoder_target_train_tensor)\n",
        "train_dataloader = DataLoader(train_dataset, batch_size=batch_size, shuffle=True)\n",
        "\n",
        "valid_dataset = TensorDataset(encoder_input_test_tensor, decoder_input_test_tensor, decoder_target_test_tensor)\n",
        "valid_dataloader = DataLoader(valid_dataset, batch_size=batch_size, shuffle=False)\n",
        "\n",
        "# 학습 설정\n",
        "num_epochs = 30\n",
        "device = torch.device(\"cuda\" if torch.cuda.is_available() else \"cpu\")\n",
        "model.to(device)"
      ],
      "metadata": {
        "colab": {
          "base_uri": "https://localhost:8080/"
        },
        "id": "de_T003Ho44o",
        "outputId": "6ed726bb-5506-4e43-c4f6-f37043b27af6"
      },
      "execution_count": 28,
      "outputs": [
        {
          "output_type": "execute_result",
          "data": {
            "text/plain": [
              "Seq2Seq(\n",
              "  (encoder): Encoder(\n",
              "    (embedding): Embedding(4486, 256, padding_idx=0)\n",
              "    (lstm): LSTM(256, 256, batch_first=True)\n",
              "  )\n",
              "  (decoder): Decoder(\n",
              "    (embedding): Embedding(7879, 256, padding_idx=0)\n",
              "    (lstm): LSTM(512, 256, batch_first=True)\n",
              "    (fc): Linear(in_features=256, out_features=7879, bias=True)\n",
              "    (softmax): Softmax(dim=2)\n",
              "  )\n",
              ")"
            ]
          },
          "metadata": {},
          "execution_count": 28
        }
      ]
    },
    {
      "cell_type": "code",
      "source": [
        "# Training loop\n",
        "best_val_loss = float('inf')\n",
        "\n",
        "for epoch in range(num_epochs):\n",
        "    # 훈련 모드\n",
        "    model.train()\n",
        "\n",
        "    for encoder_inputs, decoder_inputs, decoder_targets in train_dataloader:\n",
        "        encoder_inputs = encoder_inputs.to(device)\n",
        "        decoder_inputs = decoder_inputs.to(device)\n",
        "        decoder_targets = decoder_targets.to(device)\n",
        "\n",
        "        # 기울기 초기화\n",
        "        optimizer.zero_grad()\n",
        "\n",
        "        # 순방향 전파\n",
        "        # outputs.shape == (batch_size, seq_len, tar_vocab_size)\n",
        "        outputs = model(encoder_inputs, decoder_inputs)\n",
        "\n",
        "        # 손실 계산 및 역방향 전파\n",
        "        # outputs.view(-1, outputs.size(-1))의 shape는 (batch_size * seq_len, tar_vocab_size)\n",
        "        # decoder_targets.view(-1)의 shape는 (batch_size * seq_len)\n",
        "        loss = loss_function(outputs.view(-1, outputs.size(-1)), decoder_targets.view(-1))\n",
        "        loss.backward()\n",
        "\n",
        "        # 가중치 업데이트\n",
        "        optimizer.step()\n",
        "\n",
        "    train_loss, train_acc = evaluation(model, train_dataloader, loss_function, device)\n",
        "    valid_loss, valid_acc = evaluation(model, valid_dataloader, loss_function, device)\n",
        "\n",
        "    print(f'Epoch: {epoch+1}/{num_epochs} | Train Loss: {train_loss:.4f} | Train Acc: {train_acc:.4f} | Valid Loss: {valid_loss:.4f} | Valid Acc: {valid_acc:.4f}')\n",
        "\n",
        "    # 검증 손실이 최소일 때 체크포인트 저장\n",
        "    if valid_loss < best_val_loss:\n",
        "        print(f'Validation loss improved from {best_val_loss:.4f} to {valid_loss:.4f}. 체크포인트를 저장합니다.')\n",
        "        best_val_loss = valid_loss\n",
        "        torch.save(model.state_dict(), 'best_model_checkpoint.pth')"
      ],
      "metadata": {
        "colab": {
          "base_uri": "https://localhost:8080/"
        },
        "id": "oFNlEAVio5zw",
        "outputId": "1ddc6732-8cee-4643-e87f-3f21dbfbb7f7"
      },
      "execution_count": 31,
      "outputs": [
        {
          "output_type": "stream",
          "name": "stdout",
          "text": [
            "Epoch: 1/30 | Train Loss: 2.2343 | Train Acc: 0.6188 | Valid Loss: 2.4480 | Valid Acc: 0.6076\n",
            "Validation loss improved from inf to 2.4480. 체크포인트를 저장합니다.\n",
            "Epoch: 2/30 | Train Loss: 1.7689 | Train Acc: 0.6671 | Valid Loss: 2.1103 | Valid Acc: 0.6400\n",
            "Validation loss improved from 2.4480 to 2.1103. 체크포인트를 저장합니다.\n",
            "Epoch: 3/30 | Train Loss: 1.4138 | Train Acc: 0.7148 | Valid Loss: 1.8879 | Valid Acc: 0.6668\n",
            "Validation loss improved from 2.1103 to 1.8879. 체크포인트를 저장합니다.\n",
            "Epoch: 4/30 | Train Loss: 1.1270 | Train Acc: 0.7568 | Valid Loss: 1.7234 | Valid Acc: 0.6875\n",
            "Validation loss improved from 1.8879 to 1.7234. 체크포인트를 저장합니다.\n",
            "Epoch: 5/30 | Train Loss: 0.9020 | Train Acc: 0.7987 | Valid Loss: 1.6124 | Valid Acc: 0.7034\n",
            "Validation loss improved from 1.7234 to 1.6124. 체크포인트를 저장합니다.\n",
            "Epoch: 6/30 | Train Loss: 0.7208 | Train Acc: 0.8343 | Valid Loss: 1.5204 | Valid Acc: 0.7130\n",
            "Validation loss improved from 1.6124 to 1.5204. 체크포인트를 저장합니다.\n",
            "Epoch: 7/30 | Train Loss: 0.5799 | Train Acc: 0.8618 | Valid Loss: 1.4654 | Valid Acc: 0.7260\n",
            "Validation loss improved from 1.5204 to 1.4654. 체크포인트를 저장합니다.\n",
            "Epoch: 8/30 | Train Loss: 0.4757 | Train Acc: 0.8812 | Valid Loss: 1.4383 | Valid Acc: 0.7293\n",
            "Validation loss improved from 1.4654 to 1.4383. 체크포인트를 저장합니다.\n",
            "Epoch: 9/30 | Train Loss: 0.3986 | Train Acc: 0.8951 | Valid Loss: 1.4173 | Valid Acc: 0.7333\n",
            "Validation loss improved from 1.4383 to 1.4173. 체크포인트를 저장합니다.\n",
            "Epoch: 10/30 | Train Loss: 0.3430 | Train Acc: 0.9043 | Valid Loss: 1.4176 | Valid Acc: 0.7358\n",
            "Epoch: 11/30 | Train Loss: 0.2994 | Train Acc: 0.9124 | Valid Loss: 1.4097 | Valid Acc: 0.7371\n",
            "Validation loss improved from 1.4173 to 1.4097. 체크포인트를 저장합니다.\n",
            "Epoch: 12/30 | Train Loss: 0.2676 | Train Acc: 0.9186 | Valid Loss: 1.4141 | Valid Acc: 0.7350\n",
            "Epoch: 13/30 | Train Loss: 0.2444 | Train Acc: 0.9217 | Valid Loss: 1.4227 | Valid Acc: 0.7370\n",
            "Epoch: 14/30 | Train Loss: 0.2299 | Train Acc: 0.9238 | Valid Loss: 1.4364 | Valid Acc: 0.7331\n",
            "Epoch: 15/30 | Train Loss: 0.2173 | Train Acc: 0.9255 | Valid Loss: 1.4388 | Valid Acc: 0.7378\n",
            "Epoch: 16/30 | Train Loss: 0.2017 | Train Acc: 0.9278 | Valid Loss: 1.4538 | Valid Acc: 0.7361\n",
            "Epoch: 17/30 | Train Loss: 0.1948 | Train Acc: 0.9283 | Valid Loss: 1.4611 | Valid Acc: 0.7361\n",
            "Epoch: 18/30 | Train Loss: 0.1868 | Train Acc: 0.9286 | Valid Loss: 1.4726 | Valid Acc: 0.7362\n",
            "Epoch: 19/30 | Train Loss: 0.1809 | Train Acc: 0.9298 | Valid Loss: 1.4926 | Valid Acc: 0.7361\n",
            "Epoch: 20/30 | Train Loss: 0.1772 | Train Acc: 0.9305 | Valid Loss: 1.4917 | Valid Acc: 0.7394\n",
            "Epoch: 21/30 | Train Loss: 0.1737 | Train Acc: 0.9302 | Valid Loss: 1.5109 | Valid Acc: 0.7408\n",
            "Epoch: 22/30 | Train Loss: 0.1723 | Train Acc: 0.9305 | Valid Loss: 1.5161 | Valid Acc: 0.7389\n",
            "Epoch: 23/30 | Train Loss: 0.1701 | Train Acc: 0.9306 | Valid Loss: 1.5236 | Valid Acc: 0.7376\n",
            "Epoch: 24/30 | Train Loss: 0.1643 | Train Acc: 0.9309 | Valid Loss: 1.5373 | Valid Acc: 0.7405\n",
            "Epoch: 25/30 | Train Loss: 0.1618 | Train Acc: 0.9315 | Valid Loss: 1.5404 | Valid Acc: 0.7382\n",
            "Epoch: 26/30 | Train Loss: 0.1613 | Train Acc: 0.9315 | Valid Loss: 1.5434 | Valid Acc: 0.7406\n",
            "Epoch: 27/30 | Train Loss: 0.1593 | Train Acc: 0.9312 | Valid Loss: 1.5483 | Valid Acc: 0.7372\n",
            "Epoch: 28/30 | Train Loss: 0.1566 | Train Acc: 0.9317 | Valid Loss: 1.5631 | Valid Acc: 0.7393\n",
            "Epoch: 29/30 | Train Loss: 0.1548 | Train Acc: 0.9320 | Valid Loss: 1.5609 | Valid Acc: 0.7405\n",
            "Epoch: 30/30 | Train Loss: 0.1533 | Train Acc: 0.9318 | Valid Loss: 1.5713 | Valid Acc: 0.7381\n"
          ]
        }
      ]
    },
    {
      "cell_type": "code",
      "source": [
        "# 모델 로드\n",
        "model.load_state_dict(torch.load('best_model_checkpoint.pth'))\n",
        "\n",
        "# 모델을 device에 올립니다.\n",
        "model.to(device)\n",
        "\n",
        "# 검증 데이터에 대한 정확도와 손실 계산\n",
        "val_loss, val_accuracy = evaluation(model, valid_dataloader, loss_function, device)\n",
        "\n",
        "print(f'Best model validation loss: {val_loss:.4f}')\n",
        "print(f'Best model validation accuracy: {val_accuracy:.4f}')"
      ],
      "metadata": {
        "colab": {
          "base_uri": "https://localhost:8080/"
        },
        "id": "q4g3RSXyo6zA",
        "outputId": "92eb15b0-19ec-443b-e20b-ab9b6fa0a7e3"
      },
      "execution_count": 32,
      "outputs": [
        {
          "output_type": "stream",
          "name": "stdout",
          "text": [
            "Best model validation loss: 1.4097\n",
            "Best model validation accuracy: 0.7371\n"
          ]
        },
        {
          "output_type": "stream",
          "name": "stderr",
          "text": [
            "<ipython-input-32-ccccf4da9b07>:2: FutureWarning: You are using `torch.load` with `weights_only=False` (the current default value), which uses the default pickle module implicitly. It is possible to construct malicious pickle data which will execute arbitrary code during unpickling (See https://github.com/pytorch/pytorch/blob/main/SECURITY.md#untrusted-models for more details). In a future release, the default value for `weights_only` will be flipped to `True`. This limits the functions that could be executed during unpickling. Arbitrary objects will no longer be allowed to be loaded via this mode unless they are explicitly allowlisted by the user via `torch.serialization.add_safe_globals`. We recommend you start setting `weights_only=True` for any use case where you don't have full control of the loaded file. Please open an issue on GitHub for any issues related to this experimental feature.\n",
            "  model.load_state_dict(torch.load('best_model_checkpoint.pth'))\n"
          ]
        }
      ]
    },
    {
      "cell_type": "code",
      "source": [
        "print(tar_vocab['<sos>'])\n",
        "print(tar_vocab['<eos>'])"
      ],
      "metadata": {
        "colab": {
          "base_uri": "https://localhost:8080/"
        },
        "id": "t0o0kOtlo8AY",
        "outputId": "796f0712-ebaa-486b-eeb2-d3a62f496eed"
      },
      "execution_count": 33,
      "outputs": [
        {
          "output_type": "stream",
          "name": "stdout",
          "text": [
            "3\n",
            "4\n"
          ]
        }
      ]
    },
    {
      "cell_type": "code",
      "source": [
        "index_to_src = {v: k for k, v in src_vocab.items()}\n",
        "index_to_tar = {v: k for k, v in tar_vocab.items()}\n",
        "\n",
        "# 원문의 정수 시퀀스를 텍스트 시퀀스로 변환\n",
        "def seq_to_src(input_seq):\n",
        "  sentence = ''\n",
        "  for encoded_word in input_seq:\n",
        "    if(encoded_word != 0):\n",
        "      sentence = sentence + index_to_src[encoded_word] + ' '\n",
        "  return sentence\n",
        "\n",
        "# 번역문의 정수 시퀀스를 텍스트 시퀀스로 변환\n",
        "def seq_to_tar(input_seq):\n",
        "  sentence = ''\n",
        "  for encoded_word in input_seq:\n",
        "    if(encoded_word != 0 and encoded_word != tar_vocab['<sos>'] and encoded_word != tar_vocab['<eos>']):\n",
        "      sentence = sentence + index_to_tar[encoded_word] + ' '\n",
        "  return sentence"
      ],
      "metadata": {
        "id": "_YK2vbhro8-Y"
      },
      "execution_count": 34,
      "outputs": []
    },
    {
      "cell_type": "code",
      "source": [
        "print(encoder_input_test[25])\n",
        "print(decoder_input_test[25])\n",
        "print(decoder_target_test[25])"
      ],
      "metadata": {
        "id": "IEldjD4So-Nw",
        "colab": {
          "base_uri": "https://localhost:8080/"
        },
        "outputId": "f5d9b706-4bb4-4ba2-b0cc-1cc72eca3dac"
      },
      "execution_count": 35,
      "outputs": [
        {
          "output_type": "stream",
          "name": "stdout",
          "text": [
            "[ 25 563   6   2   0   0   0]\n",
            "[   3   46   79 1791    8    2    0    0    0    0    0    0    0    0\n",
            "    0    0]\n",
            "[  46   79 1791    8    2    4    0    0    0    0    0    0    0    0\n",
            "    0    0]\n"
          ]
        }
      ]
    },
    {
      "cell_type": "code",
      "source": [
        "def decode_sequence(input_seq, model, src_vocab_size, tar_vocab_size, max_output_len, int_to_src_token, int_to_tar_token):\n",
        "    encoder_inputs = torch.tensor(input_seq, dtype=torch.long).unsqueeze(0).to(device)\n",
        "\n",
        "    # 인코더의 초기 상태 설정\n",
        "    encoder_outputs, hidden, cell = model.encoder(encoder_inputs)\n",
        "\n",
        "    # 시작 토큰 <sos>을 디코더의 첫 입력으로 설정\n",
        "    # unsqueeze(0)는 배치 차원을 추가하기 위함.\n",
        "    decoder_input = torch.tensor([3], dtype=torch.long).unsqueeze(0).to(device)\n",
        "\n",
        "    decoded_tokens = []\n",
        "\n",
        "    # for문을 도는 것 == 디코더의 각 시점\n",
        "    for _ in range(max_output_len):\n",
        "        output, hidden, cell = model.decoder(decoder_input, encoder_outputs, hidden, cell)\n",
        "\n",
        "        # 소프트맥스 회귀를 수행. 예측 단어의 인덱스\n",
        "        output_token = output.argmax(dim=-1).item()\n",
        "\n",
        "        # 종료 토큰 <eos>\n",
        "        if output_token == 4:\n",
        "            break\n",
        "\n",
        "        # 각 시점의 단어(정수)는 decoded_tokens에 누적하였다가 최종 번역 시퀀스로 리턴합니다.\n",
        "        decoded_tokens.append(output_token)\n",
        "\n",
        "        # 현재 시점의 예측. 다음 시점의 입력으로 사용된다.\n",
        "        decoder_input = torch.tensor([output_token], dtype=torch.long).unsqueeze(0).to(device)\n",
        "\n",
        "    return ' '.join(int_to_tar_token[token] for token in decoded_tokens)"
      ],
      "metadata": {
        "id": "9Oi9oEo9o_aA"
      },
      "execution_count": 36,
      "outputs": []
    },
    {
      "cell_type": "code",
      "source": [
        "for seq_index in [3, 50, 100, 300, 1001]:\n",
        "  input_seq = encoder_input_train[seq_index]\n",
        "  translated_text = decode_sequence(input_seq, model, src_vocab_size, tar_vocab_size, 20, index_to_src, index_to_tar)\n",
        "\n",
        "  print(\"입력문장 :\",seq_to_src(encoder_input_train[seq_index]))\n",
        "  print(\"정답문장 :\",seq_to_tar(decoder_input_train[seq_index]))\n",
        "  print(\"번역문장 :\",translated_text)\n",
        "  print(\"-\"*50)"
      ],
      "metadata": {
        "colab": {
          "base_uri": "https://localhost:8080/"
        },
        "id": "9WDR-gVJpAXw",
        "outputId": "a8c2f598-75c0-4907-987e-218ee2878b71"
      },
      "execution_count": 37,
      "outputs": [
        {
          "output_type": "stream",
          "name": "stdout",
          "text": [
            "입력문장 : read the meter . \n",
            "정답문장 : lis le compteur . \n",
            "번역문장 : lis le compteur .\n",
            "--------------------------------------------------\n",
            "입력문장 : we ll walk . \n",
            "정답문장 : nous marcherons . \n",
            "번역문장 : nous marcherons .\n",
            "--------------------------------------------------\n",
            "입력문장 : remain seated . \n",
            "정답문장 : reste assise . \n",
            "번역문장 : restez assise .\n",
            "--------------------------------------------------\n",
            "입력문장 : tom hates opera . \n",
            "정답문장 : tom deteste l opera . \n",
            "번역문장 : tom deteste l opera .\n",
            "--------------------------------------------------\n",
            "입력문장 : i never win . \n",
            "정답문장 : jamais je ne l emporte . \n",
            "번역문장 : je ne l emporte jamais .\n",
            "--------------------------------------------------\n"
          ]
        }
      ]
    },
    {
      "cell_type": "code",
      "source": [
        "for seq_index in [3, 50, 100, 300, 1001]:\n",
        "  input_seq = encoder_input_test[seq_index]\n",
        "  translated_text = decode_sequence(input_seq, model, src_vocab_size, tar_vocab_size, 20, index_to_src, index_to_tar)\n",
        "\n",
        "  print(\"입력문장 :\",seq_to_src(encoder_input_test[seq_index]))\n",
        "  print(\"정답문장 :\",seq_to_tar(decoder_input_test[seq_index]))\n",
        "  print(\"번역문장 :\",translated_text)\n",
        "  print(\"-\"*50)"
      ],
      "metadata": {
        "colab": {
          "base_uri": "https://localhost:8080/"
        },
        "id": "vPQmFiNhsVQo",
        "outputId": "8f5a0edd-a374-4ff1-96b9-169e5b5a1e7a"
      },
      "execution_count": 41,
      "outputs": [
        {
          "output_type": "stream",
          "name": "stdout",
          "text": [
            "입력문장 : these are genuine . \n",
            "정답문장 : ceux ci sont veritables . \n",
            "번역문장 : les flics sont parfaits .\n",
            "--------------------------------------------------\n",
            "입력문장 : don t give me that ! \n",
            "정답문장 : ne me donne pas ca ! \n",
            "번역문장 : ne m mets pas ca !\n",
            "--------------------------------------------------\n",
            "입력문장 : don t do that . \n",
            "정답문장 : ne fais pas ca . \n",
            "번역문장 : ne fais pas ca .\n",
            "--------------------------------------------------\n",
            "입력문장 : can i make copies ? \n",
            "정답문장 : puis je faire des copies ? \n",
            "번역문장 : puis je effectuer des copies ?\n",
            "--------------------------------------------------\n",
            "입력문장 : what have you got ? \n",
            "정답문장 : qu avez vous ? \n",
            "번역문장 : qu avez vous ?\n",
            "--------------------------------------------------\n"
          ]
        }
      ]
    }
  ]
}