{
  "cells": [
    {
      "cell_type": "code",
      "execution_count": 1,
      "metadata": {
        "colab": {
          "base_uri": "https://localhost:8080/"
        },
        "id": "wR5GDI4Fl4BN",
        "outputId": "6aaf3dbe-b5de-47b3-9742-ce5c8a7265a9"
      },
      "outputs": [
        {
          "name": "stdout",
          "output_type": "stream",
          "text": [
            "Requirement already satisfied: konlpy in /usr/local/python/3.12.1/lib/python3.12/site-packages (0.6.0)\n",
            "Requirement already satisfied: JPype1>=0.7.0 in /usr/local/python/3.12.1/lib/python3.12/site-packages (from konlpy) (1.5.2)\n",
            "Requirement already satisfied: lxml>=4.1.0 in /usr/local/python/3.12.1/lib/python3.12/site-packages (from konlpy) (5.4.0)\n",
            "Requirement already satisfied: numpy>=1.6 in /usr/local/python/3.12.1/lib/python3.12/site-packages (from konlpy) (1.26.4)\n",
            "Requirement already satisfied: packaging in /home/codespace/.local/lib/python3.12/site-packages (from JPype1>=0.7.0->konlpy) (24.2)\n",
            "\n",
            "\u001b[1m[\u001b[0m\u001b[34;49mnotice\u001b[0m\u001b[1;39;49m]\u001b[0m\u001b[39;49m A new release of pip is available: \u001b[0m\u001b[31;49m25.0.1\u001b[0m\u001b[39;49m -> \u001b[0m\u001b[32;49m25.1.1\u001b[0m\n",
            "\u001b[1m[\u001b[0m\u001b[34;49mnotice\u001b[0m\u001b[1;39;49m]\u001b[0m\u001b[39;49m To update, run: \u001b[0m\u001b[32;49mpython3 -m pip install --upgrade pip\u001b[0m\n",
            "Requirement already satisfied: mecab-python in /usr/local/python/3.12.1/lib/python3.12/site-packages (1.0.0)\n",
            "Requirement already satisfied: mecab-python3 in /usr/local/python/3.12.1/lib/python3.12/site-packages (from mecab-python) (1.0.10)\n",
            "\n",
            "\u001b[1m[\u001b[0m\u001b[34;49mnotice\u001b[0m\u001b[1;39;49m]\u001b[0m\u001b[39;49m A new release of pip is available: \u001b[0m\u001b[31;49m25.0.1\u001b[0m\u001b[39;49m -> \u001b[0m\u001b[32;49m25.1.1\u001b[0m\n",
            "\u001b[1m[\u001b[0m\u001b[34;49mnotice\u001b[0m\u001b[1;39;49m]\u001b[0m\u001b[39;49m To update, run: \u001b[0m\u001b[32;49mpython3 -m pip install --upgrade pip\u001b[0m\n",
            "mecab-ko is already installed\n",
            "mecab-ko-dic is already installed\n",
            "<string>:1: DeprecationWarning: 'pkgutil.find_loader' is deprecated and slated for removal in Python 3.14; use importlib.util.find_spec() instead\n",
            "mecab-python is already installed\n",
            "Done.\n"
          ]
        }
      ],
      "source": [
        "!pip install konlpy\n",
        "!pip install mecab-python\n",
        "!bash <(curl -s https://raw.githubusercontent.com/konlpy/konlpy/master/scripts/mecab.sh)"
      ]
    },
    {
      "cell_type": "code",
      "execution_count": 2,
      "metadata": {
        "id": "u6t45t3amACz"
      },
      "outputs": [],
      "source": [
        "import pickle\n",
        "import pandas as pd\n",
        "import numpy as np\n",
        "import matplotlib.pyplot as plt\n",
        "import re\n",
        "import urllib.request\n",
        "from konlpy.tag import Mecab\n",
        "from tqdm import tqdm\n",
        "from sklearn.model_selection import train_test_split\n",
        "from collections import Counter"
      ]
    },
    {
      "cell_type": "code",
      "execution_count": 3,
      "metadata": {
        "colab": {
          "base_uri": "https://localhost:8080/"
        },
        "id": "BVpJTK_cmDQk",
        "outputId": "ce65e0f4-ac38-4075-daca-532df2912c8f"
      },
      "outputs": [
        {
          "data": {
            "text/plain": [
              "('ratings_test.txt', <http.client.HTTPMessage at 0x734e7652a090>)"
            ]
          },
          "execution_count": 3,
          "metadata": {},
          "output_type": "execute_result"
        }
      ],
      "source": [
        "urllib.request.urlretrieve(\"https://raw.githubusercontent.com/e9t/nsmc/master/ratings_train.txt\", filename=\"ratings_train.txt\")\n",
        "urllib.request.urlretrieve(\"https://raw.githubusercontent.com/e9t/nsmc/master/ratings_test.txt\", filename=\"ratings_test.txt\")"
      ]
    },
    {
      "cell_type": "code",
      "execution_count": 4,
      "metadata": {
        "id": "6rvbOptemEkt"
      },
      "outputs": [],
      "source": [
        "train_data = pd.read_table('ratings_train.txt')\n",
        "test_data = pd.read_table('ratings_test.txt')"
      ]
    },
    {
      "cell_type": "code",
      "execution_count": 5,
      "metadata": {
        "colab": {
          "base_uri": "https://localhost:8080/"
        },
        "id": "-_IKZBZ_mE9i",
        "outputId": "7de5430a-b238-4794-a39a-f846ff75a7a9"
      },
      "outputs": [
        {
          "name": "stdout",
          "output_type": "stream",
          "text": [
            "훈련용 리뷰 개수 : 150000\n"
          ]
        }
      ],
      "source": [
        "print('훈련용 리뷰 개수 :',len(train_data)) # 훈련용 리뷰 개수 출력"
      ]
    },
    {
      "cell_type": "code",
      "execution_count": 6,
      "metadata": {
        "colab": {
          "base_uri": "https://localhost:8080/",
          "height": 206
        },
        "id": "5bKq9-WtmG9i",
        "outputId": "cd0e1729-d325-4b87-87b6-ea2795b9c1ae"
      },
      "outputs": [
        {
          "data": {
            "text/html": [
              "<div>\n",
              "<style scoped>\n",
              "    .dataframe tbody tr th:only-of-type {\n",
              "        vertical-align: middle;\n",
              "    }\n",
              "\n",
              "    .dataframe tbody tr th {\n",
              "        vertical-align: top;\n",
              "    }\n",
              "\n",
              "    .dataframe thead th {\n",
              "        text-align: right;\n",
              "    }\n",
              "</style>\n",
              "<table border=\"1\" class=\"dataframe\">\n",
              "  <thead>\n",
              "    <tr style=\"text-align: right;\">\n",
              "      <th></th>\n",
              "      <th>id</th>\n",
              "      <th>document</th>\n",
              "      <th>label</th>\n",
              "    </tr>\n",
              "  </thead>\n",
              "  <tbody>\n",
              "    <tr>\n",
              "      <th>0</th>\n",
              "      <td>9976970</td>\n",
              "      <td>아 더빙.. 진짜 짜증나네요 목소리</td>\n",
              "      <td>0</td>\n",
              "    </tr>\n",
              "    <tr>\n",
              "      <th>1</th>\n",
              "      <td>3819312</td>\n",
              "      <td>흠...포스터보고 초딩영화줄....오버연기조차 가볍지 않구나</td>\n",
              "      <td>1</td>\n",
              "    </tr>\n",
              "    <tr>\n",
              "      <th>2</th>\n",
              "      <td>10265843</td>\n",
              "      <td>너무재밓었다그래서보는것을추천한다</td>\n",
              "      <td>0</td>\n",
              "    </tr>\n",
              "    <tr>\n",
              "      <th>3</th>\n",
              "      <td>9045019</td>\n",
              "      <td>교도소 이야기구먼 ..솔직히 재미는 없다..평점 조정</td>\n",
              "      <td>0</td>\n",
              "    </tr>\n",
              "    <tr>\n",
              "      <th>4</th>\n",
              "      <td>6483659</td>\n",
              "      <td>사이몬페그의 익살스런 연기가 돋보였던 영화!스파이더맨에서 늙어보이기만 했던 커스틴 ...</td>\n",
              "      <td>1</td>\n",
              "    </tr>\n",
              "  </tbody>\n",
              "</table>\n",
              "</div>"
            ],
            "text/plain": [
              "         id                                           document  label\n",
              "0   9976970                                아 더빙.. 진짜 짜증나네요 목소리      0\n",
              "1   3819312                  흠...포스터보고 초딩영화줄....오버연기조차 가볍지 않구나      1\n",
              "2  10265843                                  너무재밓었다그래서보는것을추천한다      0\n",
              "3   9045019                      교도소 이야기구먼 ..솔직히 재미는 없다..평점 조정      0\n",
              "4   6483659  사이몬페그의 익살스런 연기가 돋보였던 영화!스파이더맨에서 늙어보이기만 했던 커스틴 ...      1"
            ]
          },
          "execution_count": 6,
          "metadata": {},
          "output_type": "execute_result"
        }
      ],
      "source": [
        "train_data[:5] # 상위 5개 출력"
      ]
    },
    {
      "cell_type": "code",
      "execution_count": 7,
      "metadata": {
        "colab": {
          "base_uri": "https://localhost:8080/"
        },
        "id": "3wLTZAv2mIZE",
        "outputId": "3c764d9d-2b24-41b6-f6c3-37c03106f4aa"
      },
      "outputs": [
        {
          "name": "stdout",
          "output_type": "stream",
          "text": [
            "테스트용 리뷰 개수 : 50000\n"
          ]
        }
      ],
      "source": [
        "print('테스트용 리뷰 개수 :',len(test_data)) # 테스트용 리뷰 개수 출력"
      ]
    },
    {
      "cell_type": "code",
      "execution_count": 8,
      "metadata": {
        "colab": {
          "base_uri": "https://localhost:8080/",
          "height": 206
        },
        "id": "I9LQPYuPmI0w",
        "outputId": "3b5d0cd6-5372-4a69-c7d5-a559c96d6e33"
      },
      "outputs": [
        {
          "data": {
            "text/html": [
              "<div>\n",
              "<style scoped>\n",
              "    .dataframe tbody tr th:only-of-type {\n",
              "        vertical-align: middle;\n",
              "    }\n",
              "\n",
              "    .dataframe tbody tr th {\n",
              "        vertical-align: top;\n",
              "    }\n",
              "\n",
              "    .dataframe thead th {\n",
              "        text-align: right;\n",
              "    }\n",
              "</style>\n",
              "<table border=\"1\" class=\"dataframe\">\n",
              "  <thead>\n",
              "    <tr style=\"text-align: right;\">\n",
              "      <th></th>\n",
              "      <th>id</th>\n",
              "      <th>document</th>\n",
              "      <th>label</th>\n",
              "    </tr>\n",
              "  </thead>\n",
              "  <tbody>\n",
              "    <tr>\n",
              "      <th>0</th>\n",
              "      <td>6270596</td>\n",
              "      <td>굳 ㅋ</td>\n",
              "      <td>1</td>\n",
              "    </tr>\n",
              "    <tr>\n",
              "      <th>1</th>\n",
              "      <td>9274899</td>\n",
              "      <td>GDNTOPCLASSINTHECLUB</td>\n",
              "      <td>0</td>\n",
              "    </tr>\n",
              "    <tr>\n",
              "      <th>2</th>\n",
              "      <td>8544678</td>\n",
              "      <td>뭐야 이 평점들은.... 나쁘진 않지만 10점 짜리는 더더욱 아니잖아</td>\n",
              "      <td>0</td>\n",
              "    </tr>\n",
              "    <tr>\n",
              "      <th>3</th>\n",
              "      <td>6825595</td>\n",
              "      <td>지루하지는 않은데 완전 막장임... 돈주고 보기에는....</td>\n",
              "      <td>0</td>\n",
              "    </tr>\n",
              "    <tr>\n",
              "      <th>4</th>\n",
              "      <td>6723715</td>\n",
              "      <td>3D만 아니었어도 별 다섯 개 줬을텐데.. 왜 3D로 나와서 제 심기를 불편하게 하죠??</td>\n",
              "      <td>0</td>\n",
              "    </tr>\n",
              "  </tbody>\n",
              "</table>\n",
              "</div>"
            ],
            "text/plain": [
              "        id                                           document  label\n",
              "0  6270596                                                굳 ㅋ      1\n",
              "1  9274899                               GDNTOPCLASSINTHECLUB      0\n",
              "2  8544678             뭐야 이 평점들은.... 나쁘진 않지만 10점 짜리는 더더욱 아니잖아      0\n",
              "3  6825595                   지루하지는 않은데 완전 막장임... 돈주고 보기에는....      0\n",
              "4  6723715  3D만 아니었어도 별 다섯 개 줬을텐데.. 왜 3D로 나와서 제 심기를 불편하게 하죠??      0"
            ]
          },
          "execution_count": 8,
          "metadata": {},
          "output_type": "execute_result"
        }
      ],
      "source": [
        "test_data[:5]"
      ]
    },
    {
      "cell_type": "code",
      "execution_count": 9,
      "metadata": {
        "colab": {
          "base_uri": "https://localhost:8080/"
        },
        "id": "rZNOzAWdmKsg",
        "outputId": "59c3d86b-0e32-4044-af2c-57b7adc35bd5"
      },
      "outputs": [
        {
          "data": {
            "text/plain": [
              "(146182, 2)"
            ]
          },
          "execution_count": 9,
          "metadata": {},
          "output_type": "execute_result"
        }
      ],
      "source": [
        "# document 열과 label 열의 중복을 제외한 값의 개수\n",
        "train_data['document'].nunique(), train_data['label'].nunique()"
      ]
    },
    {
      "cell_type": "code",
      "execution_count": 10,
      "metadata": {
        "id": "Obtt9P_SmMIf"
      },
      "outputs": [],
      "source": [
        "# document 열의 중복 제거\n",
        "train_data.drop_duplicates(subset=['document'], inplace=True)"
      ]
    },
    {
      "cell_type": "code",
      "execution_count": 11,
      "metadata": {
        "colab": {
          "base_uri": "https://localhost:8080/"
        },
        "id": "8kc4YQnmmMON",
        "outputId": "aed99e9c-8e07-4c30-e828-62cb600e6816"
      },
      "outputs": [
        {
          "name": "stdout",
          "output_type": "stream",
          "text": [
            "총 샘플의 수 : 146183\n"
          ]
        }
      ],
      "source": [
        "print('총 샘플의 수 :',len(train_data))"
      ]
    },
    {
      "cell_type": "code",
      "execution_count": 12,
      "metadata": {
        "colab": {
          "base_uri": "https://localhost:8080/",
          "height": 443
        },
        "id": "_LU_efpXmOAz",
        "outputId": "38df6ad5-179b-45e1-bbe5-fd44deef7c8f"
      },
      "outputs": [
        {
          "data": {
            "text/plain": [
              "<Axes: xlabel='label'>"
            ]
          },
          "execution_count": 12,
          "metadata": {},
          "output_type": "execute_result"
        },
        {
          "data": {
            "image/png": "[encoded data removed]",
            "text/plain": [
              "<Figure size 640x480 with 1 Axes>"
            ]
          },
          "metadata": {},
          "output_type": "display_data"
        }
      ],
      "source": [
        "train_data['label'].value_counts().plot(kind = 'bar')"
      ]
    },
    {
      "cell_type": "code",
      "execution_count": 13,
      "metadata": {
        "colab": {
          "base_uri": "https://localhost:8080/"
        },
        "id": "5DOcCLDVmP6O",
        "outputId": "16660c4a-5b4c-4716-d582-e9320c0fcaac"
      },
      "outputs": [
        {
          "name": "stdout",
          "output_type": "stream",
          "text": [
            "   label  count\n",
            "0      0  73342\n",
            "1      1  72841\n"
          ]
        }
      ],
      "source": [
        "print(train_data.groupby('label').size().reset_index(name = 'count'))"
      ]
    },
    {
      "cell_type": "code",
      "execution_count": 14,
      "metadata": {
        "colab": {
          "base_uri": "https://localhost:8080/"
        },
        "id": "hADdEHJzmRE2",
        "outputId": "3be63d28-371c-41ae-f73a-5e5782a91f39"
      },
      "outputs": [
        {
          "name": "stdout",
          "output_type": "stream",
          "text": [
            "True\n"
          ]
        }
      ],
      "source": [
        "print(train_data.isnull().values.any())"
      ]
    },
    {
      "cell_type": "code",
      "execution_count": 15,
      "metadata": {
        "colab": {
          "base_uri": "https://localhost:8080/"
        },
        "id": "BZpsu9OUmSTA",
        "outputId": "508c1f1d-6b8c-42f2-9b6b-374b40c62558"
      },
      "outputs": [
        {
          "name": "stdout",
          "output_type": "stream",
          "text": [
            "id          0\n",
            "document    1\n",
            "label       0\n",
            "dtype: int64\n"
          ]
        }
      ],
      "source": [
        "print(train_data.isnull().sum())"
      ]
    },
    {
      "cell_type": "code",
      "execution_count": 16,
      "metadata": {
        "colab": {
          "base_uri": "https://localhost:8080/",
          "height": 81
        },
        "id": "vvpbZfMCmTaH",
        "outputId": "5d0f10f0-6db8-43ad-f46e-b39676f7d658"
      },
      "outputs": [
        {
          "data": {
            "text/html": [
              "<div>\n",
              "<style scoped>\n",
              "    .dataframe tbody tr th:only-of-type {\n",
              "        vertical-align: middle;\n",
              "    }\n",
              "\n",
              "    .dataframe tbody tr th {\n",
              "        vertical-align: top;\n",
              "    }\n",
              "\n",
              "    .dataframe thead th {\n",
              "        text-align: right;\n",
              "    }\n",
              "</style>\n",
              "<table border=\"1\" class=\"dataframe\">\n",
              "  <thead>\n",
              "    <tr style=\"text-align: right;\">\n",
              "      <th></th>\n",
              "      <th>id</th>\n",
              "      <th>document</th>\n",
              "      <th>label</th>\n",
              "    </tr>\n",
              "  </thead>\n",
              "  <tbody>\n",
              "    <tr>\n",
              "      <th>25857</th>\n",
              "      <td>2172111</td>\n",
              "      <td>NaN</td>\n",
              "      <td>1</td>\n",
              "    </tr>\n",
              "  </tbody>\n",
              "</table>\n",
              "</div>"
            ],
            "text/plain": [
              "            id document  label\n",
              "25857  2172111      NaN      1"
            ]
          },
          "execution_count": 16,
          "metadata": {},
          "output_type": "execute_result"
        }
      ],
      "source": [
        "train_data.loc[train_data.document.isnull()]"
      ]
    },
    {
      "cell_type": "code",
      "execution_count": 17,
      "metadata": {
        "colab": {
          "base_uri": "https://localhost:8080/"
        },
        "id": "_2JuIjb7mVZg",
        "outputId": "d8dce6f6-985e-4962-9a6e-a48a9aab1c83"
      },
      "outputs": [
        {
          "name": "stdout",
          "output_type": "stream",
          "text": [
            "False\n"
          ]
        }
      ],
      "source": [
        "train_data = train_data.dropna(how = 'any') # Null 값이 존재하는 행 제거\n",
        "print(train_data.isnull().values.any()) # Null 값이 존재하는지 확인"
      ]
    },
    {
      "cell_type": "code",
      "execution_count": 18,
      "metadata": {
        "colab": {
          "base_uri": "https://localhost:8080/"
        },
        "id": "CK7rX8JumW29",
        "outputId": "67feeb01-760d-4a4e-dfce-b9359e7187fb"
      },
      "outputs": [
        {
          "name": "stdout",
          "output_type": "stream",
          "text": [
            "146182\n"
          ]
        }
      ],
      "source": [
        "print(len(train_data))"
      ]
    },
    {
      "cell_type": "code",
      "execution_count": 19,
      "metadata": {
        "colab": {
          "base_uri": "https://localhost:8080/"
        },
        "id": "Wi7a16akmYdw",
        "outputId": "7e00b7bd-430f-4972-b52e-7ce2408b1aa3"
      },
      "outputs": [
        {
          "name": "stdout",
          "output_type": "stream",
          "text": [
            "do you expect people to read the FAQ etc and actually accept hard atheism\n"
          ]
        }
      ],
      "source": [
        "#알파벳과 공백을 제외하고 모두 제거\n",
        "eng_text = 'do!!! you expect... people~ to~ read~ the FAQ, etc. and actually accept hard~! atheism?@@'\n",
        "print(re.sub(r'[^a-zA-Z ]', '', eng_text))"
      ]
    },
    {
      "cell_type": "code",
      "execution_count": 20,
      "metadata": {
        "colab": {
          "base_uri": "https://localhost:8080/",
          "height": 242
        },
        "id": "alOVUuQemak9",
        "outputId": "b6c6351d-6332-4af5-b74c-257f9d271fad"
      },
      "outputs": [
        {
          "data": {
            "text/html": [
              "<div>\n",
              "<style scoped>\n",
              "    .dataframe tbody tr th:only-of-type {\n",
              "        vertical-align: middle;\n",
              "    }\n",
              "\n",
              "    .dataframe tbody tr th {\n",
              "        vertical-align: top;\n",
              "    }\n",
              "\n",
              "    .dataframe thead th {\n",
              "        text-align: right;\n",
              "    }\n",
              "</style>\n",
              "<table border=\"1\" class=\"dataframe\">\n",
              "  <thead>\n",
              "    <tr style=\"text-align: right;\">\n",
              "      <th></th>\n",
              "      <th>id</th>\n",
              "      <th>document</th>\n",
              "      <th>label</th>\n",
              "    </tr>\n",
              "  </thead>\n",
              "  <tbody>\n",
              "    <tr>\n",
              "      <th>0</th>\n",
              "      <td>9976970</td>\n",
              "      <td>아 더빙 진짜 짜증나네요 목소리</td>\n",
              "      <td>0</td>\n",
              "    </tr>\n",
              "    <tr>\n",
              "      <th>1</th>\n",
              "      <td>3819312</td>\n",
              "      <td>흠포스터보고 초딩영화줄오버연기조차 가볍지 않구나</td>\n",
              "      <td>1</td>\n",
              "    </tr>\n",
              "    <tr>\n",
              "      <th>2</th>\n",
              "      <td>10265843</td>\n",
              "      <td>너무재밓었다그래서보는것을추천한다</td>\n",
              "      <td>0</td>\n",
              "    </tr>\n",
              "    <tr>\n",
              "      <th>3</th>\n",
              "      <td>9045019</td>\n",
              "      <td>교도소 이야기구먼 솔직히 재미는 없다평점 조정</td>\n",
              "      <td>0</td>\n",
              "    </tr>\n",
              "    <tr>\n",
              "      <th>4</th>\n",
              "      <td>6483659</td>\n",
              "      <td>사이몬페그의 익살스런 연기가 돋보였던 영화스파이더맨에서 늙어보이기만 했던 커스틴 던...</td>\n",
              "      <td>1</td>\n",
              "    </tr>\n",
              "  </tbody>\n",
              "</table>\n",
              "</div>"
            ],
            "text/plain": [
              "         id                                           document  label\n",
              "0   9976970                                  아 더빙 진짜 짜증나네요 목소리      0\n",
              "1   3819312                         흠포스터보고 초딩영화줄오버연기조차 가볍지 않구나      1\n",
              "2  10265843                                  너무재밓었다그래서보는것을추천한다      0\n",
              "3   9045019                          교도소 이야기구먼 솔직히 재미는 없다평점 조정      0\n",
              "4   6483659  사이몬페그의 익살스런 연기가 돋보였던 영화스파이더맨에서 늙어보이기만 했던 커스틴 던...      1"
            ]
          },
          "execution_count": 20,
          "metadata": {},
          "output_type": "execute_result"
        }
      ],
      "source": [
        "# 한글과 공백을 제외하고 모두 제거\n",
        "train_data['document'] = train_data['document'].str.replace(\"[^ㄱ-ㅎㅏ-ㅣ가-힣 ]\",\"\", regex=True)\n",
        "train_data[:5]"
      ]
    },
    {
      "cell_type": "code",
      "execution_count": 21,
      "metadata": {
        "colab": {
          "base_uri": "https://localhost:8080/"
        },
        "id": "ovytssLGmdEQ",
        "outputId": "fc3bbab5-9a82-4338-da85-68e3fb2dcaf6"
      },
      "outputs": [
        {
          "name": "stdout",
          "output_type": "stream",
          "text": [
            "id            0\n",
            "document    789\n",
            "label         0\n",
            "dtype: int64\n"
          ]
        },
        {
          "name": "stderr",
          "output_type": "stream",
          "text": [
            "/tmp/ipykernel_33506/3966077745.py:2: FutureWarning: A value is trying to be set on a copy of a DataFrame or Series through chained assignment using an inplace method.\n",
            "The behavior will change in pandas 3.0. This inplace method will never work because the intermediate object on which we are setting values always behaves as a copy.\n",
            "\n",
            "For example, when doing 'df[col].method(value, inplace=True)', try using 'df.method({col: value}, inplace=True)' or df[col] = df[col].method(value) instead, to perform the operation inplace on the original object.\n",
            "\n",
            "\n",
            "  train_data['document'].replace('', np.nan, inplace=True)\n"
          ]
        }
      ],
      "source": [
        "train_data['document'] = train_data['document'].str.replace('^ +', \"\", regex=True) # white space 데이터를 empty value로 변경\n",
        "train_data['document'].replace('', np.nan, inplace=True)\n",
        "print(train_data.isnull().sum())"
      ]
    },
    {
      "cell_type": "code",
      "execution_count": 22,
      "metadata": {
        "colab": {
          "base_uri": "https://localhost:8080/",
          "height": 206
        },
        "id": "gqPMOq-JmeeB",
        "outputId": "f4324138-b04d-4808-ad2c-6890225bb1af"
      },
      "outputs": [
        {
          "data": {
            "text/html": [
              "<div>\n",
              "<style scoped>\n",
              "    .dataframe tbody tr th:only-of-type {\n",
              "        vertical-align: middle;\n",
              "    }\n",
              "\n",
              "    .dataframe tbody tr th {\n",
              "        vertical-align: top;\n",
              "    }\n",
              "\n",
              "    .dataframe thead th {\n",
              "        text-align: right;\n",
              "    }\n",
              "</style>\n",
              "<table border=\"1\" class=\"dataframe\">\n",
              "  <thead>\n",
              "    <tr style=\"text-align: right;\">\n",
              "      <th></th>\n",
              "      <th>id</th>\n",
              "      <th>document</th>\n",
              "      <th>label</th>\n",
              "    </tr>\n",
              "  </thead>\n",
              "  <tbody>\n",
              "    <tr>\n",
              "      <th>404</th>\n",
              "      <td>4221289</td>\n",
              "      <td>NaN</td>\n",
              "      <td>0</td>\n",
              "    </tr>\n",
              "    <tr>\n",
              "      <th>412</th>\n",
              "      <td>9509970</td>\n",
              "      <td>NaN</td>\n",
              "      <td>1</td>\n",
              "    </tr>\n",
              "    <tr>\n",
              "      <th>470</th>\n",
              "      <td>10147571</td>\n",
              "      <td>NaN</td>\n",
              "      <td>1</td>\n",
              "    </tr>\n",
              "    <tr>\n",
              "      <th>584</th>\n",
              "      <td>7117896</td>\n",
              "      <td>NaN</td>\n",
              "      <td>0</td>\n",
              "    </tr>\n",
              "    <tr>\n",
              "      <th>593</th>\n",
              "      <td>6478189</td>\n",
              "      <td>NaN</td>\n",
              "      <td>0</td>\n",
              "    </tr>\n",
              "  </tbody>\n",
              "</table>\n",
              "</div>"
            ],
            "text/plain": [
              "           id document  label\n",
              "404   4221289      NaN      0\n",
              "412   9509970      NaN      1\n",
              "470  10147571      NaN      1\n",
              "584   7117896      NaN      0\n",
              "593   6478189      NaN      0"
            ]
          },
          "execution_count": 22,
          "metadata": {},
          "output_type": "execute_result"
        }
      ],
      "source": [
        "train_data.loc[train_data.document.isnull()][:5]"
      ]
    },
    {
      "cell_type": "code",
      "execution_count": 23,
      "metadata": {
        "colab": {
          "base_uri": "https://localhost:8080/"
        },
        "id": "7foNaq5Zme8r",
        "outputId": "c3086574-736f-48bd-b210-6c943bfb1ab2"
      },
      "outputs": [
        {
          "name": "stdout",
          "output_type": "stream",
          "text": [
            "145393\n"
          ]
        }
      ],
      "source": [
        "train_data = train_data.dropna(how = 'any')\n",
        "print(len(train_data))"
      ]
    },
    {
      "cell_type": "code",
      "execution_count": 24,
      "metadata": {
        "colab": {
          "base_uri": "https://localhost:8080/"
        },
        "id": "xRim5d6gmf-e",
        "outputId": "cf7eedba-2fbd-4d7e-a89f-c1e90c5721db"
      },
      "outputs": [
        {
          "name": "stdout",
          "output_type": "stream",
          "text": [
            "전처리 후 테스트용 샘플의 개수 : 49157\n"
          ]
        },
        {
          "name": "stderr",
          "output_type": "stream",
          "text": [
            "/tmp/ipykernel_33506/3570305079.py:4: FutureWarning: A value is trying to be set on a copy of a DataFrame or Series through chained assignment using an inplace method.\n",
            "The behavior will change in pandas 3.0. This inplace method will never work because the intermediate object on which we are setting values always behaves as a copy.\n",
            "\n",
            "For example, when doing 'df[col].method(value, inplace=True)', try using 'df.method({col: value}, inplace=True)' or df[col] = df[col].method(value) instead, to perform the operation inplace on the original object.\n",
            "\n",
            "\n",
            "  test_data['document'].replace('', np.nan, inplace=True) # 공백은 Null 값으로 변경\n"
          ]
        }
      ],
      "source": [
        "test_data.drop_duplicates(subset = ['document'], inplace=True) # document 열에서 중복인 내용이 있다면 중복 제거\n",
        "test_data['document'] = test_data['document'].str.replace(\"[^ㄱ-ㅎㅏ-ㅣ가-힣 ]\",\"\") # 정규 표현식 수행\n",
        "test_data['document'] = test_data['document'].str.replace('^ +', \"\") # 공백은 empty 값으로 변경\n",
        "test_data['document'].replace('', np.nan, inplace=True) # 공백은 Null 값으로 변경\n",
        "test_data = test_data.dropna(how='any') # Null 값 제거\n",
        "print('전처리 후 테스트용 샘플의 개수 :',len(test_data))"
      ]
    },
    {
      "cell_type": "code",
      "execution_count": 25,
      "metadata": {
        "id": "d9JbXcgJmhRC"
      },
      "outputs": [],
      "source": [
        "stopwords = ['도', '는', '다', '의', '가', '이', '은', '한', '에', '하', '고', '을', '를', '인', '듯', '과', '와', '네', '들', '듯', '지', '임', '게']"
      ]
    },
    {
      "cell_type": "code",
      "execution_count": 26,
      "metadata": {
        "colab": {
          "base_uri": "https://localhost:8080/"
        },
        "id": "TnNPrtTNmipO",
        "outputId": "0d414526-5c52-45cb-8986-98313d1d1385"
      },
      "outputs": [
        {
          "data": {
            "text/plain": [
              "['와',\n",
              " '이런',\n",
              " '것',\n",
              " '도',\n",
              " '영화',\n",
              " '라고',\n",
              " '차라리',\n",
              " '뮤직',\n",
              " '비디오',\n",
              " '를',\n",
              " '만드',\n",
              " '는',\n",
              " '게',\n",
              " '나을',\n",
              " '뻔']"
            ]
          },
          "execution_count": 26,
          "metadata": {},
          "output_type": "execute_result"
        }
      ],
      "source": [
        "mecab = Mecab()\n",
        "mecab.morphs('와 이런 것도 영화라고 차라리 뮤직비디오를 만드는 게 나을 뻔')"
      ]
    },
    {
      "cell_type": "code",
      "execution_count": 27,
      "metadata": {
        "colab": {
          "base_uri": "https://localhost:8080/"
        },
        "id": "t38Icumgmlp4",
        "outputId": "77bb65b3-747d-4b8e-99dd-fae2807c39cb"
      },
      "outputs": [
        {
          "name": "stderr",
          "output_type": "stream",
          "text": [
            "  6%|▌         | 7999/145393 [00:02<00:37, 3630.02it/s]"
          ]
        },
        {
          "name": "stderr",
          "output_type": "stream",
          "text": [
            "100%|██████████| 145393/145393 [00:23<00:00, 6310.28it/s] \n"
          ]
        }
      ],
      "source": [
        "X_train = []\n",
        "for sentence in tqdm(train_data['document']):\n",
        "    tokenized_sentence = mecab.morphs(sentence) # 토큰화\n",
        "    stopwords_removed_sentence = [word for word in tokenized_sentence if not word in stopwords] # 불용어 제거\n",
        "    X_train.append(stopwords_removed_sentence)"
      ]
    },
    {
      "cell_type": "code",
      "execution_count": 28,
      "metadata": {
        "colab": {
          "base_uri": "https://localhost:8080/"
        },
        "id": "5QufcKDqmrom",
        "outputId": "58d1cb63-844d-4914-828e-72328b2b63f5"
      },
      "outputs": [
        {
          "name": "stdout",
          "output_type": "stream",
          "text": [
            "[['아', '더', '빙', '진짜', '짜증', '나', '네요', '목소리'], ['흠', '포스터', '보고', '초딩', '영화', '줄', '오버', '연기', '조차', '가볍', '않', '구나'], ['너무', '재', '밓었다그래서보는것을추천한다']]\n"
          ]
        }
      ],
      "source": [
        "print(X_train[:3])"
      ]
    },
    {
      "cell_type": "code",
      "execution_count": 29,
      "metadata": {
        "colab": {
          "base_uri": "https://localhost:8080/"
        },
        "id": "sU3siBLRmvE8",
        "outputId": "5902493b-78da-4fc6-852e-d1f08453793d"
      },
      "outputs": [
        {
          "name": "stderr",
          "output_type": "stream",
          "text": [
            "  1%|▏         | 712/49157 [00:00<00:06, 6998.86it/s]"
          ]
        },
        {
          "name": "stderr",
          "output_type": "stream",
          "text": [
            "100%|██████████| 49157/49157 [00:05<00:00, 8662.82it/s] \n"
          ]
        }
      ],
      "source": [
        "X_test = []\n",
        "for sentence in tqdm(test_data['document']):\n",
        "    tokenized_sentence = mecab.morphs(sentence) # 토큰화\n",
        "    stopwords_removed_sentence = [word for word in tokenized_sentence if not word in stopwords] # 불용어 제거\n",
        "    X_test.append(stopwords_removed_sentence)"
      ]
    },
    {
      "cell_type": "code",
      "execution_count": 30,
      "metadata": {
        "id": "0RlGgwVBnDX1"
      },
      "outputs": [],
      "source": [
        "y_train = np.array(train_data['label'])\n",
        "y_test = np.array(test_data['label'])"
      ]
    },
    {
      "cell_type": "code",
      "execution_count": 31,
      "metadata": {
        "id": "t0tI9R6SmwWG"
      },
      "outputs": [],
      "source": [
        "X_train, X_valid, y_train, y_valid = train_test_split(X_train, y_train, test_size=0.2, random_state=0, stratify=y_train)"
      ]
    },
    {
      "cell_type": "code",
      "execution_count": 32,
      "metadata": {
        "colab": {
          "base_uri": "https://localhost:8080/"
        },
        "id": "AdNCc7JbnAOw",
        "outputId": "0af1f6da-913a-40bb-fa97-9a4f72dcebed"
      },
      "outputs": [
        {
          "name": "stdout",
          "output_type": "stream",
          "text": [
            "--------훈련 데이터의 비율-----------\n",
            "부정 리뷰 = 50.238%\n",
            "긍정 리뷰 = 49.762%\n",
            "--------검증 데이터의 비율-----------\n",
            "부정 리뷰 = 50.239%\n",
            "긍정 리뷰 = 49.761%\n",
            "--------테스트 데이터의 비율-----------\n",
            "부정 리뷰 = 49.73%\n",
            "긍정 리뷰 = 50.27%\n"
          ]
        }
      ],
      "source": [
        "print('--------훈련 데이터의 비율-----------')\n",
        "print(f'부정 리뷰 = {round(np.sum(y_train==0)/len(y_train) * 100,3)}%')\n",
        "print(f'긍정 리뷰 = {round(np.count_nonzero(y_train)/len(y_train) * 100,3)}%')\n",
        "print('--------검증 데이터의 비율-----------')\n",
        "print(f'부정 리뷰 = {round(np.sum(y_valid==0)/len(y_valid) * 100,3)}%')\n",
        "print(f'긍정 리뷰 = {round(np.count_nonzero(y_valid)/len(y_valid) * 100,3)}%')\n",
        "print('--------테스트 데이터의 비율-----------')\n",
        "print(f'부정 리뷰 = {round(np.sum(y_test==0)/len(y_test) * 100,3)}%')\n",
        "print(f'긍정 리뷰 = {round(np.count_nonzero(y_test)/len(y_test) * 100,3)}%')"
      ]
    },
    {
      "cell_type": "code",
      "execution_count": 33,
      "metadata": {
        "colab": {
          "base_uri": "https://localhost:8080/"
        },
        "id": "I8IYczLsoCkQ",
        "outputId": "dc880730-b93d-45aa-cdc6-12f241e1a9af"
      },
      "outputs": [
        {
          "name": "stdout",
          "output_type": "stream",
          "text": [
            "총 단어수 : 45296\n"
          ]
        }
      ],
      "source": [
        "word_list = []\n",
        "for sent in X_train:\n",
        "    for word in sent:\n",
        "      word_list.append(word)\n",
        "\n",
        "word_counts = Counter(word_list)\n",
        "print('총 단어수 :', len(word_counts))"
      ]
    },
    {
      "cell_type": "code",
      "execution_count": 34,
      "metadata": {
        "colab": {
          "base_uri": "https://localhost:8080/"
        },
        "id": "TzLtJzLOoQWV",
        "outputId": "bfdc09bb-d0fc-4abb-f584-041d433f1896"
      },
      "outputs": [
        {
          "name": "stdout",
          "output_type": "stream",
          "text": [
            "훈련 데이터에서의 단어 영화의 등장 횟수 : 45791\n",
            "훈련 데이터에서의 단어 공감의 등장 횟수 : 756\n"
          ]
        }
      ],
      "source": [
        "print('훈련 데이터에서의 단어 영화의 등장 횟수 :', word_counts['영화'])\n",
        "print('훈련 데이터에서의 단어 공감의 등장 횟수 :', word_counts['공감'])"
      ]
    },
    {
      "cell_type": "code",
      "execution_count": 35,
      "metadata": {
        "colab": {
          "base_uri": "https://localhost:8080/"
        },
        "id": "HCEvq9HXoWEp",
        "outputId": "1e1da4d2-e8db-4430-d851-b611865e6757"
      },
      "outputs": [
        {
          "name": "stdout",
          "output_type": "stream",
          "text": [
            "등장 빈도수 상위 10개 단어\n",
            "['영화', '보', '있', '없', '좋', '나', '었', '만', '는데', '너무']\n"
          ]
        }
      ],
      "source": [
        "vocab = sorted(word_counts, key=word_counts.get, reverse=True)\n",
        "print('등장 빈도수 상위 10개 단어')\n",
        "print(vocab[:10])"
      ]
    },
    {
      "cell_type": "code",
      "execution_count": 36,
      "metadata": {
        "colab": {
          "base_uri": "https://localhost:8080/"
        },
        "id": "WEoj4967oYah",
        "outputId": "84508b61-f969-4fe1-e2f9-97f67b02583d"
      },
      "outputs": [
        {
          "name": "stdout",
          "output_type": "stream",
          "text": [
            "단어 집합(vocabulary)의 크기 : 45296\n",
            "등장 빈도가 2번 이하인 희귀 단어의 수: 26105\n",
            "단어 집합에서 희귀 단어의 비율: 57.63202048746025\n",
            "전체 등장 빈도에서 희귀 단어 등장 빈도 비율: 2.2769619718615126\n"
          ]
        }
      ],
      "source": [
        "threshold = 3\n",
        "total_cnt = len(word_counts) # 단어의 수\n",
        "rare_cnt = 0 # 등장 빈도수가 threshold보다 작은 단어의 개수를 카운트\n",
        "total_freq = 0 # 훈련 데이터의 전체 단어 빈도수 총 합\n",
        "rare_freq = 0 # 등장 빈도수가 threshold보다 작은 단어의 등장 빈도수의 총 합\n",
        "\n",
        "# 단어와 빈도수의 쌍(pair)을 key와 value로 받는다.\n",
        "for key, value in word_counts.items():\n",
        "    total_freq = total_freq + value\n",
        "\n",
        "    # 단어의 등장 빈도수가 threshold보다 작으면\n",
        "    if(value < threshold):\n",
        "        rare_cnt = rare_cnt + 1\n",
        "        rare_freq = rare_freq + value\n",
        "\n",
        "print('단어 집합(vocabulary)의 크기 :',total_cnt)\n",
        "print('등장 빈도가 %s번 이하인 희귀 단어의 수: %s'%(threshold - 1, rare_cnt))\n",
        "print(\"단어 집합에서 희귀 단어의 비율:\", (rare_cnt / total_cnt)*100)\n",
        "print(\"전체 등장 빈도에서 희귀 단어 등장 빈도 비율:\", (rare_freq / total_freq)*100)"
      ]
    },
    {
      "cell_type": "code",
      "execution_count": 37,
      "metadata": {
        "colab": {
          "base_uri": "https://localhost:8080/"
        },
        "id": "RlA7Ro-joY7T",
        "outputId": "58544936-3764-479b-9863-19c9e2021bcd"
      },
      "outputs": [
        {
          "name": "stdout",
          "output_type": "stream",
          "text": [
            "단어 집합의 크기 : 19191\n"
          ]
        }
      ],
      "source": [
        "# 전체 단어 개수 중 빈도수 2이하인 단어는 제거.\n",
        "vocab_size = total_cnt - rare_cnt\n",
        "vocab = vocab[:vocab_size]\n",
        "print('단어 집합의 크기 :', len(vocab))"
      ]
    },
    {
      "cell_type": "code",
      "execution_count": 38,
      "metadata": {
        "id": "ccVD8fWnoaA8"
      },
      "outputs": [],
      "source": [
        "word_to_index = {}\n",
        "word_to_index['<PAD>'] = 0\n",
        "word_to_index['<UNK>'] = 1"
      ]
    },
    {
      "cell_type": "code",
      "execution_count": 39,
      "metadata": {
        "id": "vJzuc2yTobCU"
      },
      "outputs": [],
      "source": [
        "for index, word in enumerate(vocab) :\n",
        "  word_to_index[word] = index + 2"
      ]
    },
    {
      "cell_type": "code",
      "execution_count": 40,
      "metadata": {
        "colab": {
          "base_uri": "https://localhost:8080/"
        },
        "id": "ogNIzrdpocFn",
        "outputId": "7d319877-0e52-4f68-956c-8b7de42f1056"
      },
      "outputs": [
        {
          "name": "stdout",
          "output_type": "stream",
          "text": [
            "패딩 토큰과 UNK 토큰을 고려한 단어 집합의 크기 : 19193\n"
          ]
        }
      ],
      "source": [
        "vocab_size = len(word_to_index)\n",
        "print('패딩 토큰과 UNK 토큰을 고려한 단어 집합의 크기 :', vocab_size)"
      ]
    },
    {
      "cell_type": "code",
      "execution_count": 41,
      "metadata": {
        "colab": {
          "base_uri": "https://localhost:8080/"
        },
        "id": "qw6HNwsEodB3",
        "outputId": "94cfc4f6-344c-469b-e152-9296a2a1e8b5"
      },
      "outputs": [
        {
          "name": "stdout",
          "output_type": "stream",
          "text": [
            "단어 <PAD>와 맵핑되는 정수 : 0\n",
            "단어 <UNK>와 맵핑되는 정수 : 1\n",
            "단어 영화와 맵핑되는 정수 : 2\n"
          ]
        }
      ],
      "source": [
        "print('단어 <PAD>와 맵핑되는 정수 :', word_to_index['<PAD>'])\n",
        "print('단어 <UNK>와 맵핑되는 정수 :', word_to_index['<UNK>'])\n",
        "print('단어 영화와 맵핑되는 정수 :', word_to_index['영화'])"
      ]
    },
    {
      "cell_type": "code",
      "execution_count": 42,
      "metadata": {
        "id": "KoRZ9xPuod5O"
      },
      "outputs": [],
      "source": [
        "def texts_to_sequences(tokenized_X_data, word_to_index):\n",
        "  encoded_X_data = []\n",
        "  for sent in tokenized_X_data:\n",
        "    index_sequences = []\n",
        "    for word in sent:\n",
        "      try:\n",
        "          index_sequences.append(word_to_index[word])\n",
        "      except KeyError:\n",
        "          index_sequences.append(word_to_index['<UNK>'])\n",
        "    encoded_X_data.append(index_sequences)\n",
        "  return encoded_X_data"
      ]
    },
    {
      "cell_type": "code",
      "execution_count": 43,
      "metadata": {
        "id": "aTRmGNjiof96"
      },
      "outputs": [],
      "source": [
        "encoded_X_train = texts_to_sequences(X_train, word_to_index)\n",
        "encoded_X_valid = texts_to_sequences(X_valid, word_to_index)\n",
        "encoded_X_test = texts_to_sequences(X_test, word_to_index)"
      ]
    },
    {
      "cell_type": "code",
      "execution_count": 44,
      "metadata": {
        "colab": {
          "base_uri": "https://localhost:8080/"
        },
        "id": "9ULPtStMogC5",
        "outputId": "ef3f2eca-082e-412d-cc3b-4a73b197b4c9"
      },
      "outputs": [
        {
          "name": "stdout",
          "output_type": "stream",
          "text": [
            "[924, 1866, 128, 7, 80, 48, 34]\n",
            "[2415, 3138, 4, 2095, 422, 87, 5768, 19, 307]\n"
          ]
        }
      ],
      "source": [
        "# 상위 샘플 2개 출력\n",
        "for sent in encoded_X_train[:2]:\n",
        "  print(sent)"
      ]
    },
    {
      "cell_type": "code",
      "execution_count": 45,
      "metadata": {
        "id": "LRcc-eEdoi-l"
      },
      "outputs": [],
      "source": [
        "index_to_word = {}\n",
        "for key, value in word_to_index.items():\n",
        "    index_to_word[value] = key"
      ]
    },
    {
      "cell_type": "code",
      "execution_count": 46,
      "metadata": {
        "colab": {
          "base_uri": "https://localhost:8080/"
        },
        "id": "aRHm0n_Roj75",
        "outputId": "a29ecbd8-0e24-4f7f-8afc-b5a58a33e660"
      },
      "outputs": [
        {
          "name": "stdout",
          "output_type": "stream",
          "text": [
            "기존의 첫번째 샘플 : ['이야', '어쩜', '이렇게', '나', '지루', '할', '수']\n",
            "복원된 첫번째 샘플 : ['이야', '어쩜', '이렇게', '나', '지루', '할', '수']\n"
          ]
        }
      ],
      "source": [
        "decoded_sample = [index_to_word[word] for word in encoded_X_train[0]]\n",
        "print('기존의 첫번째 샘플 :', X_train[0])\n",
        "print('복원된 첫번째 샘플 :', decoded_sample)"
      ]
    },
    {
      "cell_type": "code",
      "execution_count": 47,
      "metadata": {
        "colab": {
          "base_uri": "https://localhost:8080/",
          "height": 485
        },
        "id": "XKds1W-Zomgj",
        "outputId": "c692c888-4272-4220-c977-8f7452aafec9"
      },
      "outputs": [
        {
          "name": "stdout",
          "output_type": "stream",
          "text": [
            "리뷰의 최대 길이 : 74\n",
            "리뷰의 평균 길이 : 12.296739859346252\n"
          ]
        },
        {
          "data": {
            "image/png": "[encoded data removed]",
            "text/plain": [
              "<Figure size 640x480 with 1 Axes>"
            ]
          },
          "metadata": {},
          "output_type": "display_data"
        }
      ],
      "source": [
        "print('리뷰의 최대 길이 :',max(len(review) for review in encoded_X_train))\n",
        "print('리뷰의 평균 길이 :',sum(map(len, encoded_X_train))/len(encoded_X_train))\n",
        "plt.hist([len(review) for review in encoded_X_train], bins=50)\n",
        "plt.xlabel('length of samples')\n",
        "plt.ylabel('number of samples')\n",
        "plt.show()"
      ]
    },
    {
      "cell_type": "code",
      "execution_count": 48,
      "metadata": {
        "id": "a3oD2gnRono6"
      },
      "outputs": [],
      "source": [
        "def below_threshold_len(max_len, nested_list):\n",
        "  count = 0\n",
        "  for sentence in nested_list:\n",
        "    if(len(sentence) <= max_len):\n",
        "        count = count + 1\n",
        "  print('전체 샘플 중 길이가 %s 이하인 샘플의 비율: %s'%(max_len, (count / len(nested_list))*100))"
      ]
    },
    {
      "cell_type": "code",
      "execution_count": 49,
      "metadata": {
        "colab": {
          "base_uri": "https://localhost:8080/"
        },
        "id": "QiLC5oB9oon-",
        "outputId": "06c768d6-ca0c-4262-d498-538c62a4ef48"
      },
      "outputs": [
        {
          "name": "stdout",
          "output_type": "stream",
          "text": [
            "전체 샘플 중 길이가 30 이하인 샘플의 비율: 92.49703389101914\n"
          ]
        }
      ],
      "source": [
        "max_len = 30\n",
        "below_threshold_len(max_len, X_train)"
      ]
    },
    {
      "cell_type": "code",
      "execution_count": 50,
      "metadata": {
        "id": "UzQR5GmRoqgQ"
      },
      "outputs": [],
      "source": [
        "def pad_sequences(sentences, max_len):\n",
        "  features = np.zeros((len(sentences), max_len), dtype=int)\n",
        "  for index, sentence in enumerate(sentences):\n",
        "    if len(sentence) != 0:\n",
        "      features[index, :len(sentence)] = np.array(sentence)[:max_len]\n",
        "  return features"
      ]
    },
    {
      "cell_type": "code",
      "execution_count": 51,
      "metadata": {
        "colab": {
          "base_uri": "https://localhost:8080/"
        },
        "id": "zCIy7s_6o5Rw",
        "outputId": "0973e4ab-2da7-4e3b-ce97-427958f72984"
      },
      "outputs": [
        {
          "name": "stdout",
          "output_type": "stream",
          "text": [
            "훈련 데이터의 크기 : (116314, 30)\n",
            "검증 데이터의 크기 : (29079, 30)\n",
            "테스트 데이터의 크기 : (49157, 30)\n"
          ]
        }
      ],
      "source": [
        "padded_X_train = pad_sequences(encoded_X_train, max_len=max_len)\n",
        "padded_X_valid = pad_sequences(encoded_X_valid, max_len=max_len)\n",
        "padded_X_test = pad_sequences(encoded_X_test, max_len=max_len)\n",
        "\n",
        "print('훈련 데이터의 크기 :', padded_X_train.shape)\n",
        "print('검증 데이터의 크기 :', padded_X_valid.shape)\n",
        "print('테스트 데이터의 크기 :', padded_X_test.shape)"
      ]
    },
    {
      "cell_type": "code",
      "execution_count": 52,
      "metadata": {
        "colab": {
          "base_uri": "https://localhost:8080/"
        },
        "id": "N9ziyjUUpJfQ",
        "outputId": "11bb754b-ed25-4e9b-cdd7-cfd5855240b9"
      },
      "outputs": [
        {
          "name": "stdout",
          "output_type": "stream",
          "text": [
            "첫번째 샘플의 길이 : 30\n",
            "첫번째 샘플 : [ 924 1866  128    7   80   48   34    0    0    0    0    0    0    0\n",
            "    0    0    0    0    0    0    0    0    0    0    0    0    0    0\n",
            "    0    0]\n"
          ]
        }
      ],
      "source": [
        "print('첫번째 샘플의 길이 :', len(padded_X_train[0]))\n",
        "print('첫번째 샘플 :', padded_X_train[0])"
      ]
    },
    {
      "cell_type": "code",
      "execution_count": 53,
      "metadata": {
        "id": "rtLOOklBpVEn"
      },
      "outputs": [],
      "source": [
        "import torch\n",
        "import torch.nn as nn\n",
        "import torch.nn.functional as F"
      ]
    },
    {
      "cell_type": "code",
      "execution_count": 54,
      "metadata": {
        "id": "sntVZq5apWwl"
      },
      "outputs": [],
      "source": [
        "train_label_tensor = torch.tensor(np.array(y_train))\n",
        "valid_label_tensor = torch.tensor(np.array(y_valid))\n",
        "test_label_tensor = torch.tensor(np.array(y_test))"
      ]
    },
    {
      "cell_type": "code",
      "execution_count": 55,
      "metadata": {
        "colab": {
          "base_uri": "https://localhost:8080/"
        },
        "id": "fTwH0KiPpXx9",
        "outputId": "a65395ed-810b-4e2b-80a6-32b3403f7eac"
      },
      "outputs": [
        {
          "data": {
            "text/plain": [
              "tensor([0, 1, 1, 1, 1])"
            ]
          },
          "execution_count": 55,
          "metadata": {},
          "output_type": "execute_result"
        }
      ],
      "source": [
        "train_label_tensor[:5]"
      ]
    },
    {
      "cell_type": "code",
      "execution_count": 56,
      "metadata": {
        "colab": {
          "base_uri": "https://localhost:8080/"
        },
        "id": "C6oO0Pi_pYPG",
        "outputId": "3e581102-02e9-4ab8-d995-0f9b84147485"
      },
      "outputs": [
        {
          "name": "stdout",
          "output_type": "stream",
          "text": [
            "cpu와 cuda 중 다음 기기로 학습함: cpu\n"
          ]
        }
      ],
      "source": [
        "USE_CUDA = torch.cuda.is_available()\n",
        "device = torch.device(\"cuda\" if USE_CUDA else \"cpu\")\n",
        "print(\"cpu와 cuda 중 다음 기기로 학습함:\", device)"
      ]
    },
    {
      "cell_type": "code",
      "execution_count": 57,
      "metadata": {
        "id": "-uAxw3eSpZDH"
      },
      "outputs": [],
      "source": [
        "class TextClassifier(nn.Module):\n",
        "    def __init__(self, vocab_size, embedding_dim, hidden_dim, output_dim):\n",
        "        super(TextClassifier, self).__init__()\n",
        "        self.embedding = nn.Embedding(vocab_size, embedding_dim)\n",
        "        self.lstm = nn.LSTM(embedding_dim, hidden_dim, batch_first=True)\n",
        "        self.fc = nn.Linear(hidden_dim, output_dim)\n",
        "\n",
        "    def forward(self, x):\n",
        "        # x: (batch_size, seq_length)\n",
        "        embedded = self.embedding(x)  # (batch_size, seq_length, embedding_dim)\n",
        "\n",
        "        # LSTM은 (hidden state, cell state)의 튜플을 반환합니다\n",
        "        lstm_out, (hidden, cell) = self.lstm(embedded)  # lstm_out: (batch_size, seq_length, hidden_dim), hidden: (1, batch_size, hidden_dim)\n",
        "\n",
        "        last_hidden = hidden.squeeze(0)  # (batch_size, hidden_dim)\n",
        "        logits = self.fc(last_hidden)  # (batch_size, output_dim)\n",
        "        return logits"
      ]
    },
    {
      "cell_type": "code",
      "execution_count": 58,
      "metadata": {
        "id": "KMASjj0JpZyw"
      },
      "outputs": [],
      "source": [
        "encoded_train = torch.tensor(padded_X_train).to(torch.int64)\n",
        "train_dataset = torch.utils.data.TensorDataset(encoded_train, train_label_tensor)\n",
        "train_dataloader = torch.utils.data.DataLoader(train_dataset, shuffle=True, batch_size=32)\n",
        "\n",
        "encoded_test = torch.tensor(padded_X_test).to(torch.int64)\n",
        "test_dataset = torch.utils.data.TensorDataset(encoded_test, test_label_tensor)\n",
        "test_dataloader = torch.utils.data.DataLoader(test_dataset, shuffle=True, batch_size=1)\n",
        "\n",
        "encoded_valid = torch.tensor(padded_X_valid).to(torch.int64)\n",
        "valid_dataset = torch.utils.data.TensorDataset(encoded_valid, valid_label_tensor)\n",
        "valid_dataloader = torch.utils.data.DataLoader(valid_dataset, shuffle=True, batch_size=1)"
      ]
    },
    {
      "cell_type": "code",
      "execution_count": 59,
      "metadata": {
        "colab": {
          "base_uri": "https://localhost:8080/"
        },
        "id": "SExE-aSDpaqV",
        "outputId": "50917ff4-e707-4f4f-86e6-f8332c1d5838"
      },
      "outputs": [
        {
          "name": "stdout",
          "output_type": "stream",
          "text": [
            "총 배치의 수 : 3635\n"
          ]
        }
      ],
      "source": [
        "num_epochs = 5\n",
        "total_batch = len(train_dataloader)\n",
        "print('총 배치의 수 : {}'.format(total_batch))"
      ]
    },
    {
      "cell_type": "code",
      "execution_count": 60,
      "metadata": {
        "id": "EW79cnkepdIq"
      },
      "outputs": [],
      "source": [
        "embedding_dim = 100\n",
        "hidden_dim = 128\n",
        "output_dim = 2\n",
        "learning_rate = 0.01\n",
        "num_epochs = 10"
      ]
    },
    {
      "cell_type": "code",
      "execution_count": 61,
      "metadata": {
        "colab": {
          "base_uri": "https://localhost:8080/"
        },
        "id": "VuZGF-ddpeLl",
        "outputId": "08162877-370f-4afb-f4c5-7817d40f7932"
      },
      "outputs": [
        {
          "data": {
            "text/plain": [
              "TextClassifier(\n",
              "  (embedding): Embedding(19193, 100)\n",
              "  (lstm): LSTM(100, 128, batch_first=True)\n",
              "  (fc): Linear(in_features=128, out_features=2, bias=True)\n",
              ")"
            ]
          },
          "execution_count": 61,
          "metadata": {},
          "output_type": "execute_result"
        }
      ],
      "source": [
        "model = TextClassifier(vocab_size, embedding_dim, hidden_dim, output_dim)\n",
        "model.to(device)"
      ]
    },
    {
      "cell_type": "code",
      "execution_count": 62,
      "metadata": {
        "id": "mTciGMcWpfQt"
      },
      "outputs": [],
      "source": [
        "criterion = nn.CrossEntropyLoss()\n",
        "optimizer = torch.optim.Adam(model.parameters(), lr=0.001)"
      ]
    },
    {
      "cell_type": "code",
      "execution_count": 63,
      "metadata": {
        "id": "jx9-uxCgpgMK"
      },
      "outputs": [],
      "source": [
        "def calculate_accuracy(logits, labels):\n",
        "    predicted = torch.argmax(logits, dim=1)\n",
        "    correct = (predicted == labels).sum().item()\n",
        "    total = labels.size(0)\n",
        "    accuracy = correct / total\n",
        "    return accuracy"
      ]
    },
    {
      "cell_type": "code",
      "execution_count": 64,
      "metadata": {
        "id": "cVhNk5gqphas"
      },
      "outputs": [],
      "source": [
        "def evaluate(model, valid_dataloader, criterion, device):\n",
        "    val_loss = 0\n",
        "    val_correct = 0\n",
        "    val_total = 0\n",
        "\n",
        "    model.eval()\n",
        "    with torch.no_grad():\n",
        "        # 데이터로더로부터 배치 크기만큼의 데이터를 연속으로 로드\n",
        "        for batch_X, batch_y in valid_dataloader:\n",
        "            batch_X, batch_y = batch_X.to(device), batch_y.to(device)\n",
        "\n",
        "            # 모델의 예측값\n",
        "            logits = model(batch_X)\n",
        "\n",
        "            # 손실을 계산\n",
        "            loss = criterion(logits, batch_y)\n",
        "\n",
        "            # 정확도와 손실을 계산함\n",
        "            val_loss += loss.item()\n",
        "            val_correct += calculate_accuracy(logits, batch_y) * batch_y.size(0)\n",
        "            val_total += batch_y.size(0)\n",
        "\n",
        "    val_accuracy = val_correct / val_total\n",
        "    val_loss /= len(valid_dataloader)\n",
        "\n",
        "    return val_loss, val_accuracy"
      ]
    },
    {
      "cell_type": "code",
      "execution_count": null,
      "metadata": {
        "colab": {
          "base_uri": "https://localhost:8080/"
        },
        "id": "klnxlGckpiM2",
        "outputId": "0b4c600c-510f-40ae-cead-e67276aa581f"
      },
      "outputs": [
        {
          "name": "stdout",
          "output_type": "stream",
          "text": [
            "Epoch 1/10:\n",
            "Train Loss: 0.4671, Train Accuracy: 0.7604\n",
            "Validation Loss: 0.3674, Validation Accuracy: 0.8325\n",
            "Validation loss improved from inf to 0.3674. 체크포인트를 저장합니다.\n",
            "Epoch 2/10:\n",
            "Train Loss: 0.3208, Train Accuracy: 0.8615\n",
            "Validation Loss: 0.3367, Validation Accuracy: 0.8519\n",
            "Validation loss improved from 0.3674 to 0.3367. 체크포인트를 저장합니다.\n",
            "Epoch 3/10:\n",
            "Train Loss: 0.2601, Train Accuracy: 0.8923\n",
            "Validation Loss: 0.3413, Validation Accuracy: 0.8552\n"
          ]
        }
      ],
      "source": [
        "# Training loop\n",
        "best_val_loss = float('inf')\n",
        "\n",
        "# Training loop\n",
        "for epoch in range(num_epochs):\n",
        "    # Training\n",
        "    train_loss = 0\n",
        "    train_correct = 0\n",
        "    train_total = 0\n",
        "    model.train()\n",
        "    for batch_X, batch_y in train_dataloader:\n",
        "\n",
        "        # batch_X.shape == (batch_size, max_len)\n",
        "        batch_X, batch_y = batch_X.to(device), batch_y.to(device)\n",
        "\n",
        "        logits = model(batch_X)\n",
        "\n",
        "        # Compute loss\n",
        "        loss = criterion(logits, batch_y)\n",
        "\n",
        "        # Backward pass and optimization\n",
        "        optimizer.zero_grad()\n",
        "        loss.backward()\n",
        "        optimizer.step()\n",
        "\n",
        "        # Calculate training accuracy and loss\n",
        "        train_loss += loss.item()\n",
        "        train_correct += calculate_accuracy(logits, batch_y) * batch_y.size(0)\n",
        "        train_total += batch_y.size(0)\n",
        "\n",
        "    train_accuracy = train_correct / train_total\n",
        "    train_loss /= len(train_dataloader)\n",
        "\n",
        "    # Validation\n",
        "    val_loss, val_accuracy = evaluate(model, valid_dataloader, criterion, device)\n",
        "\n",
        "    print(f'Epoch {epoch+1}/{num_epochs}:')\n",
        "    print(f'Train Loss: {train_loss:.4f}, Train Accuracy: {train_accuracy:.4f}')\n",
        "    print(f'Validation Loss: {val_loss:.4f}, Validation Accuracy: {val_accuracy:.4f}')\n",
        "\n",
        "    # 검증 손실이 최소일 때 체크포인트 저장\n",
        "    if val_loss < best_val_loss:\n",
        "        print(f'Validation loss improved from {best_val_loss:.4f} to {val_loss:.4f}. 체크포인트를 저장합니다.')\n",
        "        best_val_loss = val_loss\n",
        "        torch.save(model.state_dict(), 'best_model_checkpoint.pth')"
      ]
    },
    {
      "cell_type": "code",
      "execution_count": null,
      "metadata": {
        "colab": {
          "base_uri": "https://localhost:8080/"
        },
        "id": "TH4fRVGjpjJM",
        "outputId": "4e065d89-8603-4366-e17e-d0018a70c030"
      },
      "outputs": [
        {
          "name": "stdout",
          "output_type": "stream",
          "text": [
            "Best model validation loss: 0.3421\n",
            "Best model validation accuracy: 0.8483\n"
          ]
        }
      ],
      "source": [
        "# 모델 로드\n",
        "model.load_state_dict(torch.load('best_model_checkpoint.pth'))\n",
        "\n",
        "# 모델을 device에 올립니다.\n",
        "model.to(device)\n",
        "\n",
        "# 검증 데이터에 대한 정확도와 손실 계산\n",
        "val_loss, val_accuracy = evaluate(model, valid_dataloader, criterion, device)\n",
        "\n",
        "print(f'Best model validation loss: {val_loss:.4f}')\n",
        "print(f'Best model validation accuracy: {val_accuracy:.4f}')"
      ]
    },
    {
      "cell_type": "code",
      "execution_count": null,
      "metadata": {
        "colab": {
          "base_uri": "https://localhost:8080/"
        },
        "id": "MPyFmo1hpkbX",
        "outputId": "1292de82-d636-477a-bd0c-3ddd7b55ba67"
      },
      "outputs": [
        {
          "name": "stdout",
          "output_type": "stream",
          "text": [
            "Best model test loss: 0.3439\n",
            "Best model test accuracy: 0.8472\n"
          ]
        }
      ],
      "source": [
        "# 테스트 데이터에 대한 정확도와 손실 계산\n",
        "test_loss, test_accuracy = evaluate(model, test_dataloader, criterion, device)\n",
        "\n",
        "print(f'Best model test loss: {test_loss:.4f}')\n",
        "print(f'Best model test accuracy: {test_accuracy:.4f}')"
      ]
    },
    {
      "cell_type": "code",
      "execution_count": null,
      "metadata": {
        "id": "bxdWzuouplUe"
      },
      "outputs": [],
      "source": [
        "index_to_tag = {0 : '부정', 1 : '긍정'}"
      ]
    },
    {
      "cell_type": "code",
      "execution_count": null,
      "metadata": {
        "id": "ay-gbQp3pmaH"
      },
      "outputs": [],
      "source": [
        "def predict(text, model, word_to_index, index_to_tag):\n",
        "    # Set the model to evaluation mode\n",
        "    model.eval()\n",
        "\n",
        "    # Tokenize the input text\n",
        "    tokens = mecab.morphs(text) # 토큰화\n",
        "    tokens = [word for word in tokens if not word in stopwords] # 불용어 제거\n",
        "    token_indices = [word_to_index.get(token, 1) for token in tokens]\n",
        "\n",
        "    # Convert tokens to tensor\n",
        "    input_tensor = torch.tensor([token_indices], dtype=torch.long).to(device)  # (1, seq_length)\n",
        "\n",
        "    # Pass the input tensor through the model\n",
        "    with torch.no_grad():\n",
        "        logits = model(input_tensor)  # (1, output_dim)\n",
        "\n",
        "    # Get the predicted class index\n",
        "    predicted_index = torch.argmax(logits, dim=1)\n",
        "\n",
        "    # Convert the predicted index to its corresponding tag\n",
        "    predicted_tag = index_to_tag[predicted_index.item()]\n",
        "\n",
        "    return predicted_tag"
      ]
    },
    {
      "cell_type": "code",
      "execution_count": null,
      "metadata": {
        "colab": {
          "base_uri": "https://localhost:8080/",
          "height": 35
        },
        "id": "igefsY0Vpn68",
        "outputId": "b64cc277-7ac5-4c41-b27b-f318125c5408"
      },
      "outputs": [
        {
          "data": {
            "application/vnd.google.colaboratory.intrinsic+json": {
              "type": "string"
            },
            "text/plain": [
              "'긍정'"
            ]
          },
          "execution_count": 71,
          "metadata": {},
          "output_type": "execute_result"
        }
      ],
      "source": [
        "test_input = \"이 영화 개꿀잼 ㅋㅋㅋ\"\n",
        "\n",
        "predict(test_input, model, word_to_index, index_to_tag)"
      ]
    },
    {
      "cell_type": "code",
      "execution_count": null,
      "metadata": {
        "colab": {
          "base_uri": "https://localhost:8080/",
          "height": 35
        },
        "id": "p36SPSiNpoT5",
        "outputId": "b63b40e0-cdcc-4aa6-c6f7-3f03f7befcdc"
      },
      "outputs": [
        {
          "data": {
            "application/vnd.google.colaboratory.intrinsic+json": {
              "type": "string"
            },
            "text/plain": [
              "'부정'"
            ]
          },
          "execution_count": 72,
          "metadata": {},
          "output_type": "execute_result"
        }
      ],
      "source": [
        "test_input = \"이딴게 영화냐 ㅉㅉ\"\n",
        "\n",
        "predict(test_input, model, word_to_index, index_to_tag)"
      ]
    },
    {
      "cell_type": "code",
      "execution_count": null,
      "metadata": {
        "colab": {
          "base_uri": "https://localhost:8080/",
          "height": 35
        },
        "id": "DlXWcNRAppLC",
        "outputId": "9fa4ed25-f953-4580-a89d-ce04abcdccbe"
      },
      "outputs": [
        {
          "data": {
            "application/vnd.google.colaboratory.intrinsic+json": {
              "type": "string"
            },
            "text/plain": [
              "'부정'"
            ]
          },
          "execution_count": 73,
          "metadata": {},
          "output_type": "execute_result"
        }
      ],
      "source": [
        "test_input = \"감독 뭐하는 놈이냐?\"\n",
        "\n",
        "predict(test_input, model, word_to_index, index_to_tag)"
      ]
    },
    {
      "cell_type": "code",
      "execution_count": null,
      "metadata": {
        "colab": {
          "base_uri": "https://localhost:8080/",
          "height": 35
        },
        "id": "wlInQvURpp_W",
        "outputId": "952d6f56-db1f-4cda-ff1a-13c612e6bc37"
      },
      "outputs": [
        {
          "data": {
            "application/vnd.google.colaboratory.intrinsic+json": {
              "type": "string"
            },
            "text/plain": [
              "'긍정'"
            ]
          },
          "execution_count": 74,
          "metadata": {},
          "output_type": "execute_result"
        }
      ],
      "source": [
        "test_input = \"와 개쩐다 정말 세계관 최강자들의 영화다\"\n",
        "\n",
        "predict(test_input, model, word_to_index, index_to_tag)"
      ]
    }
  ],
  "metadata": {
    "accelerator": "GPU",
    "colab": {
      "gpuType": "T4",
      "machine_shape": "hm",
      "provenance": []
    },
    "kernelspec": {
      "display_name": "Python 3",
      "name": "python3"
    },
    "language_info": {
      "name": "python"
    }
  },
  "nbformat": 4,
  "nbformat_minor": 0
}
