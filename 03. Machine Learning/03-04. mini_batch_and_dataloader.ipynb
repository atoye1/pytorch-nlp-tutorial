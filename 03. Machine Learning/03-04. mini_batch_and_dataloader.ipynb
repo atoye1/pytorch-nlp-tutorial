{
  "nbformat": 4,
  "nbformat_minor": 0,
  "metadata": {
    "colab": {
      "provenance": []
    },
    "kernelspec": {
      "name": "python3",
      "display_name": "Python 3"
    },
    "language_info": {
      "name": "python"
    }
  },
  "cells": [
    {
      "cell_type": "markdown",
      "source": [
        "## 3. 데이터 로드하기(Data Load)"
      ],
      "metadata": {
        "id": "MiiVlQvCfplI"
      }
    },
    {
      "cell_type": "code",
      "execution_count": null,
      "metadata": {
        "id": "i-PIyf5_fUx9"
      },
      "outputs": [],
      "source": [
        "import torch\n",
        "import torch.nn as nn\n",
        "import torch.nn.functional as F"
      ]
    },
    {
      "cell_type": "code",
      "source": [
        "from torch.utils.data import TensorDataset # 텐서데이터셋\n",
        "from torch.utils.data import DataLoader # 데이터로더"
      ],
      "metadata": {
        "id": "_CFNR3iofZWR"
      },
      "execution_count": null,
      "outputs": []
    },
    {
      "cell_type": "code",
      "source": [
        "x_train  =  torch.FloatTensor([[73,  80,  75],\n",
        "                               [93,  88,  93],\n",
        "                               [89,  91,  90],\n",
        "                               [96,  98,  100],\n",
        "                               [73,  66,  70]])\n",
        "y_train  =  torch.FloatTensor([[152],  [185],  [180],  [196],  [142]])"
      ],
      "metadata": {
        "id": "GISd1XjBfaRZ"
      },
      "execution_count": null,
      "outputs": []
    },
    {
      "cell_type": "code",
      "source": [
        "dataset = TensorDataset(x_train, y_train)"
      ],
      "metadata": {
        "id": "gZVzatRxfbHo"
      },
      "execution_count": null,
      "outputs": []
    },
    {
      "cell_type": "code",
      "source": [
        "dataloader = DataLoader(dataset, batch_size=2, shuffle=True)"
      ],
      "metadata": {
        "id": "CQO8EJINfcOP"
      },
      "execution_count": null,
      "outputs": []
    },
    {
      "cell_type": "code",
      "source": [
        "model = nn.Linear(3,1)\n",
        "optimizer = torch.optim.SGD(model.parameters(), lr=1e-5)"
      ],
      "metadata": {
        "id": "ciG6lYR_fdQP"
      },
      "execution_count": null,
      "outputs": []
    },
    {
      "cell_type": "code",
      "source": [
        "nb_epochs = 20\n",
        "for epoch in range(nb_epochs + 1):\n",
        "  for batch_idx, samples in enumerate(dataloader):\n",
        "    # print(batch_idx)\n",
        "    # print(samples)\n",
        "    x_train, y_train = samples\n",
        "    # H(x) 계산\n",
        "    prediction = model(x_train)\n",
        "\n",
        "    # cost 계산\n",
        "    cost = F.mse_loss(prediction, y_train)\n",
        "\n",
        "    # cost로 H(x) 계산\n",
        "    optimizer.zero_grad()\n",
        "    cost.backward()\n",
        "    optimizer.step()\n",
        "\n",
        "    print('Epoch {:4d}/{} Batch {}/{} Cost: {:.6f}'.format(\n",
        "        epoch, nb_epochs, batch_idx+1, len(dataloader),\n",
        "        cost.item()\n",
        "        ))"
      ],
      "metadata": {
        "colab": {
          "base_uri": "https://localhost:8080/"
        },
        "id": "17pxhTrRfeNq",
        "outputId": "967bfd45-6d3c-41dd-c2a7-0df30ea7ccdc"
      },
      "execution_count": null,
      "outputs": [
        {
          "output_type": "stream",
          "name": "stdout",
          "text": [
            "Epoch    0/20 Batch 1/3 Cost: 39403.804688\n",
            "Epoch    0/20 Batch 2/3 Cost: 15462.455078\n",
            "Epoch    0/20 Batch 3/3 Cost: 4786.137207\n",
            "Epoch    1/20 Batch 1/3 Cost: 1218.593506\n",
            "Epoch    1/20 Batch 2/3 Cost: 435.032959\n",
            "Epoch    1/20 Batch 3/3 Cost: 105.244629\n",
            "Epoch    2/20 Batch 1/3 Cost: 42.615692\n",
            "Epoch    2/20 Batch 2/3 Cost: 30.186577\n",
            "Epoch    2/20 Batch 3/3 Cost: 0.616087\n",
            "Epoch    3/20 Batch 1/3 Cost: 19.858231\n",
            "Epoch    3/20 Batch 2/3 Cost: 5.916812\n",
            "Epoch    3/20 Batch 3/3 Cost: 0.388397\n",
            "Epoch    4/20 Batch 1/3 Cost: 15.750246\n",
            "Epoch    4/20 Batch 2/3 Cost: 7.415645\n",
            "Epoch    4/20 Batch 3/3 Cost: 0.694411\n",
            "Epoch    5/20 Batch 1/3 Cost: 6.498949\n",
            "Epoch    5/20 Batch 2/3 Cost: 9.546433\n",
            "Epoch    5/20 Batch 3/3 Cost: 1.851096\n",
            "Epoch    6/20 Batch 1/3 Cost: 5.902105\n",
            "Epoch    6/20 Batch 2/3 Cost: 9.463591\n",
            "Epoch    6/20 Batch 3/3 Cost: 2.065266\n",
            "Epoch    7/20 Batch 1/3 Cost: 5.816040\n",
            "Epoch    7/20 Batch 2/3 Cost: 4.086942\n",
            "Epoch    7/20 Batch 3/3 Cost: 17.550112\n",
            "Epoch    8/20 Batch 1/3 Cost: 4.148270\n",
            "Epoch    8/20 Batch 2/3 Cost: 6.934728\n",
            "Epoch    8/20 Batch 3/3 Cost: 15.224357\n",
            "Epoch    9/20 Batch 1/3 Cost: 6.579959\n",
            "Epoch    9/20 Batch 2/3 Cost: 7.929379\n",
            "Epoch    9/20 Batch 3/3 Cost: 9.217083\n",
            "Epoch   10/20 Batch 1/3 Cost: 4.599049\n",
            "Epoch   10/20 Batch 2/3 Cost: 11.876324\n",
            "Epoch   10/20 Batch 3/3 Cost: 7.598041\n",
            "Epoch   11/20 Batch 1/3 Cost: 1.678685\n",
            "Epoch   11/20 Batch 2/3 Cost: 18.394985\n",
            "Epoch   11/20 Batch 3/3 Cost: 3.659548\n",
            "Epoch   12/20 Batch 1/3 Cost: 2.733456\n",
            "Epoch   12/20 Batch 2/3 Cost: 7.161062\n",
            "Epoch   12/20 Batch 3/3 Cost: 13.569875\n",
            "Epoch   13/20 Batch 1/3 Cost: 4.376345\n",
            "Epoch   13/20 Batch 2/3 Cost: 8.006906\n",
            "Epoch   13/20 Batch 3/3 Cost: 14.372609\n",
            "Epoch   14/20 Batch 1/3 Cost: 9.434833\n",
            "Epoch   14/20 Batch 2/3 Cost: 5.008652\n",
            "Epoch   14/20 Batch 3/3 Cost: 8.688983\n",
            "Epoch   15/20 Batch 1/3 Cost: 6.650970\n",
            "Epoch   15/20 Batch 2/3 Cost: 8.698380\n",
            "Epoch   15/20 Batch 3/3 Cost: 8.804238\n",
            "Epoch   16/20 Batch 1/3 Cost: 6.537933\n",
            "Epoch   16/20 Batch 2/3 Cost: 6.808545\n",
            "Epoch   16/20 Batch 3/3 Cost: 11.867550\n",
            "Epoch   17/20 Batch 1/3 Cost: 10.494392\n",
            "Epoch   17/20 Batch 2/3 Cost: 9.964159\n",
            "Epoch   17/20 Batch 3/3 Cost: 7.159234\n",
            "Epoch   18/20 Batch 1/3 Cost: 6.788995\n",
            "Epoch   18/20 Batch 2/3 Cost: 6.976727\n",
            "Epoch   18/20 Batch 3/3 Cost: 2.794299\n",
            "Epoch   19/20 Batch 1/3 Cost: 5.475104\n",
            "Epoch   19/20 Batch 2/3 Cost: 6.842868\n",
            "Epoch   19/20 Batch 3/3 Cost: 7.831474\n",
            "Epoch   20/20 Batch 1/3 Cost: 1.752426\n",
            "Epoch   20/20 Batch 2/3 Cost: 10.044157\n",
            "Epoch   20/20 Batch 3/3 Cost: 9.800561\n"
          ]
        }
      ]
    },
    {
      "cell_type": "code",
      "source": [
        "# 임의의 입력 [73, 80, 75]를 선언\n",
        "new_var =  torch.FloatTensor([[73, 80, 75]])\n",
        "# 입력한 값 [73, 80, 75]에 대해서 예측값 y를 리턴받아서 pred_y에 저장\n",
        "pred_y = model(new_var)\n",
        "print(\"훈련 후 입력이 73, 80, 75일 때의 예측값 :\", pred_y)"
      ],
      "metadata": {
        "colab": {
          "base_uri": "https://localhost:8080/"
        },
        "id": "JMsD-irZffOf",
        "outputId": "35465380-f645-414b-bc42-0a5284dbc45a"
      },
      "execution_count": null,
      "outputs": [
        {
          "output_type": "stream",
          "name": "stdout",
          "text": [
            "훈련 후 입력이 73, 80, 75일 때의 예측값 : tensor([[155.4113]], grad_fn=<AddmmBackward0>)\n"
          ]
        }
      ]
    },
    {
      "cell_type": "markdown",
      "source": [
        "## 5. 커스텀 데이터셋(Custom Dataset)으로 선형 회귀 구현하기"
      ],
      "metadata": {
        "id": "cUnHmj1nfsDg"
      }
    },
    {
      "cell_type": "code",
      "source": [
        "import torch\n",
        "import torch.nn.functional as F\n",
        "from torch.utils.data import Dataset\n",
        "from torch.utils.data import DataLoader"
      ],
      "metadata": {
        "id": "VAqmDsVUfh4Y"
      },
      "execution_count": null,
      "outputs": []
    },
    {
      "cell_type": "code",
      "source": [
        "# Dataset 상속\n",
        "class CustomDataset(Dataset):\n",
        "  def __init__(self):\n",
        "    self.x_data = [[73, 80, 75],\n",
        "                   [93, 88, 93],\n",
        "                   [89, 91, 90],\n",
        "                   [96, 98, 100],\n",
        "                   [73, 66, 70]]\n",
        "    self.y_data = [[152], [185], [180], [196], [142]]\n",
        "\n",
        "  # 총 데이터의 개수를 리턴\n",
        "  def __len__(self):\n",
        "    return len(self.x_data)\n",
        "\n",
        "  # 인덱스를 입력받아 그에 맵핑되는 입출력 데이터를 파이토치의 Tensor 형태로 리턴\n",
        "  def __getitem__(self, idx):\n",
        "    x = torch.FloatTensor(self.x_data[idx])\n",
        "    y = torch.FloatTensor(self.y_data[idx])\n",
        "    return x, y"
      ],
      "metadata": {
        "id": "pEB9nzFyftAB"
      },
      "execution_count": null,
      "outputs": []
    },
    {
      "cell_type": "code",
      "source": [
        "dataset = CustomDataset()\n",
        "dataloader = DataLoader(dataset, batch_size=2, shuffle=True)"
      ],
      "metadata": {
        "id": "Na0sCYRtfuQi"
      },
      "execution_count": null,
      "outputs": []
    },
    {
      "cell_type": "code",
      "source": [
        "model = torch.nn.Linear(3,1)\n",
        "optimizer = torch.optim.SGD(model.parameters(), lr=1e-5)"
      ],
      "metadata": {
        "id": "5cK9IzkwfvPo"
      },
      "execution_count": null,
      "outputs": []
    },
    {
      "cell_type": "code",
      "source": [
        "nb_epochs = 20\n",
        "for epoch in range(nb_epochs + 1):\n",
        "  for batch_idx, samples in enumerate(dataloader):\n",
        "    # print(batch_idx)\n",
        "    # print(samples)\n",
        "    x_train, y_train = samples\n",
        "    # H(x) 계산\n",
        "    prediction = model(x_train)\n",
        "\n",
        "    # cost 계산\n",
        "    cost = F.mse_loss(prediction, y_train)\n",
        "\n",
        "    # cost로 H(x) 계산\n",
        "    optimizer.zero_grad()\n",
        "    cost.backward()\n",
        "    optimizer.step()\n",
        "\n",
        "    print('Epoch {:4d}/{} Batch {}/{} Cost: {:.6f}'.format(\n",
        "        epoch, nb_epochs, batch_idx+1, len(dataloader),\n",
        "        cost.item()\n",
        "        ))"
      ],
      "metadata": {
        "colab": {
          "base_uri": "https://localhost:8080/"
        },
        "id": "HYML3039fwHw",
        "outputId": "676d4919-c6b9-4dae-9198-a1a50f12cc92"
      },
      "execution_count": null,
      "outputs": [
        {
          "output_type": "stream",
          "name": "stdout",
          "text": [
            "Epoch    0/20 Batch 1/3 Cost: 49008.207031\n",
            "Epoch    0/20 Batch 2/3 Cost: 17872.240234\n",
            "Epoch    0/20 Batch 3/3 Cost: 3364.171631\n",
            "Epoch    1/20 Batch 1/3 Cost: 1556.357422\n",
            "Epoch    1/20 Batch 2/3 Cost: 670.417419\n",
            "Epoch    1/20 Batch 3/3 Cost: 185.047745\n",
            "Epoch    2/20 Batch 1/3 Cost: 46.820663\n",
            "Epoch    2/20 Batch 2/3 Cost: 17.329229\n",
            "Epoch    2/20 Batch 3/3 Cost: 8.784509\n",
            "Epoch    3/20 Batch 1/3 Cost: 0.470326\n",
            "Epoch    3/20 Batch 2/3 Cost: 0.512440\n",
            "Epoch    3/20 Batch 3/3 Cost: 1.895538\n",
            "Epoch    4/20 Batch 1/3 Cost: 0.005967\n",
            "Epoch    4/20 Batch 2/3 Cost: 0.319721\n",
            "Epoch    4/20 Batch 3/3 Cost: 1.366790\n",
            "Epoch    5/20 Batch 1/3 Cost: 0.297140\n",
            "Epoch    5/20 Batch 2/3 Cost: 0.153163\n",
            "Epoch    5/20 Batch 3/3 Cost: 1.159197\n",
            "Epoch    6/20 Batch 1/3 Cost: 0.369440\n",
            "Epoch    6/20 Batch 2/3 Cost: 0.604455\n",
            "Epoch    6/20 Batch 3/3 Cost: 0.010275\n",
            "Epoch    7/20 Batch 1/3 Cost: 0.573793\n",
            "Epoch    7/20 Batch 2/3 Cost: 0.007554\n",
            "Epoch    7/20 Batch 3/3 Cost: 0.360887\n",
            "Epoch    8/20 Batch 1/3 Cost: 0.043060\n",
            "Epoch    8/20 Batch 2/3 Cost: 0.745022\n",
            "Epoch    8/20 Batch 3/3 Cost: 0.006900\n",
            "Epoch    9/20 Batch 1/3 Cost: 0.001571\n",
            "Epoch    9/20 Batch 2/3 Cost: 0.593390\n",
            "Epoch    9/20 Batch 3/3 Cost: 0.359403\n",
            "Epoch   10/20 Batch 1/3 Cost: 0.075168\n",
            "Epoch   10/20 Batch 2/3 Cost: 0.041537\n",
            "Epoch   10/20 Batch 3/3 Cost: 1.429100\n",
            "Epoch   11/20 Batch 1/3 Cost: 0.275752\n",
            "Epoch   11/20 Batch 2/3 Cost: 0.615677\n",
            "Epoch   11/20 Batch 3/3 Cost: 0.004730\n",
            "Epoch   12/20 Batch 1/3 Cost: 0.165323\n",
            "Epoch   12/20 Batch 2/3 Cost: 0.569479\n",
            "Epoch   12/20 Batch 3/3 Cost: 0.394622\n",
            "Epoch   13/20 Batch 1/3 Cost: 0.679376\n",
            "Epoch   13/20 Batch 2/3 Cost: 0.001175\n",
            "Epoch   13/20 Batch 3/3 Cost: 0.272041\n",
            "Epoch   14/20 Batch 1/3 Cost: 0.754631\n",
            "Epoch   14/20 Batch 2/3 Cost: 0.007461\n",
            "Epoch   14/20 Batch 3/3 Cost: 0.177644\n",
            "Epoch   15/20 Batch 1/3 Cost: 0.050736\n",
            "Epoch   15/20 Batch 2/3 Cost: 0.125230\n",
            "Epoch   15/20 Batch 3/3 Cost: 1.358347\n",
            "Epoch   16/20 Batch 1/3 Cost: 0.295784\n",
            "Epoch   16/20 Batch 2/3 Cost: 0.611303\n",
            "Epoch   16/20 Batch 3/3 Cost: 0.005588\n",
            "Epoch   17/20 Batch 1/3 Cost: 0.438420\n",
            "Epoch   17/20 Batch 2/3 Cost: 0.549908\n",
            "Epoch   17/20 Batch 3/3 Cost: 0.016323\n",
            "Epoch   18/20 Batch 1/3 Cost: 0.653826\n",
            "Epoch   18/20 Batch 2/3 Cost: 0.000014\n",
            "Epoch   18/20 Batch 3/3 Cost: 0.235492\n",
            "Epoch   19/20 Batch 1/3 Cost: 0.062350\n",
            "Epoch   19/20 Batch 2/3 Cost: 0.056570\n",
            "Epoch   19/20 Batch 3/3 Cost: 1.404906\n",
            "Epoch   20/20 Batch 1/3 Cost: 0.040696\n",
            "Epoch   20/20 Batch 2/3 Cost: 0.432336\n",
            "Epoch   20/20 Batch 3/3 Cost: 1.276463\n"
          ]
        }
      ]
    },
    {
      "cell_type": "code",
      "source": [
        "# 임의의 입력 [73, 80, 75]를 선언\n",
        "new_var =  torch.FloatTensor([[73, 80, 75]])\n",
        "# 입력한 값 [73, 80, 75]에 대해서 예측값 y를 리턴받아서 pred_y에 저장\n",
        "pred_y = model(new_var)\n",
        "print(\"훈련 후 입력이 73, 80, 75일 때의 예측값 :\", pred_y)"
      ],
      "metadata": {
        "colab": {
          "base_uri": "https://localhost:8080/"
        },
        "id": "sKoxbpGyfxNo",
        "outputId": "3a7c1caa-d844-402b-a129-4a924c55f864"
      },
      "execution_count": null,
      "outputs": [
        {
          "output_type": "stream",
          "name": "stdout",
          "text": [
            "훈련 후 입력이 73, 80, 75일 때의 예측값 : tensor([[151.2623]], grad_fn=<AddmmBackward0>)\n"
          ]
        }
      ]
    }
  ]
}