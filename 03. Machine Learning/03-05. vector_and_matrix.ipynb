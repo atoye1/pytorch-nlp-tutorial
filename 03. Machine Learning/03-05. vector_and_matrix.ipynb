{
  "nbformat": 4,
  "nbformat_minor": 0,
  "metadata": {
    "colab": {
      "provenance": []
    },
    "kernelspec": {
      "name": "python3",
      "display_name": "Python 3"
    },
    "language_info": {
      "name": "python"
    }
  },
  "cells": [
    {
      "cell_type": "markdown",
      "source": [
        "## 3. 벡터와 행렬의 연산"
      ],
      "metadata": {
        "id": "zgx2NjLz74rY"
      }
    },
    {
      "cell_type": "code",
      "source": [
        "import numpy as np"
      ],
      "metadata": {
        "id": "F5aqfq7i76O0"
      },
      "execution_count": null,
      "outputs": []
    },
    {
      "cell_type": "markdown",
      "source": [
        "### 1) 벡터와 행렬의 덧셈과 뺄셈"
      ],
      "metadata": {
        "id": "8dmfu3EqCbw9"
      }
    },
    {
      "cell_type": "code",
      "source": [
        "A = np.array([8, 4, 5])\n",
        "B = np.array([1, 2, 3])\n",
        "print('두 벡터의 합 :',A+B)\n",
        "print('두 벡터의 차 :',A-B)"
      ],
      "metadata": {
        "colab": {
          "base_uri": "https://localhost:8080/"
        },
        "id": "FXHhYAA6768E",
        "outputId": "4596e1e7-62f7-4347-dfbf-05792d91be8f"
      },
      "execution_count": null,
      "outputs": [
        {
          "output_type": "stream",
          "name": "stdout",
          "text": [
            "두 행렬의 합 : [9 6 8]\n",
            "두 행렬의 차 : [7 2 2]\n"
          ]
        }
      ]
    },
    {
      "cell_type": "code",
      "source": [
        "A = np.array([[10, 20, 30, 40], [50, 60, 70, 80]])\n",
        "B = np.array([[5, 6, 7, 8],[1, 2, 3, 4]])\n",
        "print('두 행렬의 합 :')\n",
        "print(A+B)\n",
        "print('두 행렬의 차 :')\n",
        "print(A-B)"
      ],
      "metadata": {
        "colab": {
          "base_uri": "https://localhost:8080/"
        },
        "id": "gd6H6JT67_Wf",
        "outputId": "1b82d02e-5c2e-4e9b-b2b6-d9a96b0a8a13"
      },
      "execution_count": null,
      "outputs": [
        {
          "output_type": "stream",
          "name": "stdout",
          "text": [
            "두 행렬의 합 :\n",
            "[[15 26 37 48]\n",
            " [51 62 73 84]]\n",
            "두 행렬의 차 :\n",
            "[[ 5 14 23 32]\n",
            " [49 58 67 76]]\n"
          ]
        }
      ]
    },
    {
      "cell_type": "markdown",
      "source": [
        "### 2) 벡터의 내적과 행렬의 곱셈"
      ],
      "metadata": {
        "id": "X8EiAmViCfBJ"
      }
    },
    {
      "cell_type": "code",
      "source": [
        "A = np.array([1, 2, 3])\n",
        "B = np.array([4, 5, 6])\n",
        "print('두 벡터의 내적 :',np.dot(A, B))"
      ],
      "metadata": {
        "colab": {
          "base_uri": "https://localhost:8080/"
        },
        "id": "zZRZrk1M8EMv",
        "outputId": "469a6bc8-aabc-4de9-e954-bca48f064312"
      },
      "execution_count": null,
      "outputs": [
        {
          "output_type": "stream",
          "name": "stdout",
          "text": [
            "두 벡터의 내적 : 32\n"
          ]
        }
      ]
    },
    {
      "cell_type": "code",
      "source": [
        "A = np.array([[1, 3],[2, 4]])\n",
        "B = np.array([[5, 7],[6, 8]])\n",
        "print('두 행렬의 행렬곱 :')\n",
        "print(np.matmul(A, B))"
      ],
      "metadata": {
        "colab": {
          "base_uri": "https://localhost:8080/"
        },
        "id": "fG2P-su18P3J",
        "outputId": "a66a4f3f-ef01-4b51-c94e-1d20a450d968"
      },
      "execution_count": null,
      "outputs": [
        {
          "output_type": "stream",
          "name": "stdout",
          "text": [
            "두 행렬의 행렬곱 :\n",
            "[[23 31]\n",
            " [34 46]]\n"
          ]
        }
      ]
    }
  ]
}