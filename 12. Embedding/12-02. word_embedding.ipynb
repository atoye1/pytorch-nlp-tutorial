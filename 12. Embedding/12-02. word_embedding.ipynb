{
  "nbformat": 4,
  "nbformat_minor": 0,
  "metadata": {
    "colab": {
      "provenance": []
    },
    "kernelspec": {
      "name": "python3",
      "display_name": "Python 3"
    },
    "language_info": {
      "name": "python"
    }
  },
  "cells": [
    {
      "cell_type": "code",
      "execution_count": 1,
      "metadata": {
        "id": "2-1mOsXBQKd1"
      },
      "outputs": [],
      "source": [
        "import torch"
      ]
    },
    {
      "cell_type": "code",
      "source": [
        "# 원-핫 벡터 생성\n",
        "dog = torch.FloatTensor([1, 0, 0, 0, 0])\n",
        "cat = torch.FloatTensor([0, 1, 0, 0, 0])\n",
        "computer = torch.FloatTensor([0, 0, 1, 0, 0])\n",
        "netbook = torch.FloatTensor([0, 0, 0, 1, 0])\n",
        "book = torch.FloatTensor([0, 0, 0, 0, 1])"
      ],
      "metadata": {
        "id": "rkQjJabEQLKB"
      },
      "execution_count": 2,
      "outputs": []
    },
    {
      "cell_type": "code",
      "source": [
        "print(torch.cosine_similarity(dog, cat, dim=0))\n",
        "print(torch.cosine_similarity(cat, computer, dim=0))\n",
        "print(torch.cosine_similarity(computer, netbook, dim=0))\n",
        "print(torch.cosine_similarity(netbook, book, dim=0))"
      ],
      "metadata": {
        "colab": {
          "base_uri": "https://localhost:8080/"
        },
        "id": "x_W70gGtQQrl",
        "outputId": "35fe0c2a-2f46-44d4-cfb0-ea8c25c66303"
      },
      "execution_count": 3,
      "outputs": [
        {
          "output_type": "stream",
          "name": "stdout",
          "text": [
            "tensor(0.)\n",
            "tensor(0.)\n",
            "tensor(0.)\n",
            "tensor(0.)\n"
          ]
        }
      ]
    }
  ]
}