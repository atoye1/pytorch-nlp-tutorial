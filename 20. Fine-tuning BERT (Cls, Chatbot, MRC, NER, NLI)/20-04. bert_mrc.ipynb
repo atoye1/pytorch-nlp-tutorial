{
  "cells": [
    {
      "cell_type": "code",
      "execution_count": null,
      "metadata": {
        "colab": {
          "base_uri": "https://localhost:8080/"
        },
        "id": "vihmV4FNjj_s",
        "outputId": "a88ac6d3-cc72-4e90-fa9d-d01850a0da97"
      },
      "outputs": [
        {
          "output_type": "stream",
          "name": "stdout",
          "text": [
            "Requirement already satisfied: transformers in /usr/local/lib/python3.10/dist-packages (4.35.2)\n",
            "Requirement already satisfied: filelock in /usr/local/lib/python3.10/dist-packages (from transformers) (3.13.1)\n",
            "Requirement already satisfied: huggingface-hub<1.0,>=0.16.4 in /usr/local/lib/python3.10/dist-packages (from transformers) (0.20.3)\n",
            "Requirement already satisfied: numpy>=1.17 in /usr/local/lib/python3.10/dist-packages (from transformers) (1.23.5)\n",
            "Requirement already satisfied: packaging>=20.0 in /usr/local/lib/python3.10/dist-packages (from transformers) (23.2)\n",
            "Requirement already satisfied: pyyaml>=5.1 in /usr/local/lib/python3.10/dist-packages (from transformers) (6.0.1)\n",
            "Requirement already satisfied: regex!=2019.12.17 in /usr/local/lib/python3.10/dist-packages (from transformers) (2023.12.25)\n",
            "Requirement already satisfied: requests in /usr/local/lib/python3.10/dist-packages (from transformers) (2.31.0)\n",
            "Requirement already satisfied: tokenizers<0.19,>=0.14 in /usr/local/lib/python3.10/dist-packages (from transformers) (0.15.1)\n",
            "Requirement already satisfied: safetensors>=0.3.1 in /usr/local/lib/python3.10/dist-packages (from transformers) (0.4.2)\n",
            "Requirement already satisfied: tqdm>=4.27 in /usr/local/lib/python3.10/dist-packages (from transformers) (4.66.1)\n",
            "Requirement already satisfied: fsspec>=2023.5.0 in /usr/local/lib/python3.10/dist-packages (from huggingface-hub<1.0,>=0.16.4->transformers) (2023.6.0)\n",
            "Requirement already satisfied: typing-extensions>=3.7.4.3 in /usr/local/lib/python3.10/dist-packages (from huggingface-hub<1.0,>=0.16.4->transformers) (4.9.0)\n",
            "Requirement already satisfied: charset-normalizer<4,>=2 in /usr/local/lib/python3.10/dist-packages (from requests->transformers) (3.3.2)\n",
            "Requirement already satisfied: idna<4,>=2.5 in /usr/local/lib/python3.10/dist-packages (from requests->transformers) (3.6)\n",
            "Requirement already satisfied: urllib3<3,>=1.21.1 in /usr/local/lib/python3.10/dist-packages (from requests->transformers) (2.0.7)\n",
            "Requirement already satisfied: certifi>=2017.4.17 in /usr/local/lib/python3.10/dist-packages (from requests->transformers) (2024.2.2)\n"
          ]
        }
      ],
      "source": [
        "pip install transformers"
      ]
    },
    {
      "cell_type": "code",
      "execution_count": null,
      "metadata": {
        "colab": {
          "base_uri": "https://localhost:8080/"
        },
        "id": "E825y86bjrhk",
        "outputId": "68d0aec6-1025-4e81-fee1-83f0a5207447"
      },
      "outputs": [
        {
          "output_type": "stream",
          "name": "stdout",
          "text": [
            "--2024-02-12 13:38:14--  https://korquad.github.io/dataset/KorQuAD_v1.0_train.json\n",
            "Resolving korquad.github.io (korquad.github.io)... 185.199.108.153, 185.199.109.153, 185.199.110.153, ...\n",
            "Connecting to korquad.github.io (korquad.github.io)|185.199.108.153|:443... connected.\n",
            "HTTP request sent, awaiting response... 200 OK\n",
            "Length: 38527475 (37M) [application/json]\n",
            "Saving to: ‘KorQuAD_v1.0_train.json’\n",
            "\n",
            "KorQuAD_v1.0_train. 100%[===================>]  36.74M  --.-KB/s    in 0.09s   \n",
            "\n",
            "2024-02-12 13:38:17 (429 MB/s) - ‘KorQuAD_v1.0_train.json’ saved [38527475/38527475]\n",
            "\n",
            "--2024-02-12 13:38:17--  https://korquad.github.io/dataset/KorQuAD_v1.0_dev.json\n",
            "Resolving korquad.github.io (korquad.github.io)... 185.199.108.153, 185.199.109.153, 185.199.110.153, ...\n",
            "Connecting to korquad.github.io (korquad.github.io)|185.199.108.153|:443... connected.\n",
            "HTTP request sent, awaiting response... 200 OK\n",
            "Length: 3881058 (3.7M) [application/json]\n",
            "Saving to: ‘KorQuAD_v1.0_dev.json’\n",
            "\n",
            "KorQuAD_v1.0_dev.js 100%[===================>]   3.70M  --.-KB/s    in 0.02s   \n",
            "\n",
            "2024-02-12 13:38:18 (231 MB/s) - ‘KorQuAD_v1.0_dev.json’ saved [3881058/3881058]\n",
            "\n"
          ]
        }
      ],
      "source": [
        "!wget https://korquad.github.io/dataset/KorQuAD_v1.0_train.json -O KorQuAD_v1.0_train.json\n",
        "!wget https://korquad.github.io/dataset/KorQuAD_v1.0_dev.json -O KorQuAD_v1.0_dev.json"
      ]
    },
    {
      "cell_type": "code",
      "execution_count": null,
      "metadata": {
        "id": "sUbbJaGVjyYz"
      },
      "outputs": [],
      "source": [
        "import os\n",
        "import json\n",
        "import numpy as np\n",
        "from tqdm import tqdm\n",
        "from pathlib import Path\n",
        "from transformers import BertTokenizerFast"
      ]
    },
    {
      "cell_type": "code",
      "execution_count": null,
      "metadata": {
        "id": "4jr575y8j7vb"
      },
      "outputs": [],
      "source": [
        "def read_squad(path):\n",
        "    path = Path(path)\n",
        "    with open(path, 'rb') as f:\n",
        "        squad_dict = json.load(f)\n",
        "\n",
        "    contexts = []\n",
        "    questions = []\n",
        "    answers = []\n",
        "    for group in squad_dict['data']:\n",
        "        for passage in group['paragraphs']:\n",
        "            context = passage['context']\n",
        "            for qa in passage['qas']:\n",
        "                question = qa['question']\n",
        "                for answer in qa['answers']:\n",
        "                    contexts.append(context)\n",
        "                    questions.append(question)\n",
        "                    answers.append(answer)\n",
        "\n",
        "    return contexts, questions, answers\n",
        "\n",
        "train_contexts, train_questions, train_answers = read_squad('KorQuAD_v1.0_train.json')\n",
        "val_contexts, val_questions, val_answers = read_squad('KorQuAD_v1.0_dev.json')"
      ]
    },
    {
      "cell_type": "code",
      "execution_count": null,
      "metadata": {
        "colab": {
          "base_uri": "https://localhost:8080/"
        },
        "id": "maMFzg6ukBtH",
        "outputId": "35e5158a-5172-4c49-936e-060a22e07472"
      },
      "outputs": [
        {
          "output_type": "stream",
          "name": "stdout",
          "text": [
            "훈련 데이터의 본문 개수 : 60407\n",
            "훈련 데이터의 질문 개수 : 60407\n",
            "훈련 데이터의 답변 개수 : 60407\n",
            "테스트 데이터의 본문 개수 : 5774\n",
            "테스트 데이터의 질문 개수 : 5774\n",
            "테스트 데이터의 답변 개수 : 5774\n"
          ]
        }
      ],
      "source": [
        "print('훈련 데이터의 본문 개수 :', len(train_contexts))\n",
        "print('훈련 데이터의 질문 개수 :', len(train_questions))\n",
        "print('훈련 데이터의 답변 개수 :', len(train_answers))\n",
        "print('테스트 데이터의 본문 개수 :', len(val_contexts))\n",
        "print('테스트 데이터의 질문 개수 :', len(val_questions))\n",
        "print('테스트 데이터의 답변 개수 :', len(val_answers))"
      ]
    },
    {
      "cell_type": "code",
      "execution_count": null,
      "metadata": {
        "colab": {
          "base_uri": "https://localhost:8080/"
        },
        "id": "ALWaWmqDkLuz",
        "outputId": "6b76a0a0-c5d3-4bc0-fcab-cf75a488051f"
      },
      "outputs": [
        {
          "output_type": "stream",
          "name": "stdout",
          "text": [
            "첫번째 샘플의 본문\n",
            "-----------------\n",
            "1839년 바그너는 괴테의 파우스트을 처음 읽고 그 내용에 마음이 끌려 이를 소재로 해서 하나의 교향곡을 쓰려는 뜻을 갖는다. 이 시기 바그너는 1838년에 빛 독촉으로 산전수전을 다 걲은 상황이라 좌절과 실망에 가득했으며 메피스토펠레스를 만나는 파우스트의 심경에 공감했다고 한다. 또한 파리에서 아브네크의 지휘로 파리 음악원 관현악단이 연주하는 베토벤의 교향곡 9번을 듣고 깊은 감명을 받았는데, 이것이 이듬해 1월에 파우스트의 서곡으로 쓰여진 이 작품에 조금이라도 영향을 끼쳤으리라는 것은 의심할 여지가 없다. 여기의 라단조 조성의 경우에도 그의 전기에 적혀 있는 것처럼 단순한 정신적 피로나 실의가 반영된 것이 아니라 베토벤의 합창교향곡 조성의 영향을 받은 것을 볼 수 있다. 그렇게 교향곡 작곡을 1839년부터 40년에 걸쳐 파리에서 착수했으나 1악장을 쓴 뒤에 중단했다. 또한 작품의 완성과 동시에 그는 이 서곡(1악장)을 파리 음악원의 연주회에서 연주할 파트보까지 준비하였으나, 실제로는 이루어지지는 않았다. 결국 초연은 4년 반이 지난 후에 드레스덴에서 연주되었고 재연도 이루어졌지만, 이후에 그대로 방치되고 말았다. 그 사이에 그는 리엔치와 방황하는 네덜란드인을 완성하고 탄호이저에도 착수하는 등 분주한 시간을 보냈는데, 그런 바쁜 생활이 이 곡을 잊게 한 것이 아닌가 하는 의견도 있다.\n"
          ]
        }
      ],
      "source": [
        "print('첫번째 샘플의 본문')\n",
        "print('-----------------')\n",
        "print(train_contexts[0])"
      ]
    },
    {
      "cell_type": "code",
      "execution_count": null,
      "metadata": {
        "colab": {
          "base_uri": "https://localhost:8080/"
        },
        "id": "bNAR6TkbkV4D",
        "outputId": "772ab775-a408-48e1-a083-6d22801ce3a2"
      },
      "outputs": [
        {
          "output_type": "stream",
          "name": "stdout",
          "text": [
            "첫번째 샘플의 질문\n",
            "-----------------\n",
            "바그너는 괴테의 파우스트를 읽고 무엇을 쓰고자 했는가?\n"
          ]
        }
      ],
      "source": [
        "print('첫번째 샘플의 질문')\n",
        "print('-----------------')\n",
        "print(train_questions[0])"
      ]
    },
    {
      "cell_type": "code",
      "execution_count": null,
      "metadata": {
        "colab": {
          "base_uri": "https://localhost:8080/"
        },
        "id": "d3Lab_wnkcEk",
        "outputId": "fa6a2d2e-3b36-4e04-c4d1-ed6d3d6c77cc"
      },
      "outputs": [
        {
          "output_type": "stream",
          "name": "stdout",
          "text": [
            "첫번째 샘플의 답변\n",
            "-----------------\n",
            "{'text': '교향곡', 'answer_start': 54}\n"
          ]
        }
      ],
      "source": [
        "print('첫번째 샘플의 답변')\n",
        "print('-----------------')\n",
        "print(train_answers[0])"
      ]
    },
    {
      "cell_type": "code",
      "execution_count": null,
      "metadata": {
        "id": "iFOAz29Ckgpj"
      },
      "outputs": [],
      "source": [
        "def add_end_idx(answers, contexts):\n",
        "    for answer, context in zip(answers, contexts):\n",
        "        # 뒤에 공백이 있다면 제거. ex)'1990년대 ' -> '1990년대'\n",
        "        answer['text'] = answer['text'].rstrip()\n",
        "\n",
        "        # 시작 인덱스에 정답의 길이를 더하여 종료 인덱스 계산\n",
        "        gold_text = answer['text']\n",
        "        start_idx = answer['answer_start']\n",
        "        end_idx = start_idx + len(gold_text)\n",
        "\n",
        "        assert context[start_idx:end_idx] == gold_text, \"end_index 계산에 에러가 있습니다.\"\n",
        "        answer['answer_end'] = end_idx\n",
        "\n",
        "add_end_idx(train_answers, train_contexts)\n",
        "add_end_idx(val_answers, val_contexts)"
      ]
    },
    {
      "cell_type": "code",
      "execution_count": null,
      "metadata": {
        "colab": {
          "base_uri": "https://localhost:8080/"
        },
        "id": "_YsASPfnuMx3",
        "outputId": "491a6b0a-cec5-4a51-bf0d-3f2605822ffe"
      },
      "outputs": [
        {
          "output_type": "stream",
          "name": "stdout",
          "text": [
            "첫번째 샘플의 답변\n",
            "-----------------\n",
            "{'text': '교향곡', 'answer_start': 54, 'answer_end': 57}\n"
          ]
        }
      ],
      "source": [
        "print('첫번째 샘플의 답변')\n",
        "print('-----------------')\n",
        "print(train_answers[0])"
      ]
    },
    {
      "cell_type": "code",
      "execution_count": null,
      "metadata": {
        "colab": {
          "base_uri": "https://localhost:8080/",
          "height": 35
        },
        "id": "wNV9Wp3zDRPI",
        "outputId": "198e3518-0d32-4bd5-a55e-b13634602772"
      },
      "outputs": [
        {
          "output_type": "execute_result",
          "data": {
            "text/plain": [
              "'교'"
            ],
            "application/vnd.google.colaboratory.intrinsic+json": {
              "type": "string"
            }
          },
          "metadata": {},
          "execution_count": 11
        }
      ],
      "source": [
        "train_contexts[0][54]"
      ]
    },
    {
      "cell_type": "code",
      "execution_count": null,
      "metadata": {
        "colab": {
          "base_uri": "https://localhost:8080/",
          "height": 35
        },
        "id": "6W72nVbmDUa5",
        "outputId": "0be24bbd-f825-4c46-e6d9-353a4adb51bb"
      },
      "outputs": [
        {
          "output_type": "execute_result",
          "data": {
            "text/plain": [
              "'향'"
            ],
            "application/vnd.google.colaboratory.intrinsic+json": {
              "type": "string"
            }
          },
          "metadata": {},
          "execution_count": 12
        }
      ],
      "source": [
        "train_contexts[0][55]"
      ]
    },
    {
      "cell_type": "code",
      "execution_count": null,
      "metadata": {
        "colab": {
          "base_uri": "https://localhost:8080/",
          "height": 35
        },
        "id": "IvHSPjTIDSDY",
        "outputId": "0599a97f-d541-4d1c-a927-5c038bf70d8a"
      },
      "outputs": [
        {
          "output_type": "execute_result",
          "data": {
            "text/plain": [
              "'곡'"
            ],
            "application/vnd.google.colaboratory.intrinsic+json": {
              "type": "string"
            }
          },
          "metadata": {},
          "execution_count": 13
        }
      ],
      "source": [
        "train_contexts[0][56]"
      ]
    },
    {
      "cell_type": "code",
      "execution_count": null,
      "metadata": {
        "colab": {
          "base_uri": "https://localhost:8080/",
          "height": 35
        },
        "id": "YpUdq0ZJlmzy",
        "outputId": "b203cfa8-6324-48d5-99a5-483dc90781c8"
      },
      "outputs": [
        {
          "output_type": "execute_result",
          "data": {
            "text/plain": [
              "'교향곡'"
            ],
            "application/vnd.google.colaboratory.intrinsic+json": {
              "type": "string"
            }
          },
          "metadata": {},
          "execution_count": 14
        }
      ],
      "source": [
        "train_contexts[0][54:57]"
      ]
    },
    {
      "cell_type": "code",
      "execution_count": null,
      "metadata": {
        "colab": {
          "base_uri": "https://localhost:8080/",
          "height": 307,
          "referenced_widgets": [
            "e4a297e1438f4fa9af257c0b78c194b5",
            "9a2b0df26e684ae2b53bf73c368287b2",
            "4e616d11e0ea47da987bb7f3f449f1df",
            "e90107a004fb4fdf96d4ba3e8f94ebc7",
            "1161f3b8499a499daeba6fe68c34dd14",
            "0b3a114399de43a29b5887cbd03788de",
            "5f0e8a19ae0a4bb9998528b382606cf6",
            "6e860a29856341ba83e4ade30c7eef95",
            "7a71b9886f2a4b58947bbab4da118bd2",
            "10c8824d4ffe4058a95a8167ea7b45df",
            "5b99bf8cc8d943b7a115099dd616b96a",
            "261642490afb45679957ce1868a3f50f",
            "9402f80249434c2484b916b17378983f",
            "88ad609aad524a14a1b3bea1c054ade0",
            "381dec383aa543209a8c4153c45a9d7d",
            "ed6c56b5adfe4afd8b59df6ccede3110",
            "68c899f5c29f42e5b142a77a2cdad03e",
            "89955778d6bd4acda80b0d2d3f3837d0",
            "a50b90fa29d3458b9798ecb38b64884b",
            "e43299880bb24935a4563e4edb0fd9c7",
            "f998f81fa4e048f68eefca2ce76be133",
            "4b0fe050e9ec4f7c9d0b70bb90be0c99",
            "f6c2d82cf1dd4783884a194033d3a580",
            "4e279836744245ceb94c82fa193460ee",
            "01b7ccb0e04a42bc8fffda022c9cbd42",
            "62a11e1509884aaab484f7c06705ec31",
            "ccf464b1e1b649298206967484254d2d",
            "62a911fca5b84c0cb6956ace0f14c24f",
            "f0e1712d3aad4844aa24d72701b238b5",
            "5778764f4fff4bdfa6fde4f686244f39",
            "1cdbc7b6067a4e31a7af15adedc6f5e9",
            "9c2b44654cb94bfc8010eff6c30e0fa8",
            "b7c47219d18e4df19b7e8fe16680e104",
            "26442cb09e8b4549b3d7aaf3522c7c86",
            "2adb2311c0924528b2d4cc3e352dbac8",
            "f1fd76ad088e432b989bc54bc0d1d590",
            "e3c6edce3270484db524eed682960046",
            "084004b34d0445ef83add3f243fa9f1b",
            "7bf9148aa82a42c8be08a06b114f3e97",
            "691e8b56cfed45669c328c15ba7744c3",
            "0405723a50b54aea8d4289cb3185aba6",
            "ac126b8e0bf94d17b11583882dfd9a5b",
            "0c4cc235d0744d7a827d5a2ff48dcb9b",
            "22523befca344dc7ba2cefb5c29d5a31",
            "0409be57c2c84d6d8fae74d5d01d8561",
            "6734945dc197416f9cb4d88ed4b702db",
            "081684d2ad74439da239daebca4f4727",
            "941ac23ba1584cd69805297a41b0c0d3",
            "3845796fc1234b9eb10e98f366c815d6",
            "1945d565374440ef96e4bc570dee524b",
            "86d6215c098449a2a3d21b483f48e2de",
            "b1226458bf304ff497d50c1beb72b351",
            "7b4119c0a85942faad1ec5901b10ebe5",
            "a6a82b43451f4570ab78b23e37255ecb",
            "6693bd8bd67e4b5da28cd1f8b1244b8f"
          ]
        },
        "id": "t8r9Dg5wlwRY",
        "outputId": "41b82d39-4e4c-4218-9785-a4f126eb405b"
      },
      "outputs": [
        {
          "output_type": "stream",
          "name": "stderr",
          "text": [
            "/usr/local/lib/python3.10/dist-packages/huggingface_hub/utils/_token.py:88: UserWarning: \n",
            "The secret `HF_TOKEN` does not exist in your Colab secrets.\n",
            "To authenticate with the Hugging Face Hub, create a token in your settings tab (https://huggingface.co/settings/tokens), set it as secret in your Google Colab and restart your session.\n",
            "You will be able to reuse this secret in all of your notebooks.\n",
            "Please note that authentication is recommended but still optional to access public models or datasets.\n",
            "  warnings.warn(\n"
          ]
        },
        {
          "output_type": "display_data",
          "data": {
            "text/plain": [
              "tokenizer_config.json:   0%|          | 0.00/289 [00:00<?, ?B/s]"
            ],
            "application/vnd.jupyter.widget-view+json": {
              "version_major": 2,
              "version_minor": 0,
              "model_id": "e4a297e1438f4fa9af257c0b78c194b5"
            }
          },
          "metadata": {}
        },
        {
          "output_type": "display_data",
          "data": {
            "text/plain": [
              "vocab.txt:   0%|          | 0.00/248k [00:00<?, ?B/s]"
            ],
            "application/vnd.jupyter.widget-view+json": {
              "version_major": 2,
              "version_minor": 0,
              "model_id": "261642490afb45679957ce1868a3f50f"
            }
          },
          "metadata": {}
        },
        {
          "output_type": "display_data",
          "data": {
            "text/plain": [
              "tokenizer.json:   0%|          | 0.00/495k [00:00<?, ?B/s]"
            ],
            "application/vnd.jupyter.widget-view+json": {
              "version_major": 2,
              "version_minor": 0,
              "model_id": "f6c2d82cf1dd4783884a194033d3a580"
            }
          },
          "metadata": {}
        },
        {
          "output_type": "display_data",
          "data": {
            "text/plain": [
              "special_tokens_map.json:   0%|          | 0.00/125 [00:00<?, ?B/s]"
            ],
            "application/vnd.jupyter.widget-view+json": {
              "version_major": 2,
              "version_minor": 0,
              "model_id": "26442cb09e8b4549b3d7aaf3522c7c86"
            }
          },
          "metadata": {}
        },
        {
          "output_type": "display_data",
          "data": {
            "text/plain": [
              "config.json:   0%|          | 0.00/425 [00:00<?, ?B/s]"
            ],
            "application/vnd.jupyter.widget-view+json": {
              "version_major": 2,
              "version_minor": 0,
              "model_id": "0409be57c2c84d6d8fae74d5d01d8561"
            }
          },
          "metadata": {}
        }
      ],
      "source": [
        "tokenizer = BertTokenizerFast.from_pretrained('klue/bert-base')\n",
        "\n",
        "train_encodings = tokenizer(train_contexts, train_questions, truncation=True, padding=True, max_length=256)\n",
        "val_encodings = tokenizer(val_contexts, val_questions, truncation=True, padding=True, max_length=256)"
      ]
    },
    {
      "cell_type": "code",
      "execution_count": null,
      "metadata": {
        "colab": {
          "base_uri": "https://localhost:8080/"
        },
        "id": "575w0KRVEFVL",
        "outputId": "e1214cef-9a0c-4e60-9bc1-623f270ce22a"
      },
      "outputs": [
        {
          "output_type": "execute_result",
          "data": {
            "text/plain": [
              "Encoding(num_tokens=256, attributes=[ids, type_ids, tokens, offsets, attention_mask, special_tokens_mask, overflowing])"
            ]
          },
          "metadata": {},
          "execution_count": 16
        }
      ],
      "source": [
        "train_encodings[0]"
      ]
    },
    {
      "cell_type": "code",
      "source": [
        "print(train_encodings[0].ids)"
      ],
      "metadata": {
        "colab": {
          "base_uri": "https://localhost:8080/"
        },
        "id": "VQ4K9gktasdq",
        "outputId": "e2e153c3-ac97-4020-d2ea-a7618396d93e"
      },
      "execution_count": null,
      "outputs": [
        {
          "output_type": "stream",
          "name": "stdout",
          "text": [
            "[2, 13934, 2236, 2440, 27982, 2259, 21310, 2079, 11994, 3791, 2069, 3790, 1508, 2088, 636, 3800, 2170, 3717, 2052, 9001, 8345, 4642, 2200, 3689, 3657, 2079, 19282, 2069, 1363, 2370, 2259, 936, 2069, 554, 2259, 2062, 18, 1504, 4342, 27982, 2259, 13934, 2196, 2440, 2170, 1195, 23260, 6233, 17370, 2113, 2165, 2069, 809, 1, 3706, 2052, 2181, 8642, 2145, 7334, 2170, 4983, 2371, 4007, 1065, 5917, 2386, 2559, 4443, 2138, 4026, 2259, 11994, 3791, 2079, 15864, 2170, 5487, 2371, 4683, 3605, 18, 3819, 5986, 27135, 1376, 2645, 2203, 2292, 2079, 5872, 2200, 5986, 4152, 2252, 22835, 16706, 2052, 5485, 2205, 2259, 17087, 2079, 19282, 29, 2517, 2069, 881, 2088, 652, 2073, 23404, 2069, 1122, 2886, 13964, 16, 3982, 2052, 9944, 21, 2429, 2170, 11994, 3791, 2079, 1258, 2465, 6233, 24294, 1504, 3967, 2170, 4027, 2052, 5121, 3979, 2069, 18274, 21575, 23548, 575, 2073, 5292, 2085, 7251, 2116, 1415, 2062, 18, 3776, 2079, 942, 2286, 2446, 4196, 2079, 3640, 6509, 636, 2079, 4450, 2170, 10329, 1513, 2259, 575, 7925, 4488, 2470, 4006, 2125, 7874, 2075, 1329, 2079, 2116, 4523, 2897, 575, 2052, 3614, 2181, 17087, 2079, 10044, 2120, 2482, 2465, 4196, 2079, 3979, 2069, 1122, 2073, 575, 2069, 1164, 1295, 1513, 2062, 18, 3914, 19282, 8067, 2069, 13934, 2236, 2440, 3797, 4064, 2440, 2170, 5314, 5986, 27135, 7615, 2371, 4381, 21, 2376, 2121, 2069, 1365, 873, 2170, 4967, 2371, 2062, 18, 3819, 3967, 2079, 4976, 2145, 4213, 3, 27982, 2259, 21310, 2079, 11994, 3791, 2138, 1508, 2088, 3890, 2069, 1363, 2088, 2155, 1902, 2259, 2116, 35, 3]\n"
          ]
        }
      ]
    },
    {
      "cell_type": "code",
      "source": [
        "print(train_encodings[0].tokens)"
      ],
      "metadata": {
        "colab": {
          "base_uri": "https://localhost:8080/"
        },
        "id": "vzIaxBHuauZX",
        "outputId": "d423f8fe-0dec-4bb5-e25b-64ba9429f05e"
      },
      "execution_count": null,
      "outputs": [
        {
          "output_type": "stream",
          "name": "stdout",
          "text": [
            "['[CLS]', '183', '##9', '##년', '바그너', '##는', '괴테', '##의', '파우', '##스트', '##을', '처음', '읽', '##고', '그', '내용', '##에', '마음', '##이', '끌려', '이를', '소재', '##로', '해서', '하나', '##의', '교향곡', '##을', '쓰', '##려', '##는', '뜻', '##을', '갖', '##는', '##다', '.', '이', '시기', '바그너', '##는', '183', '##8', '##년', '##에', '빛', '독촉', '##으로', '산전', '##수', '##전', '##을', '다', '[UNK]', '상황', '##이', '##라', '좌절', '##과', '실망', '##에', '가득', '##했', '##으며', '메', '##피스', '##토', '##펠', '##레스', '##를', '만나', '##는', '파우', '##스트', '##의', '심경', '##에', '공감', '##했', '##다고', '한다', '.', '또한', '파리', '##에서', '아', '##브', '##네', '##크', '##의', '지휘', '##로', '파리', '음악', '##원', '관현', '##악단', '##이', '연주', '##하', '##는', '베토벤', '##의', '교향곡', '9', '##번', '##을', '듣', '##고', '깊', '##은', '감명', '##을', '받', '##았', '##는데', ',', '이것', '##이', '이듬해', '1', '##월', '##에', '파우', '##스트', '##의', '서', '##곡', '##으로', '쓰여진', '이', '작품', '##에', '조금', '##이', '##라도', '영향', '##을', '끼쳤', '##으리', '##라는', '것', '##은', '의심', '##할', '여지', '##가', '없', '##다', '.', '여기', '##의', '라', '##단', '##조', '조성', '##의', '경우', '##에도', '그', '##의', '전기', '##에', '적혀', '있', '##는', '것', '##처럼', '단순', '##한', '정신', '##적', '피로', '##나', '실', '##의', '##가', '반영', '##된', '것', '##이', '아니', '##라', '베토벤', '##의', '합창', '##교', '##향', '##곡', '조성', '##의', '영향', '##을', '받', '##은', '것', '##을', '볼', '수', '있', '##다', '.', '그렇게', '교향곡', '작곡', '##을', '183', '##9', '##년', '##부터', '40', '##년', '##에', '걸쳐', '파리', '##에서', '착수', '##했', '##으나', '1', '##악', '##장', '##을', '쓴', '뒤', '##에', '중단', '##했', '##다', '.', '또한', '작품', '##의', '완성', '##과', '동시', '[SEP]', '바그너', '##는', '괴테', '##의', '파우', '##스트', '##를', '읽', '##고', '무엇', '##을', '쓰', '##고', '##자', '했', '##는', '##가', '?', '[SEP]']\n"
          ]
        }
      ]
    },
    {
      "cell_type": "code",
      "source": [
        "print(train_encodings[0].type_ids)"
      ],
      "metadata": {
        "colab": {
          "base_uri": "https://localhost:8080/"
        },
        "id": "H6C2-bswa-1B",
        "outputId": "49da0fdd-69f2-401e-cb9a-5e1b36d90d98"
      },
      "execution_count": null,
      "outputs": [
        {
          "output_type": "stream",
          "name": "stdout",
          "text": [
            "[0, 0, 0, 0, 0, 0, 0, 0, 0, 0, 0, 0, 0, 0, 0, 0, 0, 0, 0, 0, 0, 0, 0, 0, 0, 0, 0, 0, 0, 0, 0, 0, 0, 0, 0, 0, 0, 0, 0, 0, 0, 0, 0, 0, 0, 0, 0, 0, 0, 0, 0, 0, 0, 0, 0, 0, 0, 0, 0, 0, 0, 0, 0, 0, 0, 0, 0, 0, 0, 0, 0, 0, 0, 0, 0, 0, 0, 0, 0, 0, 0, 0, 0, 0, 0, 0, 0, 0, 0, 0, 0, 0, 0, 0, 0, 0, 0, 0, 0, 0, 0, 0, 0, 0, 0, 0, 0, 0, 0, 0, 0, 0, 0, 0, 0, 0, 0, 0, 0, 0, 0, 0, 0, 0, 0, 0, 0, 0, 0, 0, 0, 0, 0, 0, 0, 0, 0, 0, 0, 0, 0, 0, 0, 0, 0, 0, 0, 0, 0, 0, 0, 0, 0, 0, 0, 0, 0, 0, 0, 0, 0, 0, 0, 0, 0, 0, 0, 0, 0, 0, 0, 0, 0, 0, 0, 0, 0, 0, 0, 0, 0, 0, 0, 0, 0, 0, 0, 0, 0, 0, 0, 0, 0, 0, 0, 0, 0, 0, 0, 0, 0, 0, 0, 0, 0, 0, 0, 0, 0, 0, 0, 0, 0, 0, 0, 0, 0, 0, 0, 0, 0, 0, 0, 0, 0, 0, 0, 0, 0, 0, 0, 0, 0, 0, 0, 0, 0, 1, 1, 1, 1, 1, 1, 1, 1, 1, 1, 1, 1, 1, 1, 1, 1, 1, 1, 1]\n"
          ]
        }
      ]
    },
    {
      "cell_type": "code",
      "source": [
        "print(train_encodings[0].attention_mask)"
      ],
      "metadata": {
        "colab": {
          "base_uri": "https://localhost:8080/"
        },
        "id": "IrOiv0PGa8Vx",
        "outputId": "6e473779-72af-4605-d785-f6254d9d4f45"
      },
      "execution_count": null,
      "outputs": [
        {
          "output_type": "stream",
          "name": "stdout",
          "text": [
            "[1, 1, 1, 1, 1, 1, 1, 1, 1, 1, 1, 1, 1, 1, 1, 1, 1, 1, 1, 1, 1, 1, 1, 1, 1, 1, 1, 1, 1, 1, 1, 1, 1, 1, 1, 1, 1, 1, 1, 1, 1, 1, 1, 1, 1, 1, 1, 1, 1, 1, 1, 1, 1, 1, 1, 1, 1, 1, 1, 1, 1, 1, 1, 1, 1, 1, 1, 1, 1, 1, 1, 1, 1, 1, 1, 1, 1, 1, 1, 1, 1, 1, 1, 1, 1, 1, 1, 1, 1, 1, 1, 1, 1, 1, 1, 1, 1, 1, 1, 1, 1, 1, 1, 1, 1, 1, 1, 1, 1, 1, 1, 1, 1, 1, 1, 1, 1, 1, 1, 1, 1, 1, 1, 1, 1, 1, 1, 1, 1, 1, 1, 1, 1, 1, 1, 1, 1, 1, 1, 1, 1, 1, 1, 1, 1, 1, 1, 1, 1, 1, 1, 1, 1, 1, 1, 1, 1, 1, 1, 1, 1, 1, 1, 1, 1, 1, 1, 1, 1, 1, 1, 1, 1, 1, 1, 1, 1, 1, 1, 1, 1, 1, 1, 1, 1, 1, 1, 1, 1, 1, 1, 1, 1, 1, 1, 1, 1, 1, 1, 1, 1, 1, 1, 1, 1, 1, 1, 1, 1, 1, 1, 1, 1, 1, 1, 1, 1, 1, 1, 1, 1, 1, 1, 1, 1, 1, 1, 1, 1, 1, 1, 1, 1, 1, 1, 1, 1, 1, 1, 1, 1, 1, 1, 1, 1, 1, 1, 1, 1, 1, 1, 1, 1, 1, 1, 1]\n"
          ]
        }
      ]
    },
    {
      "cell_type": "code",
      "execution_count": null,
      "metadata": {
        "id": "CBi_gkfJmz8a"
      },
      "outputs": [],
      "source": [
        "def add_token_positions(encodings, answers):\n",
        "    start_positions = []\n",
        "    end_positions = []\n",
        "    deleting_list = []\n",
        "\n",
        "    for i in tqdm(range(len(answers))):\n",
        "        # 토큰화 전 문자의 인덱스(start, end)로부터 토큰화한 후의 문자의 인덱스(start, end)를 찾아냄.\n",
        "        start_positions.append(encodings.char_to_token(i, answers[i]['answer_start']))\n",
        "        end_positions.append(encodings.char_to_token(i, answers[i]['answer_end'] - 1))\n",
        "\n",
        "        # 시작 인덱스가 비정상인 경우. 즉, 본문에 정답이 없는 경우\n",
        "        if start_positions[-1] is None:\n",
        "            start_positions[-1] = tokenizer.model_max_length\n",
        "            deleting_list.append(i)\n",
        "\n",
        "        # 종료 인덱스가 비정상인 경우. 즉, 본문에 정답이 없는 경우\n",
        "        if end_positions[-1] is None:\n",
        "            end_positions[-1] = tokenizer.model_max_length\n",
        "            if i not in deleting_list:\n",
        "              deleting_list.append(i)\n",
        "\n",
        "    encodings.update({'start_positions': start_positions, 'end_positions': end_positions})\n",
        "    return deleting_list"
      ]
    },
    {
      "cell_type": "code",
      "execution_count": null,
      "metadata": {
        "colab": {
          "base_uri": "https://localhost:8080/"
        },
        "id": "1jTSl_b-nKrK",
        "outputId": "321923b6-240e-472f-a463-1a54c1f02995"
      },
      "outputs": [
        {
          "output_type": "stream",
          "name": "stderr",
          "text": [
            "100%|██████████| 60407/60407 [00:00<00:00, 180836.37it/s]\n",
            "100%|██████████| 5774/5774 [00:00<00:00, 350669.13it/s]\n"
          ]
        }
      ],
      "source": [
        "deleting_list_for_train = add_token_positions(train_encodings, train_answers)\n",
        "deleting_list_for_test = add_token_positions(val_encodings, val_answers)"
      ]
    },
    {
      "cell_type": "code",
      "source": [
        "print('삭제 예정인 훈련 샘플 :', deleting_list_for_train)\n",
        "print('삭제 예정인 테스트 샘플 :', deleting_list_for_test)"
      ],
      "metadata": {
        "colab": {
          "base_uri": "https://localhost:8080/"
        },
        "id": "b01jB1gYtwtw",
        "outputId": "35d6eaba-c239-4f40-d17b-5bd8f6d5c0f5"
      },
      "execution_count": null,
      "outputs": [
        {
          "output_type": "stream",
          "name": "stdout",
          "text": [
            "삭제 예정인 훈련 샘플 : [7, 41, 80, 82, 84, 85, 91, 112, 113, 116, 146, 159, 186, 211, 224, 225, 232, 239, 241, 312, 315, 317, 357, 362, 366, 369, 373, 375, 376, 383, 393, 397, 441, 460, 463, 485, 493, 497, 498, 504, 538, 632, 635, 652, 653, 655, 688, 690, 710, 711, 722, 726, 727, 728, 729, 731, 742, 745, 746, 748, 749, 750, 757, 758, 761, 765, 767, 768, 784, 785, 786, 796, 799, 805, 822, 823, 824, 825, 826, 828, 829, 833, 839, 840, 842, 844, 846, 849, 872, 895, 918, 919, 921, 922, 926, 973, 990, 1013, 1014, 1017, 1020, 1037, 1040, 1049, 1051, 1055, 1058, 1064, 1066, 1067, 1073, 1105, 1121, 1165, 1168, 1170, 1171, 1174, 1178, 1196, 1197, 1202, 1208, 1217, 1218, 1219, 1221, 1226, 1229, 1231, 1251, 1253, 1255, 1268, 1299, 1301, 1315, 1318, 1320, 1323, 1345, 1350, 1352, 1355, 1376, 1378, 1379, 1380, 1381, 1383, 1386, 1394, 1395, 1399, 1402, 1405, 1439, 1443, 1467, 1468, 1469, 1543, 1553, 1556, 1557, 1558, 1560, 1561, 1580, 1584, 1608, 1613, 1630, 1654, 1656, 1659, 1661, 1664, 1690, 1694, 1696, 1729, 1735, 1764, 1771, 1772, 1775, 1778, 1782, 1797, 1832, 1833, 1834, 1835, 1844, 1856, 1870, 1871, 1885, 1947, 1952, 1960, 1965, 1975, 1981, 2033, 2077, 2084, 2089, 2096, 2105, 2124, 2147, 2175, 2214, 2250, 2255, 2258, 2319, 2325, 2408, 2416, 2460, 2462, 2523, 2526, 2529, 2535, 2586, 2587, 2588, 2592, 2634, 2635, 2680, 2697, 2698, 2701, 2707, 2709, 2713, 2715, 2722, 2723, 2724, 2725, 2728, 2729, 2730, 2731, 2774, 2775, 2776, 2893, 2909, 2910, 2912, 2937, 2956, 2961, 2964, 2967, 3042, 3134, 3148, 3149, 3226, 3240, 3243, 3248, 3251, 3299, 3375, 3378, 3392, 3394, 3396, 3440, 3443, 3444, 3447, 3462, 3464, 3465, 3466, 3470, 3474, 3475, 3478, 3481, 3482, 3485, 3487, 3488, 3490, 3491, 3492, 3495, 3498, 3499, 3505, 3509, 3511, 3512, 3513, 3515, 3550, 3554, 3558, 3561, 3562, 3564, 3565, 3573, 3577, 3604, 3612, 3614, 3658, 3660, 3661, 3662, 3663, 3673, 3676, 3692, 3699, 3701, 3704, 3730, 3736, 3739, 3742, 3780, 3783, 3792, 3798, 3805, 3807, 3808, 3810, 3812, 3819, 3822, 3830, 3831, 3832, 3833, 3845, 3850, 3898, 3910, 3913, 3915, 3916, 3919, 3920, 3931, 3954, 3955, 3983, 4008, 4011, 4066, 4068, 4069, 4070, 4084, 4085, 4099, 4108, 4117, 4119, 4129, 4145, 4146, 4147, 4149, 4185, 4191, 4203, 4205, 4206, 4226, 4229, 4295, 4297, 4300, 4337, 4340, 4343, 4347, 4368, 4370, 4373, 4374, 4375, 4378, 4381, 4385, 4408, 4410, 4413, 4430, 4451, 4457, 4462, 4465, 4468, 4470, 4472, 4474, 4478, 4485, 4487, 4489, 4491, 4494, 4502, 4504, 4506, 4508, 4513, 4515, 4517, 4518, 4519, 4520, 4524, 4525, 4526, 4527, 4530, 4532, 4534, 4536, 4537, 4556, 4559, 4561, 4562, 4564, 4565, 4573, 4575, 4605, 4607, 4654, 4655, 4656, 4657, 4658, 4702, 4705, 4715, 4722, 4728, 4729, 4731, 4738, 4739, 4743, 4746, 4747, 4748, 4749, 4750, 4754, 4757, 4762, 4765, 4766, 4771, 4772, 4773, 4774, 4775, 4778, 4779, 4781, 4783, 4785, 4789, 4813, 4815, 4816, 4820, 4829, 4831, 4860, 4912, 4918, 4944, 4947, 4950, 4952, 4956, 4972, 4981, 5212, 5277, 5283, 5301, 5302, 5334, 5336, 5337, 5363, 5364, 5406, 5408, 5411, 5465, 5483, 5505, 5565, 5592, 5619, 5621, 5623, 5660, 5678, 5680, 5682, 5683, 5684, 5715, 5772, 5776, 5797, 5801, 5808, 5809, 5810, 5812, 5814, 5815, 5818, 5819, 5839, 5842, 5860, 5869, 5870, 5872, 5893, 5895, 5896, 5898, 5899, 5902, 5903, 5909, 5945, 5948, 5975, 5982, 5983, 5984, 5985, 6043, 6076, 6134, 6137, 6138, 6209, 6292, 6311, 6316, 6324, 6330, 6331, 6332, 6334, 6335, 6367, 6396, 6398, 6399, 6466, 6468, 6472, 6510, 6513, 6514, 6520, 6522, 6526, 6529, 6531, 6532, 6541, 6544, 6576, 6597, 6600, 6603, 6611, 6612, 6614, 6615, 6617, 6618, 6621, 6636, 6638, 6639, 6640, 6651, 6653, 6681, 6692, 6709, 6721, 6730, 6748, 6749, 6750, 6752, 6753, 6763, 6765, 6766, 6767, 6770, 6771, 6773, 6774, 6776, 6797, 6800, 6815, 6816, 6820, 6834, 6850, 6855, 6857, 6860, 6864, 6884, 6893, 6897, 6898, 6900, 6906, 6970, 6974, 6985, 6986, 7030, 7037, 7038, 7053, 7068, 7069, 7071, 7072, 7073, 7081, 7082, 7111, 7112, 7113, 7117, 7135, 7143, 7144, 7149, 7151, 7172, 7177, 7192, 7194, 7214, 7216, 7217, 7220, 7222, 7224, 7225, 7227, 7235, 7236, 7238, 7240, 7241, 7243, 7249, 7250, 7253, 7256, 7283, 7292, 7296, 7307, 7308, 7311, 7314, 7323, 7337, 7343, 7344, 7346, 7348, 7349, 7362, 7367, 7381, 7384, 7416, 7418, 7420, 7424, 7427, 7431, 7432, 7439, 7448, 7451, 7468, 7469, 7471, 7476, 7489, 7491, 7493, 7497, 7499, 7501, 7503, 7509, 7510, 7512, 7513, 7534, 7537, 7539, 7540, 7543, 7546, 7583, 7587, 7588, 7589, 7592, 7597, 7601, 7603, 7629, 7641, 7649, 7654, 7660, 7662, 7663, 7665, 7674, 7676, 7679, 7682, 7686, 7687, 7690, 7692, 7698, 7699, 7702, 7704, 7718, 7720, 7724, 7729, 7733, 7738, 7739, 7740, 7741, 7744, 7746, 7753, 7780, 7781, 7783, 7784, 7785, 7787, 7789, 7793, 7797, 7802, 7810, 7814, 7816, 7819, 7828, 7848, 7850, 7852, 7853, 7860, 7863, 7866, 7910, 7911, 7915, 7916, 7917, 7921, 7925, 7936, 7941, 7943, 7944, 7956, 7957, 7959, 7961, 7962, 7965, 7966, 7976, 7978, 7999, 8002, 8037, 8046, 8049, 8096, 8099, 8100, 8105, 8109, 8111, 8131, 8132, 8134, 8136, 8137, 8171, 8174, 8197, 8198, 8200, 8204, 8230, 8239, 8251, 8265, 8286, 8290, 8320, 8321, 8324, 8326, 8328, 8338, 8351, 8354, 8355, 8357, 8359, 8379, 8382, 8425, 8428, 8432, 8436, 8438, 8440, 8492, 8499, 8502, 8504, 8506, 8507, 8509, 8510, 8562, 8564, 8588, 8592, 8595, 8613, 8648, 8652, 8658, 8668, 8670, 8693, 8697, 8700, 8707, 8713, 8764, 8767, 8769, 8770, 8772, 8775, 8778, 8790, 8822, 8825, 8828, 8830, 8832, 8834, 8835, 8865, 8867, 8868, 8870, 8871, 8885, 8892, 8894, 8897, 8926, 8934, 8935, 8938, 8969, 8970, 8976, 9004, 9012, 9020, 9023, 9066, 9089, 9091, 9092, 9094, 9096, 9097, 9117, 9118, 9140, 9141, 9142, 9154, 9156, 9165, 9170, 9172, 9203, 9206, 9210, 9211, 9214, 9216, 9217, 9219, 9220, 9221, 9228, 9231, 9254, 9256, 9311, 9315, 9411, 9443, 9445, 9446, 9474, 9479, 9488, 9522, 9602, 9608, 9619, 9620, 9635, 9636, 9639, 9640, 9641, 9642, 9647, 9653, 9655, 9657, 9658, 9660, 9668, 9697, 9703, 9704, 9718, 9720, 9743, 9759, 9774, 9775, 9779, 9780, 9788, 9790, 9791, 9858, 9859, 9868, 9870, 9872, 9913, 9950, 9973, 9979, 10010, 10043, 10049, 10051, 10055, 10086, 10150, 10152, 10155, 10200, 10255, 10319, 10322, 10387, 10393, 10402, 10408, 10411, 10414, 10416, 10419, 10427, 10444, 10445, 10446, 10448, 10449, 10452, 10476, 10478, 10483, 10484, 10493, 10494, 10495, 10496, 10498, 10499, 10511, 10514, 10519, 10525, 10532, 10534, 10537, 10539, 10591, 10600, 10610, 10653, 10662, 10664, 10677, 10683, 10697, 10699, 10702, 10711, 10712, 10719, 10721, 10723, 10725, 10728, 10731, 10767, 10773, 10784, 10792, 10813, 10815, 10837, 10838, 10839, 10854, 10860, 10872, 10874, 10880, 10888, 10910, 10912, 10914, 10915, 10917, 10919, 10949, 10951, 10954, 10972, 10974, 10992, 11002, 11005, 11016, 11018, 11037, 11039, 11041, 11044, 11045, 11048, 11081, 11097, 11134, 11137, 11176, 11181, 11202, 11207, 11211, 11212, 11230, 11232, 11233, 11239, 11248, 11250, 11257, 11284, 11286, 11311, 11333, 11334, 11368, 11370, 11373, 11390, 11418, 11447, 11448, 11451, 11461, 11498, 11501, 11646, 11726, 11727, 11729, 11768, 11773, 11774, 11775, 11776, 11777, 11778, 11781, 11788, 11789, 11791, 11797, 11920, 11985, 11986, 11999, 12004, 12015, 12019, 12021, 12022, 12024, 12026, 12030, 12031, 12032, 12034, 12055, 12057, 12061, 12062, 12063, 12068, 12091, 12106, 12108, 12112, 12125, 12127, 12128, 12138, 12139, 12140, 12150, 12151, 12155, 12157, 12160, 12168, 12169, 12184, 12213, 12214, 12250, 12278, 12282, 12288, 12298, 12299, 12304, 12324, 12326, 12329, 12356, 12359, 12362, 12363, 12390, 12392, 12393, 12394, 12395, 12419, 12420, 12424, 12425, 12505, 12535, 12544, 12545, 12576, 12597, 12643, 12648, 12683, 12716, 12720, 12724, 12726, 12750, 12752, 12758, 12775, 12792, 12798, 12807, 12808, 12819, 12823, 12826, 12827, 12831, 12851, 12871, 12872, 12873, 12875, 12877, 12883, 12942, 12945, 12947, 12948, 12949, 12950, 12951, 12959, 12961, 13012, 13051, 13072, 13084, 13118, 13178, 13184, 13230, 13241, 13245, 13275, 13366, 13386, 13387, 13389, 13390, 13410, 13422, 13423, 13424, 13429, 13432, 13440, 13452, 13454, 13461, 13462, 13463, 13481, 13482, 13484, 13504, 13542, 13606, 13608, 13667, 13680, 13699, 13702, 13704, 13706, 13708, 13709, 13710, 13711, 13750, 13756, 13779, 13847, 13889, 13913, 13943, 13947, 13972, 13996, 14013, 14014, 14017, 14019, 14022, 14025, 14027, 14030, 14047, 14051, 14075, 14078, 14079, 14082, 14085, 14086, 14135, 14142, 14147, 14149, 14152, 14172, 14173, 14178, 14204, 14231, 14339, 14352, 14358, 14363, 14371, 14374, 14418, 14426, 14444, 14447, 14448, 14450, 14452, 14454, 14455, 14458, 14460, 14461, 14475, 14477, 14479, 14481, 14482, 14483, 14485, 14487, 14488, 14490, 14491, 14501, 14541, 14543, 14545, 14559, 14561, 14563, 14571, 14576, 14614, 14615, 14618, 14638, 14640, 14642, 14659, 14663, 14664, 14670, 14674, 14716, 14721, 14724, 14729, 14733, 14768, 14769, 14771, 14773, 14774, 14777, 14803, 14806, 14812, 14815, 14825, 14829, 14831, 14839, 14852, 14871, 14872, 14874, 14877, 14879, 14880, 14883, 14884, 14885, 14944, 14961, 14962, 14964, 14965, 14966, 15006, 15011, 15023, 15026, 15034, 15035, 15066, 15067, 15082, 15111, 15150, 15160, 15181, 15203, 15233, 15237, 15270, 15273, 15275, 15286, 15287, 15290, 15332, 15353, 15359, 15363, 15374, 15387, 15392, 15406, 15407, 15410, 15413, 15416, 15460, 15471, 15498, 15500, 15503, 15507, 15508, 15562, 15563, 15564, 15598, 15599, 15601, 15603, 15610, 15624, 15636, 15637, 15665, 15666, 15674, 15687, 15696, 15697, 15699, 15737, 15739, 15757, 15764, 15770, 15776, 15793, 15797, 15800, 15871, 15918, 15920, 15922, 15935, 15950, 15952, 15954, 15957, 15959, 15962, 15970, 15971, 15973, 15974, 15976, 15977, 15979, 15980, 15982, 15985, 15986, 15987, 15989, 15991, 15992, 15993, 15995, 15997, 16026, 16027, 16029, 16031, 16075, 16077, 16080, 16082, 16085, 16089, 16090, 16102, 16103, 16161, 16192, 16193, 16197, 16199, 16201, 16280, 16282, 16287, 16293, 16294, 16356, 16394, 16397, 16412, 16421, 16470, 16537, 16597, 16599, 16601, 16608, 16610, 16618, 16630, 16636, 16662, 16740, 16745, 16798, 16800, 16803, 16837, 16839, 16841, 16842, 16850, 16858, 16869, 16872, 16880, 16883, 16937, 16966, 16967, 16968, 16990, 16991, 16994, 17000, 17017, 17020, 17038, 17092, 17102, 17105, 17117, 17121, 17132, 17137, 17140, 17161, 17164, 17174, 17175, 17177, 17180, 17182, 17185, 17186, 17189, 17191, 17192, 17194, 17223, 17226, 17230, 17239, 17242, 17251, 17254, 17259, 17263, 17266, 17280, 17281, 17282, 17283, 17290, 17291, 17293, 17313, 17316, 17335, 17337, 17338, 17348, 17351, 17356, 17359, 17366, 17368, 17369, 17394, 17397, 17399, 17402, 17406, 17411, 17431, 17432, 17433, 17444, 17457, 17458, 17461, 17466, 17478, 17480, 17481, 17482, 17555, 17571, 17576, 17588, 17591, 17606, 17610, 17657, 17667, 17681, 17683, 17704, 17745, 17747, 17764, 17767, 17777, 17808, 17813, 17815, 17818, 17819, 17820, 17823, 17828, 17833, 17852, 17862, 17877, 17883, 17885, 17886, 17891, 17893, 17894, 17897, 17901, 17912, 17914, 17915, 17918, 17921, 17932, 17935, 17941, 17942, 17947, 17954, 17957, 17973, 17980, 17981, 17983, 17984, 18009, 18011, 18044, 18047, 18050, 18080, 18083, 18088, 18089, 18093, 18095, 18101, 18111, 18112, 18114, 18115, 18118, 18153, 18176, 18199, 18219, 18240, 18243, 18268, 18269, 18271, 18273, 18274, 18276, 18278, 18279, 18293, 18322, 18353, 18358, 18359, 18363, 18364, 18373, 18385, 18389, 18392, 18396, 18415, 18423, 18434, 18436, 18437, 18476, 18507, 18567, 18570, 18578, 18630, 18632, 18634, 18643, 18644, 18674, 18708, 18711, 18713, 18715, 18716, 18728, 18730, 18773, 18792, 18811, 18834, 18838, 18898, 18925, 18930, 18932, 18956, 18961, 18969, 18971, 18976, 18981, 19037, 19038, 19041, 19043, 19045, 19047, 19049, 19050, 19052, 19053, 19063, 19068, 19084, 19085, 19121, 19123, 19125, 19126, 19155, 19166, 19170, 19182, 19184, 19186, 19195, 19199, 19204, 19223, 19251, 19256, 19258, 19264, 19286, 19288, 19303, 19307, 19323, 19329, 19330, 19333, 19339, 19341, 19344, 19353, 19369, 19370, 19373, 19385, 19388, 19402, 19404, 19411, 19414, 19417, 19418, 19420, 19423, 19425, 19431, 19432, 19435, 19436, 19439, 19451, 19455, 19457, 19471, 19496, 19502, 19528, 19533, 19536, 19556, 19575, 19583, 19588, 19590, 19600, 19602, 19604, 19606, 19607, 19609, 19616, 19621, 19635, 19636, 19637, 19638, 19640, 19653, 19655, 19656, 19662, 19663, 19676, 19693, 19694, 19696, 19697, 19699, 19701, 19705, 19714, 19716, 19717, 19718, 19720, 19721, 19733, 19741, 19744, 19760, 19761, 19762, 19763, 19764, 19765, 19784, 19785, 19788, 19826, 19829, 19834, 19836, 19842, 19856, 19858, 19880, 20021, 20049, 20055, 20102, 20105, 20109, 20110, 20113, 20116, 20121, 20122, 20126, 20144, 20175, 20206, 20211, 20237, 20239, 20243, 20254, 20269, 20303, 20305, 20347, 20353, 20395, 20396, 20417, 20430, 20433, 20574, 20594, 20596, 20598, 20614, 20616, 20618, 20625, 20626, 20634, 20636, 20656, 20658, 20715, 20717, 20719, 20722, 20723, 20839, 20840, 20862, 20865, 20868, 20918, 20921, 20943, 20959, 20976, 20988, 20991, 21000, 21003, 21005, 21028, 21030, 21033, 21100, 21103, 21144, 21190, 21224, 21229, 21232, 21235, 21236, 21237, 21238, 21240, 21242, 21243, 21269, 21271, 21272, 21275, 21295, 21298, 21300, 21303, 21305, 21307, 21311, 21314, 21317, 21324, 21329, 21333, 21334, 21335, 21337, 21338, 21346, 21347, 21350, 21358, 21359, 21361, 21369, 21370, 21373, 21391, 21397, 21400, 21437, 21442, 21477, 21489, 21493, 21496, 21497, 21511, 21514, 21516, 21518, 21520, 21521, 21522, 21525, 21530, 21668, 21701, 21707, 21708, 21711, 21743, 21748, 21749, 21765, 21766, 21815, 21849, 21850, 21853, 21855, 21918, 21945, 21948, 21953, 21956, 21994, 22017, 22037, 22042, 22051, 22052, 22059, 22063, 22065, 22103, 22112, 22118, 22126, 22140, 22161, 22162, 22164, 22178, 22190, 22213, 22215, 22273, 22275, 22277, 22278, 22279, 22281, 22282, 22285, 22297, 22312, 22319, 22320, 22322, 22323, 22327, 22330, 22381, 22382, 22384, 22415, 22417, 22420, 22421, 22443, 22447, 22462, 22473, 22474, 22476, 22479, 22492, 22493, 22495, 22516, 22520, 22523, 22578, 22581, 22600, 22611, 22614, 22623, 22627, 22628, 22630, 22633, 22655, 22656, 22658, 22660, 22722, 22724, 22726, 22751, 22785, 22788, 22802, 22840, 22844, 22847, 22850, 22869, 22872, 22884, 22935, 22937, 22942, 22943, 22947, 22950, 22971, 22983, 23019, 23021, 23023, 23040, 23041, 23043, 23045, 23048, 23054, 23056, 23086, 23089, 23094, 23142, 23144, 23145, 23147, 23167, 23173, 23179, 23182, 23198, 23201, 23213, 23217, 23218, 23231, 23232, 23251, 23252, 23255, 23257, 23272, 23325, 23328, 23331, 23363, 23364, 23367, 23370, 23399, 23411, 23413, 23415, 23418, 23430, 23434, 23459, 23462, 23464, 23466, 23467, 23472, 23500, 23503, 23505, 23506, 23507, 23509, 23561, 23562, 23631, 23641, 23644, 23645, 23653, 23659, 23662, 23664, 23670, 23676, 23682, 23684, 23689, 23725, 23733, 23735, 23774, 23777, 23780, 23782, 23786, 23788, 23793, 23795, 23798, 23800, 23802, 23807, 23816, 23826, 23831, 23832, 23920, 23921, 23924, 23926, 23954, 23956, 23959, 23968, 23970, 23973, 24003, 24008, 24019, 24021, 24022, 24046, 24056, 24057, 24061, 24064, 24066, 24068, 24083, 24084, 24094, 24125, 24211, 24212, 24214, 24215, 24216, 24220, 24221, 24222, 24224, 24225, 24309, 24311, 24326, 24330, 24368, 24369, 24372, 24376, 24390, 24398, 24399, 24401, 24402, 24404, 24416, 24418, 24426, 24427, 24459, 24460, 24486, 24518, 24521, 24526, 24531, 24537, 24538, 24539, 24540, 24541, 24558, 24560, 24565, 24571, 24572, 24574, 24577, 24579, 24580, 24612, 24614, 24644, 24645, 24648, 24649, 24672, 24710, 24751, 24752, 24754, 24766, 24768, 24773, 24775, 24776, 24777, 24800, 24802, 24805, 24809, 24810, 24857, 24874, 24880, 24882, 24889, 24913, 24915, 24937, 24938, 24943, 24963, 25001, 25024, 25025, 25039, 25041, 25044, 25049, 25105, 25107, 25108, 25109, 25111, 25129, 25132, 25133, 25136, 25147, 25148, 25149, 25150, 25153, 25156, 25157, 25158, 25159, 25161, 25162, 25164, 25165, 25167, 25168, 25169, 25171, 25173, 25174, 25176, 25178, 25179, 25180, 25181, 25182, 25183, 25184, 25185, 25186, 25187, 25188, 25196, 25211, 25213, 25214, 25216, 25217, 25245, 25246, 25249, 25251, 25252, 25255, 25271, 25272, 25277, 25362, 25365, 25368, 25398, 25399, 25401, 25402, 25405, 25407, 25408, 25413, 25415, 25416, 25417, 25418, 25419, 25431, 25433, 25436, 25439, 25443, 25446, 25448, 25450, 25451, 25454, 25456, 25457, 25459, 25460, 25463, 25466, 25468, 25477, 25483, 25484, 25485, 25502, 25503, 25504, 25507, 25536, 25614, 25616, 25627, 25630, 25633, 25641, 25643, 25647, 25649, 25650, 25654, 25689, 25690, 25692, 25695, 25699, 25741, 25778, 25885, 25929, 25936, 25939, 25941, 25942, 25945, 25952, 25953, 25970, 25987, 25989, 25991, 25993, 25994, 25997, 26000, 26008, 26009, 26012, 26015, 26120, 26134, 26174, 26221, 26223, 26224, 26236, 26238, 26240, 26281, 26330, 26423, 26511, 26513, 26529, 26555, 26564, 26567, 26577, 26578, 26580, 26591, 26592, 26630, 26637, 26681, 26685, 26687, 26707, 26709, 26766, 26767, 26768, 26769, 26770, 26854, 26859, 26901, 26905, 26907, 26912, 26914, 26947, 26970, 27013, 27019, 27020, 27082, 27099, 27105, 27110, 27112, 27113, 27114, 27115, 27116, 27117, 27118, 27120, 27121, 27124, 27125, 27131, 27132, 27133, 27134, 27145, 27153, 27154, 27159, 27178, 27182, 27189, 27194, 27204, 27206, 27218, 27222, 27233, 27235, 27238, 27264, 27266, 27267, 27268, 27269, 27271, 27274, 27284, 27291, 27292, 27293, 27295, 27337, 27342, 27344, 27372, 27376, 27395, 27447, 27448, 27483, 27540, 27541, 27555, 27558, 27563, 27565, 27566, 27589, 27591, 27594, 27617, 27625, 27627, 27630, 27635, 27636, 27637, 27638, 27640, 27642, 27643, 27662, 27687, 27688, 27696, 27697, 27701, 27706, 27729, 27742, 27766, 27771, 27783, 27786, 27790, 27801, 27802, 27807, 27900, 27933, 27964, 27966, 27970, 27974, 27975, 27976, 27979, 28025, 28029, 28030, 28031, 28034, 28040, 28042, 28057, 28058, 28062, 28079, 28081, 28085, 28090, 28091, 28094, 28097, 28099, 28100, 28140, 28143, 28146, 28166, 28172, 28175, 28178, 28181, 28191, 28192, 28195, 28196, 28197, 28200, 28205, 28215, 28218, 28220, 28232, 28235, 28240, 28313, 28316, 28318, 28329, 28331, 28337, 28338, 28341, 28344, 28358, 28364, 28366, 28371, 28379, 28400, 28403, 28433, 28435, 28438, 28441, 28443, 28474, 28519, 28520, 28523, 28526, 28552, 28554, 28560, 28568, 28570, 28573, 28582, 28585, 28588, 28599, 28602, 28604, 28608, 28610, 28611, 28655, 28657, 28658, 28661, 28663, 28664, 28666, 28667, 28696, 28697, 28705, 28732, 28735, 28747, 28749, 28765, 28770, 28772, 28779, 28799, 28801, 28803, 28806, 28818, 28822, 28823, 28824, 28825, 28828, 28829, 28830, 28838, 28841, 28842, 28844, 28889, 28892, 28924, 28930, 28983, 28986, 28987, 29014, 29019, 29053, 29056, 29058, 29059, 29078, 29079, 29082, 29162, 29168, 29177, 29184, 29188, 29189, 29204, 29207, 29217, 29225, 29228, 29231, 29249, 29253, 29263, 29279, 29281, 29282, 29285, 29287, 29289, 29290, 29293, 29298, 29301, 29303, 29317, 29318, 29321, 29323, 29324, 29357, 29358, 29373, 29378, 29380, 29401, 29430, 29457, 29458, 29464, 29471, 29477, 29483, 29484, 29488, 29491, 29563, 29572, 29590, 29614, 29634, 29637, 29640, 29642, 29676, 29682, 29720, 29732, 29733, 29735, 29748, 29750, 29751, 29800, 29810, 29813, 29829, 29855, 29858, 29859, 29861, 29862, 29901, 29903, 29904, 29906, 29915, 29917, 29921, 29928, 29929, 29932, 29936, 29945, 29952, 29963, 29966, 29968, 29971, 30020, 30035, 30083, 30091, 30094, 30096, 30098, 30108, 30136, 30149, 30151, 30154, 30168, 30176, 30177, 30180, 30183, 30198, 30254, 30261, 30263, 30264, 30269, 30270, 30273, 30286, 30288, 30296, 30299, 30302, 30313, 30318, 30319, 30325, 30336, 30338, 30344, 30369, 30372, 30403, 30404, 30405, 30407, 30410, 30417, 30422, 30425, 30426, 30428, 30432, 30434, 30436, 30455, 30460, 30462, 30482, 30483, 30485, 30486, 30488, 30514, 30572, 30576, 30623, 30626, 30628, 30629, 30630, 30717, 30720, 30726, 30729, 30733, 30746, 30747, 30750, 30753, 30768, 30770, 30816, 30820, 30843, 30873, 30898, 30900, 30902, 30932, 30946, 30947, 30952, 30957, 30958, 30962, 30985, 31004, 31008, 31084, 31085, 31087, 31130, 31133, 31135, 31136, 31138, 31140, 31146, 31155, 31156, 31162, 31163, 31165, 31174, 31185, 31265, 31272, 31276, 31313, 31332, 31333, 31334, 31335, 31336, 31359, 31364, 31366, 31369, 31372, 31396, 31398, 31401, 31419, 31433, 31445, 31457, 31465, 31468, 31470, 31472, 31513, 31515, 31530, 31568, 31572, 31607, 31669, 31672, 31675, 31678, 31680, 31681, 31700, 31735, 31738, 31763, 31764, 31766, 31767, 31770, 31791, 31805, 31827, 31828, 31831, 31836, 31839, 31841, 31842, 31851, 31855, 31862, 31876, 31879, 31883, 31889, 31890, 31891, 31893, 31894, 31896, 31899, 31902, 31904, 31905, 31908, 31918, 31920, 31954, 32021, 32027, 32028, 32029, 32030, 32036, 32048, 32049, 32050, 32051, 32053, 32055, 32057, 32058, 32059, 32080, 32081, 32082, 32083, 32084, 32087, 32088, 32162, 32165, 32207, 32224, 32227, 32292, 32295, 32298, 32301, 32306, 32309, 32326, 32331, 32337, 32342, 32345, 32349, 32351, 32352, 32353, 32354, 32357, 32360, 32362, 32365, 32370, 32371, 32380, 32383, 32388, 32391, 32394, 32395, 32396, 32407, 32412, 32415, 32418, 32420, 32423, 32426, 32428, 32430, 32431, 32434, 32436, 32438, 32439, 32443, 32444, 32452, 32455, 32461, 32462, 32467, 32472, 32475, 32476, 32477, 32480, 32481, 32506, 32507, 32508, 32511, 32539, 32541, 32557, 32558, 32562, 32585, 32587, 32592, 32593, 32595, 32596, 32598, 32608, 32638, 32650, 32654, 32670, 32727, 32776, 32779, 32780, 32850, 32864, 32865, 32870, 32872, 32873, 32886, 32888, 32891, 32892, 32893, 32901, 32906, 32915, 32916, 32920, 32921, 32935, 32937, 32941, 32947, 32960, 32966, 32969, 32974, 33003, 33009, 33029, 33031, 33055, 33060, 33115, 33131, 33134, 33135, 33137, 33152, 33155, 33255, 33256, 33257, 33258, 33259, 33261, 33263, 33266, 33282, 33293, 33294, 33366, 33385, 33386, 33427, 33440, 33444, 33473, 33480, 33487, 33488, 33544, 33545, 33547, 33549, 33573, 33579, 33589, 33590, 33593, 33606, 33611, 33613, 33616, 33620, 33623, 33627, 33714, 33723, 33729, 33739, 33766, 33767, 33769, 33771, 33772, 33828, 33834, 33836, 33839, 33844, 33848, 33854, 33857, 33885, 33887, 33893, 33894, 33898, 33933, 33936, 33938, 33939, 33948, 33951, 33954, 33956, 33957, 33959, 33960, 33962, 33963, 33968, 33970, 33983, 34006, 34011, 34024, 34026, 34036, 34039, 34097, 34098, 34155, 34158, 34182, 34192, 34195, 34197, 34200, 34208, 34209, 34362, 34373, 34379, 34453, 34457, 34459, 34460, 34463, 34546, 34563, 34574, 34575, 34578, 34580, 34581, 34586, 34587, 34631, 34636, 34639, 34642, 34644, 34666, 34667, 34668, 34669, 34670, 34671, 34672, 34684, 34686, 34701, 34714, 34730, 34731, 34734, 34775, 34799, 34819, 34820, 34821, 34822, 34824, 34833, 34834, 34837, 34846, 34914, 34916, 34924, 34935, 34975, 34978, 34983, 34986, 34995, 35005, 35006, 35059, 35072, 35114, 35118, 35131, 35136, 35137, 35138, 35140, 35142, 35143, 35146, 35149, 35151, 35154, 35160, 35171, 35173, 35175, 35183, 35184, 35185, 35186, 35187, 35196, 35198, 35265, 35267, 35270, 35279, 35281, 35284, 35311, 35317, 35318, 35321, 35322, 35324, 35325, 35333, 35334, 35335, 35336, 35342, 35364, 35372, 35375, 35421, 35426, 35431, 35449, 35485, 35487, 35500, 35503, 35506, 35546, 35561, 35564, 35567, 35573, 35576, 35605, 35609, 35630, 35632, 35633, 35636, 35647, 35653, 35662, 35665, 35668, 35671, 35679, 35683, 35685, 35686, 35730, 35732, 35733, 35745, 35780, 35783, 35788, 35810, 35812, 35819, 35827, 35839, 35843, 35848, 35851, 35860, 35866, 35868, 35874, 35876, 35890, 35894, 35896, 35906, 35908, 35910, 35912, 35945, 35947, 35949, 35980, 35981, 35988, 36000, 36006, 36008, 36009, 36011, 36023, 36024, 36028, 36031, 36040, 36042, 36043, 36048, 36060, 36065, 36068, 36070, 36074, 36075, 36076, 36079, 36101, 36106, 36128, 36130, 36131, 36142, 36163, 36165, 36166, 36178, 36182, 36187, 36202, 36224, 36229, 36232, 36234, 36251, 36254, 36261, 36272, 36275, 36310, 36369, 36372, 36377, 36387, 36394, 36397, 36404, 36413, 36414, 36417, 36444, 36498, 36501, 36504, 36513, 36514, 36516, 36534, 36587, 36591, 36592, 36593, 36595, 36597, 36598, 36603, 36627, 36632, 36643, 36646, 36648, 36654, 36655, 36657, 36658, 36659, 36660, 36669, 36671, 36672, 36673, 36694, 36699, 36709, 36713, 36714, 36746, 36760, 36821, 36822, 36823, 36828, 36842, 36849, 36851, 36853, 36872, 36877, 36891, 36895, 36896, 36924, 36926, 36950, 36954, 36980, 36984, 36985, 36987, 36989, 36990, 37026, 37054, 37059, 37060, 37061, 37062, 37081, 37084, 37087, 37092, 37093, 37095, 37106, 37109, 37114, 37115, 37118, 37126, 37137, 37141, 37144, 37146, 37148, 37151, 37152, 37161, 37164, 37166, 37177, 37212, 37222, 37291, 37343, 37347, 37357, 37361, 37395, 37397, 37404, 37406, 37411, 37413, 37416, 37432, 37438, 37441, 37445, 37448, 37462, 37467, 37475, 37476, 37501, 37506, 37507, 37509, 37511, 37513, 37514, 37516, 37517, 37519, 37531, 37534, 37664, 37691, 37694, 37695, 37697, 37702, 37704, 37708, 37713, 37716, 37719, 37732, 37766, 37767, 37769, 37774, 37776, 37777, 37798, 37801, 37808, 37812, 37820, 37831, 37833, 37902, 37903, 37904, 37905, 37906, 37907, 37916, 37925, 37934, 37935, 37936, 37967, 37970, 38017, 38018, 38020, 38021, 38022, 38023, 38032, 38035, 38037, 38040, 38043, 38046, 38073, 38109, 38140, 38141, 38146, 38193, 38194, 38195, 38201, 38217, 38235, 38284, 38287, 38289, 38290, 38291, 38296, 38325, 38329, 38331, 38383, 38411, 38419, 38422, 38423, 38424, 38448, 38449, 38450, 38462, 38463, 38506, 38520, 38552, 38585, 38588, 38630, 38631, 38650, 38733, 38737, 38817, 38820, 38822, 38837, 38842, 38866, 38886, 38889, 38908, 38920, 38926, 38927, 38928, 38929, 38930, 38952, 38957, 38961, 39003, 39004, 39014, 39016, 39024, 39026, 39029, 39034, 39035, 39039, 39041, 39042, 39043, 39044, 39056, 39085, 39118, 39120, 39138, 39142, 39264, 39265, 39269, 39275, 39277, 39279, 39298, 39300, 39303, 39305, 39307, 39308, 39309, 39310, 39312, 39315, 39320, 39329, 39335, 39338, 39342, 39343, 39346, 39356, 39358, 39359, 39360, 39372, 39374, 39376, 39384, 39387, 39390, 39393, 39395, 39410, 39460, 39461, 39462, 39463, 39464, 39512, 39515, 39539, 39571, 39573, 39590, 39593, 39633, 39639, 39675, 39677, 39686, 39688, 39690, 39710, 39719, 39723, 39756, 39757, 39762, 39764, 39765, 39766, 39767, 39769, 39770, 39775, 39780, 39801, 39804, 39818, 39821, 39822, 39849, 39883, 39979, 40004, 40011, 40029, 40048, 40050, 40071, 40073, 40076, 40083, 40085, 40086, 40093, 40094, 40096, 40097, 40101, 40109, 40111, 40112, 40126, 40129, 40140, 40143, 40151, 40152, 40161, 40176, 40178, 40183, 40187, 40188, 40191, 40195, 40198, 40200, 40204, 40215, 40217, 40219, 40228, 40236, 40237, 40243, 40250, 40252, 40275, 40313, 40351, 40358, 40361, 40364, 40408, 40430, 40435, 40463, 40464, 40479, 40480, 40484, 40492, 40498, 40521, 40536, 40550, 40554, 40561, 40565, 40572, 40573, 40576, 40580, 40583, 40622, 40624, 40626, 40647, 40648, 40649, 40650, 40651, 40683, 40684, 40691, 40694, 40713, 40715, 40758, 40775, 40779, 40781, 40787, 40789, 40790, 40791, 40792, 40820, 40850, 40868, 40870, 40874, 40896, 40900, 40901, 40906, 40995, 40997, 41014, 41015, 41016, 41017, 41020, 41021, 41025, 41026, 41028, 41029, 41037, 41040, 41041, 41054, 41056, 41057, 41059, 41063, 41064, 41068, 41071, 41097, 41105, 41106, 41110, 41118, 41119, 41120, 41122, 41123, 41126, 41135, 41139, 41149, 41195, 41199, 41224, 41234, 41236, 41238, 41247, 41248, 41250, 41252, 41306, 41309, 41310, 41311, 41363, 41380, 41381, 41382, 41383, 41386, 41397, 41400, 41401, 41403, 41405, 41480, 41482, 41502, 41534, 41558, 41562, 41580, 41583, 41597, 41598, 41599, 41628, 41631, 41644, 41647, 41667, 41668, 41671, 41685, 41725, 41728, 41757, 41758, 41760, 41762, 41846, 41847, 41848, 41849, 41853, 41857, 41888, 41965, 42025, 42068, 42069, 42071, 42073, 42080, 42090, 42092, 42097, 42111, 42113, 42115, 42131, 42132, 42133, 42134, 42159, 42168, 42173, 42179, 42186, 42234, 42246, 42248, 42250, 42251, 42253, 42267, 42268, 42270, 42273, 42279, 42282, 42287, 42289, 42301, 42326, 42335, 42339, 42341, 42365, 42366, 42367, 42369, 42371, 42411, 42413, 42417, 42436, 42444, 42446, 42448, 42535, 42536, 42538, 42539, 42540, 42572, 42583, 42584, 42595, 42607, 42610, 42638, 42674, 42677, 42714, 42715, 42731, 42755, 42757, 42760, 42761, 42769, 42770, 42772, 42775, 42795, 42798, 42832, 42834, 42901, 42905, 42920, 42921, 42929, 42936, 42940, 42978, 42998, 43039, 43040, 43043, 43052, 43056, 43095, 43098, 43101, 43138, 43142, 43158, 43188, 43345, 43362, 43383, 43389, 43401, 43430, 43451, 43454, 43455, 43460, 43476, 43477, 43482, 43561, 43563, 43566, 43577, 43603, 43662, 43665, 43668, 43671, 43674, 43675, 43677, 43689, 43691, 43708, 43723, 43726, 43742, 43779, 43784, 43794, 43795, 43796, 43797, 43869, 43875, 43920, 43923, 43925, 43927, 43928, 43930, 43931, 43933, 43957, 43958, 43962, 43965, 43967, 43968, 43971, 43972, 43975, 43987, 43990, 43992, 44002, 44009, 44010, 44013, 44014, 44019, 44044, 44053, 44056, 44061, 44063, 44077, 44079, 44080, 44081, 44083, 44085, 44102, 44103, 44104, 44109, 44136, 44168, 44171, 44197, 44207, 44208, 44209, 44211, 44266, 44270, 44280, 44287, 44311, 44338, 44343, 44350, 44352, 44353, 44357, 44365, 44366, 44368, 44381, 44388, 44396, 44399, 44424, 44445, 44446, 44449, 44451, 44466, 44499, 44502, 44531, 44534, 44536, 44557, 44558, 44567, 44569, 44571, 44575, 44578, 44580, 44582, 44585, 44586, 44589, 44590, 44594, 44596, 44625, 44638, 44639, 44641, 44642, 44643, 44647, 44699, 44717, 44723, 44725, 44738, 44756, 44759, 44762, 44771, 44826, 44827, 44831, 44832, 44845, 44862, 44886, 44888, 44928, 44936, 44940, 44941, 44959, 44960, 44971, 44987, 45003, 45005, 45006, 45009, 45011, 45013, 45014, 45019, 45021, 45022, 45025, 45029, 45031, 45032, 45034, 45037, 45038, 45039, 45040, 45041, 45042, 45044, 45046, 45047, 45049, 45052, 45055, 45056, 45057, 45061, 45063, 45071, 45074, 45077, 45079, 45081, 45082, 45084, 45085, 45087, 45088, 45089, 45090, 45091, 45092, 45093, 45102, 45104, 45105, 45107, 45108, 45113, 45116, 45123, 45138, 45143, 45145, 45148, 45149, 45151, 45152, 45155, 45161, 45163, 45164, 45166, 45171, 45178, 45180, 45219, 45220, 45221, 45222, 45228, 45230, 45245, 45246, 45247, 45254, 45256, 45257, 45272, 45304, 45305, 45309, 45312, 45313, 45361, 45363, 45377, 45379, 45446, 45448, 45449, 45451, 45568, 45569, 45571, 45603, 45605, 45610, 45618, 45630, 45636, 45708, 45752, 45756, 45805, 45834, 45836, 45849, 45878, 45884, 45887, 45888, 45890, 45892, 45903, 45906, 45908, 45909, 45912, 45914, 45922, 45927, 45963, 45988, 45996, 46023, 46026, 46028, 46108, 46114, 46146, 46148, 46159, 46160, 46161, 46174, 46192, 46193, 46198, 46221, 46238, 46243, 46246, 46249, 46298, 46299, 46300, 46302, 46304, 46380, 46400, 46415, 46430, 46433, 46435, 46436, 46442, 46448, 46451, 46463, 46472, 46475, 46483, 46520, 46546, 46552, 46555, 46574, 46576, 46582, 46585, 46589, 46590, 46593, 46597, 46599, 46600, 46602, 46622, 46623, 46633, 46637, 46638, 46639, 46641, 46649, 46652, 46679, 46708, 46710, 46711, 46713, 46723, 46724, 46773, 46775, 46776, 46787, 46799, 46854, 46856, 46867, 46873, 46903, 46942, 46967, 46984, 46985, 46987, 46988, 46990, 46991, 47033, 47036, 47093, 47104, 47110, 47112, 47114, 47115, 47125, 47126, 47137, 47138, 47139, 47142, 47143, 47145, 47149, 47150, 47164, 47189, 47193, 47195, 47197, 47199, 47222, 47223, 47226, 47227, 47230, 47231, 47248, 47288, 47295, 47297, 47300, 47301, 47335, 47342, 47347, 47350, 47375, 47377, 47427, 47433, 47471, 47486, 47499, 47504, 47515, 47554, 47558, 47583, 47729, 47731, 47732, 47740, 47746, 47750, 47751, 47754, 47756, 47851, 47854, 47857, 47859, 47860, 47861, 47862, 47863, 47864, 47874, 47879, 47883, 47884, 47887, 47888, 47898, 47899, 47904, 47910, 47951, 47954, 47969, 47985, 47986, 47987, 47988, 47990, 48063, 48068, 48072, 48083, 48089, 48114, 48116, 48117, 48119, 48138, 48175, 48200, 48203, 48209, 48214, 48249, 48263, 48266, 48306, 48314, 48316, 48329, 48337, 48338, 48356, 48380, 48383, 48386, 48388, 48389, 48400, 48402, 48404, 48405, 48406, 48407, 48409, 48411, 48414, 48416, 48417, 48420, 48422, 48428, 48429, 48436, 48444, 48445, 48450, 48457, 48459, 48463, 48466, 48476, 48479, 48514, 48515, 48554, 48615, 48635, 48639, 48642, 48647, 48660, 48666, 48676, 48677, 48680, 48681, 48733, 48740, 48764, 48768, 48771, 48781, 48801, 48814, 48816, 48817, 48818, 48819, 48871, 48892, 48907, 48945, 48948, 48953, 48956, 48970, 48975, 48976, 48978, 48982, 48992, 48994, 48997, 49029, 49045, 49068, 49072, 49074, 49084, 49117, 49132, 49133, 49155, 49157, 49169, 49174, 49208, 49213, 49216, 49236, 49270, 49298, 49310, 49313, 49318, 49350, 49353, 49356, 49359, 49367, 49371, 49372, 49373, 49375, 49376, 49377, 49383, 49384, 49385, 49387, 49389, 49390, 49393, 49398, 49402, 49407, 49409, 49410, 49411, 49414, 49419, 49422, 49469, 49496, 49497, 49501, 49548, 49609, 49614, 49615, 49616, 49619, 49736, 49738, 49794, 49796, 49797, 49800, 49837, 49857, 49865, 49869, 49871, 49872, 49874, 49898, 49899, 49901, 49902, 49904, 49971, 50008, 50009, 50011, 50014, 50027, 50028, 50030, 50033, 50068, 50069, 50072, 50075, 50130, 50133, 50158, 50160, 50161, 50173, 50182, 50185, 50186, 50239, 50277, 50313, 50326, 50329, 50384, 50386, 50387, 50390, 50404, 50410, 50439, 50440, 50450, 50456, 50458, 50471, 50473, 50480, 50483, 50494, 50495, 50496, 50519, 50538, 50542, 50545, 50547, 50552, 50554, 50559, 50563, 50566, 50573, 50587, 50588, 50591, 50593, 50596, 50599, 50602, 50604, 50607, 50614, 50624, 50625, 50627, 50628, 50630, 50632, 50647, 50654, 50655, 50657, 50659, 50661, 50673, 50675, 50676, 50677, 50683, 50685, 50711, 50727, 50739, 50740, 50742, 50743, 50745, 50754, 50757, 50761, 50762, 50787, 50880, 50883, 50901, 50913, 50916, 50924, 50927, 50929, 50931, 50933, 50934, 50946, 50951, 50975, 50978, 50980, 50987, 51001, 51006, 51009, 51010, 51019, 51024, 51025, 51028, 51030, 51031, 51063, 51065, 51066, 51068, 51069, 51074, 51076, 51078, 51082, 51087, 51095, 51110, 51112, 51163, 51176, 51186, 51192, 51196, 51213, 51233, 51256, 51259, 51265, 51300, 51301, 51303, 51304, 51307, 51328, 51329, 51331, 51332, 51333, 51345, 51346, 51348, 51361, 51366, 51386, 51449, 51496, 51592, 51629, 51633, 51643, 51646, 51649, 51651, 51661, 51663, 51678, 51680, 51682, 51706, 51708, 51710, 51711, 51772, 51776, 51791, 51795, 51796, 51805, 51809, 51822, 51836, 51862, 51864, 51905, 51922, 51923, 51925, 51947, 51949, 51952, 51955, 51957, 51962, 51969, 51972, 51988, 51991, 51993, 51994, 52059, 52097, 52103, 52127, 52129, 52137, 52142, 52153, 52180, 52182, 52188, 52196, 52200, 52214, 52224, 52226, 52227, 52233, 52243, 52244, 52247, 52270, 52300, 52316, 52334, 52339, 52342, 52344, 52345, 52347, 52349, 52350, 52352, 52366, 52369, 52371, 52374, 52414, 52417, 52437, 52468, 52471, 52474, 52477, 52516, 52522, 52523, 52525, 52528, 52537, 52542, 52561, 52562, 52563, 52564, 52580, 52582, 52583, 52585, 52589, 52591, 52597, 52625, 52627, 52630, 52631, 52634, 52635, 52643, 52645, 52646, 52659, 52689, 52690, 52692, 52717, 52789, 52792, 52795, 52796, 52797, 52798, 52887, 52946, 52948, 52982, 52990, 53004, 53011, 53061, 53082, 53084, 53086, 53089, 53102, 53103, 53104, 53105, 53106, 53107, 53108, 53141, 53144, 53152, 53155, 53158, 53177, 53189, 53199, 53205, 53209, 53212, 53265, 53271, 53272, 53273, 53320, 53323, 53329, 53331, 53387, 53389, 53390, 53412, 53418, 53476, 53478, 53481, 53485, 53512, 53515, 53536, 53538, 53539, 53540, 53585, 53586, 53589, 53598, 53606, 53629, 53633, 53634, 53637, 53640, 53643, 53672, 53703, 53704, 53706, 53724, 53741, 53742, 53748, 53751, 53754, 53777, 53783, 53802, 53804, 53807, 53824, 53864, 53865, 53867, 53869, 53870, 53872, 53875, 53876, 53895, 53922, 53929, 53933, 53953, 53955, 53959, 53992, 53994, 53995, 53996, 54055, 54059, 54061, 54093, 54096, 54097, 54117, 54119, 54120, 54122, 54128, 54129, 54132, 54134, 54141, 54177, 54179, 54182, 54188, 54191, 54193, 54237, 54239, 54244, 54248, 54251, 54260, 54261, 54262, 54280, 54282, 54285, 54288, 54290, 54296, 54297, 54307, 54308, 54310, 54311, 54313, 54314, 54316, 54320, 54342, 54343, 54365, 54402, 54413, 54415, 54429, 54430, 54519, 54521, 54522, 54530, 54534, 54542, 54547, 54559, 54563, 54566, 54568, 54569, 54576, 54601, 54603, 54605, 54606, 54627, 54628, 54637, 54654, 54659, 54704, 54708, 54716, 54735, 54736, 54737, 54784, 54794, 54797, 54830, 54837, 54838, 54843, 54844, 54852, 54855, 54888, 54893, 54917, 54938, 54957, 54960, 54995, 55024, 55027, 55031, 55071, 55072, 55084, 55085, 55086, 55087, 55088, 55094, 55134, 55154, 55157, 55168, 55169, 55171, 55172, 55174, 55175, 55202, 55231, 55232, 55235, 55268, 55276, 55313, 55314, 55320, 55405, 55486, 55488, 55491, 55538, 55551, 55572, 55637, 55649, 55662, 55664, 55667, 55669, 55692, 55694, 55696, 55707, 55764, 55767, 55814, 55817, 55820, 55830, 55835, 55837, 55842, 55852, 55869, 55872, 55886, 55887, 55890, 55892, 55893, 55895, 55898, 55906, 55910, 55918, 55919, 55922, 55927, 55928, 55930, 55931, 55933, 55934, 55935, 55936, 55944, 55950, 55951, 55958, 56032, 56034, 56036, 56067, 56068, 56071, 56073, 56114, 56115, 56131, 56150, 56151, 56153, 56154, 56157, 56158, 56159, 56252, 56253, 56259, 56295, 56397, 56400, 56419, 56436, 56445, 56471, 56473, 56477, 56480, 56482, 56483, 56512, 56520, 56534, 56542, 56546, 56576, 56579, 56582, 56585, 56588, 56599, 56600, 56601, 56650, 56656, 56659, 56662, 56665, 56708, 56709, 56714, 56720, 56759, 56760, 56764, 56769, 56770, 56779, 56781, 56782, 56816, 56818, 56819, 56822, 56827, 56830, 56834, 56835, 56843, 56854, 56856, 56857, 56863, 56864, 56865, 56867, 56884, 56889, 56890, 56892, 56893, 56894, 56895, 56911, 56930, 56931, 56934, 56935, 56943, 56948, 56950, 56952, 56955, 56957, 56961, 56977, 56994, 56995, 57000, 57001, 57002, 57007, 57009, 57013, 57017, 57018, 57020, 57027, 57029, 57031, 57032, 57034, 57036, 57062, 57084, 57132, 57138, 57139, 57148, 57151, 57153, 57180, 57189, 57190, 57210, 57213, 57214, 57218, 57221, 57224, 57257, 57263, 57375, 57393, 57403, 57417, 57419, 57423, 57425, 57427, 57471, 57472, 57473, 57512, 57534, 57551, 57561, 57566, 57567, 57588, 57591, 57603, 57607, 57608, 57609, 57610, 57611, 57613, 57614, 57616, 57617, 57636, 57640, 57641, 57644, 57655, 57676, 57714, 57772, 57774, 57775, 57977, 57984, 58002, 58067, 58072, 58073, 58074, 58076, 58130, 58132, 58133, 58140, 58147, 58153, 58161, 58181, 58184, 58223, 58291, 58294, 58297, 58302, 58304, 58305, 58309, 58344, 58346, 58347, 58349, 58405, 58406, 58408, 58411, 58423, 58426, 58469, 58474, 58517, 58523, 58530, 58532, 58535, 58538, 58540, 58553, 58559, 58587, 58599, 58603, 58639, 58643, 58645, 58646, 58647, 58649, 58653, 58655, 58656, 58657, 58659, 58661, 58663, 58687, 58695, 58697, 58701, 58704, 58707, 58710, 58741, 58742, 58823, 58824, 58825, 58827, 58828, 58829, 58832, 58834, 58838, 58839, 58843, 58846, 58862, 58863, 58864, 58900, 58930, 58933, 58938, 58957, 58997, 58998, 59000, 59001, 59002, 59003, 59009, 59012, 59022, 59023, 59024, 59025, 59038, 59042, 59043, 59044, 59045, 59095, 59107, 59131, 59132, 59159, 59169, 59171, 59185, 59187, 59204, 59206, 59207, 59209, 59210, 59211, 59212, 59214, 59238, 59239, 59240, 59243, 59255, 59257, 59259, 59294, 59296, 59318, 59320, 59321, 59372, 59376, 59377, 59436, 59437, 59440, 59443, 59484, 59486, 59501, 59507, 59519, 59523, 59525, 59544, 59547, 59549, 59551, 59553, 59569, 59572, 59587, 59606, 59610, 59611, 59614, 59616, 59617, 59618, 59620, 59622, 59624, 59628, 59643, 59647, 59657, 59658, 59659, 59689, 59693, 59701, 59705, 59708, 59712, 59714, 59718, 59724, 59726, 59730, 59731, 59736, 59742, 59757, 59762, 59763, 59766, 59768, 59770, 59774, 59776, 59777, 59778, 59780, 59786, 59788, 59792, 59804, 59806, 59811, 59816, 59818, 59820, 59824, 59826, 59828, 59829, 59832, 59834, 59845, 59848, 59850, 59872, 59873, 59875, 59877, 59879, 59883, 59904, 59908, 59910, 59914, 59916, 59920, 59930, 59932, 59934, 59938, 59939, 59940, 59944, 59945, 59951, 59956, 59962, 59964, 59966, 59972, 59976, 59983, 59984, 59985, 59989, 59998, 60002, 60006, 60008, 60010, 60013, 60014, 60024, 60025, 60027, 60028, 60029, 60030, 60031, 60039, 60044, 60049, 60051, 60056, 60063, 60077, 60078, 60093, 60099, 60101, 60103, 60119, 60121, 60154, 60158, 60159, 60172, 60176, 60190, 60191, 60192, 60193, 60200, 60206, 60220, 60223, 60251, 60253, 60258, 60260, 60324, 60327, 60335, 60346, 60363, 60365]\n",
            "삭제 예정인 테스트 샘플 : [4, 42, 45, 48, 57, 59, 60, 66, 68, 70, 72, 74, 75, 77, 89, 92, 115, 150, 151, 152, 154, 188, 212, 215, 217, 258, 260, 261, 263, 268, 279, 299, 302, 366, 369, 372, 384, 385, 390, 395, 397, 409, 410, 455, 458, 460, 461, 466, 468, 470, 478, 492, 494, 514, 552, 567, 574, 583, 585, 586, 597, 600, 607, 611, 645, 667, 669, 670, 672, 776, 777, 780, 782, 789, 812, 832, 834, 860, 861, 863, 865, 868, 870, 871, 876, 878, 880, 881, 883, 899, 900, 925, 926, 928, 929, 940, 945, 953, 958, 967, 971, 980, 983, 1007, 1011, 1014, 1016, 1088, 1089, 1090, 1092, 1093, 1094, 1095, 1097, 1100, 1101, 1102, 1104, 1107, 1109, 1111, 1115, 1120, 1139, 1141, 1154, 1158, 1164, 1177, 1239, 1258, 1261, 1263, 1265, 1266, 1270, 1271, 1281, 1324, 1351, 1409, 1411, 1458, 1459, 1462, 1564, 1567, 1578, 1589, 1598, 1614, 1643, 1700, 1701, 1706, 1714, 1716, 1814, 1829, 1867, 1871, 1931, 1932, 1934, 1938, 1940, 1941, 1977, 1982, 2007, 2009, 2012, 2067, 2078, 2080, 2103, 2105, 2106, 2107, 2163, 2182, 2184, 2212, 2215, 2217, 2246, 2280, 2284, 2286, 2289, 2291, 2292, 2294, 2295, 2304, 2310, 2341, 2357, 2360, 2370, 2390, 2391, 2413, 2437, 2440, 2448, 2450, 2451, 2453, 2466, 2477, 2486, 2492, 2524, 2526, 2527, 2540, 2541, 2552, 2566, 2570, 2571, 2572, 2573, 2574, 2575, 2576, 2578, 2580, 2581, 2583, 2597, 2601, 2604, 2635, 2639, 2642, 2643, 2667, 2670, 2675, 2678, 2688, 2692, 2714, 2715, 2718, 2734, 2768, 2776, 2801, 2809, 2815, 2845, 2858, 2867, 2870, 2873, 2876, 2879, 2881, 2882, 2887, 2907, 2910, 2940, 2947, 2950, 2951, 2952, 2954, 2955, 2957, 2958, 2969, 2971, 2974, 2979, 2982, 3020, 3031, 3052, 3054, 3057, 3064, 3074, 3077, 3079, 3080, 3081, 3082, 3084, 3085, 3095, 3097, 3102, 3106, 3109, 3129, 3167, 3170, 3173, 3238, 3240, 3242, 3270, 3272, 3282, 3331, 3438, 3442, 3449, 3452, 3453, 3455, 3457, 3469, 3487, 3493, 3496, 3502, 3505, 3507, 3508, 3509, 3512, 3514, 3515, 3520, 3529, 3530, 3532, 3533, 3535, 3537, 3538, 3543, 3544, 3545, 3546, 3552, 3580, 3585, 3586, 3587, 3588, 3589, 3590, 3591, 3597, 3617, 3628, 3629, 3642, 3645, 3665, 3699, 3718, 3737, 3739, 3747, 3809, 3811, 3817, 3828, 3829, 3830, 3831, 3832, 3834, 3840, 3843, 3855, 3867, 3871, 3876, 3903, 3907, 3908, 3918, 3974, 3976, 3981, 3998, 3999, 4002, 4056, 4059, 4061, 4062, 4072, 4077, 4086, 4088, 4090, 4123, 4124, 4132, 4144, 4173, 4180, 4184, 4185, 4200, 4202, 4237, 4246, 4249, 4255, 4258, 4263, 4264, 4267, 4270, 4271, 4279, 4283, 4285, 4292, 4294, 4295, 4296, 4298, 4300, 4367, 4380, 4384, 4385, 4389, 4391, 4430, 4431, 4467, 4481, 4487, 4498, 4502, 4541, 4556, 4559, 4617, 4619, 4624, 4652, 4664, 4692, 4694, 4719, 4730, 4737, 4740, 4750, 4755, 4761, 4802, 4811, 4825, 4826, 4827, 4837, 4842, 4843, 4849, 4863, 4865, 4867, 4877, 4880, 4885, 4886, 4887, 4949, 4953, 5006, 5007, 5008, 5013, 5015, 5045, 5130, 5131, 5133, 5134, 5138, 5139, 5186, 5187, 5188, 5189, 5190, 5191, 5192, 5193, 5194, 5195, 5196, 5208, 5215, 5219, 5225, 5236, 5261, 5263, 5265, 5266, 5267, 5290, 5292, 5293, 5294, 5296, 5299, 5301, 5309, 5336, 5337, 5340, 5370, 5372, 5374, 5407, 5408, 5418, 5489, 5519, 5522, 5524, 5525, 5531, 5558, 5582, 5583, 5585, 5587, 5599, 5600, 5603, 5604, 5605, 5618, 5639, 5644, 5649, 5653, 5655, 5657, 5660, 5664, 5669, 5670, 5672, 5673, 5674, 5680, 5681, 5682, 5683, 5684]\n"
          ]
        }
      ]
    },
    {
      "cell_type": "code",
      "source": [
        "print('761번 샘플의 질문 :',train_questions[761])\n",
        "print('-'*50)\n",
        "print('761번 샘플의 기존 원문 :',train_contexts[761])"
      ],
      "metadata": {
        "colab": {
          "base_uri": "https://localhost:8080/"
        },
        "id": "rfFkav6MtyKd",
        "outputId": "bf9af1e0-684d-4625-cebd-39e1868af138"
      },
      "execution_count": null,
      "outputs": [
        {
          "output_type": "stream",
          "name": "stdout",
          "text": [
            "761번 샘플의 질문 : 소치 팀추월 파이널D에서 여자 팀추월 대표팀의 최종 성적은?\n",
            "--------------------------------------------------\n",
            "761번 샘플의 기존 원문 : 2014년 2월 9일 러시아 소치 아들레르 아레나서 열린 소치 동계올림픽 3000m 부문에서 김보름(21)은 4분12초08의 기록으로로 13위를 차지했다. 이날 3조로 경기를 치른 김보름은 21초05로 200m 구간을 통과한 후 2분31초34로 1800m 구간을 지났다. 이후 2200m 구간 통과 순간부터 스피드를 올리며 후반 들어 스퍼트를 올렸고, 결국 하위권이 아닌 중위권 기록을 남겼다. 김보름의 순위인 13위는 지난 2006 토리노 올림픽, 2010 밴쿠버 올림픽 당시 노선영(25-강원도청)이 기록한 19위를 넘어 한국 여자 3000m 부문의 가장 높은 순위다. 5조의 노선영은 4분19초02를 기록했다. 노선영은 200m 구간에서 21초32의 기록으로 지난 이후 속도를 올리지 못한 채로 결승점을 통과했다. 결국 노선영은 전체 26위의 성적을 남기며 경기를 마쳤다. 6조에서 경기를 소화한 양신영(24-전북도청)은 4분23초67을 기록해 이날 대회를 뛴 28명 중 최저의 기록을 남겼다. 한편 이날 대회는 4분00초34의 이레네 부스트(네덜란드)가 2006년 토리노 동계올림픽 이후 8년 만에 금메달을 다시 가져갔다. 대회 2연패를 노린 2위 마르티나 사블리코바(체코-4분01초95)와 3위 올가 그라프(러시아-4분03초47)에 앞선 기록이다. 16일 열린 1500m에서는 네덜란드의 요리엔 테르모르스가 1분53초51의 올림픽 기록으로 금메달을 차지했다. 은메달과 동메달도 네덜란드 선수들이 휩쓸었다. 은메달은 이레인 뷔스트(1분54초09)에게 돌아갔고 동메달은 하를로터 판바이크(1분54초54)가 주인이 됐다. 심지어 4위도 네덜란드 선수인 마리트 리엔스트라(1분56초40)가 차지했다. 김보름은 1분59초78로 21위에 올랐다. 노선영(25-강원도청)은 2분01초07로 29위, 양신영(24-전북도청)은 2분04초13으로 최하위인 36위에 그쳤다. 김보름은 무릎 통증이 있어 5000m를 기권했다. 22일 열린 팀추월 파이널D(7-8위 결정전)에서 김보름, 노선영(25, 강원도청), 양신영(24, 전북도청)이 나란히 달린 여자 팀추월 대표팀은 노르웨이에 져 8위로 대회를 마쳤다. 전날 8강전에서 일본에 져 준결승 진출에 실패한 여자 대표팀은 이날 3분11초54만에 마지막 주자가 결승선을 통과해 3분8초35를 기록한 노르웨이에 패했다.\n"
          ]
        }
      ]
    },
    {
      "cell_type": "code",
      "source": [
        "print('761번 샘플의 기존 정답 :', train_answers[761])"
      ],
      "metadata": {
        "colab": {
          "base_uri": "https://localhost:8080/"
        },
        "id": "eXrI_ZD_t2WK",
        "outputId": "a157afb9-3d14-4591-d54b-0c404b0eec01"
      },
      "execution_count": null,
      "outputs": [
        {
          "output_type": "stream",
          "name": "stdout",
          "text": [
            "761번 샘플의 기존 정답 : {'text': '8위', 'answer_start': 1050, 'answer_end': 1052}\n"
          ]
        }
      ]
    },
    {
      "cell_type": "code",
      "source": [
        "print('761번 샘플 전처리 후 :', tokenizer.decode(train_encodings['input_ids'][761]))"
      ],
      "metadata": {
        "colab": {
          "base_uri": "https://localhost:8080/"
        },
        "id": "xsfbKSGEt4YJ",
        "outputId": "dfaa11c5-4fce-4d89-c337-0db53c3e9635"
      },
      "execution_count": null,
      "outputs": [
        {
          "output_type": "stream",
          "name": "stdout",
          "text": [
            "761번 샘플 전처리 후 : [CLS] 2014년 2월 9일 러시아 소치 아들레르 아레나서 열린 소치 동계올림픽 3000m 부문에서 김보름 ( 21 ) 은 4분12초08의 기록으로로 13위를 차지했다. 이날 3조로 경기를 치른 김보름은 21초05로 200m 구간을 통과한 후 2분31초34로 1800m 구간을 지났다. 이후 2200m 구간 통과 순간부터 스피드를 올리며 후반 들어 스퍼트를 올렸고, 결국 하위권이 아닌 중위권 기록을 남겼다. 김보름의 순위인 13위는 지난 2006 토리노 올림픽, 2010 밴쿠버 올림픽 당시 노선영 ( 25 - 강원도청 ) 이 기록한 19위를 넘어 한국 여자 3000m 부문의 가장 높은 순위다. 5조의 노선영은 4분19초02를 기록했다. 노선영은 200m 구간에서 21초32의 기록으로 지난 이후 속도를 올리지 못한 채로 결승점을 통과했다. 결국 노선영은 전체 26위의 성적을 남기며 경기를 마쳤다. 6조에서 경기를 소화한 양신영 ( 24 - 전북도청 [SEP] 소치 팀추월 파이널D에서 여자 팀추월 대표팀의 최종 성적은? [SEP]\n"
          ]
        }
      ]
    },
    {
      "cell_type": "code",
      "execution_count": null,
      "metadata": {
        "id": "DOMeaI-pnxnS"
      },
      "outputs": [],
      "source": [
        "def delete_samples(encodings, deleting_list):\n",
        "  input_ids = np.delete(np.array(encodings['input_ids']), deleting_list, axis=0)\n",
        "  attention_masks = np.delete(np.array(encodings['attention_mask']), deleting_list, axis=0)\n",
        "  start_positions = np.delete(np.array(encodings['start_positions']), deleting_list, axis=0)\n",
        "  end_positions = np.delete(np.array(encodings['end_positions']), deleting_list, axis=0)\n",
        "\n",
        "  X_data = [input_ids, attention_masks]\n",
        "  y_data = [start_positions, end_positions]\n",
        "\n",
        "  return X_data, y_data"
      ]
    },
    {
      "cell_type": "code",
      "execution_count": null,
      "metadata": {
        "id": "-Vm7xymqoR76"
      },
      "outputs": [],
      "source": [
        "X_train, y_train = delete_samples(train_encodings, deleting_list_for_train)\n",
        "X_test, y_test = delete_samples(val_encodings, deleting_list_for_test)"
      ]
    },
    {
      "cell_type": "code",
      "source": [
        "print('-------------삭제 전-------------')\n",
        "print('훈련 데이터의 샘플의 개수 :', len(train_contexts))\n",
        "print('테스트 데이터의 샘플의 개수 :', len(val_contexts))\n",
        "print('-------------삭제 후-------------')\n",
        "print('훈련 데이터의 샘플의 개수 :', len(X_train[0]))\n",
        "print('테스트 데이터의 샘플의 개수 :', len(X_test[0]))"
      ],
      "metadata": {
        "colab": {
          "base_uri": "https://localhost:8080/"
        },
        "id": "je0_uQTWt_P_",
        "outputId": "d2b4b641-f057-47e3-f664-47fdf13b1665"
      },
      "execution_count": null,
      "outputs": [
        {
          "output_type": "stream",
          "name": "stdout",
          "text": [
            "-------------삭제 전-------------\n",
            "훈련 데이터의 샘플의 개수 : 60407\n",
            "테스트 데이터의 샘플의 개수 : 5774\n",
            "-------------삭제 후-------------\n",
            "훈련 데이터의 샘플의 개수 : 54565\n",
            "테스트 데이터의 샘플의 개수 : 5215\n"
          ]
        }
      ]
    },
    {
      "cell_type": "code",
      "execution_count": null,
      "metadata": {
        "id": "QEnN8hK9EM6G"
      },
      "outputs": [],
      "source": [
        "import torch\n",
        "from torch import nn\n",
        "from torch.optim import Adam\n",
        "from torch.utils.data import TensorDataset, DataLoader\n",
        "from transformers import BertModel, BertTokenizer\n",
        "\n",
        "class BertForQuestionAnswering(nn.Module):\n",
        "    # init에는 우리가 사용할 모델의 층들을 선언하는 부분.\n",
        "    def __init__(self, model_name):\n",
        "        super(BertForQuestionAnswering, self).__init__()\n",
        "        self.bert = BertModel.from_pretrained(model_name)\n",
        "        # 사용할 출력층에서 사용할 뉴런은 2개. 각각 시작 인덱스 예측과 종료 인덱스 예측에 사용된다.\n",
        "        self.qa_outputs = nn.Linear(self.bert.config.hidden_size, 2)\n",
        "\n",
        "    # forward 부분은 init에서 선언한 층들을 연결하는 부분.\n",
        "    def forward(self, input_ids, attention_mask=None):\n",
        "        outputs = self.bert(input_ids, attention_mask=attention_mask)\n",
        "        # BERT의 마지막 층의 모든 토큰들. outputs[0].shape == (배치 크기, 문장 길이, 768)\n",
        "        # 예를 들어서 하나의 데이터가 512개의 단어로 구성되어져 있다면 (배치 크기, 512, 768)\n",
        "        # 그런데 동시에 50개의 데이터를 처리한다면. 즉, 배치 크기가 50이라면 (50, 512, 768)\n",
        "        sequence_output = outputs[0]\n",
        "\n",
        "        # 사용할 출력층은 총 뉴런 2개. 각각 시작 인덱스 예측과 종료 인덱스 예측에 사용된다.\n",
        "        logits = self.qa_outputs(sequence_output)\n",
        "\n",
        "        # 뉴런 2개를 쪼갠다. 그래서 1개짜리가 2개.\n",
        "        start_logits, end_logits = logits.split(1, dim=-1)\n",
        "\n",
        "        start_logits = start_logits.squeeze(-1)\n",
        "        end_logits = end_logits.squeeze(-1)\n",
        "\n",
        "        # 시작 인덱스에 대한 다중 클래스 분류 문제.\n",
        "        # 예를 들어 모델의 최대 길이가 512라면 512개 중 가장 확률값이 높은 1개를 찾는다.\n",
        "        start_probs = torch.softmax(start_logits, dim=-1)\n",
        "\n",
        "        # 종료 인덱스에 대한 다중 클래스 분류 문제\n",
        "        # 예를 들어 모델의 최대 길이가 512라면 512개 중 가장 확률값이 높은 1개를 찾는다.\n",
        "        end_probs = torch.softmax(end_logits, dim=-1)\n",
        "\n",
        "        return start_probs, end_probs\n",
        "\n",
        "model = BertForQuestionAnswering(\"klue/bert-base\")\n",
        "optimizer = Adam(model.parameters(), lr=5e-5)\n",
        "loss = nn.CrossEntropyLoss()"
      ]
    },
    {
      "cell_type": "code",
      "execution_count": null,
      "metadata": {
        "id": "9I1xgXr63rYs"
      },
      "outputs": [],
      "source": [
        "def create_dataset(X_data, y_data):\n",
        "    \"\"\"\n",
        "    입력 데이터(X_data)와 레이블(y_data)를 받아 파이토치의 TensorDataset으로 변환합니다.\n",
        "    이 함수는 기계 독해 모델 학습을 위한 데이터셋 생성 과정에서 필요한 입력 데이터와 타겟 레이블을 텐서로 변환하고,\n",
        "    이를 TensorDataset 객체로 묶어 반환합니다. 이렇게 생성된 데이터셋은 DataLoader를 통해 모델 학습에 사용될 수 있습니다.\n",
        "\n",
        "    Parameters:\n",
        "    X_data (tuple): 입력 데이터를 담고 있는 튜플. X_data는 (input_ids, attention_masks) 형태로,\n",
        "                    각각 정수 인코딩된 텍스트와 어텐션 마스크 정보를 포함합니다.\n",
        "    y_data (tuple): 타겟 레이블 데이터를 담고 있는 튜플. y_data는 (start_positions, end_positions) 형태로,\n",
        "                    각각 정답이 시작하는 위치와 끝나는 위치의 인덱스 정보를 포함합니다.\n",
        "\n",
        "    Returns:\n",
        "    TensorDataset: 입력 데이터와 타겟 레이블을 포함하는 파이토치의 TensorDataset 객체.\n",
        "    \"\"\"\n",
        "    # 입력 데이터(X_data)에서 정수 인코딩된 텍스트와 어텐션 마스크를 추출합니다.\n",
        "    input_ids, attention_masks = X_data\n",
        "\n",
        "    # 타겟 레이블(y_data)에서 정답의 시작 위치와 종료 위치를 추출합니다.\n",
        "    start_positions, end_positions = y_data\n",
        "\n",
        "    # 추출한 데이터들을 각각 파이토치 텐서로 변환합니다. 데이터 타입은 모두 torch.long으로 설정합니다.\n",
        "    input_ids = torch.tensor(input_ids, dtype=torch.long)\n",
        "    attention_masks = torch.tensor(attention_masks, dtype=torch.long)\n",
        "    start_positions = torch.tensor(start_positions, dtype=torch.long)\n",
        "    end_positions = torch.tensor(end_positions, dtype=torch.long)\n",
        "\n",
        "    # 변환된 텐서들을 TensorDataset 객체로 묶어서 반환합니다. 이 객체는 DataLoader와 함께 사용될 수 있습니다.\n",
        "    dataset = TensorDataset(input_ids, attention_masks, start_positions, end_positions)\n",
        "    return dataset"
      ]
    },
    {
      "cell_type": "code",
      "execution_count": null,
      "metadata": {
        "id": "LxAv5q6MBULv"
      },
      "outputs": [],
      "source": [
        "batch_size = 50"
      ]
    },
    {
      "cell_type": "code",
      "execution_count": null,
      "metadata": {
        "colab": {
          "base_uri": "https://localhost:8080/"
        },
        "id": "6qhEehNx3r20",
        "outputId": "1afc8188-5b32-4a56-e95a-8ee89237e9d3"
      },
      "outputs": [
        {
          "output_type": "execute_result",
          "data": {
            "text/plain": [
              "BertForQuestionAnswering(\n",
              "  (bert): BertModel(\n",
              "    (embeddings): BertEmbeddings(\n",
              "      (word_embeddings): Embedding(32000, 768, padding_idx=0)\n",
              "      (position_embeddings): Embedding(512, 768)\n",
              "      (token_type_embeddings): Embedding(2, 768)\n",
              "      (LayerNorm): LayerNorm((768,), eps=1e-12, elementwise_affine=True)\n",
              "      (dropout): Dropout(p=0.1, inplace=False)\n",
              "    )\n",
              "    (encoder): BertEncoder(\n",
              "      (layer): ModuleList(\n",
              "        (0-11): 12 x BertLayer(\n",
              "          (attention): BertAttention(\n",
              "            (self): BertSelfAttention(\n",
              "              (query): Linear(in_features=768, out_features=768, bias=True)\n",
              "              (key): Linear(in_features=768, out_features=768, bias=True)\n",
              "              (value): Linear(in_features=768, out_features=768, bias=True)\n",
              "              (dropout): Dropout(p=0.1, inplace=False)\n",
              "            )\n",
              "            (output): BertSelfOutput(\n",
              "              (dense): Linear(in_features=768, out_features=768, bias=True)\n",
              "              (LayerNorm): LayerNorm((768,), eps=1e-12, elementwise_affine=True)\n",
              "              (dropout): Dropout(p=0.1, inplace=False)\n",
              "            )\n",
              "          )\n",
              "          (intermediate): BertIntermediate(\n",
              "            (dense): Linear(in_features=768, out_features=3072, bias=True)\n",
              "            (intermediate_act_fn): GELUActivation()\n",
              "          )\n",
              "          (output): BertOutput(\n",
              "            (dense): Linear(in_features=3072, out_features=768, bias=True)\n",
              "            (LayerNorm): LayerNorm((768,), eps=1e-12, elementwise_affine=True)\n",
              "            (dropout): Dropout(p=0.1, inplace=False)\n",
              "          )\n",
              "        )\n",
              "      )\n",
              "    )\n",
              "    (pooler): BertPooler(\n",
              "      (dense): Linear(in_features=768, out_features=768, bias=True)\n",
              "      (activation): Tanh()\n",
              "    )\n",
              "  )\n",
              "  (qa_outputs): Linear(in_features=768, out_features=2, bias=True)\n",
              ")"
            ]
          },
          "metadata": {},
          "execution_count": 35
        }
      ],
      "source": [
        "train_dataset = create_dataset(X_train, y_train)\n",
        "test_dataset = create_dataset(X_test, y_test)\n",
        "\n",
        "train_dataloader = DataLoader(train_dataset, batch_size=batch_size, shuffle=True)\n",
        "test_dataloader = DataLoader(test_dataset, batch_size=batch_size)\n",
        "\n",
        "device = torch.device(\"cuda\" if torch.cuda.is_available() else \"cpu\")\n",
        "model.to(device)"
      ]
    },
    {
      "cell_type": "code",
      "source": [
        "54565 / 50"
      ],
      "metadata": {
        "colab": {
          "base_uri": "https://localhost:8080/"
        },
        "id": "AD2jaX73uPgV",
        "outputId": "38ccfd48-4a1e-4cd0-d9ab-f6f941f9a877"
      },
      "execution_count": null,
      "outputs": [
        {
          "output_type": "execute_result",
          "data": {
            "text/plain": [
              "1091.3"
            ]
          },
          "metadata": {},
          "execution_count": 38
        }
      ]
    },
    {
      "cell_type": "code",
      "source": [
        "len(train_dataloader)"
      ],
      "metadata": {
        "colab": {
          "base_uri": "https://localhost:8080/"
        },
        "id": "dA1jSpvuuK1X",
        "outputId": "97af84c4-0aec-40d2-891c-76ed1a1c50b9"
      },
      "execution_count": null,
      "outputs": [
        {
          "output_type": "execute_result",
          "data": {
            "text/plain": [
              "1092"
            ]
          },
          "metadata": {},
          "execution_count": 37
        }
      ]
    },
    {
      "cell_type": "code",
      "source": [
        "def evaluate(model, dataloader, loss, device):\n",
        "    \"\"\"\n",
        "    모델의 성능을 평가하고 데이터로더를 통해 손실 값을 계산합니다. 이 함수는 주어진 데이터로더에 대해 모델을 평가 모드로 설정하고,\n",
        "    각 배치에 대한 손실을 계산하여 평균 손실을 반환합니다.\n",
        "\n",
        "    Parameters:\n",
        "    model (torch.nn.Module): 평가할 모델 객체.\n",
        "    dataloader (torch.utils.data.DataLoader): 평가 데이터셋의 DataLoader.\n",
        "    loss (torch.nn.modules.loss): 손실 함수.\n",
        "    device (torch.device): 계산에 사용할 장치 (예: 'cuda' 또는 'cpu').\n",
        "\n",
        "    Returns:\n",
        "    float: 데이터로더에 있는 모든 데이터에 대한 평균 손실값.\n",
        "    \"\"\"\n",
        "    model.eval() # 모델을 평가 모드로 설정\n",
        "    total_loss = 0.0\n",
        "\n",
        "    for input_ids, attention_mask, start_positions, end_positions in dataloader:\n",
        "        # 데이터를 지정된 장치로 이동\n",
        "        input_ids = input_ids.to(device)\n",
        "        attention_mask = attention_mask.to(device)\n",
        "        start_positions = start_positions.to(device)\n",
        "        end_positions = end_positions.to(device)\n",
        "\n",
        "        with torch.no_grad(): # 그라디언트 계산을 비활성화\n",
        "            # 모델의 예측 결과를 얻음\n",
        "            start_probs, end_probs = model(input_ids, attention_mask=attention_mask)\n",
        "            # 시작 위치와 종료 위치에 대한 손실 계산\n",
        "            loss_start = loss(start_probs, start_positions)\n",
        "            loss_end = loss(end_probs, end_positions)\n",
        "            # 손실의 평균을 계산\n",
        "            batch_loss = (loss_start + loss_end) / 2\n",
        "            # 총 손실에 배치 손실 추가\n",
        "            total_loss += batch_loss.item()\n",
        "\n",
        "    # 평균 손실 계산\n",
        "    avg_loss = total_loss / len(dataloader)\n",
        "    return avg_loss"
      ],
      "metadata": {
        "id": "3D2ayeNCZeT2"
      },
      "execution_count": null,
      "outputs": []
    },
    {
      "cell_type": "code",
      "execution_count": null,
      "metadata": {
        "colab": {
          "base_uri": "https://localhost:8080/"
        },
        "id": "LRJI5xtm388K",
        "outputId": "e3a1b158-13ac-4a63-eb7a-4b021c6a2fa6"
      },
      "outputs": [
        {
          "output_type": "stream",
          "name": "stderr",
          "text": [
            "100%|██████████| 1092/1092 [08:41<00:00,  2.09it/s]\n"
          ]
        },
        {
          "output_type": "stream",
          "name": "stdout",
          "text": [
            "Epoch 1, Loss: 4.743827617212093\n",
            "Epoch 1, Val Loss: 4.691907964433942\n"
          ]
        },
        {
          "output_type": "stream",
          "name": "stderr",
          "text": [
            "100%|██████████| 1092/1092 [08:40<00:00,  2.10it/s]\n"
          ]
        },
        {
          "output_type": "stream",
          "name": "stdout",
          "text": [
            "Epoch 2, Loss: 4.687719765600267\n",
            "Epoch 2, Val Loss: 4.697473326183501\n"
          ]
        },
        {
          "output_type": "stream",
          "name": "stderr",
          "text": [
            "100%|██████████| 1092/1092 [08:39<00:00,  2.10it/s]\n"
          ]
        },
        {
          "output_type": "stream",
          "name": "stdout",
          "text": [
            "Epoch 3, Loss: 4.676241213148767\n",
            "Epoch 3, Val Loss: 4.692061837514242\n"
          ]
        }
      ],
      "source": [
        "# BERT 기반의 기계 독해 모델 학습 과정을 실행하는 코드입니다.\n",
        "for epoch in range(3):  # 총 3 에포크(epoch) 동안 학습을 수행합니다.\n",
        "    model.train()  # 모델을 학습 모드로 설정합니다.\n",
        "    total_loss = 0.0  # 에포크별 총 손실을 초기화합니다.\n",
        "\n",
        "    # tqdm을 사용하여 학습 진행 상황을 시각화하며, train_dataloader의 각 배치(batch)를 순회합니다.\n",
        "    for input_ids, attention_mask, start_positions, end_positions in tqdm(train_dataloader, total=len(train_dataloader)):\n",
        "        # 배치 데이터를 현재 설정된 장치(device)로 이동합니다. GPU나 CPU 사용에 따라 달라집니다.\n",
        "        input_ids = input_ids.to(device)\n",
        "        attention_mask = attention_mask.to(device)\n",
        "        start_positions = start_positions.to(device)\n",
        "        end_positions = end_positions.to(device)\n",
        "\n",
        "        # 모델에 입력 데이터를 제공하고 시작 및 종료 위치에 대한 예측 확률을 계산합니다.\n",
        "        start_probs, end_probs = model(input_ids, attention_mask=attention_mask)\n",
        "        # 손실 함수를 사용하여 예측된 시작 및 종료 위치의 손실을 계산합니다.\n",
        "        loss_start = loss(start_probs, start_positions)\n",
        "        loss_end = loss(end_probs, end_positions)\n",
        "\n",
        "        # 시작 위치와 종료 위치에 대한 손실의 평균을 이 배치의 최종 손실로 계산합니다.\n",
        "        batch_loss = (loss_start + loss_end) / 2\n",
        "\n",
        "        optimizer.zero_grad()  # 옵티마이저의 그라디언트를 초기화합니다.\n",
        "        batch_loss.backward()  # 손실에 대해 역전파를 수행하여 그라디언트를 계산합니다.\n",
        "        optimizer.step()  # 계산된 그라디언트를 사용하여 모델의 매개변수를 업데이트합니다.\n",
        "\n",
        "        # 에포크별 총 손실에 이 배치의 손실을 누적합니다.\n",
        "        total_loss += batch_loss.item()\n",
        "\n",
        "    # 에포크가 끝날 때마다, 평균 손실을 계산하고 출력합니다.\n",
        "    avg_loss = total_loss / len(train_dataloader)  # 총 손실을 배치의 수로 나누어 평균 손실을 계산합니다.\n",
        "    print(f\"Epoch {epoch + 1}, Loss: {avg_loss}\")  # 현재 에포크의 평균 손실을 출력합니다.\n",
        "\n",
        "    # 학습된 모델을 평가 모드로 설정하고, 검증 데이터셋에 대한 손실을 계산합니다.\n",
        "    val_loss = evaluate(model, test_dataloader, loss, device)  # 검증 데이터셋에 대한 평균 손실을 계산하는 함수를 호출합니다.\n",
        "    print(f\"Epoch {epoch + 1}, Val Loss: {val_loss}\")  # 검증 데이터셋에 대한 평균 손실을 출력합니다."
      ]
    },
    {
      "cell_type": "code",
      "source": [
        "def predict(model, input_ids, attention_mask):\n",
        "    \"\"\"\n",
        "    주어진 입력에 대해 모델이 예측한 시작 인덱스와 종료 인덱스를 반환합니다. 이 함수는 모델을 평가 모드로 설정하고,\n",
        "    입력 텐서에 대한 예측을 수행한 후, 시작 위치와 종료 위치의 확률 분포에서 가장 높은 확률을 가진 인덱스를 각각 찾아 반환합니다.\n",
        "\n",
        "    Parameters:\n",
        "    model (torch.nn.Module): 예측을 수행할 모델 객체.\n",
        "    input_ids (torch.Tensor): 모델에 입력될 토큰화된 텍스트의 정수 인코딩을 포함하는 텐서.\n",
        "    attention_mask (torch.Tensor): 입력 텐서에서 실제 텍스트와 패딩을 구분하기 위한 마스크 텐서.\n",
        "\n",
        "    Returns:\n",
        "    tuple: (start_index, end_index) 형태로, 모델이 예측한 시작 인덱스와 종료 인덱스를 반환합니다.\n",
        "    \"\"\"\n",
        "    model.eval()  # 모델을 평가 모드로 설정합니다.\n",
        "    with torch.no_grad():  # 그라디언트 계산을 비활성화합니다.\n",
        "        # 모델에 입력을 제공하기 전에 입력의 차원을 증가시키고, 계산에 사용할 장치로 이동합니다.\n",
        "        start_probs, end_probs = model(input_ids.unsqueeze(0).to(device),\n",
        "                                       attention_mask=attention_mask.unsqueeze(0).to(device))\n",
        "\n",
        "    # 시작 위치와 종료 위치에 대한 확률 분포에서 가장 높은 확률을 가진 인덱스를 찾습니다.\n",
        "    start_index = torch.argmax(start_probs).item()  # 시작 인덱스 추출\n",
        "    end_index = torch.argmax(end_probs).item()  # 종료 인덱스 추출\n",
        "\n",
        "    return start_index, end_index  # 추출된 시작 및 종료 인덱스를 반환합니다."
      ],
      "metadata": {
        "id": "dYNWzOVb6o_b"
      },
      "execution_count": null,
      "outputs": []
    },
    {
      "cell_type": "code",
      "source": [
        "# 테스트 데이터, 출력할 테스트 데이터의 인덱스, 토크나이저를 받아서 해당 인덱스 샘플의 결과를 출력\n",
        "def display_output(test_data, index, tokenizer):\n",
        "\n",
        "\n",
        "    # index 번호의 테스트 데이터 샘플을 얻는다.\n",
        "    input_ids, attention_mask, start_position, end_position = test_data[index]\n",
        "\n",
        "    #------- 임의의 index로부터 테스트 데이터의 질문(question), 본문(context), 정답(true_answer)을 추출하는 과정 -------#\n",
        "    # decoded_text는 [CLS] 본문 [SEP] 질문 [SEP]의 형태로 구성된 텍스트.\n",
        "    decoded_text = tokenizer.decode(input_ids)\n",
        "\n",
        "    # decoded_text로부터 정답 문자열 추출.\n",
        "    true_answer = tokenizer.decode(input_ids[start_position:end_position + 1])\n",
        "\n",
        "    # 본문과 질문 추출하여 각각 context, question에 저장.\n",
        "    context = decoded_text.split('[SEP]')[0].replace('[CLS]', '').strip()\n",
        "    question = decoded_text.split('[SEP]')[1].strip()\n",
        "    #-------------------------------------------------------------------------------------------------------------------#\n",
        "\n",
        "    # 정수 인코딩 입력과 어텐션 마스크로부터 모델의 예측을 얻는다.\n",
        "    start_index, end_index = predict(model, input_ids=input_ids, attention_mask=attention_mask)\n",
        "    predicted_answer = tokenizer.decode(input_ids[start_index:end_index + 1])\n",
        "\n",
        "    # 본문, 질문, 정답 그리고 모델의 예측을 출력하여 정답과 예측값을 비교한다.\n",
        "    print(f\"본문: {context}\")\n",
        "    print(f\"질문: {question}\")\n",
        "    print(f\"정답: {true_answer}\")\n",
        "    print(f\"예측: {predicted_answer}\")"
      ],
      "metadata": {
        "id": "-R1M7YT87-GP"
      },
      "execution_count": null,
      "outputs": []
    },
    {
      "cell_type": "code",
      "source": [
        "display_output(test_dataset, 15, tokenizer)"
      ],
      "metadata": {
        "colab": {
          "base_uri": "https://localhost:8080/"
        },
        "id": "W20rs3H04M53",
        "outputId": "24477a5c-d6c0-46f2-bfc0-8bc60d888a23"
      },
      "execution_count": null,
      "outputs": [
        {
          "output_type": "stream",
          "name": "stdout",
          "text": [
            "본문: 알렉산더 메이그스 헤이그 2세 ( 영어 : Alexander Meigs Haig, Jr., 1924년 12월 2일 ~ 2010년 2월 20일 ) 는 미국의 국무 장관을 지낸 미국의 군인, 관료 및 정치인이다. 로널드 레이건 대통령 밑에서 국무장관을 지냈으며, 리처드 닉슨과 제럴드 포드 대통령 밑에서 백악관 비서실장을 지냈다. 또한 그는 미국 군대에서 2번째로 높은 직위인 미국 육군 부참모 총장과 나토 및 미국 군대의 유럽연합군 최고사령관이었다. 한국 전쟁 시절 더글러스 맥아더 유엔군 사령관의 참모로 직접 참전하였으며, 로널드 레이건 정부 출범당시 초대 국무장관직을 맡아 1980년대 대한민국과 미국의 관계를 조율해 왔다. 저서로 회고록 《 경고 : 현실주의, 레이건과 외교 정책 》 ( 1984년 발간 ) 이 있다.\n",
            "질문: 알렉산더 메이그스 헤이그의 생년월일은?\n",
            "정답: 1924년 12월 2일\n",
            "예측: 1924년 12월 2일\n"
          ]
        }
      ]
    },
    {
      "cell_type": "code",
      "source": [
        "index = 5"
      ],
      "metadata": {
        "id": "-NpyMHh_7EER"
      },
      "execution_count": null,
      "outputs": []
    },
    {
      "cell_type": "code",
      "source": [
        "display_output(test_dataset, index, tokenizer)"
      ],
      "metadata": {
        "colab": {
          "base_uri": "https://localhost:8080/"
        },
        "id": "oWhq9TaV7Cpk",
        "outputId": "2e62a9d7-9b8c-41e1-a626-5dbdefc65f36"
      },
      "execution_count": null,
      "outputs": [
        {
          "output_type": "stream",
          "name": "stdout",
          "text": [
            "본문: 1989년 2월 15일 여의도 농민 폭력 시위를 주도한 혐의 ( 폭력행위등처벌에관한법률위반 ) 으로 지명수배되었다. 1989년 3월 12일 서울지방검찰청 공안부는 임종석의 사전구속영장을 발부받았다. 같은 해 6월 30일 평양축전에 임수경을 대표로 파견하여 국가보안법위반 혐의가 추가되었다. 경찰은 12월 18일 ~ 20일 사이 서울 경희대학교에서 임종석이 성명 발표를 추진하고 있다는 첩보를 입수했고, 12월 18일 오전 7시 40분 경 가스총과 전자봉으로 무장한 특공조 및 대공과 직원 12명 등 22명의 사복 경찰을 승용차 8대에 나누어 경희대학교에 투입했다. 1989년 12월 18일 오전 8시 15분 경 서울청량리경찰서는 호위 학생 5명과 함께 경희대학교 학생회관 건물 계단을 내려오는 임종석을 발견, 검거해 구속을 집행했다. 임종석은 청량리경찰서에서 약 1시간 동안 조사를 받\n",
            "질문: 임종석이 1989년 2월 15일에 지명수배 받은 혐의는 어떤 시위를 주도했다는 것인가?\n",
            "정답: 여의도 농민 폭력 시위\n",
            "예측: 여의도 농민 폭력 시위\n"
          ]
        }
      ]
    },
    {
      "cell_type": "code",
      "source": [
        "for i in range(0, 100):\n",
        "  display_output(test_dataset, i, tokenizer)\n",
        "  print('-' * 100)"
      ],
      "metadata": {
        "colab": {
          "base_uri": "https://localhost:8080/"
        },
        "id": "v56UF6E38dMl",
        "outputId": "0f57d7b4-1662-43bd-b74c-c85cd4bc41d1"
      },
      "execution_count": null,
      "outputs": [
        {
          "output_type": "stream",
          "name": "stdout",
          "text": [
            "본문: 1989년 2월 15일 여의도 농민 폭력 시위를 주도한 혐의 ( 폭력행위등처벌에관한법률위반 ) 으로 지명수배되었다. 1989년 3월 12일 서울지방검찰청 공안부는 임종석의 사전구속영장을 발부받았다. 같은 해 6월 30일 평양축전에 임수경을 대표로 파견하여 국가보안법위반 혐의가 추가되었다. 경찰은 12월 18일 ~ 20일 사이 서울 경희대학교에서 임종석이 성명 발표를 추진하고 있다는 첩보를 입수했고, 12월 18일 오전 7시 40분 경 가스총과 전자봉으로 무장한 특공조 및 대공과 직원 12명 등 22명의 사복 경찰을 승용차 8대에 나누어 경희대학교에 투입했다. 1989년 12월 18일 오전 8시 15분 경 서울청량리경찰서는 호위 학생 5명과 함께 경희대학교 학생회관 건물 계단을 내려오는 임종석을 발견, 검거해 구속을 집행했다. 임종석은 청량리경찰서에서 약 1시간 동안 조사를 받은 뒤 오전 9시 50분 경\n",
            "질문: 임종석이 여의도 농민 폭력 시위를 주도한 혐의로 지명수배 된 날은?\n",
            "정답: 1989년 2월 15일\n",
            "예측: 1989년 2월 15일\n",
            "----------------------------------------------------------------------------------------------------\n",
            "본문: 1989년 2월 15일 여의도 농민 폭력 시위를 주도한 혐의 ( 폭력행위등처벌에관한법률위반 ) 으로 지명수배되었다. 1989년 3월 12일 서울지방검찰청 공안부는 임종석의 사전구속영장을 발부받았다. 같은 해 6월 30일 평양축전에 임수경을 대표로 파견하여 국가보안법위반 혐의가 추가되었다. 경찰은 12월 18일 ~ 20일 사이 서울 경희대학교에서 임종석이 성명 발표를 추진하고 있다는 첩보를 입수했고, 12월 18일 오전 7시 40분 경 가스총과 전자봉으로 무장한 특공조 및 대공과 직원 12명 등 22명의 사복 경찰을 승용차 8대에 나누어 경희대학교에 투입했다. 1989년 12월 18일 오전 8시 15분 경 서울청량리경찰서는 호위 학생 5명과 함께 경희대학교 학생회관 건물 계단을 내려오는 임종석을 발견, 검거해 구속을 집행했다. 임종석은 청량리경찰서에서 약 1시간 동안 조사를 받은 뒤 오전 9시 50분 경 서울\n",
            "질문: 1989년 6월 30일 평양축전에 대표로 파견 된 인물은?\n",
            "정답: 임수경\n",
            "예측: 임수경\n",
            "----------------------------------------------------------------------------------------------------\n",
            "본문: 1989년 2월 15일 여의도 농민 폭력 시위를 주도한 혐의 ( 폭력행위등처벌에관한법률위반 ) 으로 지명수배되었다. 1989년 3월 12일 서울지방검찰청 공안부는 임종석의 사전구속영장을 발부받았다. 같은 해 6월 30일 평양축전에 임수경을 대표로 파견하여 국가보안법위반 혐의가 추가되었다. 경찰은 12월 18일 ~ 20일 사이 서울 경희대학교에서 임종석이 성명 발표를 추진하고 있다는 첩보를 입수했고, 12월 18일 오전 7시 40분 경 가스총과 전자봉으로 무장한 특공조 및 대공과 직원 12명 등 22명의 사복 경찰을 승용차 8대에 나누어 경희대학교에 투입했다. 1989년 12월 18일 오전 8시 15분 경 서울청량리경찰서는 호위 학생 5명과 함께 경희대학교 학생회관 건물 계단을 내려오는 임종석을 발견, 검거해 구속을 집행했다. 임종석은 청량리경찰서에서 약 1시간 동안 조사를 받은 뒤 오전 9시 50분 경\n",
            "질문: 임종석이 여의도 농민 폭력 시위를 주도한 혐의로 지명수배된 연도는?\n",
            "정답: 1989년\n",
            "예측: 1989년\n",
            "----------------------------------------------------------------------------------------------------\n",
            "본문: 1989년 2월 15일 여의도 농민 폭력 시위를 주도한 혐의 ( 폭력행위등처벌에관한법률위반 ) 으로 지명수배되었다. 1989년 3월 12일 서울지방검찰청 공안부는 임종석의 사전구속영장을 발부받았다. 같은 해 6월 30일 평양축전에 임수경을 대표로 파견하여 국가보안법위반 혐의가 추가되었다. 경찰은 12월 18일 ~ 20일 사이 서울 경희대학교에서 임종석이 성명 발표를 추진하고 있다는 첩보를 입수했고, 12월 18일 오전 7시 40분 경 가스총과 전자봉으로 무장한 특공조 및 대공과 직원 12명 등 22명의 사복 경찰을 승용차 8대에 나누어 경희대학교에 투입했다. 1989년 12월 18일 오전 8시 15분 경 서울청량리경찰서는 호위 학생 5명과 함께 경희대학교 학생회관 건물 계단을 내려오는 임종석을 발견, 검거해 구속을 집행했다. 임종석은 청량리경찰서에서 약 1시간 동안 조사를 받은 뒤 오전 9시 50분 경 서울 장안동의 서울지방\n",
            "질문: 임종석을 검거한 장소는 경희대 내 어디인가?\n",
            "정답: 학생회관 건물 계단\n",
            "예측: 서울청량리경찰서\n",
            "----------------------------------------------------------------------------------------------------\n",
            "본문: 1989년 2월 15일 여의도 농민 폭력 시위를 주도한 혐의 ( 폭력행위등처벌에관한법률위반 ) 으로 지명수배되었다. 1989년 3월 12일 서울지방검찰청 공안부는 임종석의 사전구속영장을 발부받았다. 같은 해 6월 30일 평양축전에 임수경을 대표로 파견하여 국가보안법위반 혐의가 추가되었다. 경찰은 12월 18일 ~ 20일 사이 서울 경희대학교에서 임종석이 성명 발표를 추진하고 있다는 첩보를 입수했고, 12월 18일 오전 7시 40분 경 가스총과 전자봉으로 무장한 특공조 및 대공과 직원 12명 등 22명의 사복 경찰을 승용차 8대에 나누어 경희대학교에 투입했다. 1989년 12월 18일 오전 8시 15분 경 서울청량리경찰서는 호위 학생 5명과 함께 경희대학교 학생회관 건물 계단을 내려오는 임종석을 발견, 검거해 구속을 집행했다. 임종석은 청량리경찰서에서 약 1시간 동안 조사를 받은 뒤\n",
            "질문: 1989년 2월 15일 여의도 농민 폭력 시위를 주도한 혐의로 지명수배된 사람의 이름은?\n",
            "정답: 임종석\n",
            "예측: 임종석\n",
            "----------------------------------------------------------------------------------------------------\n",
            "본문: 1989년 2월 15일 여의도 농민 폭력 시위를 주도한 혐의 ( 폭력행위등처벌에관한법률위반 ) 으로 지명수배되었다. 1989년 3월 12일 서울지방검찰청 공안부는 임종석의 사전구속영장을 발부받았다. 같은 해 6월 30일 평양축전에 임수경을 대표로 파견하여 국가보안법위반 혐의가 추가되었다. 경찰은 12월 18일 ~ 20일 사이 서울 경희대학교에서 임종석이 성명 발표를 추진하고 있다는 첩보를 입수했고, 12월 18일 오전 7시 40분 경 가스총과 전자봉으로 무장한 특공조 및 대공과 직원 12명 등 22명의 사복 경찰을 승용차 8대에 나누어 경희대학교에 투입했다. 1989년 12월 18일 오전 8시 15분 경 서울청량리경찰서는 호위 학생 5명과 함께 경희대학교 학생회관 건물 계단을 내려오는 임종석을 발견, 검거해 구속을 집행했다. 임종석은 청량리경찰서에서 약 1시간 동안 조사를 받\n",
            "질문: 임종석이 1989년 2월 15일에 지명수배 받은 혐의는 어떤 시위를 주도했다는 것인가?\n",
            "정답: 여의도 농민 폭력 시위\n",
            "예측: 여의도 농민 폭력 시위\n",
            "----------------------------------------------------------------------------------------------------\n",
            "본문: \" 내각과 장관들이 소외되고 대통령비서실의 권한이 너무 크다 \", \" 행보가 비서 본연의 역할을 벗어난다 \" 는 의견이 제기되었다. 대표적인 예가 10차 개헌안 발표이다. 원로 헌법학자인 허영 경희대 석좌교수는 정부의 헌법개정안 준비 과정에 대해 \" 청와대 비서실이 아닌 국무회의 중심으로 이뤄졌어야 했다 \" 고 지적했다.'국무회의의 심의를 거쳐야 한다'( 제89조 ) 는 헌법 규정에 충실하지 않았다는 것이다. 그러면서 \" 법무부 장관을 제쳐놓고 민정수석이 개정안을 설명하는 게 이해가 안 된다 \" 고 지적했다. 민정수석은 국회의원에 대해 책임지는 법무부 장관도 아니고, 국민에 대해 책임지는 사람도 아니기 때문에 정당성이 없고, 단지 대통령의 신임이 있을 뿐이라는 것이다. 또한 국무총리 선출 방식에 대한 기자의 질문에 \" 문 대통령도 취임 전에 국무총리에게 실질적 권한을 주겠다고 했지만 그러지 못하고 있다. 대통령\n",
            "질문: 정부의 헌법개정안 준비 과정에 대해서 청와대 비서실이 아니라 국무회의 중심으로 이뤄졌어야 했다고 지적한 원로 헌법학자는?\n",
            "정답: 허영\n",
            "예측: 허영\n",
            "----------------------------------------------------------------------------------------------------\n",
            "본문: \" 내각과 장관들이 소외되고 대통령비서실의 권한이 너무 크다 \", \" 행보가 비서 본연의 역할을 벗어난다 \" 는 의견이 제기되었다. 대표적인 예가 10차 개헌안 발표이다. 원로 헌법학자인 허영 경희대 석좌교수는 정부의 헌법개정안 준비 과정에 대해 \" 청와대 비서실이 아닌 국무회의 중심으로 이뤄졌어야 했다 \" 고 지적했다.'국무회의의 심의를 거쳐야 한다'( 제89조 ) 는 헌법 규정에 충실하지 않았다는 것이다. 그러면서 \" 법무부 장관을 제쳐놓고 민정수석이 개정안을 설명하는 게 이해가 안 된다 \" 고 지적했다. 민정수석은 국회의원에 대해 책임지는 법무부 장관도 아니고, 국민에 대해 책임지는 사람도 아니기 때문에 정당성이 없고, 단지 대통령의 신임이 있을 뿐이라는 것이다. 또한 국무총리 선출 방식에 대한 기자의 질문에 \" 문 대통령도 취임 전에 국무총리에게 실질적 권한을 주겠다\n",
            "질문: '행보가 비서 본연의 역할을 벗어난다 ','장관들과 내각이 소외되고 대통령비서실의 권한이 너무 크다'는 의견이 제기된 대표적인 예는?\n",
            "정답: 10차 개헌안 발표\n",
            "예측: 10차 개헌안 발표\n",
            "----------------------------------------------------------------------------------------------------\n",
            "본문: \" 내각과 장관들이 소외되고 대통령비서실의 권한이 너무 크다 \", \" 행보가 비서 본연의 역할을 벗어난다 \" 는 의견이 제기되었다. 대표적인 예가 10차 개헌안 발표이다. 원로 헌법학자인 허영 경희대 석좌교수는 정부의 헌법개정안 준비 과정에 대해 \" 청와대 비서실이 아닌 국무회의 중심으로 이뤄졌어야 했다 \" 고 지적했다.'국무회의의 심의를 거쳐야 한다'( 제89조 ) 는 헌법 규정에 충실하지 않았다는 것이다. 그러면서 \" 법무부 장관을 제쳐놓고 민정수석이 개정안을 설명하는 게 이해가 안 된다 \" 고 지적했다. 민정수석은 국회의원에 대해 책임지는 법무부 장관도 아니고, 국민에 대해 책임지는 사람도 아니기 때문에 정당성이 없고, 단지 대통령의 신임이 있을 뿐이라는 것이다. 또한 국무총리 선출 방식에 대한 기자의 질문에 \" 문 대통령도 취임 전에 국무총리에게 실질적 권한을 주겠다고 했지만 그러지 못하고 있다. 대통령비서실장만도 못한 권한을 행사하고 있다.\n",
            "질문: 국무회의의 심의를 거쳐야 한다는 헌법 제 몇 조의 내용인가?\n",
            "정답: 제89조\n",
            "예측: 제89조\n",
            "----------------------------------------------------------------------------------------------------\n",
            "본문: \" 내각과 장관들이 소외되고 대통령비서실의 권한이 너무 크다 \", \" 행보가 비서 본연의 역할을 벗어난다 \" 는 의견이 제기되었다. 대표적인 예가 10차 개헌안 발표이다. 원로 헌법학자인 허영 경희대 석좌교수는 정부의 헌법개정안 준비 과정에 대해 \" 청와대 비서실이 아닌 국무회의 중심으로 이뤄졌어야 했다 \" 고 지적했다.'국무회의의 심의를 거쳐야 한다'( 제89조 ) 는 헌법 규정에 충실하지 않았다는 것이다. 그러면서 \" 법무부 장관을 제쳐놓고 민정수석이 개정안을 설명하는 게 이해가 안 된다 \" 고 지적했다. 민정수석은 국회의원에 대해 책임지는 법무부 장관도 아니고, 국민에 대해 책임지는 사람도 아니기 때문에 정당성이 없고, 단지 대통령의 신임이 있을 뿐이라는 것이다. 또한 국무총리 선출 방식에 대한 기자의 질문에 \" 문 대통령도 취임 전에 국무총리에게 실질적 권한을 주겠다고 했지만 그러지 못하고 있다. 대통령비\n",
            "질문: 법무부 장관을 제쳐놓고 민정수석이 개정안을 설명하는 게 이해가 안 된다고 지적한 경희대 석좌교수 이름은?\n",
            "정답: 허영\n",
            "예측: 허영\n",
            "----------------------------------------------------------------------------------------------------\n",
            "본문: 알렉산더 메이그스 헤이그 2세 ( 영어 : Alexander Meigs Haig, Jr., 1924년 12월 2일 ~ 2010년 2월 20일 ) 는 미국의 국무 장관을 지낸 미국의 군인, 관료 및 정치인이다. 로널드 레이건 대통령 밑에서 국무장관을 지냈으며, 리처드 닉슨과 제럴드 포드 대통령 밑에서 백악관 비서실장을 지냈다. 또한 그는 미국 군대에서 2번째로 높은 직위인 미국 육군 부참모 총장과 나토 및 미국 군대의 유럽연합군 최고사령관이었다. 한국 전쟁 시절 더글러스 맥아더 유엔군 사령관의 참모로 직접 참전하였으며, 로널드 레이건 정부 출범당시 초대 국무장관직을 맡아 1980년대 대한민국과 미국의 관계를 조율해 왔다. 저서로 회고록 《 경고 : 현실주의, 레이건과 외교 정책 》 ( 1984년 발간 ) 이 있다.\n",
            "질문: 미국 군대 내 두번째로 높은 직위는 무엇인가?\n",
            "정답: 미국 육군 부참모 총장\n",
            "예측: 미국 육군 부참모 총장\n",
            "----------------------------------------------------------------------------------------------------\n",
            "본문: 알렉산더 메이그스 헤이그 2세 ( 영어 : Alexander Meigs Haig, Jr., 1924년 12월 2일 ~ 2010년 2월 20일 ) 는 미국의 국무 장관을 지낸 미국의 군인, 관료 및 정치인이다. 로널드 레이건 대통령 밑에서 국무장관을 지냈으며, 리처드 닉슨과 제럴드 포드 대통령 밑에서 백악관 비서실장을 지냈다. 또한 그는 미국 군대에서 2번째로 높은 직위인 미국 육군 부참모 총장과 나토 및 미국 군대의 유럽연합군 최고사령관이었다. 한국 전쟁 시절 더글러스 맥아더 유엔군 사령관의 참모로 직접 참전하였으며, 로널드 레이건 정부 출범당시 초대 국무장관직을 맡아 1980년대 대한민국과 미국의 관계를 조율해 왔다. 저서로 회고록 《 경고 : 현실주의, 레이건과 외교 정책 》 ( 1984년 발간 ) 이 있다.\n",
            "질문: 로널드 레이건 정부 출범 당시 알렉산더 헤이그는 어떤 직책을 맡았는가?\n",
            "정답: 초대 국무장관직\n",
            "예측: 국무장관\n",
            "----------------------------------------------------------------------------------------------------\n",
            "본문: 알렉산더 메이그스 헤이그 2세 ( 영어 : Alexander Meigs Haig, Jr., 1924년 12월 2일 ~ 2010년 2월 20일 ) 는 미국의 국무 장관을 지낸 미국의 군인, 관료 및 정치인이다. 로널드 레이건 대통령 밑에서 국무장관을 지냈으며, 리처드 닉슨과 제럴드 포드 대통령 밑에서 백악관 비서실장을 지냈다. 또한 그는 미국 군대에서 2번째로 높은 직위인 미국 육군 부참모 총장과 나토 및 미국 군대의 유럽연합군 최고사령관이었다. 한국 전쟁 시절 더글러스 맥아더 유엔군 사령관의 참모로 직접 참전하였으며, 로널드 레이건 정부 출범당시 초대 국무장관직을 맡아 1980년대 대한민국과 미국의 관계를 조율해 왔다. 저서로 회고록 《 경고 : 현실주의, 레이건과 외교 정책 》 ( 1984년 발간 ) 이 있다.\n",
            "질문: 알렉산더 헤이그는 어느 대통령의 밑에서 국무장관을 지냈는가?\n",
            "정답: 로널드 레이건 대통령\n",
            "예측: 로널드 레이건\n",
            "----------------------------------------------------------------------------------------------------\n",
            "본문: 알렉산더 메이그스 헤이그 2세 ( 영어 : Alexander Meigs Haig, Jr., 1924년 12월 2일 ~ 2010년 2월 20일 ) 는 미국의 국무 장관을 지낸 미국의 군인, 관료 및 정치인이다. 로널드 레이건 대통령 밑에서 국무장관을 지냈으며, 리처드 닉슨과 제럴드 포드 대통령 밑에서 백악관 비서실장을 지냈다. 또한 그는 미국 군대에서 2번째로 높은 직위인 미국 육군 부참모 총장과 나토 및 미국 군대의 유럽연합군 최고사령관이었다. 한국 전쟁 시절 더글러스 맥아더 유엔군 사령관의 참모로 직접 참전하였으며, 로널드 레이건 정부 출범당시 초대 국무장관직을 맡아 1980년대 대한민국과 미국의 관계를 조율해 왔다. 저서로 회고록 《 경고 : 현실주의, 레이건과 외교 정책 》 ( 1984년 발간 ) 이 있다.\n",
            "질문: 로널드 레이건 대통령 밑에서 일한 국무 장관은 누구인가?\n",
            "정답: 알렉산더 메이그스 헤이그 2세\n",
            "예측: 알렉산더 메이그스 헤이그 2세\n",
            "----------------------------------------------------------------------------------------------------\n",
            "본문: 알렉산더 메이그스 헤이그 2세 ( 영어 : Alexander Meigs Haig, Jr., 1924년 12월 2일 ~ 2010년 2월 20일 ) 는 미국의 국무 장관을 지낸 미국의 군인, 관료 및 정치인이다. 로널드 레이건 대통령 밑에서 국무장관을 지냈으며, 리처드 닉슨과 제럴드 포드 대통령 밑에서 백악관 비서실장을 지냈다. 또한 그는 미국 군대에서 2번째로 높은 직위인 미국 육군 부참모 총장과 나토 및 미국 군대의 유럽연합군 최고사령관이었다. 한국 전쟁 시절 더글러스 맥아더 유엔군 사령관의 참모로 직접 참전하였으며, 로널드 레이건 정부 출범당시 초대 국무장관직을 맡아 1980년대 대한민국과 미국의 관계를 조율해 왔다. 저서로 회고록 《 경고 : 현실주의, 레이건과 외교 정책 》 ( 1984년 발간 ) 이 있다.\n",
            "질문: 미국 군대에서 두번째로 높은 직위는?\n",
            "정답: 미국 육군 부참모 총장\n",
            "예측: 미국 육군 부참모 총장\n",
            "----------------------------------------------------------------------------------------------------\n",
            "본문: 알렉산더 메이그스 헤이그 2세 ( 영어 : Alexander Meigs Haig, Jr., 1924년 12월 2일 ~ 2010년 2월 20일 ) 는 미국의 국무 장관을 지낸 미국의 군인, 관료 및 정치인이다. 로널드 레이건 대통령 밑에서 국무장관을 지냈으며, 리처드 닉슨과 제럴드 포드 대통령 밑에서 백악관 비서실장을 지냈다. 또한 그는 미국 군대에서 2번째로 높은 직위인 미국 육군 부참모 총장과 나토 및 미국 군대의 유럽연합군 최고사령관이었다. 한국 전쟁 시절 더글러스 맥아더 유엔군 사령관의 참모로 직접 참전하였으며, 로널드 레이건 정부 출범당시 초대 국무장관직을 맡아 1980년대 대한민국과 미국의 관계를 조율해 왔다. 저서로 회고록 《 경고 : 현실주의, 레이건과 외교 정책 》 ( 1984년 발간 ) 이 있다.\n",
            "질문: 알렉산더 메이그스 헤이그의 생년월일은?\n",
            "정답: 1924년 12월 2일\n",
            "예측: 1924년 12월 2일\n",
            "----------------------------------------------------------------------------------------------------\n",
            "본문: 알렉산더 메이그스 헤이그 2세 ( 영어 : Alexander Meigs Haig, Jr., 1924년 12월 2일 ~ 2010년 2월 20일 ) 는 미국의 국무 장관을 지낸 미국의 군인, 관료 및 정치인이다. 로널드 레이건 대통령 밑에서 국무장관을 지냈으며, 리처드 닉슨과 제럴드 포드 대통령 밑에서 백악관 비서실장을 지냈다. 또한 그는 미국 군대에서 2번째로 높은 직위인 미국 육군 부참모 총장과 나토 및 미국 군대의 유럽연합군 최고사령관이었다. 한국 전쟁 시절 더글러스 맥아더 유엔군 사령관의 참모로 직접 참전하였으며, 로널드 레이건 정부 출범당시 초대 국무장관직을 맡아 1980년대 대한민국과 미국의 관계를 조율해 왔다. 저서로 회고록 《 경고 : 현실주의, 레이건과 외교 정책 》 ( 1984년 발간 ) 이 있다.\n",
            "질문: 알렉산더 헤이그가 로널드 레이건 대통령 밑에서 맡은 직책은 무엇이었나?\n",
            "정답: 국무장관\n",
            "예측: 국무장관\n",
            "----------------------------------------------------------------------------------------------------\n",
            "본문: 알렉산더 메이그스 헤이그 2세 ( 영어 : Alexander Meigs Haig, Jr., 1924년 12월 2일 ~ 2010년 2월 20일 ) 는 미국의 국무 장관을 지낸 미국의 군인, 관료 및 정치인이다. 로널드 레이건 대통령 밑에서 국무장관을 지냈으며, 리처드 닉슨과 제럴드 포드 대통령 밑에서 백악관 비서실장을 지냈다. 또한 그는 미국 군대에서 2번째로 높은 직위인 미국 육군 부참모 총장과 나토 및 미국 군대의 유럽연합군 최고사령관이었다. 한국 전쟁 시절 더글러스 맥아더 유엔군 사령관의 참모로 직접 참전하였으며, 로널드 레이건 정부 출범당시 초대 국무장관직을 맡아 1980년대 대한민국과 미국의 관계를 조율해 왔다. 저서로 회고록 《 경고 : 현실주의, 레이건과 외교 정책 》 ( 1984년 발간 ) 이 있다.\n",
            "질문: 알렉산더 헤이그가 1984년 발간한 회고록의 제목은 무엇인가?\n",
            "정답: 경고 : 현실주의, 레이건과 외교 정책\n",
            "예측: 경고 : 현실주의, 레이건과 외교 정책\n",
            "----------------------------------------------------------------------------------------------------\n",
            "본문: 노터데임 대학교에서 2년간 합리적으로 심각한 공부를 한 후 헤이그는 1944년 미국 육군사관학교로 임명을 획득하여 자신의 어린 시절을 군사 경력의 야망으로 알아챘다. 그 경력은 헤이그의 학문적 경연이 암시하려고 한것보다 더욱 극적이었으며 그는 1947년 310의 동기병에서 217번째 사관으로서 졸업하였다. 22세의 소위로 헤이그는 처음에 캔자스 주 포트라일리에서 정통 제병 연합부대로, 그러고나서 켄터키 주 포트녹스에 있는 기갑 훈련소로 갔다. 그후에 그는 제1 기병 사단으로 선임되고 그러고나서 일본에서 점령군의 임무와 기력이 없는 훈련을 하였다. 그는 1950년 5월 한번 자신의 사령관 알론조 폭스 장군의 딸 퍼트리샤 앤토이넷 폭스와 결혼하여 슬하 3명의 자식을 두었다.\n",
            "질문: 알렉산더 헤이그와 1950년 5월 결혼한 상대의 이름은 무엇인가?\n",
            "정답: 퍼트리샤 앤토이넷 폭스\n",
            "예측: 퍼트리샤 앤토이넷 폭스\n",
            "----------------------------------------------------------------------------------------------------\n",
            "본문: 노터데임 대학교에서 2년간 합리적으로 심각한 공부를 한 후 헤이그는 1944년 미국 육군사관학교로 임명을 획득하여 자신의 어린 시절을 군사 경력의 야망으로 알아챘다. 그 경력은 헤이그의 학문적 경연이 암시하려고 한것보다 더욱 극적이었으며 그는 1947년 310의 동기병에서 217번째 사관으로서 졸업하였다. 22세의 소위로 헤이그는 처음에 캔자스 주 포트라일리에서 정통 제병 연합부대로, 그러고나서 켄터키 주 포트녹스에 있는 기갑 훈련소로 갔다. 그후에 그는 제1 기병 사단으로 선임되고 그러고나서 일본에서 점령군의 임무와 기력이 없는 훈련을 하였다. 그는 1950년 5월 한번 자신의 사령관 알론조 폭스 장군의 딸 퍼트리샤 앤토이넷 폭스와 결혼하여 슬하 3명의 자식을 두었다.\n",
            "질문: 알렉산더 헤이그가 미국 육군사관학교로 임명받은 해는 언제인가?\n",
            "정답: 1944년\n",
            "예측: 1944년\n",
            "----------------------------------------------------------------------------------------------------\n",
            "본문: 노터데임 대학교에서 2년간 합리적으로 심각한 공부를 한 후 헤이그는 1944년 미국 육군사관학교로 임명을 획득하여 자신의 어린 시절을 군사 경력의 야망으로 알아챘다. 그 경력은 헤이그의 학문적 경연이 암시하려고 한것보다 더욱 극적이었으며 그는 1947년 310의 동기병에서 217번째 사관으로서 졸업하였다. 22세의 소위로 헤이그는 처음에 캔자스 주 포트라일리에서 정통 제병 연합부대로, 그러고나서 켄터키 주 포트녹스에 있는 기갑 훈련소로 갔다. 그후에 그는 제1 기병 사단으로 선임되고 그러고나서 일본에서 점령군의 임무와 기력이 없는 훈련을 하였다. 그는 1950년 5월 한번 자신의 사령관 알론조 폭스 장군의 딸 퍼트리샤 앤토이넷 폭스와 결혼하여 슬하 3명의 자식을 두었다.\n",
            "질문: 알렉산더 헤이그는 퍼트리샤 앤토이넷 폭스와 결혼해 몇 명의 자녀를 두었는가?\n",
            "정답: 3명\n",
            "예측: 3명\n",
            "----------------------------------------------------------------------------------------------------\n",
            "본문: 노터데임 대학교에서 2년간 합리적으로 심각한 공부를 한 후 헤이그는 1944년 미국 육군사관학교로 임명을 획득하여 자신의 어린 시절을 군사 경력의 야망으로 알아챘다. 그 경력은 헤이그의 학문적 경연이 암시하려고 한것보다 더욱 극적이었으며 그는 1947년 310의 동기병에서 217번째 사관으로서 졸업하였다. 22세의 소위로 헤이그는 처음에 캔자스 주 포트라일리에서 정통 제병 연합부대로, 그러고나서 켄터키 주 포트녹스에 있는 기갑 훈련소로 갔다. 그후에 그는 제1 기병 사단으로 선임되고 그러고나서 일본에서 점령군의 임무와 기력이 없는 훈련을 하였다. 그는 1950년 5월 한번 자신의 사령관 알론조 폭스 장군의 딸 퍼트리샤 앤토이넷 폭스와 결혼하여 슬하 3명의 자식을 두었다.\n",
            "질문: 헤이그가 공부한 대학교는?\n",
            "정답: 노터데임 대학교\n",
            "예측: 노터데임 대학교\n",
            "----------------------------------------------------------------------------------------------------\n",
            "본문: 노터데임 대학교에서 2년간 합리적으로 심각한 공부를 한 후 헤이그는 1944년 미국 육군사관학교로 임명을 획득하여 자신의 어린 시절을 군사 경력의 야망으로 알아챘다. 그 경력은 헤이그의 학문적 경연이 암시하려고 한것보다 더욱 극적이었으며 그는 1947년 310의 동기병에서 217번째 사관으로서 졸업하였다. 22세의 소위로 헤이그는 처음에 캔자스 주 포트라일리에서 정통 제병 연합부대로, 그러고나서 켄터키 주 포트녹스에 있는 기갑 훈련소로 갔다. 그후에 그는 제1 기병 사단으로 선임되고 그러고나서 일본에서 점령군의 임무와 기력이 없는 훈련을 하였다. 그는 1950년 5월 한번 자신의 사령관 알론조 폭스 장군의 딸 퍼트리샤 앤토이넷 폭스와 결혼하여 슬하 3명의 자식을 두었다.\n",
            "질문: 헤이그의 부인은 누구인가?\n",
            "정답: 퍼트리샤 앤토이넷 폭스\n",
            "예측: 퍼트리샤 앤토이넷 폭스\n",
            "----------------------------------------------------------------------------------------------------\n",
            "본문: 노터데임 대학교에서 2년간 합리적으로 심각한 공부를 한 후 헤이그는 1944년 미국 육군사관학교로 임명을 획득하여 자신의 어린 시절을 군사 경력의 야망으로 알아챘다. 그 경력은 헤이그의 학문적 경연이 암시하려고 한것보다 더욱 극적이었으며 그는 1947년 310의 동기병에서 217번째 사관으로서 졸업하였다. 22세의 소위로 헤이그는 처음에 캔자스 주 포트라일리에서 정통 제병 연합부대로, 그러고나서 켄터키 주 포트녹스에 있는 기갑 훈련소로 갔다. 그후에 그는 제1 기병 사단으로 선임되고 그러고나서 일본에서 점령군의 임무와 기력이 없는 훈련을 하였다. 그는 1950년 5월 한번 자신의 사령관 알론조 폭스 장군의 딸 퍼트리샤 앤토이넷 폭스와 결혼하여 슬하 3명의 자식을 두었다.\n",
            "질문: 알렉산더 헤이그가 나온 대학교는?\n",
            "정답: 노터데임 대학교\n",
            "예측: 노터데임 대학교\n",
            "----------------------------------------------------------------------------------------------------\n",
            "본문: 노터데임 대학교에서 2년간 합리적으로 심각한 공부를 한 후 헤이그는 1944년 미국 육군사관학교로 임명을 획득하여 자신의 어린 시절을 군사 경력의 야망으로 알아챘다. 그 경력은 헤이그의 학문적 경연이 암시하려고 한것보다 더욱 극적이었으며 그는 1947년 310의 동기병에서 217번째 사관으로서 졸업하였다. 22세의 소위로 헤이그는 처음에 캔자스 주 포트라일리에서 정통 제병 연합부대로, 그러고나서 켄터키 주 포트녹스에 있는 기갑 훈련소로 갔다. 그후에 그는 제1 기병 사단으로 선임되고 그러고나서 일본에서 점령군의 임무와 기력이 없는 훈련을 하였다. 그는 1950년 5월 한번 자신의 사령관 알론조 폭스 장군의 딸 퍼트리샤 앤토이넷 폭스와 결혼하여 슬하 3명의 자식을 두었다.\n",
            "질문: 육군사관학교에서 졸업한 헤이그가 제일 처음 소위로 발령받은 부대는 무엇이었나?\n",
            "정답: 정통 제병 연합부대\n",
            "예측: 제병 연합부대\n",
            "----------------------------------------------------------------------------------------------------\n",
            "본문: 노터데임 대학교에서 2년간 합리적으로 심각한 공부를 한 후 헤이그는 1944년 미국 육군사관학교로 임명을 획득하여 자신의 어린 시절을 군사 경력의 야망으로 알아챘다. 그 경력은 헤이그의 학문적 경연이 암시하려고 한것보다 더욱 극적이었으며 그는 1947년 310의 동기병에서 217번째 사관으로서 졸업하였다. 22세의 소위로 헤이그는 처음에 캔자스 주 포트라일리에서 정통 제병 연합부대로, 그러고나서 켄터키 주 포트녹스에 있는 기갑 훈련소로 갔다. 그후에 그는 제1 기병 사단으로 선임되고 그러고나서 일본에서 점령군의 임무와 기력이 없는 훈련을 하였다. 그는 1950년 5월 한번 자신의 사령관 알론조 폭스 장군의 딸 퍼트리샤 앤토이넷 폭스와 결혼하여 슬하 3명의 자식을 두었다.\n",
            "질문: 1950년 헤이그와 결혼한 여자의 이름은?\n",
            "정답: 퍼트리샤 앤토이넷 폭스\n",
            "예측: 퍼트리샤 앤토이넷 폭스\n",
            "----------------------------------------------------------------------------------------------------\n",
            "본문: 헤이그는 닉슨 대통령이 그를 사성 장군과 육군 부참모로 진급시킬 때 집중 광선과 논쟁으로 들어갔다. 헤이그를 군사의 최상으로 밀어넣은 닉슨의 행동은 대통령의 남자들을 다양한 연방 대리법에서 권한의 직우들로 놓은 노력과 함께 일치였다. 하지만 그는 곧 백악관으로 돌아가 1973년부터 1974년까지 대통령 특별 보좌관을 지냈다. 워터게이트 사건이 일어난지 한달 후, 헤이그는 포위된 닉슨 대통령을 위한 치명적 역할을 하였다. 그일은 8월 닉슨의 사임과 제럴드 포드의 대통령으로 계승으로 이끈 협상들에서 헤이그가 수단이었던 우연이 아니었다. 곧 후에 헤이그는 미국 유럽 연합군 최고사령부의 최고 사령관으로 임명되었다. 그는 나토에서 다음 5년을 보내고 1979년 군에서 퇴역하여 미국 기술 주식 회사의 우두머리가 되었다.\n",
            "질문: 헤이그가 군에서 퇴역한 해는 언제인가?\n",
            "정답: 1979년\n",
            "예측: 1979년\n",
            "----------------------------------------------------------------------------------------------------\n",
            "본문: 헤이그는 닉슨 대통령이 그를 사성 장군과 육군 부참모로 진급시킬 때 집중 광선과 논쟁으로 들어갔다. 헤이그를 군사의 최상으로 밀어넣은 닉슨의 행동은 대통령의 남자들을 다양한 연방 대리법에서 권한의 직우들로 놓은 노력과 함께 일치였다. 하지만 그는 곧 백악관으로 돌아가 1973년부터 1974년까지 대통령 특별 보좌관을 지냈다. 워터게이트 사건이 일어난지 한달 후, 헤이그는 포위된 닉슨 대통령을 위한 치명적 역할을 하였다. 그일은 8월 닉슨의 사임과 제럴드 포드의 대통령으로 계승으로 이끈 협상들에서 헤이그가 수단이었던 우연이 아니었다. 곧 후에 헤이그는 미국 유럽 연합군 최고사령부의 최고 사령관으로 임명되었다. 그는 나토에서 다음 5년을 보내고 1979년 군에서 퇴역하여 미국 기술 주식 회사의 우두머리가 되었다.\n",
            "질문: 알렉산더 헤이그를 사성 장군과 육군 부참모로 진급시킨 대통령은 누구인가?\n",
            "정답: 닉슨 대통령\n",
            "예측: 닉슨\n",
            "----------------------------------------------------------------------------------------------------\n",
            "본문: 헤이그는 닉슨 대통령이 그를 사성 장군과 육군 부참모로 진급시킬 때 집중 광선과 논쟁으로 들어갔다. 헤이그를 군사의 최상으로 밀어넣은 닉슨의 행동은 대통령의 남자들을 다양한 연방 대리법에서 권한의 직우들로 놓은 노력과 함께 일치였다. 하지만 그는 곧 백악관으로 돌아가 1973년부터 1974년까지 대통령 특별 보좌관을 지냈다. 워터게이트 사건이 일어난지 한달 후, 헤이그는 포위된 닉슨 대통령을 위한 치명적 역할을 하였다. 그일은 8월 닉슨의 사임과 제럴드 포드의 대통령으로 계승으로 이끈 협상들에서 헤이그가 수단이었던 우연이 아니었다. 곧 후에 헤이그는 미국 유럽 연합군 최고사령부의 최고 사령관으로 임명되었다. 그는 나토에서 다음 5년을 보내고 1979년 군에서 퇴역하여 미국 기술 주식 회사의 우두머리가 되었다.\n",
            "질문: 헤이그는 나토에서 얼마나 있었습니까?\n",
            "정답: 5년\n",
            "예측: 다음 5년\n",
            "----------------------------------------------------------------------------------------------------\n",
            "본문: 헤이그는 닉슨 대통령이 그를 사성 장군과 육군 부참모로 진급시킬 때 집중 광선과 논쟁으로 들어갔다. 헤이그를 군사의 최상으로 밀어넣은 닉슨의 행동은 대통령의 남자들을 다양한 연방 대리법에서 권한의 직우들로 놓은 노력과 함께 일치였다. 하지만 그는 곧 백악관으로 돌아가 1973년부터 1974년까지 대통령 특별 보좌관을 지냈다. 워터게이트 사건이 일어난지 한달 후, 헤이그는 포위된 닉슨 대통령을 위한 치명적 역할을 하였다. 그일은 8월 닉슨의 사임과 제럴드 포드의 대통령으로 계승으로 이끈 협상들에서 헤이그가 수단이었던 우연이 아니었다. 곧 후에 헤이그는 미국 유럽 연합군 최고사령부의 최고 사령관으로 임명되었다. 그는 나토에서 다음 5년을 보내고 1979년 군에서 퇴역하여 미국 기술 주식 회사의 우두머리가 되었다.\n",
            "질문: 헤이그가 군에서 퇴역한 년도는 몇년도입니까?\n",
            "정답: 1979년\n",
            "예측: 1979년\n",
            "----------------------------------------------------------------------------------------------------\n",
            "본문: 헤이그는 닉슨 대통령이 그를 사성 장군과 육군 부참모로 진급시킬 때 집중 광선과 논쟁으로 들어갔다. 헤이그를 군사의 최상으로 밀어넣은 닉슨의 행동은 대통령의 남자들을 다양한 연방 대리법에서 권한의 직우들로 놓은 노력과 함께 일치였다. 하지만 그는 곧 백악관으로 돌아가 1973년부터 1974년까지 대통령 특별 보좌관을 지냈다. 워터게이트 사건이 일어난지 한달 후, 헤이그는 포위된 닉슨 대통령을 위한 치명적 역할을 하였다. 그일은 8월 닉슨의 사임과 제럴드 포드의 대통령으로 계승으로 이끈 협상들에서 헤이그가 수단이었던 우연이 아니었다. 곧 후에 헤이그는 미국 유럽 연합군 최고사령부의 최고 사령관으로 임명되었다. 그는 나토에서 다음 5년을 보내고 1979년 군에서 퇴역하여 미국 기술 주식 회사의 우두머리가 되었다.\n",
            "질문: 제럴드 포드 대통령 시기 헤이그가 최고사령부의 최고 사령관으로 임명된 곳은 어디인가?\n",
            "정답: 미국 유럽 연합군\n",
            "예측: 미국 유럽 연합군\n",
            "----------------------------------------------------------------------------------------------------\n",
            "본문: 헤이그는 닉슨 대통령이 그를 사성 장군과 육군 부참모로 진급시킬 때 집중 광선과 논쟁으로 들어갔다. 헤이그를 군사의 최상으로 밀어넣은 닉슨의 행동은 대통령의 남자들을 다양한 연방 대리법에서 권한의 직우들로 놓은 노력과 함께 일치였다. 하지만 그는 곧 백악관으로 돌아가 1973년부터 1974년까지 대통령 특별 보좌관을 지냈다. 워터게이트 사건이 일어난지 한달 후, 헤이그는 포위된 닉슨 대통령을 위한 치명적 역할을 하였다. 그일은 8월 닉슨의 사임과 제럴드 포드의 대통령으로 계승으로 이끈 협상들에서 헤이그가 수단이었던 우연이 아니었다. 곧 후에 헤이그는 미국 유럽 연합군 최고사령부의 최고 사령관으로 임명되었다. 그는 나토에서 다음 5년을 보내고 1979년 군에서 퇴역하여 미국 기술 주식 회사의 우두머리가 되었다.\n",
            "질문: 헤이그가 군대에서 퇴역한 년도는?\n",
            "정답: 1979년\n",
            "예측: 1979년\n",
            "----------------------------------------------------------------------------------------------------\n",
            "본문: 헤이그는 닉슨 대통령이 그를 사성 장군과 육군 부참모로 진급시킬 때 집중 광선과 논쟁으로 들어갔다. 헤이그를 군사의 최상으로 밀어넣은 닉슨의 행동은 대통령의 남자들을 다양한 연방 대리법에서 권한의 직우들로 놓은 노력과 함께 일치였다. 하지만 그는 곧 백악관으로 돌아가 1973년부터 1974년까지 대통령 특별 보좌관을 지냈다. 워터게이트 사건이 일어난지 한달 후, 헤이그는 포위된 닉슨 대통령을 위한 치명적 역할을 하였다. 그일은 8월 닉슨의 사임과 제럴드 포드의 대통령으로 계승으로 이끈 협상들에서 헤이그가 수단이었던 우연이 아니었다. 곧 후에 헤이그는 미국 유럽 연합군 최고사령부의 최고 사령관으로 임명되었다. 그는 나토에서 다음 5년을 보내고 1979년 군에서 퇴역하여 미국 기술 주식 회사의 우두머리가 되었다.\n",
            "질문: 퇴역 후 헤이그는 어느 회사의 대표가 되었나?\n",
            "정답: 미국 기술 주식 회사\n",
            "예측: 미국 기술 주식 회사\n",
            "----------------------------------------------------------------------------------------------------\n",
            "본문: 그의 편에 헤이그는 지구촌의 논점들의 국내적 정치 노력들에 관해서만 근심한 레이건의 가까운 조언자들을 \" 외교 정책의 아마추어 \" 로 묘사하였다. 1982년 6월 25일 결국적으로 온 그의 국무장관으로서 사임은 불가능한 상황이 된 것을 끝냈다. 헤이그는 개인적 생활로 돌아갔다가 1988년 대통령 선거를 위한 공화당 후보직을 안정시키는 시도를 하는 데 충분하게 정계로 돌아갔으나 후보직을 이기는 데 성원을 가지지 않았다. 그는 외교 정책 논쟁들에 연설자로서 활동적으로 남아있었으나 그의 전념은 정치에서 개인적 생활로 옮겨졌다. 그는 Worldwide Associates Inc. 의 국제적 상담 회사에 의하여 기용되었고, 그 기구의 의장과 회장이 되었다.\n",
            "질문: 알렉산더 헤이그는 레이건의 조언자들을 무엇이라고 묘사하였는가?\n",
            "정답: 외교 정책의 아마추어\n",
            "예측: 외교 정책의 아마추어\n",
            "----------------------------------------------------------------------------------------------------\n",
            "본문: 그의 편에 헤이그는 지구촌의 논점들의 국내적 정치 노력들에 관해서만 근심한 레이건의 가까운 조언자들을 \" 외교 정책의 아마추어 \" 로 묘사하였다. 1982년 6월 25일 결국적으로 온 그의 국무장관으로서 사임은 불가능한 상황이 된 것을 끝냈다. 헤이그는 개인적 생활로 돌아갔다가 1988년 대통령 선거를 위한 공화당 후보직을 안정시키는 시도를 하는 데 충분하게 정계로 돌아갔으나 후보직을 이기는 데 성원을 가지지 않았다. 그는 외교 정책 논쟁들에 연설자로서 활동적으로 남아있었으나 그의 전념은 정치에서 개인적 생활로 옮겨졌다. 그는 Worldwide Associates Inc. 의 국제적 상담 회사에 의하여 기용되었고, 그 기구의 의장과 회장이 되었다.\n",
            "질문: 헤이그가 사적생활을 하다가 정계로 돌아갔던 해는 언제인가?\n",
            "정답: 1988년\n",
            "예측: 1988년\n",
            "----------------------------------------------------------------------------------------------------\n",
            "본문: 그의 편에 헤이그는 지구촌의 논점들의 국내적 정치 노력들에 관해서만 근심한 레이건의 가까운 조언자들을 \" 외교 정책의 아마추어 \" 로 묘사하였다. 1982년 6월 25일 결국적으로 온 그의 국무장관으로서 사임은 불가능한 상황이 된 것을 끝냈다. 헤이그는 개인적 생활로 돌아갔다가 1988년 대통령 선거를 위한 공화당 후보직을 안정시키는 시도를 하는 데 충분하게 정계로 돌아갔으나 후보직을 이기는 데 성원을 가지지 않았다. 그는 외교 정책 논쟁들에 연설자로서 활동적으로 남아있었으나 그의 전념은 정치에서 개인적 생활로 옮겨졌다. 그는 Worldwide Associates Inc. 의 국제적 상담 회사에 의하여 기용되었고, 그 기구의 의장과 회장이 되었다.\n",
            "질문: 헤이그를 기용한 국제적 상담 회사의 이름은 무엇입니까?\n",
            "정답: Worldwide Associates Inc\n",
            "예측: Worldwide Associates Inc\n",
            "----------------------------------------------------------------------------------------------------\n",
            "본문: 그의 편에 헤이그는 지구촌의 논점들의 국내적 정치 노력들에 관해서만 근심한 레이건의 가까운 조언자들을 \" 외교 정책의 아마추어 \" 로 묘사하였다. 1982년 6월 25일 결국적으로 온 그의 국무장관으로서 사임은 불가능한 상황이 된 것을 끝냈다. 헤이그는 개인적 생활로 돌아갔다가 1988년 대통령 선거를 위한 공화당 후보직을 안정시키는 시도를 하는 데 충분하게 정계로 돌아갔으나 후보직을 이기는 데 성원을 가지지 않았다. 그는 외교 정책 논쟁들에 연설자로서 활동적으로 남아있었으나 그의 전념은 정치에서 개인적 생활로 옮겨졌다. 그는 Worldwide Associates Inc. 의 국제적 상담 회사에 의하여 기용되었고, 그 기구의 의장과 회장이 되었다.\n",
            "질문: 헤이그가 정계로 돌아간 년도는 몇년도입니까?\n",
            "정답: 1988년\n",
            "예측: 1988년\n",
            "----------------------------------------------------------------------------------------------------\n",
            "본문: 그의 편에 헤이그는 지구촌의 논점들의 국내적 정치 노력들에 관해서만 근심한 레이건의 가까운 조언자들을 \" 외교 정책의 아마추어 \" 로 묘사하였다. 1982년 6월 25일 결국적으로 온 그의 국무장관으로서 사임은 불가능한 상황이 된 것을 끝냈다. 헤이그는 개인적 생활로 돌아갔다가 1988년 대통령 선거를 위한 공화당 후보직을 안정시키는 시도를 하는 데 충분하게 정계로 돌아갔으나 후보직을 이기는 데 성원을 가지지 않았다. 그는 외교 정책 논쟁들에 연설자로서 활동적으로 남아있었으나 그의 전념은 정치에서 개인적 생활로 옮겨졌다. 그는 Worldwide Associates Inc. 의 국제적 상담 회사에 의하여 기용되었고, 그 기구의 의장과 회장이 되었다.\n",
            "질문: 레이건 대통령의 조언자들을 헤이그는 무엇이라고 묘사하였나?\n",
            "정답: 외교 정책의 아마추어\n",
            "예측: 외교 정책의 아마추어\n",
            "----------------------------------------------------------------------------------------------------\n",
            "본문: 그의 편에 헤이그는 지구촌의 논점들의 국내적 정치 노력들에 관해서만 근심한 레이건의 가까운 조언자들을 \" 외교 정책의 아마추어 \" 로 묘사하였다. 1982년 6월 25일 결국적으로 온 그의 국무장관으로서 사임은 불가능한 상황이 된 것을 끝냈다. 헤이그는 개인적 생활로 돌아갔다가 1988년 대통령 선거를 위한 공화당 후보직을 안정시키는 시도를 하는 데 충분하게 정계로 돌아갔으나 후보직을 이기는 데 성원을 가지지 않았다. 그는 외교 정책 논쟁들에 연설자로서 활동적으로 남아있었으나 그의 전념은 정치에서 개인적 생활로 옮겨졌다. 그는 Worldwide Associates Inc. 의 국제적 상담 회사에 의하여 기용되었고, 그 기구의 의장과 회장이 되었다.\n",
            "질문: 헤이그가 정계로 다시 돌아간 년도는?\n",
            "정답: 1988년\n",
            "예측: 1988년\n",
            "----------------------------------------------------------------------------------------------------\n",
            "본문: 노아는 하나님의 명령에 따라 배를 만들고 가족과 정결한 짐승 암수 일곱 마리씩, 부정한 짐승 암수 한 마리씩 ( 혹은 두 마리씩 ; 사본에 따라 다름 ), 그리고 새 암수 일곱 마리씩을 싣고 밀어닥친 홍수를 피하였다. 모든 사람들이 타락한 생활에 빠져 있어 하나님이 홍수로 심판하려 할 때 홀로 바르게 살던 노아는 하나님의 특별한 계시로 홍수가 올 것을 미리 알게 된다. 그는 길이 300 규빗, 너비 50 규빗, 높이 30 규빗 ( 고대의 1규빗은 팔꿈치에서 가운데 손가락끝까지의 길이로 약 45 ~ 46cm를 가리킴 ), 상 · 중 · 하 3층으로 된 방주를 만들어 8명의 가족과, 한 쌍씩의 여러 동물을 데리고 이 방주에 탄다. 대홍수를 만나 모든 생물 ( 물고기 제외 ) 이 전멸하고 말았지만, 이 방주에 탔던 노아의 가족과 동물들은 살아 남았다고 한다. 〈 창세기 〉 6장 14 ~ 16\n",
            "질문: 하나님의 명령에 배를 만들고 가족과 짐승들을 배에 태워 홍수를 피한 사람은 누구인가?\n",
            "정답: 노아\n",
            "예측: 노아\n",
            "----------------------------------------------------------------------------------------------------\n",
            "본문: 노아는 하나님의 명령에 따라 배를 만들고 가족과 정결한 짐승 암수 일곱 마리씩, 부정한 짐승 암수 한 마리씩 ( 혹은 두 마리씩 ; 사본에 따라 다름 ), 그리고 새 암수 일곱 마리씩을 싣고 밀어닥친 홍수를 피하였다. 모든 사람들이 타락한 생활에 빠져 있어 하나님이 홍수로 심판하려 할 때 홀로 바르게 살던 노아는 하나님의 특별한 계시로 홍수가 올 것을 미리 알게 된다. 그는 길이 300 규빗, 너비 50 규빗, 높이 30 규빗 ( 고대의 1규빗은 팔꿈치에서 가운데 손가락끝까지의 길이로 약 45 ~ 46cm를 가리킴 ), 상 · 중 · 하 3층으로 된 방주를 만들어 8명의 가족과, 한 쌍씩의 여러 동물을 데리고 이 방주에 탄다. 대홍수를 만나 모든 생물 ( 물고기 제외 ) 이 전멸하고 말았지만, 이 방주에 탔던 노아의 가족과 동물들은 살아 남았다고 한다. 〈 창세기 〉 6장 14 ~ 16절에 보면 길이 300규빗 (\n",
            "질문: 노아의 방주에 대해 기록하고있는 복음서는 무엇인가?\n",
            "정답: 창세기\n",
            "예측: 창세기\n",
            "----------------------------------------------------------------------------------------------------\n",
            "본문: 노아는 하나님의 명령에 따라 배를 만들고 가족과 정결한 짐승 암수 일곱 마리씩, 부정한 짐승 암수 한 마리씩 ( 혹은 두 마리씩 ; 사본에 따라 다름 ), 그리고 새 암수 일곱 마리씩을 싣고 밀어닥친 홍수를 피하였다. 모든 사람들이 타락한 생활에 빠져 있어 하나님이 홍수로 심판하려 할 때 홀로 바르게 살던 노아는 하나님의 특별한 계시로 홍수가 올 것을 미리 알게 된다. 그는 길이 300 규빗, 너비 50 규빗, 높이 30 규빗 ( 고대의 1규빗은 팔꿈치에서 가운데 손가락끝까지의 길이로 약 45 ~ 46cm를 가리킴 ), 상 · 중 · 하 3층으로 된 방주를 만들어 8명의 가족과, 한 쌍씩의 여러 동물을 데리고 이 방주에 탄다. 대홍수를 만나 모든 생물 ( 물고기 제외 ) 이 전멸하고 말았지만, 이 방주에 탔던 노아의 가족과 동물들은 살아 남았다고 한다. 〈 창세기 〉 6장 14 ~ 16절에 보면 길이\n",
            "질문: 노아는 누구의 명령에 따라 배를 만들고 가족과 동물들을 태웠는가?\n",
            "정답: 하나님\n",
            "예측: 하나님\n",
            "----------------------------------------------------------------------------------------------------\n",
            "본문: 노아는 하나님의 명령에 따라 배를 만들고 가족과 정결한 짐승 암수 일곱 마리씩, 부정한 짐승 암수 한 마리씩 ( 혹은 두 마리씩 ; 사본에 따라 다름 ), 그리고 새 암수 일곱 마리씩을 싣고 밀어닥친 홍수를 피하였다. 모든 사람들이 타락한 생활에 빠져 있어 하나님이 홍수로 심판하려 할 때 홀로 바르게 살던 노아는 하나님의 특별한 계시로 홍수가 올 것을 미리 알게 된다. 그는 길이 300 규빗, 너비 50 규빗, 높이 30 규빗 ( 고대의 1규빗은 팔꿈치에서 가운데 손가락끝까지의 길이로 약 45 ~ 46cm를 가리킴 ), 상 · 중 · 하 3층으로 된 방주를 만들어 8명의 가족과, 한 쌍씩의 여러 동물을 데리고 이 방주에 탄다. 대홍수를 만나 모든 생물 ( 물고기 제외 ) 이 전멸하고 말았지만, 이 방주에 탔던 노아의 가족과 동물들은 살아 남았다고 한다. 〈 창세기 〉 6장 14 ~ 16절에 보면 길이 300규빗 (\n",
            "질문: 노아의 방주는 몇층으로 구성되어 있었는가?\n",
            "정답: 3층\n",
            "예측: 3층\n",
            "----------------------------------------------------------------------------------------------------\n",
            "본문: 노아는 하나님의 명령에 따라 배를 만들고 가족과 정결한 짐승 암수 일곱 마리씩, 부정한 짐승 암수 한 마리씩 ( 혹은 두 마리씩 ; 사본에 따라 다름 ), 그리고 새 암수 일곱 마리씩을 싣고 밀어닥친 홍수를 피하였다. 모든 사람들이 타락한 생활에 빠져 있어 하나님이 홍수로 심판하려 할 때 홀로 바르게 살던 노아는 하나님의 특별한 계시로 홍수가 올 것을 미리 알게 된다. 그는 길이 300 규빗, 너비 50 규빗, 높이 30 규빗 ( 고대의 1규빗은 팔꿈치에서 가운데 손가락끝까지의 길이로 약 45 ~ 46cm를 가리킴 ), 상 · 중 · 하 3층으로 된 방주를 만들어 8명의 가족과, 한 쌍씩의 여러 동물을 데리고 이 방주에 탄다. 대홍수를 만나 모든 생물 ( 물고기 제외 ) 이 전멸하고 말았지만, 이 방주에 탔던 노아의 가족과 동물들은 살아 남았다고 한다. 〈 창세기 〉 6장 14 ~ 16절에 보면 길이 300규빗 ( 약 135m\n",
            "질문: 1규빗을 미터법으로 환산하면 얼마인가?\n",
            "정답: 45 ~ 46cm\n",
            "예측: 길이 300규빗\n",
            "----------------------------------------------------------------------------------------------------\n",
            "본문: 노아는 하나님의 명령에 따라 배를 만들고 가족과 정결한 짐승 암수 일곱 마리씩, 부정한 짐승 암수 한 마리씩 ( 혹은 두 마리씩 ; 사본에 따라 다름 ), 그리고 새 암수 일곱 마리씩을 싣고 밀어닥친 홍수를 피하였다. 모든 사람들이 타락한 생활에 빠져 있어 하나님이 홍수로 심판하려 할 때 홀로 바르게 살던 노아는 하나님의 특별한 계시로 홍수가 올 것을 미리 알게 된다. 그는 길이 300 규빗, 너비 50 규빗, 높이 30 규빗 ( 고대의 1규빗은 팔꿈치에서 가운데 손가락끝까지의 길이로 약 45 ~ 46cm를 가리킴 ), 상 · 중 · 하 3층으로 된 방주를 만들어 8명의 가족과, 한 쌍씩의 여러 동물을 데리고 이 방주에 탄다. 대홍수를 만나 모든 생물 ( 물고기 제외 ) 이 전멸하고 말았지만, 이 방주에 탔던 노아의 가족과 동물들은 살아 남았다고 한다. 〈 창세기 〉 6장 14 ~ 16절에 보면 길이 300규빗 (\n",
            "질문: 노아의 방주는 총 몇층으로 되어 있었는가?\n",
            "정답: 3층\n",
            "예측: 3층\n",
            "----------------------------------------------------------------------------------------------------\n",
            "본문: 역사학과 과학이 발달하지 않았던 과거 전통 신학계에서는 근본주의적 시각을 받아들여 노아의 방주를 역사적 사실로 기술하려 했으며, 이러한 관점은 아직도 과학과 역사학에 어두운 보수적 근본주의계열의 개신교에서만 받아들여지고 있다. 하지만 역사학과 과학의 발달로 인해, 노아의 방주의 실존에 대한 의문이 제기가 되고, 세계적 홍수가 존재할 수 없음이 밝혀짐에 따라 현대 신학계에서는 비록 노아의 홍수가 과학적으로 실존하지는 않았지만 그 자체의 의미는 신학적으로 매우 중요하며, 이에 대한 해석은 다양하게 이루어지고 있으며, 대부분의 기독교 ( 가톨릭, 개신교를 포함한 대부분 ) 에서는 노아의 방주는 상징적 의미로 받아들여진다. 그러므로 과학과는 상관없이 신학적으로 노아의 방주 자체의 의미는 중요하게 해석된다고 한다\n",
            "질문: 노아의 방주를 상징적 의미로 받아들이는 종교는 무엇인가?\n",
            "정답: 기독교\n",
            "예측: 기독교\n",
            "----------------------------------------------------------------------------------------------------\n",
            "본문: 역사학과 과학이 발달하지 않았던 과거 전통 신학계에서는 근본주의적 시각을 받아들여 노아의 방주를 역사적 사실로 기술하려 했으며, 이러한 관점은 아직도 과학과 역사학에 어두운 보수적 근본주의계열의 개신교에서만 받아들여지고 있다. 하지만 역사학과 과학의 발달로 인해, 노아의 방주의 실존에 대한 의문이 제기가 되고, 세계적 홍수가 존재할 수 없음이 밝혀짐에 따라 현대 신학계에서는 비록 노아의 홍수가 과학적으로 실존하지는 않았지만 그 자체의 의미는 신학적으로 매우 중요하며, 이에 대한 해석은 다양하게 이루어지고 있으며, 대부분의 기독교 ( 가톨릭, 개신교를 포함한 대부분 ) 에서는 노아의 방주는 상징적 의미로 받아들여진다. 그러므로 과학과는 상관없이 신학적으로 노아의 방주 자체의 의미는 중요하게 해석된다고 한다\n",
            "질문: 노아의 방주의 실존에 대한 의문이 제기되고 세계적 홍수가 없었다는 것이 밝혀지게된 이유는?\n",
            "정답: 역사학과 과학의 발달\n",
            "예측: 역사학과 과학의 발달\n",
            "----------------------------------------------------------------------------------------------------\n",
            "본문: 역사학과 과학이 발달하지 않았던 과거 전통 신학계에서는 근본주의적 시각을 받아들여 노아의 방주를 역사적 사실로 기술하려 했으며, 이러한 관점은 아직도 과학과 역사학에 어두운 보수적 근본주의계열의 개신교에서만 받아들여지고 있다. 하지만 역사학과 과학의 발달로 인해, 노아의 방주의 실존에 대한 의문이 제기가 되고, 세계적 홍수가 존재할 수 없음이 밝혀짐에 따라 현대 신학계에서는 비록 노아의 홍수가 과학적으로 실존하지는 않았지만 그 자체의 의미는 신학적으로 매우 중요하며, 이에 대한 해석은 다양하게 이루어지고 있으며, 대부분의 기독교 ( 가톨릭, 개신교를 포함한 대부분 ) 에서는 노아의 방주는 상징적 의미로 받아들여진다. 그러므로 과학과는 상관없이 신학적으로 노아의 방주 자체의 의미는 중요하게 해석된다고 한다\n",
            "질문: 역사학과 과학의 발달이 미비했을 때 전통 신학계에서는 어떠한 시작으로 노아의 방주를 역사적 사실로 기술하였는가?\n",
            "정답: 근본주의적\n",
            "예측: 근본주의적 시각\n",
            "----------------------------------------------------------------------------------------------------\n",
            "본문: 역사학과 과학이 발달하지 않았던 과거 전통 신학계에서는 근본주의적 시각을 받아들여 노아의 방주를 역사적 사실로 기술하려 했으며, 이러한 관점은 아직도 과학과 역사학에 어두운 보수적 근본주의계열의 개신교에서만 받아들여지고 있다. 하지만 역사학과 과학의 발달로 인해, 노아의 방주의 실존에 대한 의문이 제기가 되고, 세계적 홍수가 존재할 수 없음이 밝혀짐에 따라 현대 신학계에서는 비록 노아의 홍수가 과학적으로 실존하지는 않았지만 그 자체의 의미는 신학적으로 매우 중요하며, 이에 대한 해석은 다양하게 이루어지고 있으며, 대부분의 기독교 ( 가톨릭, 개신교를 포함한 대부분 ) 에서는 노아의 방주는 상징적 의미로 받아들여진다. 그러므로 과학과는 상관없이 신학적으로 노아의 방주 자체의 의미는 중요하게 해석된다고 한다\n",
            "질문: 전통 신학계의 근본주의적 시작을 여전히 받아들여 노아의 방주를 역사적 사실로 인식하는 집단은?\n",
            "정답: 보수적 근본주의계열의 개신교\n",
            "예측: 개신교\n",
            "----------------------------------------------------------------------------------------------------\n",
            "본문: 역사학과 과학이 발달하지 않았던 과거 전통 신학계에서는 근본주의적 시각을 받아들여 노아의 방주를 역사적 사실로 기술하려 했으며, 이러한 관점은 아직도 과학과 역사학에 어두운 보수적 근본주의계열의 개신교에서만 받아들여지고 있다. 하지만 역사학과 과학의 발달로 인해, 노아의 방주의 실존에 대한 의문이 제기가 되고, 세계적 홍수가 존재할 수 없음이 밝혀짐에 따라 현대 신학계에서는 비록 노아의 홍수가 과학적으로 실존하지는 않았지만 그 자체의 의미는 신학적으로 매우 중요하며, 이에 대한 해석은 다양하게 이루어지고 있으며, 대부분의 기독교 ( 가톨릭, 개신교를 포함한 대부분 ) 에서는 노아의 방주는 상징적 의미로 받아들여진다. 그러므로 과학과는 상관없이 신학적으로 노아의 방주 자체의 의미는 중요하게 해석된다고 한다\n",
            "질문: 현대 대부분의 기독교에서는 노아의 방주를 어떤 의미로 받아들이는가?\n",
            "정답: 상징적 의미\n",
            "예측: 상징적 의미\n",
            "----------------------------------------------------------------------------------------------------\n",
            "본문: 역사학과 과학이 발달하지 않았던 과거 전통 신학계에서는 근본주의적 시각을 받아들여 노아의 방주를 역사적 사실로 기술하려 했으며, 이러한 관점은 아직도 과학과 역사학에 어두운 보수적 근본주의계열의 개신교에서만 받아들여지고 있다. 하지만 역사학과 과학의 발달로 인해, 노아의 방주의 실존에 대한 의문이 제기가 되고, 세계적 홍수가 존재할 수 없음이 밝혀짐에 따라 현대 신학계에서는 비록 노아의 홍수가 과학적으로 실존하지는 않았지만 그 자체의 의미는 신학적으로 매우 중요하며, 이에 대한 해석은 다양하게 이루어지고 있으며, 대부분의 기독교 ( 가톨릭, 개신교를 포함한 대부분 ) 에서는 노아의 방주는 상징적 의미로 받아들여진다. 그러므로 과학과는 상관없이 신학적으로 노아의 방주 자체의 의미는 중요하게 해석된다고 한다\n",
            "질문: 현재도 노아의 방주를 역사적 사실로 받아들이는 집단은?\n",
            "정답: 보수적 근본주의계열의 개신교\n",
            "예측: 근본주의적 시각\n",
            "----------------------------------------------------------------------------------------------------\n",
            "본문: 역사학과 과학이 발달하지 않았던 과거 전통 신학계에서는 근본주의적 시각을 받아들여 노아의 방주를 역사적 사실로 기술하려 했으며, 이러한 관점은 아직도 과학과 역사학에 어두운 보수적 근본주의계열의 개신교에서만 받아들여지고 있다. 하지만 역사학과 과학의 발달로 인해, 노아의 방주의 실존에 대한 의문이 제기가 되고, 세계적 홍수가 존재할 수 없음이 밝혀짐에 따라 현대 신학계에서는 비록 노아의 홍수가 과학적으로 실존하지는 않았지만 그 자체의 의미는 신학적으로 매우 중요하며, 이에 대한 해석은 다양하게 이루어지고 있으며, 대부분의 기독교 ( 가톨릭, 개신교를 포함한 대부분 ) 에서는 노아의 방주는 상징적 의미로 받아들여진다. 그러므로 과학과는 상관없이 신학적으로 노아의 방주 자체의 의미는 중요하게 해석된다고 한다\n",
            "질문: 노아의 방주의 실존에 대한 의문을 제기한 학문은?\n",
            "정답: 역사학과 과학\n",
            "예측: 역사학과 과학\n",
            "----------------------------------------------------------------------------------------------------\n",
            "본문: 역사학과 과학의 발달이 [UNK] 고대사회에서는, 성경이 단순한 교리적인 부분 뿐 아니라 역사책으로서의 권위도 높았기에 노아의 방주를 역사적인 존재로서 다루고 있었다. 이는 제칠일안식교에서 비롯된 의사과학의 한 종류인 유사지질학인 홍수지질학과 같은 것에 영향을 주었으며, 과거 신학에서는 이러한 근본주의적 해석을 받아들여 역사와 사회적인 모든 부분에 있어 성경을 교과서로 채택할 것을 촉구했다. 이러한 홍수지질학을 주장했던 유사지질학자들은 성경에 나오는 노아의 홍수가 어딘가에 그 흔적이 남아 있을것이라고 주장하며 노아의 방주를 찾기 위한 노력을 했다고 주장한다. 이들은 같은 메소포타미아 지방의 신화인 이슬람교 경전이나 길가메쉬 서사시등의 신화를 들어서 이를 근거라고 주장하기도 했다. 그러나 이러한 전통적 근본주의적 시각은 과거에는 상당히 힘을 얻었으나, 역사학과\n",
            "질문: 제칠일안식교에서 비롯된 의사과학의 한 종류인 유사지질학의 이름은 무엇인가?\n",
            "정답: 홍수지질학\n",
            "예측: 홍수지질학\n",
            "----------------------------------------------------------------------------------------------------\n",
            "본문: 역사학과 과학의 발달이 [UNK] 고대사회에서는, 성경이 단순한 교리적인 부분 뿐 아니라 역사책으로서의 권위도 높았기에 노아의 방주를 역사적인 존재로서 다루고 있었다. 이는 제칠일안식교에서 비롯된 의사과학의 한 종류인 유사지질학인 홍수지질학과 같은 것에 영향을 주었으며, 과거 신학에서는 이러한 근본주의적 해석을 받아들여 역사와 사회적인 모든 부분에 있어 성경을 교과서로 채택할 것을 촉구했다. 이러한 홍수지질학을 주장했던 유사지질학자들은 성경에 나오는 노아의 홍수가 어딘가에 그 흔적이 남아 있을것이라고 주장하며 노아의 방주를 찾기 위한 노력을 했다고 주장한다. 이들은 같은 메소포타미아 지방의 신화인 이슬람교 경전이나 길가메쉬 서사시등의 신화를 들어서 이를 근거라고 주장하기도 했다. 그러나 이러한 전통적 근본주의적 시각은 과거에는 상당히 힘을 얻었으나, 역사학과\n",
            "질문: 고대사회에서 성경은 교리를 다루는 책일 뿐만 아니라 어떤 책으로도 권위가 상당했는가?\n",
            "정답: 역사책\n",
            "예측: 역사책\n",
            "----------------------------------------------------------------------------------------------------\n",
            "본문: 역사학과 과학의 발달이 [UNK] 고대사회에서는, 성경이 단순한 교리적인 부분 뿐 아니라 역사책으로서의 권위도 높았기에 노아의 방주를 역사적인 존재로서 다루고 있었다. 이는 제칠일안식교에서 비롯된 의사과학의 한 종류인 유사지질학인 홍수지질학과 같은 것에 영향을 주었으며, 과거 신학에서는 이러한 근본주의적 해석을 받아들여 역사와 사회적인 모든 부분에 있어 성경을 교과서로 채택할 것을 촉구했다. 이러한 홍수지질학을 주장했던 유사지질학자들은 성경에 나오는 노아의 홍수가 어딘가에 그 흔적이 남아 있을것이라고 주장하며 노아의 방주를 찾기 위한 노력을 했다고 주장한다. 이들은 같은 메소포타미아 지방의 신화인 이슬람교 경전이나 길가메쉬 서사시등의 신화를 들어서 이를 근거라고 주장하기도 했다. 그러나 이러한 전통적 근본주의적 시각은 과거에는 상당히 힘을 얻었으나, 역사학과 과학의 발달에 따라 힘을 잃게 되었고,\n",
            "질문: 유사지질학인 홍수지질학이 근원은?\n",
            "정답: 제칠일안식교\n",
            "예측: 노아의 방주를 역사적인 존재로서 다루고 있었다. 이는 제칠일안식교에서 비롯된 의사과학\n",
            "----------------------------------------------------------------------------------------------------\n",
            "본문: 역사학과 과학의 발달이 [UNK] 고대사회에서는, 성경이 단순한 교리적인 부분 뿐 아니라 역사책으로서의 권위도 높았기에 노아의 방주를 역사적인 존재로서 다루고 있었다. 이는 제칠일안식교에서 비롯된 의사과학의 한 종류인 유사지질학인 홍수지질학과 같은 것에 영향을 주었으며, 과거 신학에서는 이러한 근본주의적 해석을 받아들여 역사와 사회적인 모든 부분에 있어 성경을 교과서로 채택할 것을 촉구했다. 이러한 홍수지질학을 주장했던 유사지질학자들은 성경에 나오는 노아의 홍수가 어딘가에 그 흔적이 남아 있을것이라고 주장하며 노아의 방주를 찾기 위한 노력을 했다고 주장한다. 이들은 같은 메소포타미아 지방의 신화인 이슬람교 경전이나 길가메쉬 서사시등의 신화를 들어서 이를 근거라고 주장하기도 했다. 그러나 이러한 전통적 근본주의적 시각은 과거에는 상당히 힘을 얻었으나, 역사학과 과학의 발달\n",
            "질문: 유사지질학자들이 노아의 홍수를 증명하기 위해 성경 이외에 근거라고 주장한 것들은?\n",
            "정답: 이슬람교 경전이나 길가메쉬 서사시\n",
            "예측: 길가메쉬 서사시등의 신화\n",
            "----------------------------------------------------------------------------------------------------\n",
            "본문: 물론 노아의 방주가 신학과 신앙에서 중요한 영향을 차지하는 것은 사실이나, 현재 노아의 방주가 역사적으로 실존한다는 주장은 그 증거가 존재하지 않기에 관련 학계로부터 전혀 인정받지 못하고 있으며 그 실존과 안정성에 대한 수많은 논란이 있다. 한국창조과학회 등에서는 제칠일안식교를 기반으로 한 홍수지질학적 주장들을을 내어 놓고 있지만, 사실과 다른 근거들을 바탕으로 주장하므로 신뢰하기 힘든 것들이 전부라 할 수 있다. 그러므로 현재 노아의 방주가 실존한다는 주장은 그 증거가 존재하지 않기에 관련 학계로부터 전혀 인정받지 못하고 있다. 모든 과학관련 학계에서는 노아의 방주의 구조나 재질등이 실제로 존재할 수 없는 설화속 이야기라는 데에 동의하고 있다.\n",
            "질문: 노아의 방주가 역사적으로 실재했다는 주장은 무엇이 존재하지 않아 학계로부터 전혀 인정받지 못하고 있는가?\n",
            "정답: 증거\n",
            "예측: 증거\n",
            "----------------------------------------------------------------------------------------------------\n",
            "본문: 물론 노아의 방주가 신학과 신앙에서 중요한 영향을 차지하는 것은 사실이나, 현재 노아의 방주가 역사적으로 실존한다는 주장은 그 증거가 존재하지 않기에 관련 학계로부터 전혀 인정받지 못하고 있으며 그 실존과 안정성에 대한 수많은 논란이 있다. 한국창조과학회 등에서는 제칠일안식교를 기반으로 한 홍수지질학적 주장들을을 내어 놓고 있지만, 사실과 다른 근거들을 바탕으로 주장하므로 신뢰하기 힘든 것들이 전부라 할 수 있다. 그러므로 현재 노아의 방주가 실존한다는 주장은 그 증거가 존재하지 않기에 관련 학계로부터 전혀 인정받지 못하고 있다. 모든 과학관련 학계에서는 노아의 방주의 구조나 재질등이 실제로 존재할 수 없는 설화속 이야기라는 데에 동의하고 있다.\n",
            "질문: 한국에서 홍수지질학적 주장들을 내어 놓고 있는 집단은?\n",
            "정답: 한국창조과학회\n",
            "예측: 한국창조과학회\n",
            "----------------------------------------------------------------------------------------------------\n",
            "본문: 일반적으로 터키의 아라랏 산의 경우, 실제 성경 속에 등장하는 아라랏 산은 지금 아라랏이라 불리는 하나의 산이 아니라 당시 아라랏이라고 불리던 광대한 지역의 산들을 모두 가리키는 표현이라는 주장도 나와 있으며, 또한 목재로 만들어진 방주가 현재까지 남아있을 수는 없다는 비판도 받고 있다. 예를 들어, 1955년 프랑스의 탐험가인 Fernand Navarra가 발견한 목재 파편의 경우, 스페인의 임업 연구소에서 목재의 특성을 토대로 5000년 전의 것이라고 밝히긴 했으나 그 신빙성에 문제점이 있었고 후에 방사성 동위원소 측정법 등의 첨단 과학의 도움을 받은 5개 연구소에서 모두 기원 이후의 시기로 연대를 측정했다. 2009년 뿐 아니라 거의 수년에 한번씩 어디선가 노아의 방주를 발견했다는 주장들이 제시되었지만, 심지어 같은 창조과학을 주장하는 사람들에게조차 비판받을 정도였다. 노아의 방주가 다른 여러 지방에서 발견되었다는\n",
            "질문: 1955년 목재의 파편을 발견한 프랑스의 탐험가 이름은?\n",
            "정답: Fernand Navarra\n",
            "예측: Fernand Navarra\n",
            "----------------------------------------------------------------------------------------------------\n",
            "본문: 일반적으로 터키의 아라랏 산의 경우, 실제 성경 속에 등장하는 아라랏 산은 지금 아라랏이라 불리는 하나의 산이 아니라 당시 아라랏이라고 불리던 광대한 지역의 산들을 모두 가리키는 표현이라는 주장도 나와 있으며, 또한 목재로 만들어진 방주가 현재까지 남아있을 수는 없다는 비판도 받고 있다. 예를 들어, 1955년 프랑스의 탐험가인 Fernand Navarra가 발견한 목재 파편의 경우, 스페인의 임업 연구소에서 목재의 특성을 토대로 5000년 전의 것이라고 밝히긴 했으나 그 신빙성에 문제점이 있었고 후에 방사성 동위원소 측정법 등의 첨단 과학의 도움을 받은 5개 연구소에서 모두 기원 이후의 시기로 연대를 측정했다. 2009년 뿐 아니라 거의 수년에 한번씩 어디선가 노아의 방주를 발견했다는 주장들이 제시되었지만, 심지어 같은 창조과학을 주장하는 사람들에게조차 비판받을 정도였다. 노아의 방\n",
            "질문: 노아의 방주는 무엇으로 만들었기 때문에 현재까지 남아 있는 것이 불가능한가?\n",
            "정답: 목재\n",
            "예측: 목재\n",
            "----------------------------------------------------------------------------------------------------\n",
            "본문: 일반적으로 터키의 아라랏 산의 경우, 실제 성경 속에 등장하는 아라랏 산은 지금 아라랏이라 불리는 하나의 산이 아니라 당시 아라랏이라고 불리던 광대한 지역의 산들을 모두 가리키는 표현이라는 주장도 나와 있으며, 또한 목재로 만들어진 방주가 현재까지 남아있을 수는 없다는 비판도 받고 있다. 예를 들어, 1955년 프랑스의 탐험가인 Fernand Navarra가 발견한 목재 파편의 경우, 스페인의 임업 연구소에서 목재의 특성을 토대로 5000년 전의 것이라고 밝히긴 했으나 그 신빙성에 문제점이 있었고 후에 방사성 동위원소 측정법 등의 첨단 과학의 도움을 받은 5개 연구소에서 모두 기원 이후의 시기로 연대를 측정했다. 2009년 뿐 아니라 거의 수년에 한번씩 어디선가 노아의 방주를 발견했다는 주장들이 제시되었지만, 심지어 같은 창조과학을 주장하는 사람들에게조차 비판받을 정도였다. 노아의 방\n",
            "질문: 1955년 프랑스 탐험가가 발견한 목재파편은 스페인 연구소에서 몇 년 전 것이라고 밝혀졌는가?\n",
            "정답: 5000년 전\n",
            "예측: 5000년\n",
            "----------------------------------------------------------------------------------------------------\n",
            "본문: 기독교 성경 내용에는 모든 종들을 방주에 태운다고 이야기하고 있으나, 어류나 수중 생물에 대해서는 언급하지 않았다. 이것을 신학적 의미로만 받아들이면 괜찮은 문제이나, 이 현상이 실제로 일어났다고 가정할 경우, 이는 종 간 생존 환경의 차이에 대해서 간과하고 있다. 수중 생물이라 하더라도 종에 따라 생존할 수 있는 환경은 각각 다른 것이며, 40일 이내에 현존하는 가장 높은 산인 에베레스트 산도 잠기게 할 정도의 폭우로 인해 담수와 염수가 급작스럽게 섞일 경우, 급격한 삼투압 변화로 인해 대부분의 수생생물들이 폐사하게 되며, 결과적으로 육지 뿐 아니라 바다와 강의 모든 생태계가 파괴된다. 이후 5천년이라는 지극히 짧은 세월 동안 지구상의 동식물이 모두 페름기 대멸종 또는 K - T 대멸종에 준하는 대량절멸에 가까운 상태에서부터 시작하여 현재의 대략 870만 ( [UNK] ) 종에 달하는 생물다양성을 획득하려면 모든 생물들이 각 세대마다 종분화가 일어나야 할\n",
            "질문: 현재의 생물다양성은 대략 몇 종 인가?\n",
            "정답: 870만\n",
            "예측: 870만 ( [UNK] ) 종\n",
            "----------------------------------------------------------------------------------------------------\n",
            "본문: 기독교 성경 내용에는 모든 종들을 방주에 태운다고 이야기하고 있으나, 어류나 수중 생물에 대해서는 언급하지 않았다. 이것을 신학적 의미로만 받아들이면 괜찮은 문제이나, 이 현상이 실제로 일어났다고 가정할 경우, 이는 종 간 생존 환경의 차이에 대해서 간과하고 있다. 수중 생물이라 하더라도 종에 따라 생존할 수 있는 환경은 각각 다른 것이며, 40일 이내에 현존하는 가장 높은 산인 에베레스트 산도 잠기게 할 정도의 폭우로 인해 담수와 염수가 급작스럽게 섞일 경우, 급격한 삼투압 변화로 인해 대부분의 수생생물들이 폐사하게 되며, 결과적으로 육지 뿐 아니라 바다와 강의 모든 생태계가 파괴된다. 이후 5천년이라는 지극히 짧은 세월 동안 지구상의 동식물이 모두 페름기 대멸종 또는 K - T 대멸종에 준하는 대량절멸에 가까운 상태에서부터 시작하여 현재의 대략 870만 ( [UNK] ) 종에 달하는 생물다양성을 획득하려면\n",
            "질문: 급작스러운 폭우로 담수와 염수가 섞일 경우 삼투압 변화로 폐사하는 생물류는?\n",
            "정답: 수생생물\n",
            "예측: 수생생물\n",
            "----------------------------------------------------------------------------------------------------\n",
            "본문: 기독교 성경 내용에는 모든 종들을 방주에 태운다고 이야기하고 있으나, 어류나 수중 생물에 대해서는 언급하지 않았다. 이것을 신학적 의미로만 받아들이면 괜찮은 문제이나, 이 현상이 실제로 일어났다고 가정할 경우, 이는 종 간 생존 환경의 차이에 대해서 간과하고 있다. 수중 생물이라 하더라도 종에 따라 생존할 수 있는 환경은 각각 다른 것이며, 40일 이내에 현존하는 가장 높은 산인 에베레스트 산도 잠기게 할 정도의 폭우로 인해 담수와 염수가 급작스럽게 섞일 경우, 급격한 삼투압 변화로 인해 대부분의 수생생물들이 폐사하게 되며, 결과적으로 육지 뿐 아니라 바다와 강의 모든 생태계가 파괴된다. 이후 5천년이라는 지극히 짧은 세월 동안 지구상의 동식물이 모두 페름기 대멸종 또는 K - T 대멸종에 준하는 대량절멸에 가까운 상태에서부터 시작하여 현재의 대략 870만 ( [UNK] ) 종에 달하는 생물다양성을 획득하려면\n",
            "질문: 담수와 염수가 급작스럽게 섞일 경우 대부분의 수생생물이 폐사하는 원인은?\n",
            "정답: 급격한 삼투압 변화\n",
            "예측: 폭우\n",
            "----------------------------------------------------------------------------------------------------\n",
            "본문: 창조과학회에서는 또한 노아의 방주가 안정적인 구조였다고 주장하지만, 이와는 달리 노아의 방주는 항해가 불가능한 설계에 가깝다. 실제로 창조과학에서 주장하는 방주의 크기와 철제 부품을 사용하지 않은 목재 선박 중에서 가장 큰 수준의 선박들을 비교하면 배수량이 두배 이상 차이난다. 그리고 목재 선박은 강도 상의 문제 때문에 통상 길이 100m, 배수량 2000톤 정도가 한계로 여겨져 왔다. 창조과학회에서는 노아의 방주의 안정성을 실험하기 위한 연구가 있다고 주장하기도 하나, 그 자체의 불합리성에 대한 비판을 받고 있으며, 관련 주요 연구자는 지질학 석사학위, 생물학 학사학위를 가진 초등학교 교사로서, 주류 학계의 학회나 저널 등에 발표한 적이 없으며 또한 정당한 피어 리뷰에 의해 검증받지 않았다.\n",
            "질문: 목재 선박의 배수량의 한계는 얼마인가?\n",
            "정답: 2000톤\n",
            "예측: 2000톤\n",
            "----------------------------------------------------------------------------------------------------\n",
            "본문: 창조과학회에서는 또한 노아의 방주가 안정적인 구조였다고 주장하지만, 이와는 달리 노아의 방주는 항해가 불가능한 설계에 가깝다. 실제로 창조과학에서 주장하는 방주의 크기와 철제 부품을 사용하지 않은 목재 선박 중에서 가장 큰 수준의 선박들을 비교하면 배수량이 두배 이상 차이난다. 그리고 목재 선박은 강도 상의 문제 때문에 통상 길이 100m, 배수량 2000톤 정도가 한계로 여겨져 왔다. 창조과학회에서는 노아의 방주의 안정성을 실험하기 위한 연구가 있다고 주장하기도 하나, 그 자체의 불합리성에 대한 비판을 받고 있으며, 관련 주요 연구자는 지질학 석사학위, 생물학 학사학위를 가진 초등학교 교사로서, 주류 학계의 학회나 저널 등에 발표한 적이 없으며 또한 정당한 피어 리뷰에 의해 검증받지 않았다.\n",
            "질문: 노아의 방주가 안정적인 구조였다고 주장하는 집단은 어디인가?\n",
            "정답: 창조과학회\n",
            "예측: 창조과학회\n",
            "----------------------------------------------------------------------------------------------------\n",
            "본문: 창조과학회에서는 또한 노아의 방주가 안정적인 구조였다고 주장하지만, 이와는 달리 노아의 방주는 항해가 불가능한 설계에 가깝다. 실제로 창조과학에서 주장하는 방주의 크기와 철제 부품을 사용하지 않은 목재 선박 중에서 가장 큰 수준의 선박들을 비교하면 배수량이 두배 이상 차이난다. 그리고 목재 선박은 강도 상의 문제 때문에 통상 길이 100m, 배수량 2000톤 정도가 한계로 여겨져 왔다. 창조과학회에서는 노아의 방주의 안정성을 실험하기 위한 연구가 있다고 주장하기도 하나, 그 자체의 불합리성에 대한 비판을 받고 있으며, 관련 주요 연구자는 지질학 석사학위, 생물학 학사학위를 가진 초등학교 교사로서, 주류 학계의 학회나 저널 등에 발표한 적이 없으며 또한 정당한 피어 리뷰에 의해 검증받지 않았다.\n",
            "질문: 목재 선박은 강도상의 문제로 통상 길이 몇m가 한계인가?\n",
            "정답: 100m\n",
            "예측: 100m\n",
            "----------------------------------------------------------------------------------------------------\n",
            "본문: 창조과학회에서는 또한 노아의 방주가 안정적인 구조였다고 주장하지만, 이와는 달리 노아의 방주는 항해가 불가능한 설계에 가깝다. 실제로 창조과학에서 주장하는 방주의 크기와 철제 부품을 사용하지 않은 목재 선박 중에서 가장 큰 수준의 선박들을 비교하면 배수량이 두배 이상 차이난다. 그리고 목재 선박은 강도 상의 문제 때문에 통상 길이 100m, 배수량 2000톤 정도가 한계로 여겨져 왔다. 창조과학회에서는 노아의 방주의 안정성을 실험하기 위한 연구가 있다고 주장하기도 하나, 그 자체의 불합리성에 대한 비판을 받고 있으며, 관련 주요 연구자는 지질학 석사학위, 생물학 학사학위를 가진 초등학교 교사로서, 주류 학계의 학회나 저널 등에 발표한 적이 없으며 또한 정당한 피어 리뷰에 의해 검증받지 않았다.\n",
            "질문: 노아의 방주 안정성을 실험하기 위한 연구가 있다고 주장하는 단체는?\n",
            "정답: 창조과학회\n",
            "예측: 창조과학회\n",
            "----------------------------------------------------------------------------------------------------\n",
            "본문: 창조과학회에서는 또한 노아의 방주가 안정적인 구조였다고 주장하지만, 이와는 달리 노아의 방주는 항해가 불가능한 설계에 가깝다. 실제로 창조과학에서 주장하는 방주의 크기와 철제 부품을 사용하지 않은 목재 선박 중에서 가장 큰 수준의 선박들을 비교하면 배수량이 두배 이상 차이난다. 그리고 목재 선박은 강도 상의 문제 때문에 통상 길이 100m, 배수량 2000톤 정도가 한계로 여겨져 왔다. 창조과학회에서는 노아의 방주의 안정성을 실험하기 위한 연구가 있다고 주장하기도 하나, 그 자체의 불합리성에 대한 비판을 받고 있으며, 관련 주요 연구자는 지질학 석사학위, 생물학 학사학위를 가진 초등학교 교사로서, 주류 학계의 학회나 저널 등에 발표한 적이 없으며 또한 정당한 피어 리뷰에 의해 검증받지 않았다.\n",
            "질문: 노아의 방주 안전성을 연구하는 주요 연구자의 직업은?\n",
            "정답: 초등학교 교사\n",
            "예측: 초등학교 교사\n",
            "----------------------------------------------------------------------------------------------------\n",
            "본문: 창조과학회에서는 또한 노아의 방주가 안정적인 구조였다고 주장하지만, 이와는 달리 노아의 방주는 항해가 불가능한 설계에 가깝다. 실제로 창조과학에서 주장하는 방주의 크기와 철제 부품을 사용하지 않은 목재 선박 중에서 가장 큰 수준의 선박들을 비교하면 배수량이 두배 이상 차이난다. 그리고 목재 선박은 강도 상의 문제 때문에 통상 길이 100m, 배수량 2000톤 정도가 한계로 여겨져 왔다. 창조과학회에서는 노아의 방주의 안정성을 실험하기 위한 연구가 있다고 주장하기도 하나, 그 자체의 불합리성에 대한 비판을 받고 있으며, 관련 주요 연구자는 지질학 석사학위, 생물학 학사학위를 가진 초등학교 교사로서, 주류 학계의 학회나 저널 등에 발표한 적이 없으며 또한 정당한 피어 리뷰에 의해 검증받지 않았다.\n",
            "질문: 목재로 만들어진 선박은 강도 상의 통상 길이 몇m가 한계인가?\n",
            "정답: 100m\n",
            "예측: 100m\n",
            "----------------------------------------------------------------------------------------------------\n",
            "본문: 창조과학회에서는 또한 노아의 방주가 안정적인 구조였다고 주장하지만, 이와는 달리 노아의 방주는 항해가 불가능한 설계에 가깝다. 실제로 창조과학에서 주장하는 방주의 크기와 철제 부품을 사용하지 않은 목재 선박 중에서 가장 큰 수준의 선박들을 비교하면 배수량이 두배 이상 차이난다. 그리고 목재 선박은 강도 상의 문제 때문에 통상 길이 100m, 배수량 2000톤 정도가 한계로 여겨져 왔다. 창조과학회에서는 노아의 방주의 안정성을 실험하기 위한 연구가 있다고 주장하기도 하나, 그 자체의 불합리성에 대한 비판을 받고 있으며, 관련 주요 연구자는 지질학 석사학위, 생물학 학사학위를 가진 초등학교 교사로서, 주류 학계의 학회나 저널 등에 발표한 적이 없으며 또한 정당한 피어 리뷰에 의해 검증받지 않았다.\n",
            "질문: 목재 선박의 배수량 한계는?\n",
            "정답: 2000톤\n",
            "예측: 2000톤\n",
            "----------------------------------------------------------------------------------------------------\n",
            "본문: 1868년 게이오 4년 4월 11일 에도 성 무혈 개성을 한 이후 신정부 군에게 양도가 약속되어 있었다. 그러나 해군 부총재, 에노모토 다케아키가 기상 불량 등을 이유로 이를 연기한 후에 결국 인도를 거부했다. 도쿠가와 요시노부를 슨푸 번에 이송할 때의 태운 함선으로 사용한 후, 8월 19일 자정 ( 20일 ) 에는 마쓰오카 바키치를 함장으로 카이요마루, 가이텐마루, 신소쿠마루, 간린마루 등과 함께 막부 해군이 정박하고 있던 시나가와 해역을 탈출했다. 그 때 태풍에 휘말려 침몰직전이 되었지만, 1개월만에 에노모토 해군과 합류하였다. 에조치에 건너가 하코다테 전쟁에서는 에노모토 ( 하코다테 정부 ) 해군의 주력함이 되었다. 영국이 기증했을 때 엠퍼러 ( Emperor, 기증 당시 일본의 수장은 황제가 아니라 쇼군으로 인식되고 있었\n",
            "질문: 1868년 게이오 4년 4월 11일 반류마루는 누구에게 양도되기로 약속되었는가?\n",
            "정답: 신정부 군\n",
            "예측: 신정부 군\n",
            "----------------------------------------------------------------------------------------------------\n",
            "본문: 1868년 게이오 4년 4월 11일 에도 성 무혈 개성을 한 이후 신정부 군에게 양도가 약속되어 있었다. 그러나 해군 부총재, 에노모토 다케아키가 기상 불량 등을 이유로 이를 연기한 후에 결국 인도를 거부했다. 도쿠가와 요시노부를 슨푸 번에 이송할 때의 태운 함선으로 사용한 후, 8월 19일 자정 ( 20일 ) 에는 마쓰오카 바키치를 함장으로 카이요마루, 가이텐마루, 신소쿠마루, 간린마루 등과 함께 막부 해군이 정박하고 있던 시나가와 해역을 탈출했다. 그 때 태풍에 휘말려 침몰직전이 되었지만, 1개월만에 에노모토 해군과 합류하였다. 에조치에 건너가 하코다테 전쟁에서는 에노모토 ( 하코다테 정부 ) 해군의 주력함이 되었다. 영국이 기증했을 때 엠퍼러 ( Emperor, 기증 당시 일본\n",
            "질문: 1868년 게이오 4년 4월 11일 신정부 군에게 양도되기로 한 반류마루를 기상 불량 등의 이유로 연기한 후 인도를 거부한 사람은 누구인가?\n",
            "정답: 에노모토 다케아키\n",
            "예측: 에노모토 다케아키\n",
            "----------------------------------------------------------------------------------------------------\n",
            "본문: 1868년 게이오 4년 4월 11일 에도 성 무혈 개성을 한 이후 신정부 군에게 양도가 약속되어 있었다. 그러나 해군 부총재, 에노모토 다케아키가 기상 불량 등을 이유로 이를 연기한 후에 결국 인도를 거부했다. 도쿠가와 요시노부를 슨푸 번에 이송할 때의 태운 함선으로 사용한 후, 8월 19일 자정 ( 20일 ) 에는 마쓰오카 바키치를 함장으로 카이요마루, 가이텐마루, 신소쿠마루, 간린마루 등과 함께 막부 해군이 정박하고 있던 시나가와 해역을 탈출했다. 그 때 태풍에 휘말려 침몰직전이 되었지만, 1개월만에 에노모토 해군과 합류하였다. 에조치에 건너가 하코다테 전쟁에서는 에노모토 ( 하코다테 정부 ) 해군의 주력함이 되었다. 영국이 기증했을 때 엠퍼러 ( Emperor, 기증 당시 일본의 수장은 황제가 아니라 쇼군으로 인식되고 있었기 때문에 장군\n",
            "질문: 1868년 게이오 4년 8월 19일 자정 반류마루가 탈출한 해역은 어디인가?\n",
            "정답: 시나가와\n",
            "예측: 시나가와 해역\n",
            "----------------------------------------------------------------------------------------------------\n",
            "본문: 1868년 게이오 4년 4월 11일 에도 성 무혈 개성을 한 이후 신정부 군에게 양도가 약속되어 있었다. 그러나 해군 부총재, 에노모토 다케아키가 기상 불량 등을 이유로 이를 연기한 후에 결국 인도를 거부했다. 도쿠가와 요시노부를 슨푸 번에 이송할 때의 태운 함선으로 사용한 후, 8월 19일 자정 ( 20일 ) 에는 마쓰오카 바키치를 함장으로 카이요마루, 가이텐마루, 신소쿠마루, 간린마루 등과 함께 막부 해군이 정박하고 있던 시나가와 해역을 탈출했다. 그 때 태풍에 휘말려 침몰직전이 되었지만, 1개월만에 에노모토 해군과 합류하였다. 에조치에 건너가 하코다테 전쟁에서는 에노모토 ( 하코다테 정부 ) 해군의 주력함이 되었다. 영국이 기증했을 때 엠퍼러 ( Emperor, 기증 당시 일본의 수장은 황제가 아니라 쇼군으로 인식되고 있었기 때문에 장군을 지칭 ) 로 명명하고 있음\n",
            "질문: 막부 해군이 정박하고 있던 시나가와 해역을 탈출한 시간은?\n",
            "정답: 자정\n",
            "예측: 8월 19일 자정 ( 20일\n",
            "----------------------------------------------------------------------------------------------------\n",
            "본문: 1868년 게이오 4년 4월 11일 에도 성 무혈 개성을 한 이후 신정부 군에게 양도가 약속되어 있었다. 그러나 해군 부총재, 에노모토 다케아키가 기상 불량 등을 이유로 이를 연기한 후에 결국 인도를 거부했다. 도쿠가와 요시노부를 슨푸 번에 이송할 때의 태운 함선으로 사용한 후, 8월 19일 자정 ( 20일 ) 에는 마쓰오카 바키치를 함장으로 카이요마루, 가이텐마루, 신소쿠마루, 간린마루 등과 함께 막부 해군이 정박하고 있던 시나가와 해역을 탈출했다. 그 때 태풍에 휘말려 침몰직전이 되었지만, 1개월만에 에노모토 해군과 합류하였다. 에조치에 건너가 하코다테 전쟁에서는 에노모토 ( 하코다테 정부 ) 해군의 주력함이 되었다. 영국이 기증했을 때 엠퍼러 ( Emperor, 기증 당시 일본의 수장은 황제가 아니라 쇼군으로 인식되고 있었기 때문에 장군을 지칭 ) 로 명명하고 있음에서 알 수 있듯이\n",
            "질문: 1868년 당시 일본의 해군 부총재는?\n",
            "정답: 에노모토 다케아키\n",
            "예측: 에노모토 다케아키\n",
            "----------------------------------------------------------------------------------------------------\n",
            "본문: 1868년 게이오 4년 4월 11일 에도 성 무혈 개성을 한 이후 신정부 군에게 양도가 약속되어 있었다. 그러나 해군 부총재, 에노모토 다케아키가 기상 불량 등을 이유로 이를 연기한 후에 결국 인도를 거부했다. 도쿠가와 요시노부를 슨푸 번에 이송할 때의 태운 함선으로 사용한 후, 8월 19일 자정 ( 20일 ) 에는 마쓰오카 바키치를 함장으로 카이요마루, 가이텐마루, 신소쿠마루, 간린마루 등과 함께 막부 해군이 정박하고 있던 시나가와 해역을 탈출했다. 그 때 태풍에 휘말려 침몰직전이 되었지만, 1개월만에 에노모토 해군과 합류하였다. 에조치에 건너가 하코다테 전쟁에서는 에노모토 ( 하코다테 정부 ) 해군의 주력함이 되었다. 영국이 기증했을 때 엠퍼러 ( Emperor, 기증 당시 일본의 수장은 황제가 아니라 쇼군으로 인식되고 있었기 때문에 장군을 지칭 ) 로 명명하고\n",
            "질문: 에노모토 해군인 반류마루가 주력함이 되었던 전쟁은?\n",
            "정답: 하코다테 전쟁\n",
            "예측: 하코다테 전쟁\n",
            "----------------------------------------------------------------------------------------------------\n",
            "본문: 일련의 하코다테 전쟁은 적아 쌍방의 문서에 마쓰오카 바키치 함장의 능란한 조함 능력과 냉정한 지휘만이 기록되어 있다. 함포 사격으로 마쓰마에 성을 공격하여 엄호한 이후, 1869년 메이지 2년 3월 25일 미야코 만 해전에서는 폭풍우를 만나 요함과 헤어졌을 때에 만날 약속했던 하치노헤 항에서 대기하고 있었기 때문에 참전에는 이르지 못했다. 이 폭풍우 때도 “ 함장 마쓰오카 바키치는 배를 조정하는 명수로 로프 하나 손상되지 않았다 ” 고 타고 있던 하야시 다다스가 남긴 바 있다. 이 귀로에서 신정부 군의 철갑함의 추격을 받았다. 기관 능력의 차이로 인한 속도차 때문에 도주가 불가능하다고 판단하고 맞장 공격을 하겠다고 전투 준비를 했지만, 철갑선의 사정거리에 들어간 순간에 순풍이 불기 시작하여 추격을 뿌리치고 하코다테로 돌아올 수 있었다.\n",
            "질문: 하코다테 전쟁 시 반류마루의 함장의 이름은 무엇인가?\n",
            "정답: 마쓰오카 바키치\n",
            "예측: 마쓰오카 바키치\n",
            "----------------------------------------------------------------------------------------------------\n",
            "본문: 일련의 하코다테 전쟁은 적아 쌍방의 문서에 마쓰오카 바키치 함장의 능란한 조함 능력과 냉정한 지휘만이 기록되어 있다. 함포 사격으로 마쓰마에 성을 공격하여 엄호한 이후, 1869년 메이지 2년 3월 25일 미야코 만 해전에서는 폭풍우를 만나 요함과 헤어졌을 때에 만날 약속했던 하치노헤 항에서 대기하고 있었기 때문에 참전에는 이르지 못했다. 이 폭풍우 때도 “ 함장 마쓰오카 바키치는 배를 조정하는 명수로 로프 하나 손상되지 않았다 ” 고 타고 있던 하야시 다다스가 남긴 바 있다. 이 귀로에서 신정부 군의 철갑함의 추격을 받았다. 기관 능력의 차이로 인한 속도차 때문에 도주가 불가능하다고 판단하고 맞장 공격을 하겠다고 전투 준비를 했지만, 철갑선의 사정거리에 들어간 순간에 순풍이 불기 시작하여 추격을 뿌리치고 하코다테로 돌아올 수 있었다.\n",
            "질문: 반류마루가 미야코 만 해전에서 폭풍우를 만나 대기하고 있던 항구의 이름은 무엇인가?\n",
            "정답: 하치노헤\n",
            "예측: 하치노헤 항\n",
            "----------------------------------------------------------------------------------------------------\n",
            "본문: 일련의 하코다테 전쟁은 적아 쌍방의 문서에 마쓰오카 바키치 함장의 능란한 조함 능력과 냉정한 지휘만이 기록되어 있다. 함포 사격으로 마쓰마에 성을 공격하여 엄호한 이후, 1869년 메이지 2년 3월 25일 미야코 만 해전에서는 폭풍우를 만나 요함과 헤어졌을 때에 만날 약속했던 하치노헤 항에서 대기하고 있었기 때문에 참전에는 이르지 못했다. 이 폭풍우 때도 “ 함장 마쓰오카 바키치는 배를 조정하는 명수로 로프 하나 손상되지 않았다 ” 고 타고 있던 하야시 다다스가 남긴 바 있다. 이 귀로에서 신정부 군의 철갑함의 추격을 받았다. 기관 능력의 차이로 인한 속도차 때문에 도주가 불가능하다고 판단하고 맞장 공격을 하겠다고 전투 준비를 했지만, 철갑선의 사정거리에 들어간 순간에 순풍이 불기 시작하여 추격을\n",
            "질문: 반류마루가 미야코 만 해전당시 폭풍우를 만나 요함과 헤어졌을 때에 만날 약속하여 하치노헤 항에서 대기한 날짜는 언제인가?\n",
            "정답: 1869년 메이지 2년 3월 25일\n",
            "예측: 1869년 메이지 2년 3월 25일\n",
            "----------------------------------------------------------------------------------------------------\n",
            "본문: 일련의 하코다테 전쟁은 적아 쌍방의 문서에 마쓰오카 바키치 함장의 능란한 조함 능력과 냉정한 지휘만이 기록되어 있다. 함포 사격으로 마쓰마에 성을 공격하여 엄호한 이후, 1869년 메이지 2년 3월 25일 미야코 만 해전에서는 폭풍우를 만나 요함과 헤어졌을 때에 만날 약속했던 하치노헤 항에서 대기하고 있었기 때문에 참전에는 이르지 못했다. 이 폭풍우 때도 “ 함장 마쓰오카 바키치는 배를 조정하는 명수로 로프 하나 손상되지 않았다 ” 고 타고 있던 하야시 다다스가 남긴 바 있다. 이 귀로에서 신정부 군의 철갑함의 추격을 받았다. 기관 능력의 차이로 인한 속도차 때문에 도주가 불가능하다고 판단하고 맞장 공격을 하겠다고 전투 준비를 했지만, 철갑선의 사정거리에 들어간 순간에 순풍이 불기 시작하여 추격을 뿌리치고 하코다테로 돌아올 수\n",
            "질문: 함장 마쓰오카 바키치는 배를 조정하는 명수로 로프 하나 손상되지 않았다고 말한 사람은?\n",
            "정답: 하야시 다다스\n",
            "예측: 하야시 다다스\n",
            "----------------------------------------------------------------------------------------------------\n",
            "본문: 일련의 하코다테 전쟁은 적아 쌍방의 문서에 마쓰오카 바키치 함장의 능란한 조함 능력과 냉정한 지휘만이 기록되어 있다. 함포 사격으로 마쓰마에 성을 공격하여 엄호한 이후, 1869년 메이지 2년 3월 25일 미야코 만 해전에서는 폭풍우를 만나 요함과 헤어졌을 때에 만날 약속했던 하치노헤 항에서 대기하고 있었기 때문에 참전에는 이르지 못했다. 이 폭풍우 때도 “ 함장 마쓰오카 바키치는 배를 조정하는 명수로 로프 하나 손상되지 않았다 ” 고 타고 있던 하야시 다다스가 남긴 바 있다. 이 귀로에서 신정부 군의 철갑함의 추격을 받았다. 기관 능력의 차이로 인한 속도차 때문에 도주가 불가능하다고 판단하고 맞장 공격을 하겠다고 전투 준비를 했지만, 철갑선의 사정거리에 들어간 순간에 순풍이 불기 시작하여 추격을 뿌리치고 하코다테로 돌아올\n",
            "질문: 철갑선의 사정거리에 들어간 순간에 순풍이 불기 시작하여 추격을 뿌리치고 어디로 돌아올 수 있었는가?\n",
            "정답: 하코다테\n",
            "예측: 하코다테\n",
            "----------------------------------------------------------------------------------------------------\n",
            "본문: 일련의 하코다테 전쟁은 적아 쌍방의 문서에 마쓰오카 바키치 함장의 능란한 조함 능력과 냉정한 지휘만이 기록되어 있다. 함포 사격으로 마쓰마에 성을 공격하여 엄호한 이후, 1869년 메이지 2년 3월 25일 미야코 만 해전에서는 폭풍우를 만나 요함과 헤어졌을 때에 만날 약속했던 하치노헤 항에서 대기하고 있었기 때문에 참전에는 이르지 못했다. 이 폭풍우 때도 “ 함장 마쓰오카 바키치는 배를 조정하는 명수로 로프 하나 손상되지 않았다 ” 고 타고 있던 하야시 다다스가 남긴 바 있다. 이 귀로에서 신정부 군의 철갑함의 추격을 받았다. 기관 능력의 차이로 인한 속도차 때문에 도주가 불가능하다고 판단하고 맞장 공격을 하겠다고 전투 준비를 했지만, 철갑선의 사정거리에 들어간 순간에 순풍이 불기 시작하여 추격을 뿌리치고 하코다테로 돌아올 수 있었다.\n",
            "질문: 마쓰오카 바키치함장의 능력과 지휘과 기록된 기록되어 남은 전쟁은?\n",
            "정답: 하코다테 전쟁\n",
            "예측: 하코다테 전쟁\n",
            "----------------------------------------------------------------------------------------------------\n",
            "본문: 일련의 하코다테 전쟁은 적아 쌍방의 문서에 마쓰오카 바키치 함장의 능란한 조함 능력과 냉정한 지휘만이 기록되어 있다. 함포 사격으로 마쓰마에 성을 공격하여 엄호한 이후, 1869년 메이지 2년 3월 25일 미야코 만 해전에서는 폭풍우를 만나 요함과 헤어졌을 때에 만날 약속했던 하치노헤 항에서 대기하고 있었기 때문에 참전에는 이르지 못했다. 이 폭풍우 때도 “ 함장 마쓰오카 바키치는 배를 조정하는 명수로 로프 하나 손상되지 않았다 ” 고 타고 있던 하야시 다다스가 남긴 바 있다. 이 귀로에서 신정부 군의 철갑함의 추격을 받았다. 기관 능력의 차이로 인한 속도차 때문에 도주가 불가능하다고 판단하고 맞장 공격을 하겠다고 전투 준비를 했지만, 철갑선의 사정거리에 들어간 순간에 순풍이 불기 시작하여 추격을 뿌리치고 하코다테로 돌아올 수 있었다.\n",
            "질문: 미야코 만 해전에서 아쓰오카 바키치 함장이 폭풍우를 만난 년도는?\n",
            "정답: 1869년\n",
            "예측: 1869년\n",
            "----------------------------------------------------------------------------------------------------\n",
            "본문: 일련의 하코다테 전쟁은 적아 쌍방의 문서에 마쓰오카 바키치 함장의 능란한 조함 능력과 냉정한 지휘만이 기록되어 있다. 함포 사격으로 마쓰마에 성을 공격하여 엄호한 이후, 1869년 메이지 2년 3월 25일 미야코 만 해전에서는 폭풍우를 만나 요함과 헤어졌을 때에 만날 약속했던 하치노헤 항에서 대기하고 있었기 때문에 참전에는 이르지 못했다. 이 폭풍우 때도 “ 함장 마쓰오카 바키치는 배를 조정하는 명수로 로프 하나 손상되지 않았다 ” 고 타고 있던 하야시 다다스가 남긴 바 있다. 이 귀로에서 신정부 군의 철갑함의 추격을 받았다. 기관 능력의 차이로 인한 속도차 때문에 도주가 불가능하다고 판단하고 맞장 공격을 하겠다고 전투 준비를 했지만, 철갑선의 사정거리에 들어간 순간에 순풍이 불기 시작하여 추격을 뿌리치고 하코다테로 돌아올 수 있었\n",
            "질문: 마쓰오카 비키치가 철갑선의 추격을 뿌리치고 하코다테로 돌아올 수 있었던 원인은?\n",
            "정답: 순풍\n",
            "예측: 순풍\n",
            "----------------------------------------------------------------------------------------------------\n",
            "본문: 같은 해 5월 11일의 하코다테 총공격 ( 하코다테 해전 ) 에서 벤텐 다이바와 기관 고장으로 움직일 수 없는 떠 있는 포대가 된 가이텐마루의 원호를 받으며 신정부 군 함대와 응전을 벌인다. 새 정부 군함 초요마루의 화약고에 작렬탄을 명중시켜 초요마루는 대폭발을 일으켜 2분만에 굉침된다. 이것은 구 막부군의 사기를 단번에 향상시켰다. 그후 반류마루는 신정부군의 집중 포화를 맞았다. 응전을 계속했지만, 오후가 되면서 탄약이 완전히 소진되었기 때문에 부득이 퇴함을 결정했고, 벤텐 다이바 아래까지 물러나 얕은 물에 좌초시켰다. 승무원은 기관을 파괴 후 ( 함장 마쓰오카 바키치가 ‘ 나중에 사용할 수도 있을 것 ’ 이라고 방화를 금지했기 때문에 불태우지는 않음 ), 벤텐 다이바 근처에 도착, 적지 한 가운데를 가로질러 오다이바로 들어갔다\n",
            "질문: 1869년 5월 11일 하코다테 해전에서 반류마루가 응전을 벌인 함대는?\n",
            "정답: 신정부 군 함대\n",
            "예측: 신정부 군 함대\n",
            "----------------------------------------------------------------------------------------------------\n",
            "본문: 같은 해 5월 11일의 하코다테 총공격 ( 하코다테 해전 ) 에서 벤텐 다이바와 기관 고장으로 움직일 수 없는 떠 있는 포대가 된 가이텐마루의 원호를 받으며 신정부 군 함대와 응전을 벌인다. 새 정부 군함 초요마루의 화약고에 작렬탄을 명중시켜 초요마루는 대폭발을 일으켜 2분만에 굉침된다. 이것은 구 막부군의 사기를 단번에 향상시켰다. 그후 반류마루는 신정부군의 집중 포화를 맞았다. 응전을 계속했지만, 오후가 되면서 탄약이 완전히 소진되었기 때문에 부득이 퇴함을 결정했고, 벤텐 다이바 아래까지 물러나 얕은 물에 좌초시켰다. 승무원은 기관을 파괴 후 ( 함장 마쓰오카 바키치가 ‘ 나중에 사용할 수도 있을 것 ’ 이라고 방화를 금지했기 때문에 불태우지는 않음 ), 벤텐 다이\n",
            "질문: 1869년 5월 11일 하코다테 해전에서 반류마루가 신정부 군 함대와 응전을 벌일 때 원호를 받은 함대의 이름은 무엇인가?\n",
            "정답: 가이텐마루\n",
            "예측: 가이텐마루\n",
            "----------------------------------------------------------------------------------------------------\n",
            "본문: 같은 해 5월 11일의 하코다테 총공격 ( 하코다테 해전 ) 에서 벤텐 다이바와 기관 고장으로 움직일 수 없는 떠 있는 포대가 된 가이텐마루의 원호를 받으며 신정부 군 함대와 응전을 벌인다. 새 정부 군함 초요마루의 화약고에 작렬탄을 명중시켜 초요마루는 대폭발을 일으켜 2분만에 굉침된다. 이것은 구 막부군의 사기를 단번에 향상시켰다. 그후 반류마루는 신정부군의 집중 포화를 맞았다. 응전을 계속했지만, 오후가 되면서 탄약이 완전히 소진되었기 때문에 부득이 퇴함을 결정했고, 벤텐 다이바 아래까지 물러나 얕은 물에 좌초시켰다. 승무원은 기관을 파괴 후 ( 함장 마쓰오카 바키치가 ‘ 나중에 사용할 수도 있을 것 ’ 이라고 방화를 금지했기 때문에 불태우지는 않음 ), 벤텐 다이바 근처에 도착, 적\n",
            "질문: 1869년 5월 11일 하코다테 해전에서 반류마루가 작렬탄을 명중시켜 굉침시킨 군함의 이름은?\n",
            "정답: 초요마루\n",
            "예측: 초요마루\n",
            "----------------------------------------------------------------------------------------------------\n",
            "본문: 같은 해 5월 11일의 하코다테 총공격 ( 하코다테 해전 ) 에서 벤텐 다이바와 기관 고장으로 움직일 수 없는 떠 있는 포대가 된 가이텐마루의 원호를 받으며 신정부 군 함대와 응전을 벌인다. 새 정부 군함 초요마루의 화약고에 작렬탄을 명중시켜 초요마루는 대폭발을 일으켜 2분만에 굉침된다. 이것은 구 막부군의 사기를 단번에 향상시켰다. 그후 반류마루는 신정부군의 집중 포화를 맞았다. 응전을 계속했지만, 오후가 되면서 탄약이 완전히 소진되었기 때문에 부득이 퇴함을 결정했고, 벤텐 다이바 아래까지 물러나 얕은 물에 좌초시켰다. 승무원은 기관을 파괴 후 ( 함장 마쓰오카 바키치가 ‘ 나중에 사용할 수도 있을 것 ’ 이라고 방화를 금지했기 때문에 불태우지는 않음 ), 벤텐 다이바 근처에 도착, 적지 한 가운데를 가로질러 오다이바로 들어갔다. 이날 신정부군\n",
            "질문: 초요마루는 대폭발을 일으켜 몇분만에 굉침되었는가?\n",
            "정답: 2분\n",
            "예측: 2분\n",
            "----------------------------------------------------------------------------------------------------\n",
            "본문: 같은 해 5월 11일의 하코다테 총공격 ( 하코다테 해전 ) 에서 벤텐 다이바와 기관 고장으로 움직일 수 없는 떠 있는 포대가 된 가이텐마루의 원호를 받으며 신정부 군 함대와 응전을 벌인다. 새 정부 군함 초요마루의 화약고에 작렬탄을 명중시켜 초요마루는 대폭발을 일으켜 2분만에 굉침된다. 이것은 구 막부군의 사기를 단번에 향상시켰다. 그후 반류마루는 신정부군의 집중 포화를 맞았다. 응전을 계속했지만, 오후가 되면서 탄약이 완전히 소진되었기 때문에 부득이 퇴함을 결정했고, 벤텐 다이바 아래까지 물러나 얕은 물에 좌초시켰다. 승무원은 기관을 파괴 후 ( 함장 마쓰오카 바키치가 ‘ 나중에 사용할 수도 있을 것 ’ 이라고 방화를 금지했기 때문에 불태우지는 않음 ), 벤텐 다이바 근처에 도착, 적지 한 가운데를 가로질러 오다이바로 들어갔다.\n",
            "질문: 반류마루는 오후가 되면서 무엇이 소진되어 부득이 퇴함을 결정하였는가?\n",
            "정답: 탄약\n",
            "예측: 탄약\n",
            "----------------------------------------------------------------------------------------------------\n",
            "본문: 같은 해 5월 11일의 하코다테 총공격 ( 하코다테 해전 ) 에서 벤텐 다이바와 기관 고장으로 움직일 수 없는 떠 있는 포대가 된 가이텐마루의 원호를 받으며 신정부 군 함대와 응전을 벌인다. 새 정부 군함 초요마루의 화약고에 작렬탄을 명중시켜 초요마루는 대폭발을 일으켜 2분만에 굉침된다. 이것은 구 막부군의 사기를 단번에 향상시켰다. 그후 반류마루는 신정부군의 집중 포화를 맞았다. 응전을 계속했지만, 오후가 되면서 탄약이 완전히 소진되었기 때문에 부득이 퇴함을 결정했고, 벤텐 다이바 아래까지 물러나 얕은 물에 좌초시켰다. 승무원은 기관을 파괴 후 ( 함장 마쓰오카 바키치가 ‘ 나중에 사용할 수도 있을 것 ’ 이라고 방화를 금지했기 때문에 불태우지는 않음 ), 벤텐 다이바 근처에 도착, 적지 한 가운데를 가로질러 오다이바로 들어갔다. 이날 신정부군의 손에 반류마루는 방화를 당했지만\n",
            "질문: 반류마루 함장의 이름은?\n",
            "정답: 마쓰오카 바키치\n",
            "예측: 마쓰오카 바키치\n",
            "----------------------------------------------------------------------------------------------------\n",
            "본문: 같은 해 5월 11일의 하코다테 총공격 ( 하코다테 해전 ) 에서 벤텐 다이바와 기관 고장으로 움직일 수 없는 떠 있는 포대가 된 가이텐마루의 원호를 받으며 신정부 군 함대와 응전을 벌인다. 새 정부 군함 초요마루의 화약고에 작렬탄을 명중시켜 초요마루는 대폭발을 일으켜 2분만에 굉침된다. 이것은 구 막부군의 사기를 단번에 향상시켰다. 그후 반류마루는 신정부군의 집중 포화를 맞았다. 응전을 계속했지만, 오후가 되면서 탄약이 완전히 소진되었기 때문에 부득이 퇴함을 결정했고, 벤텐 다이바 아래까지 물러나 얕은 물에 좌초시켰다. 승무원은 기관을 파괴 후 ( 함장 마쓰오카 바키치가 ‘ 나중에 사용할 수도 있을 것 ’ 이라고 방화를 금지했기 때문에 불태우지는 않음 ), 벤텐 다이바 근처에 도착, 적지 한 가운데를 가로질러 오다이바로 들어갔다. 이날 신정부군의 손에 반류마루는\n",
            "질문: 신정부군의 손에 방화를 당한 함정은?\n",
            "정답: 반류마루\n",
            "예측: 반류마루\n",
            "----------------------------------------------------------------------------------------------------\n",
            "본문: 같은 해 5월 11일의 하코다테 총공격 ( 하코다테 해전 ) 에서 벤텐 다이바와 기관 고장으로 움직일 수 없는 떠 있는 포대가 된 가이텐마루의 원호를 받으며 신정부 군 함대와 응전을 벌인다. 새 정부 군함 초요마루의 화약고에 작렬탄을 명중시켜 초요마루는 대폭발을 일으켜 2분만에 굉침된다. 이것은 구 막부군의 사기를 단번에 향상시켰다. 그후 반류마루는 신정부군의 집중 포화를 맞았다. 응전을 계속했지만, 오후가 되면서 탄약이 완전히 소진되었기 때문에 부득이 퇴함을 결정했고, 벤텐 다이바 아래까지 물러나 얕은 물에 좌초시켰다. 승무원은 기관을 파괴 후 ( 함장 마쓰오카 바키치가 ‘ 나중에 사용할 수도 있을 것 ’ 이라고 방화를 금지했기 때문에 불태우지는 않음 ), 벤텐 다이바 근처에 도착, 적지 한\n",
            "질문: 1869년 5월 11일 반류마루가 가이텐마루의 원호를 받으며 신정부군 함대와 응전을 벌인 해전은?\n",
            "정답: 하코다테 해전\n",
            "예측: 하코다테 해전\n",
            "----------------------------------------------------------------------------------------------------\n",
            "본문: 서양 철학 ( 西 [UNK] [UNK] 學 ) 은 서양에서 이루어진 철학적인 생각과 관련된 용어로, 동양 철학이나 다양한 지역에 존재하는 토착 철학들과 대비된다. 역사적으로 이 용어는 서구 문화의 철학적 사고와 관련하여 최근에 만든 것이다. 고대 그리스의 그리스 철학에서 시작하여, 결국 북아메리카와 오스트레일리아를 포함하는 지구의 넓은 영역에 퍼진 사유를 말한다. 북아프리카나 중동의 일부, 러시아를 비롯한 여러 지역의 사상도 포함시킬 것이냐에 대한 논란이 있다. \" 철학 \" 이라는 용어 자체는 고대 그리스어에서 유래한 것이다. \" 필로소피아 \" ( [UNK] ) 는 문자적으로, \" 지혜에 대한 사랑 \" 이다 ( [UNK] - 필레인 \" 사랑하다 \" 와 [UNK] - 소피아 \" 지혜 \", ( 한국어 표현으로는'지혜'보다는 오히려'지식'의 뜻과 더 유사하다 ). 오늘날의 용어로 보면, \" 서양 철학 \" 은 분석 철학과 대륙 철학이라는 두 가지 주요한 전통을 지니고 있다.\n",
            "질문: 철학이라는 용어 자체는 어디에서 유래 되었는가?\n",
            "정답: 고대 그리스어\n",
            "예측: 고대 그리스어\n",
            "----------------------------------------------------------------------------------------------------\n",
            "본문: 서양 철학 ( 西 [UNK] [UNK] 學 ) 은 서양에서 이루어진 철학적인 생각과 관련된 용어로, 동양 철학이나 다양한 지역에 존재하는 토착 철학들과 대비된다. 역사적으로 이 용어는 서구 문화의 철학적 사고와 관련하여 최근에 만든 것이다. 고대 그리스의 그리스 철학에서 시작하여, 결국 북아메리카와 오스트레일리아를 포함하는 지구의 넓은 영역에 퍼진 사유를 말한다. 북아프리카나 중동의 일부, 러시아를 비롯한 여러 지역의 사상도 포함시킬 것이냐에 대한 논란이 있다. \" 철학 \" 이라는 용어 자체는 고대 그리스어에서 유래한 것이다. \" 필로소피아 \" ( [UNK] ) 는 문자적으로, \" 지혜에 대한 사랑 \" 이다 ( [UNK] - 필레인 \" 사랑하다 \" 와 [UNK] - 소피아 \" 지혜 \", ( 한국어 표현으로는'지혜'보다는 오히려'지식'의 뜻과 더 유사하다 ). 오늘날의 용어로 보면, \" 서양 철학 \" 은 분석 철학과 대륙 철학이라는 두 가지 주요한 전통을 지니고 있다.\n",
            "질문: 오늘날 서양 철학은 2가지 주요한 전통을 지니고 있는데 분석철학과 나머지 한개는 무엇인가?\n",
            "정답: 대륙 철학\n",
            "예측: 대륙 철학\n",
            "----------------------------------------------------------------------------------------------------\n",
            "본문: 서양 철학 ( 西 [UNK] [UNK] 學 ) 은 서양에서 이루어진 철학적인 생각과 관련된 용어로, 동양 철학이나 다양한 지역에 존재하는 토착 철학들과 대비된다. 역사적으로 이 용어는 서구 문화의 철학적 사고와 관련하여 최근에 만든 것이다. 고대 그리스의 그리스 철학에서 시작하여, 결국 북아메리카와 오스트레일리아를 포함하는 지구의 넓은 영역에 퍼진 사유를 말한다. 북아프리카나 중동의 일부, 러시아를 비롯한 여러 지역의 사상도 포함시킬 것이냐에 대한 논란이 있다. \" 철학 \" 이라는 용어 자체는 고대 그리스어에서 유래한 것이다. \" 필로소피아 \" ( [UNK] ) 는 문자적으로, \" 지혜에 대한 사랑 \" 이다 ( [UNK] - 필레인 \" 사랑하다 \" 와 [UNK] - 소피아 \" 지혜 \", ( 한국어 표현으로는'지혜'보다는 오히려'지식'의 뜻과 더 유사하다 ). 오늘날의 용어로 보면, \" 서양 철학 \" 은 분석 철학과 대륙 철학이라는 두 가지 주요한 전통을 지니고 있다.\n",
            "질문: '철학'은 어디에서 유래한 용어인가?\n",
            "정답: 고대 그리스어\n",
            "예측: 고대 그리스어\n",
            "----------------------------------------------------------------------------------------------------\n",
            "본문: 서양 철학 ( 西 [UNK] [UNK] 學 ) 은 서양에서 이루어진 철학적인 생각과 관련된 용어로, 동양 철학이나 다양한 지역에 존재하는 토착 철학들과 대비된다. 역사적으로 이 용어는 서구 문화의 철학적 사고와 관련하여 최근에 만든 것이다. 고대 그리스의 그리스 철학에서 시작하여, 결국 북아메리카와 오스트레일리아를 포함하는 지구의 넓은 영역에 퍼진 사유를 말한다. 북아프리카나 중동의 일부, 러시아를 비롯한 여러 지역의 사상도 포함시킬 것이냐에 대한 논란이 있다. \" 철학 \" 이라는 용어 자체는 고대 그리스어에서 유래한 것이다. \" 필로소피아 \" ( [UNK] ) 는 문자적으로, \" 지혜에 대한 사랑 \" 이다 ( [UNK] - 필레인 \" 사랑하다 \" 와 [UNK] - 소피아 \" 지혜 \", ( 한국어 표현으로는'지혜'보다는 오히려'지식'의 뜻과 더 유사하다 ). 오늘날의 용어로 보면, \" 서양 철학 \" 은 분석 철학과 대륙 철학이라는 두 가지 주요한 전통을 지니고 있다.\n",
            "질문: 분석 철학과 대륙 철학이라는 두 가지 전통을 지니고 있는 것은?\n",
            "정답: 서양 철학\n",
            "예측: 서양 철학\n",
            "----------------------------------------------------------------------------------------------------\n",
            "본문: 서양 철학 ( 西 [UNK] [UNK] 學 ) 은 서양에서 이루어진 철학적인 생각과 관련된 용어로, 동양 철학이나 다양한 지역에 존재하는 토착 철학들과 대비된다. 역사적으로 이 용어는 서구 문화의 철학적 사고와 관련하여 최근에 만든 것이다. 고대 그리스의 그리스 철학에서 시작하여, 결국 북아메리카와 오스트레일리아를 포함하는 지구의 넓은 영역에 퍼진 사유를 말한다. 북아프리카나 중동의 일부, 러시아를 비롯한 여러 지역의 사상도 포함시킬 것이냐에 대한 논란이 있다. \" 철학 \" 이라는 용어 자체는 고대 그리스어에서 유래한 것이다. \" 필로소피아 \" ( [UNK] ) 는 문자적으로, \" 지혜에 대한 사랑 \" 이다 ( [UNK] - 필레인 \" 사랑하다 \" 와 [UNK] - 소피아 \" 지혜 \", ( 한국어 표현으로는'지혜'보다는 오히려'지식'의 뜻과 더 유사하다 ). 오늘날의 용어로 보면, \" 서양 철학 \" 은 분석 철학과 대륙 철학이라는 두 가지 주요한 전통을 지니고 있다.\n",
            "질문: 철학이라는 용어가 유래한 언어는?\n",
            "정답: 고대 그리스어\n",
            "예측: 그리스어\n",
            "----------------------------------------------------------------------------------------------------\n",
            "본문: 서양 철학 ( 西 [UNK] [UNK] 學 ) 은 서양에서 이루어진 철학적인 생각과 관련된 용어로, 동양 철학이나 다양한 지역에 존재하는 토착 철학들과 대비된다. 역사적으로 이 용어는 서구 문화의 철학적 사고와 관련하여 최근에 만든 것이다. 고대 그리스의 그리스 철학에서 시작하여, 결국 북아메리카와 오스트레일리아를 포함하는 지구의 넓은 영역에 퍼진 사유를 말한다. 북아프리카나 중동의 일부, 러시아를 비롯한 여러 지역의 사상도 포함시킬 것이냐에 대한 논란이 있다. \" 철학 \" 이라는 용어 자체는 고대 그리스어에서 유래한 것이다. \" 필로소피아 \" ( [UNK] ) 는 문자적으로, \" 지혜에 대한 사랑 \" 이다 ( [UNK] - 필레인 \" 사랑하다 \" 와 [UNK] - 소피아 \" 지혜 \", ( 한국어 표현으로는'지혜'보다는 오히려'지식'의 뜻과 더 유사하다 ). 오늘날의 용어로 보면, \" 서양 철학 \" 은 분석 철학과 대륙 철학이라는 두 가지 주요한 전통을 지니고 있다.\n",
            "질문: 분석 철학과 함께 서양 철학의 두 가지 주요 전통 중 하나는?\n",
            "정답: 대륙 철학\n",
            "예측: 대륙 철학\n",
            "----------------------------------------------------------------------------------------------------\n",
            "본문: 철학의 범위에 대한 고대의 이해와 고대 철학자의 글쓰기를 살펴보면, \" 모든 \" 지적 노력을 철학에 포함시키고 있다. 그들의 \" 철학 \" 은 오늘날 철학의 문제라고 생각하는 것도 포함하지만, 다른 분과에 속하는 것으로 보이는 문제도 같이 다루고 있다. 예를 들면 순수 수학과 물리학, 천문학, 생물학을 포함하는 자연 과학에 해당하는 것도 철학에서 다루고 있는 것이다. ( 아리스토텔레스는 위에서 언급한 모든 주제에 관한 책을 썼다. 17세기 후반에도 여전히 위의 분야들이 \" 자연 철학 \" 의 분과에 속하는 것으로 언급되었다. ) 시간이 흘러, 대학에서 학문의 분화와 과학 기술의 빠른 발전이 이러한 과학들이 철학과는 별도의 학문으로 분리되는데 기여했다. 수학은 고대 세계에서 전문적인 과학이 되었고, \" 자연 철학 \" 은 자연 과학의 여러 분과들로 발전하여 과학 혁명으로 가는 길을 마련하였다. 오늘날 철학적인 질문은 항상 특정한 과학의 과제들과는\n",
            "질문: 자연과학의 여러 분과들로 발전하여 과학 혁명으로 가는 길을 마련한 철학은?\n",
            "정답: 자연 철학\n",
            "예측: 자연 철학\n",
            "----------------------------------------------------------------------------------------------------\n"
          ]
        }
      ]
    }
  ],
  "metadata": {
    "accelerator": "GPU",
    "colab": {
      "machine_shape": "hm",
      "provenance": [],
      "gpuType": "A100"
    },
    "kernelspec": {
      "display_name": "Python 3",
      "name": "python3"
    },
    "language_info": {
      "name": "python"
    },
    "widgets": {
      "application/vnd.jupyter.widget-state+json": {
        "e4a297e1438f4fa9af257c0b78c194b5": {
          "model_module": "@jupyter-widgets/controls",
          "model_name": "HBoxModel",
          "model_module_version": "1.5.0",
          "state": {
            "_dom_classes": [],
            "_model_module": "@jupyter-widgets/controls",
            "_model_module_version": "1.5.0",
            "_model_name": "HBoxModel",
            "_view_count": null,
            "_view_module": "@jupyter-widgets/controls",
            "_view_module_version": "1.5.0",
            "_view_name": "HBoxView",
            "box_style": "",
            "children": [
              "IPY_MODEL_9a2b0df26e684ae2b53bf73c368287b2",
              "IPY_MODEL_4e616d11e0ea47da987bb7f3f449f1df",
              "IPY_MODEL_e90107a004fb4fdf96d4ba3e8f94ebc7"
            ],
            "layout": "IPY_MODEL_1161f3b8499a499daeba6fe68c34dd14"
          }
        },
        "9a2b0df26e684ae2b53bf73c368287b2": {
          "model_module": "@jupyter-widgets/controls",
          "model_name": "HTMLModel",
          "model_module_version": "1.5.0",
          "state": {
            "_dom_classes": [],
            "_model_module": "@jupyter-widgets/controls",
            "_model_module_version": "1.5.0",
            "_model_name": "HTMLModel",
            "_view_count": null,
            "_view_module": "@jupyter-widgets/controls",
            "_view_module_version": "1.5.0",
            "_view_name": "HTMLView",
            "description": "",
            "description_tooltip": null,
            "layout": "IPY_MODEL_0b3a114399de43a29b5887cbd03788de",
            "placeholder": "​",
            "style": "IPY_MODEL_5f0e8a19ae0a4bb9998528b382606cf6",
            "value": "tokenizer_config.json: 100%"
          }
        },
        "4e616d11e0ea47da987bb7f3f449f1df": {
          "model_module": "@jupyter-widgets/controls",
          "model_name": "FloatProgressModel",
          "model_module_version": "1.5.0",
          "state": {
            "_dom_classes": [],
            "_model_module": "@jupyter-widgets/controls",
            "_model_module_version": "1.5.0",
            "_model_name": "FloatProgressModel",
            "_view_count": null,
            "_view_module": "@jupyter-widgets/controls",
            "_view_module_version": "1.5.0",
            "_view_name": "ProgressView",
            "bar_style": "success",
            "description": "",
            "description_tooltip": null,
            "layout": "IPY_MODEL_6e860a29856341ba83e4ade30c7eef95",
            "max": 289,
            "min": 0,
            "orientation": "horizontal",
            "style": "IPY_MODEL_7a71b9886f2a4b58947bbab4da118bd2",
            "value": 289
          }
        },
        "e90107a004fb4fdf96d4ba3e8f94ebc7": {
          "model_module": "@jupyter-widgets/controls",
          "model_name": "HTMLModel",
          "model_module_version": "1.5.0",
          "state": {
            "_dom_classes": [],
            "_model_module": "@jupyter-widgets/controls",
            "_model_module_version": "1.5.0",
            "_model_name": "HTMLModel",
            "_view_count": null,
            "_view_module": "@jupyter-widgets/controls",
            "_view_module_version": "1.5.0",
            "_view_name": "HTMLView",
            "description": "",
            "description_tooltip": null,
            "layout": "IPY_MODEL_10c8824d4ffe4058a95a8167ea7b45df",
            "placeholder": "​",
            "style": "IPY_MODEL_5b99bf8cc8d943b7a115099dd616b96a",
            "value": " 289/289 [00:00&lt;00:00, 24.1kB/s]"
          }
        },
        "1161f3b8499a499daeba6fe68c34dd14": {
          "model_module": "@jupyter-widgets/base",
          "model_name": "LayoutModel",
          "model_module_version": "1.2.0",
          "state": {
            "_model_module": "@jupyter-widgets/base",
            "_model_module_version": "1.2.0",
            "_model_name": "LayoutModel",
            "_view_count": null,
            "_view_module": "@jupyter-widgets/base",
            "_view_module_version": "1.2.0",
            "_view_name": "LayoutView",
            "align_content": null,
            "align_items": null,
            "align_self": null,
            "border": null,
            "bottom": null,
            "display": null,
            "flex": null,
            "flex_flow": null,
            "grid_area": null,
            "grid_auto_columns": null,
            "grid_auto_flow": null,
            "grid_auto_rows": null,
            "grid_column": null,
            "grid_gap": null,
            "grid_row": null,
            "grid_template_areas": null,
            "grid_template_columns": null,
            "grid_template_rows": null,
            "height": null,
            "justify_content": null,
            "justify_items": null,
            "left": null,
            "margin": null,
            "max_height": null,
            "max_width": null,
            "min_height": null,
            "min_width": null,
            "object_fit": null,
            "object_position": null,
            "order": null,
            "overflow": null,
            "overflow_x": null,
            "overflow_y": null,
            "padding": null,
            "right": null,
            "top": null,
            "visibility": null,
            "width": null
          }
        },
        "0b3a114399de43a29b5887cbd03788de": {
          "model_module": "@jupyter-widgets/base",
          "model_name": "LayoutModel",
          "model_module_version": "1.2.0",
          "state": {
            "_model_module": "@jupyter-widgets/base",
            "_model_module_version": "1.2.0",
            "_model_name": "LayoutModel",
            "_view_count": null,
            "_view_module": "@jupyter-widgets/base",
            "_view_module_version": "1.2.0",
            "_view_name": "LayoutView",
            "align_content": null,
            "align_items": null,
            "align_self": null,
            "border": null,
            "bottom": null,
            "display": null,
            "flex": null,
            "flex_flow": null,
            "grid_area": null,
            "grid_auto_columns": null,
            "grid_auto_flow": null,
            "grid_auto_rows": null,
            "grid_column": null,
            "grid_gap": null,
            "grid_row": null,
            "grid_template_areas": null,
            "grid_template_columns": null,
            "grid_template_rows": null,
            "height": null,
            "justify_content": null,
            "justify_items": null,
            "left": null,
            "margin": null,
            "max_height": null,
            "max_width": null,
            "min_height": null,
            "min_width": null,
            "object_fit": null,
            "object_position": null,
            "order": null,
            "overflow": null,
            "overflow_x": null,
            "overflow_y": null,
            "padding": null,
            "right": null,
            "top": null,
            "visibility": null,
            "width": null
          }
        },
        "5f0e8a19ae0a4bb9998528b382606cf6": {
          "model_module": "@jupyter-widgets/controls",
          "model_name": "DescriptionStyleModel",
          "model_module_version": "1.5.0",
          "state": {
            "_model_module": "@jupyter-widgets/controls",
            "_model_module_version": "1.5.0",
            "_model_name": "DescriptionStyleModel",
            "_view_count": null,
            "_view_module": "@jupyter-widgets/base",
            "_view_module_version": "1.2.0",
            "_view_name": "StyleView",
            "description_width": ""
          }
        },
        "6e860a29856341ba83e4ade30c7eef95": {
          "model_module": "@jupyter-widgets/base",
          "model_name": "LayoutModel",
          "model_module_version": "1.2.0",
          "state": {
            "_model_module": "@jupyter-widgets/base",
            "_model_module_version": "1.2.0",
            "_model_name": "LayoutModel",
            "_view_count": null,
            "_view_module": "@jupyter-widgets/base",
            "_view_module_version": "1.2.0",
            "_view_name": "LayoutView",
            "align_content": null,
            "align_items": null,
            "align_self": null,
            "border": null,
            "bottom": null,
            "display": null,
            "flex": null,
            "flex_flow": null,
            "grid_area": null,
            "grid_auto_columns": null,
            "grid_auto_flow": null,
            "grid_auto_rows": null,
            "grid_column": null,
            "grid_gap": null,
            "grid_row": null,
            "grid_template_areas": null,
            "grid_template_columns": null,
            "grid_template_rows": null,
            "height": null,
            "justify_content": null,
            "justify_items": null,
            "left": null,
            "margin": null,
            "max_height": null,
            "max_width": null,
            "min_height": null,
            "min_width": null,
            "object_fit": null,
            "object_position": null,
            "order": null,
            "overflow": null,
            "overflow_x": null,
            "overflow_y": null,
            "padding": null,
            "right": null,
            "top": null,
            "visibility": null,
            "width": null
          }
        },
        "7a71b9886f2a4b58947bbab4da118bd2": {
          "model_module": "@jupyter-widgets/controls",
          "model_name": "ProgressStyleModel",
          "model_module_version": "1.5.0",
          "state": {
            "_model_module": "@jupyter-widgets/controls",
            "_model_module_version": "1.5.0",
            "_model_name": "ProgressStyleModel",
            "_view_count": null,
            "_view_module": "@jupyter-widgets/base",
            "_view_module_version": "1.2.0",
            "_view_name": "StyleView",
            "bar_color": null,
            "description_width": ""
          }
        },
        "10c8824d4ffe4058a95a8167ea7b45df": {
          "model_module": "@jupyter-widgets/base",
          "model_name": "LayoutModel",
          "model_module_version": "1.2.0",
          "state": {
            "_model_module": "@jupyter-widgets/base",
            "_model_module_version": "1.2.0",
            "_model_name": "LayoutModel",
            "_view_count": null,
            "_view_module": "@jupyter-widgets/base",
            "_view_module_version": "1.2.0",
            "_view_name": "LayoutView",
            "align_content": null,
            "align_items": null,
            "align_self": null,
            "border": null,
            "bottom": null,
            "display": null,
            "flex": null,
            "flex_flow": null,
            "grid_area": null,
            "grid_auto_columns": null,
            "grid_auto_flow": null,
            "grid_auto_rows": null,
            "grid_column": null,
            "grid_gap": null,
            "grid_row": null,
            "grid_template_areas": null,
            "grid_template_columns": null,
            "grid_template_rows": null,
            "height": null,
            "justify_content": null,
            "justify_items": null,
            "left": null,
            "margin": null,
            "max_height": null,
            "max_width": null,
            "min_height": null,
            "min_width": null,
            "object_fit": null,
            "object_position": null,
            "order": null,
            "overflow": null,
            "overflow_x": null,
            "overflow_y": null,
            "padding": null,
            "right": null,
            "top": null,
            "visibility": null,
            "width": null
          }
        },
        "5b99bf8cc8d943b7a115099dd616b96a": {
          "model_module": "@jupyter-widgets/controls",
          "model_name": "DescriptionStyleModel",
          "model_module_version": "1.5.0",
          "state": {
            "_model_module": "@jupyter-widgets/controls",
            "_model_module_version": "1.5.0",
            "_model_name": "DescriptionStyleModel",
            "_view_count": null,
            "_view_module": "@jupyter-widgets/base",
            "_view_module_version": "1.2.0",
            "_view_name": "StyleView",
            "description_width": ""
          }
        },
        "261642490afb45679957ce1868a3f50f": {
          "model_module": "@jupyter-widgets/controls",
          "model_name": "HBoxModel",
          "model_module_version": "1.5.0",
          "state": {
            "_dom_classes": [],
            "_model_module": "@jupyter-widgets/controls",
            "_model_module_version": "1.5.0",
            "_model_name": "HBoxModel",
            "_view_count": null,
            "_view_module": "@jupyter-widgets/controls",
            "_view_module_version": "1.5.0",
            "_view_name": "HBoxView",
            "box_style": "",
            "children": [
              "IPY_MODEL_9402f80249434c2484b916b17378983f",
              "IPY_MODEL_88ad609aad524a14a1b3bea1c054ade0",
              "IPY_MODEL_381dec383aa543209a8c4153c45a9d7d"
            ],
            "layout": "IPY_MODEL_ed6c56b5adfe4afd8b59df6ccede3110"
          }
        },
        "9402f80249434c2484b916b17378983f": {
          "model_module": "@jupyter-widgets/controls",
          "model_name": "HTMLModel",
          "model_module_version": "1.5.0",
          "state": {
            "_dom_classes": [],
            "_model_module": "@jupyter-widgets/controls",
            "_model_module_version": "1.5.0",
            "_model_name": "HTMLModel",
            "_view_count": null,
            "_view_module": "@jupyter-widgets/controls",
            "_view_module_version": "1.5.0",
            "_view_name": "HTMLView",
            "description": "",
            "description_tooltip": null,
            "layout": "IPY_MODEL_68c899f5c29f42e5b142a77a2cdad03e",
            "placeholder": "​",
            "style": "IPY_MODEL_89955778d6bd4acda80b0d2d3f3837d0",
            "value": "vocab.txt: 100%"
          }
        },
        "88ad609aad524a14a1b3bea1c054ade0": {
          "model_module": "@jupyter-widgets/controls",
          "model_name": "FloatProgressModel",
          "model_module_version": "1.5.0",
          "state": {
            "_dom_classes": [],
            "_model_module": "@jupyter-widgets/controls",
            "_model_module_version": "1.5.0",
            "_model_name": "FloatProgressModel",
            "_view_count": null,
            "_view_module": "@jupyter-widgets/controls",
            "_view_module_version": "1.5.0",
            "_view_name": "ProgressView",
            "bar_style": "success",
            "description": "",
            "description_tooltip": null,
            "layout": "IPY_MODEL_a50b90fa29d3458b9798ecb38b64884b",
            "max": 248477,
            "min": 0,
            "orientation": "horizontal",
            "style": "IPY_MODEL_e43299880bb24935a4563e4edb0fd9c7",
            "value": 248477
          }
        },
        "381dec383aa543209a8c4153c45a9d7d": {
          "model_module": "@jupyter-widgets/controls",
          "model_name": "HTMLModel",
          "model_module_version": "1.5.0",
          "state": {
            "_dom_classes": [],
            "_model_module": "@jupyter-widgets/controls",
            "_model_module_version": "1.5.0",
            "_model_name": "HTMLModel",
            "_view_count": null,
            "_view_module": "@jupyter-widgets/controls",
            "_view_module_version": "1.5.0",
            "_view_name": "HTMLView",
            "description": "",
            "description_tooltip": null,
            "layout": "IPY_MODEL_f998f81fa4e048f68eefca2ce76be133",
            "placeholder": "​",
            "style": "IPY_MODEL_4b0fe050e9ec4f7c9d0b70bb90be0c99",
            "value": " 248k/248k [00:00&lt;00:00, 335kB/s]"
          }
        },
        "ed6c56b5adfe4afd8b59df6ccede3110": {
          "model_module": "@jupyter-widgets/base",
          "model_name": "LayoutModel",
          "model_module_version": "1.2.0",
          "state": {
            "_model_module": "@jupyter-widgets/base",
            "_model_module_version": "1.2.0",
            "_model_name": "LayoutModel",
            "_view_count": null,
            "_view_module": "@jupyter-widgets/base",
            "_view_module_version": "1.2.0",
            "_view_name": "LayoutView",
            "align_content": null,
            "align_items": null,
            "align_self": null,
            "border": null,
            "bottom": null,
            "display": null,
            "flex": null,
            "flex_flow": null,
            "grid_area": null,
            "grid_auto_columns": null,
            "grid_auto_flow": null,
            "grid_auto_rows": null,
            "grid_column": null,
            "grid_gap": null,
            "grid_row": null,
            "grid_template_areas": null,
            "grid_template_columns": null,
            "grid_template_rows": null,
            "height": null,
            "justify_content": null,
            "justify_items": null,
            "left": null,
            "margin": null,
            "max_height": null,
            "max_width": null,
            "min_height": null,
            "min_width": null,
            "object_fit": null,
            "object_position": null,
            "order": null,
            "overflow": null,
            "overflow_x": null,
            "overflow_y": null,
            "padding": null,
            "right": null,
            "top": null,
            "visibility": null,
            "width": null
          }
        },
        "68c899f5c29f42e5b142a77a2cdad03e": {
          "model_module": "@jupyter-widgets/base",
          "model_name": "LayoutModel",
          "model_module_version": "1.2.0",
          "state": {
            "_model_module": "@jupyter-widgets/base",
            "_model_module_version": "1.2.0",
            "_model_name": "LayoutModel",
            "_view_count": null,
            "_view_module": "@jupyter-widgets/base",
            "_view_module_version": "1.2.0",
            "_view_name": "LayoutView",
            "align_content": null,
            "align_items": null,
            "align_self": null,
            "border": null,
            "bottom": null,
            "display": null,
            "flex": null,
            "flex_flow": null,
            "grid_area": null,
            "grid_auto_columns": null,
            "grid_auto_flow": null,
            "grid_auto_rows": null,
            "grid_column": null,
            "grid_gap": null,
            "grid_row": null,
            "grid_template_areas": null,
            "grid_template_columns": null,
            "grid_template_rows": null,
            "height": null,
            "justify_content": null,
            "justify_items": null,
            "left": null,
            "margin": null,
            "max_height": null,
            "max_width": null,
            "min_height": null,
            "min_width": null,
            "object_fit": null,
            "object_position": null,
            "order": null,
            "overflow": null,
            "overflow_x": null,
            "overflow_y": null,
            "padding": null,
            "right": null,
            "top": null,
            "visibility": null,
            "width": null
          }
        },
        "89955778d6bd4acda80b0d2d3f3837d0": {
          "model_module": "@jupyter-widgets/controls",
          "model_name": "DescriptionStyleModel",
          "model_module_version": "1.5.0",
          "state": {
            "_model_module": "@jupyter-widgets/controls",
            "_model_module_version": "1.5.0",
            "_model_name": "DescriptionStyleModel",
            "_view_count": null,
            "_view_module": "@jupyter-widgets/base",
            "_view_module_version": "1.2.0",
            "_view_name": "StyleView",
            "description_width": ""
          }
        },
        "a50b90fa29d3458b9798ecb38b64884b": {
          "model_module": "@jupyter-widgets/base",
          "model_name": "LayoutModel",
          "model_module_version": "1.2.0",
          "state": {
            "_model_module": "@jupyter-widgets/base",
            "_model_module_version": "1.2.0",
            "_model_name": "LayoutModel",
            "_view_count": null,
            "_view_module": "@jupyter-widgets/base",
            "_view_module_version": "1.2.0",
            "_view_name": "LayoutView",
            "align_content": null,
            "align_items": null,
            "align_self": null,
            "border": null,
            "bottom": null,
            "display": null,
            "flex": null,
            "flex_flow": null,
            "grid_area": null,
            "grid_auto_columns": null,
            "grid_auto_flow": null,
            "grid_auto_rows": null,
            "grid_column": null,
            "grid_gap": null,
            "grid_row": null,
            "grid_template_areas": null,
            "grid_template_columns": null,
            "grid_template_rows": null,
            "height": null,
            "justify_content": null,
            "justify_items": null,
            "left": null,
            "margin": null,
            "max_height": null,
            "max_width": null,
            "min_height": null,
            "min_width": null,
            "object_fit": null,
            "object_position": null,
            "order": null,
            "overflow": null,
            "overflow_x": null,
            "overflow_y": null,
            "padding": null,
            "right": null,
            "top": null,
            "visibility": null,
            "width": null
          }
        },
        "e43299880bb24935a4563e4edb0fd9c7": {
          "model_module": "@jupyter-widgets/controls",
          "model_name": "ProgressStyleModel",
          "model_module_version": "1.5.0",
          "state": {
            "_model_module": "@jupyter-widgets/controls",
            "_model_module_version": "1.5.0",
            "_model_name": "ProgressStyleModel",
            "_view_count": null,
            "_view_module": "@jupyter-widgets/base",
            "_view_module_version": "1.2.0",
            "_view_name": "StyleView",
            "bar_color": null,
            "description_width": ""
          }
        },
        "f998f81fa4e048f68eefca2ce76be133": {
          "model_module": "@jupyter-widgets/base",
          "model_name": "LayoutModel",
          "model_module_version": "1.2.0",
          "state": {
            "_model_module": "@jupyter-widgets/base",
            "_model_module_version": "1.2.0",
            "_model_name": "LayoutModel",
            "_view_count": null,
            "_view_module": "@jupyter-widgets/base",
            "_view_module_version": "1.2.0",
            "_view_name": "LayoutView",
            "align_content": null,
            "align_items": null,
            "align_self": null,
            "border": null,
            "bottom": null,
            "display": null,
            "flex": null,
            "flex_flow": null,
            "grid_area": null,
            "grid_auto_columns": null,
            "grid_auto_flow": null,
            "grid_auto_rows": null,
            "grid_column": null,
            "grid_gap": null,
            "grid_row": null,
            "grid_template_areas": null,
            "grid_template_columns": null,
            "grid_template_rows": null,
            "height": null,
            "justify_content": null,
            "justify_items": null,
            "left": null,
            "margin": null,
            "max_height": null,
            "max_width": null,
            "min_height": null,
            "min_width": null,
            "object_fit": null,
            "object_position": null,
            "order": null,
            "overflow": null,
            "overflow_x": null,
            "overflow_y": null,
            "padding": null,
            "right": null,
            "top": null,
            "visibility": null,
            "width": null
          }
        },
        "4b0fe050e9ec4f7c9d0b70bb90be0c99": {
          "model_module": "@jupyter-widgets/controls",
          "model_name": "DescriptionStyleModel",
          "model_module_version": "1.5.0",
          "state": {
            "_model_module": "@jupyter-widgets/controls",
            "_model_module_version": "1.5.0",
            "_model_name": "DescriptionStyleModel",
            "_view_count": null,
            "_view_module": "@jupyter-widgets/base",
            "_view_module_version": "1.2.0",
            "_view_name": "StyleView",
            "description_width": ""
          }
        },
        "f6c2d82cf1dd4783884a194033d3a580": {
          "model_module": "@jupyter-widgets/controls",
          "model_name": "HBoxModel",
          "model_module_version": "1.5.0",
          "state": {
            "_dom_classes": [],
            "_model_module": "@jupyter-widgets/controls",
            "_model_module_version": "1.5.0",
            "_model_name": "HBoxModel",
            "_view_count": null,
            "_view_module": "@jupyter-widgets/controls",
            "_view_module_version": "1.5.0",
            "_view_name": "HBoxView",
            "box_style": "",
            "children": [
              "IPY_MODEL_4e279836744245ceb94c82fa193460ee",
              "IPY_MODEL_01b7ccb0e04a42bc8fffda022c9cbd42",
              "IPY_MODEL_62a11e1509884aaab484f7c06705ec31"
            ],
            "layout": "IPY_MODEL_ccf464b1e1b649298206967484254d2d"
          }
        },
        "4e279836744245ceb94c82fa193460ee": {
          "model_module": "@jupyter-widgets/controls",
          "model_name": "HTMLModel",
          "model_module_version": "1.5.0",
          "state": {
            "_dom_classes": [],
            "_model_module": "@jupyter-widgets/controls",
            "_model_module_version": "1.5.0",
            "_model_name": "HTMLModel",
            "_view_count": null,
            "_view_module": "@jupyter-widgets/controls",
            "_view_module_version": "1.5.0",
            "_view_name": "HTMLView",
            "description": "",
            "description_tooltip": null,
            "layout": "IPY_MODEL_62a911fca5b84c0cb6956ace0f14c24f",
            "placeholder": "​",
            "style": "IPY_MODEL_f0e1712d3aad4844aa24d72701b238b5",
            "value": "tokenizer.json: 100%"
          }
        },
        "01b7ccb0e04a42bc8fffda022c9cbd42": {
          "model_module": "@jupyter-widgets/controls",
          "model_name": "FloatProgressModel",
          "model_module_version": "1.5.0",
          "state": {
            "_dom_classes": [],
            "_model_module": "@jupyter-widgets/controls",
            "_model_module_version": "1.5.0",
            "_model_name": "FloatProgressModel",
            "_view_count": null,
            "_view_module": "@jupyter-widgets/controls",
            "_view_module_version": "1.5.0",
            "_view_name": "ProgressView",
            "bar_style": "success",
            "description": "",
            "description_tooltip": null,
            "layout": "IPY_MODEL_5778764f4fff4bdfa6fde4f686244f39",
            "max": 494860,
            "min": 0,
            "orientation": "horizontal",
            "style": "IPY_MODEL_1cdbc7b6067a4e31a7af15adedc6f5e9",
            "value": 494860
          }
        },
        "62a11e1509884aaab484f7c06705ec31": {
          "model_module": "@jupyter-widgets/controls",
          "model_name": "HTMLModel",
          "model_module_version": "1.5.0",
          "state": {
            "_dom_classes": [],
            "_model_module": "@jupyter-widgets/controls",
            "_model_module_version": "1.5.0",
            "_model_name": "HTMLModel",
            "_view_count": null,
            "_view_module": "@jupyter-widgets/controls",
            "_view_module_version": "1.5.0",
            "_view_name": "HTMLView",
            "description": "",
            "description_tooltip": null,
            "layout": "IPY_MODEL_9c2b44654cb94bfc8010eff6c30e0fa8",
            "placeholder": "​",
            "style": "IPY_MODEL_b7c47219d18e4df19b7e8fe16680e104",
            "value": " 495k/495k [00:00&lt;00:00, 667kB/s]"
          }
        },
        "ccf464b1e1b649298206967484254d2d": {
          "model_module": "@jupyter-widgets/base",
          "model_name": "LayoutModel",
          "model_module_version": "1.2.0",
          "state": {
            "_model_module": "@jupyter-widgets/base",
            "_model_module_version": "1.2.0",
            "_model_name": "LayoutModel",
            "_view_count": null,
            "_view_module": "@jupyter-widgets/base",
            "_view_module_version": "1.2.0",
            "_view_name": "LayoutView",
            "align_content": null,
            "align_items": null,
            "align_self": null,
            "border": null,
            "bottom": null,
            "display": null,
            "flex": null,
            "flex_flow": null,
            "grid_area": null,
            "grid_auto_columns": null,
            "grid_auto_flow": null,
            "grid_auto_rows": null,
            "grid_column": null,
            "grid_gap": null,
            "grid_row": null,
            "grid_template_areas": null,
            "grid_template_columns": null,
            "grid_template_rows": null,
            "height": null,
            "justify_content": null,
            "justify_items": null,
            "left": null,
            "margin": null,
            "max_height": null,
            "max_width": null,
            "min_height": null,
            "min_width": null,
            "object_fit": null,
            "object_position": null,
            "order": null,
            "overflow": null,
            "overflow_x": null,
            "overflow_y": null,
            "padding": null,
            "right": null,
            "top": null,
            "visibility": null,
            "width": null
          }
        },
        "62a911fca5b84c0cb6956ace0f14c24f": {
          "model_module": "@jupyter-widgets/base",
          "model_name": "LayoutModel",
          "model_module_version": "1.2.0",
          "state": {
            "_model_module": "@jupyter-widgets/base",
            "_model_module_version": "1.2.0",
            "_model_name": "LayoutModel",
            "_view_count": null,
            "_view_module": "@jupyter-widgets/base",
            "_view_module_version": "1.2.0",
            "_view_name": "LayoutView",
            "align_content": null,
            "align_items": null,
            "align_self": null,
            "border": null,
            "bottom": null,
            "display": null,
            "flex": null,
            "flex_flow": null,
            "grid_area": null,
            "grid_auto_columns": null,
            "grid_auto_flow": null,
            "grid_auto_rows": null,
            "grid_column": null,
            "grid_gap": null,
            "grid_row": null,
            "grid_template_areas": null,
            "grid_template_columns": null,
            "grid_template_rows": null,
            "height": null,
            "justify_content": null,
            "justify_items": null,
            "left": null,
            "margin": null,
            "max_height": null,
            "max_width": null,
            "min_height": null,
            "min_width": null,
            "object_fit": null,
            "object_position": null,
            "order": null,
            "overflow": null,
            "overflow_x": null,
            "overflow_y": null,
            "padding": null,
            "right": null,
            "top": null,
            "visibility": null,
            "width": null
          }
        },
        "f0e1712d3aad4844aa24d72701b238b5": {
          "model_module": "@jupyter-widgets/controls",
          "model_name": "DescriptionStyleModel",
          "model_module_version": "1.5.0",
          "state": {
            "_model_module": "@jupyter-widgets/controls",
            "_model_module_version": "1.5.0",
            "_model_name": "DescriptionStyleModel",
            "_view_count": null,
            "_view_module": "@jupyter-widgets/base",
            "_view_module_version": "1.2.0",
            "_view_name": "StyleView",
            "description_width": ""
          }
        },
        "5778764f4fff4bdfa6fde4f686244f39": {
          "model_module": "@jupyter-widgets/base",
          "model_name": "LayoutModel",
          "model_module_version": "1.2.0",
          "state": {
            "_model_module": "@jupyter-widgets/base",
            "_model_module_version": "1.2.0",
            "_model_name": "LayoutModel",
            "_view_count": null,
            "_view_module": "@jupyter-widgets/base",
            "_view_module_version": "1.2.0",
            "_view_name": "LayoutView",
            "align_content": null,
            "align_items": null,
            "align_self": null,
            "border": null,
            "bottom": null,
            "display": null,
            "flex": null,
            "flex_flow": null,
            "grid_area": null,
            "grid_auto_columns": null,
            "grid_auto_flow": null,
            "grid_auto_rows": null,
            "grid_column": null,
            "grid_gap": null,
            "grid_row": null,
            "grid_template_areas": null,
            "grid_template_columns": null,
            "grid_template_rows": null,
            "height": null,
            "justify_content": null,
            "justify_items": null,
            "left": null,
            "margin": null,
            "max_height": null,
            "max_width": null,
            "min_height": null,
            "min_width": null,
            "object_fit": null,
            "object_position": null,
            "order": null,
            "overflow": null,
            "overflow_x": null,
            "overflow_y": null,
            "padding": null,
            "right": null,
            "top": null,
            "visibility": null,
            "width": null
          }
        },
        "1cdbc7b6067a4e31a7af15adedc6f5e9": {
          "model_module": "@jupyter-widgets/controls",
          "model_name": "ProgressStyleModel",
          "model_module_version": "1.5.0",
          "state": {
            "_model_module": "@jupyter-widgets/controls",
            "_model_module_version": "1.5.0",
            "_model_name": "ProgressStyleModel",
            "_view_count": null,
            "_view_module": "@jupyter-widgets/base",
            "_view_module_version": "1.2.0",
            "_view_name": "StyleView",
            "bar_color": null,
            "description_width": ""
          }
        },
        "9c2b44654cb94bfc8010eff6c30e0fa8": {
          "model_module": "@jupyter-widgets/base",
          "model_name": "LayoutModel",
          "model_module_version": "1.2.0",
          "state": {
            "_model_module": "@jupyter-widgets/base",
            "_model_module_version": "1.2.0",
            "_model_name": "LayoutModel",
            "_view_count": null,
            "_view_module": "@jupyter-widgets/base",
            "_view_module_version": "1.2.0",
            "_view_name": "LayoutView",
            "align_content": null,
            "align_items": null,
            "align_self": null,
            "border": null,
            "bottom": null,
            "display": null,
            "flex": null,
            "flex_flow": null,
            "grid_area": null,
            "grid_auto_columns": null,
            "grid_auto_flow": null,
            "grid_auto_rows": null,
            "grid_column": null,
            "grid_gap": null,
            "grid_row": null,
            "grid_template_areas": null,
            "grid_template_columns": null,
            "grid_template_rows": null,
            "height": null,
            "justify_content": null,
            "justify_items": null,
            "left": null,
            "margin": null,
            "max_height": null,
            "max_width": null,
            "min_height": null,
            "min_width": null,
            "object_fit": null,
            "object_position": null,
            "order": null,
            "overflow": null,
            "overflow_x": null,
            "overflow_y": null,
            "padding": null,
            "right": null,
            "top": null,
            "visibility": null,
            "width": null
          }
        },
        "b7c47219d18e4df19b7e8fe16680e104": {
          "model_module": "@jupyter-widgets/controls",
          "model_name": "DescriptionStyleModel",
          "model_module_version": "1.5.0",
          "state": {
            "_model_module": "@jupyter-widgets/controls",
            "_model_module_version": "1.5.0",
            "_model_name": "DescriptionStyleModel",
            "_view_count": null,
            "_view_module": "@jupyter-widgets/base",
            "_view_module_version": "1.2.0",
            "_view_name": "StyleView",
            "description_width": ""
          }
        },
        "26442cb09e8b4549b3d7aaf3522c7c86": {
          "model_module": "@jupyter-widgets/controls",
          "model_name": "HBoxModel",
          "model_module_version": "1.5.0",
          "state": {
            "_dom_classes": [],
            "_model_module": "@jupyter-widgets/controls",
            "_model_module_version": "1.5.0",
            "_model_name": "HBoxModel",
            "_view_count": null,
            "_view_module": "@jupyter-widgets/controls",
            "_view_module_version": "1.5.0",
            "_view_name": "HBoxView",
            "box_style": "",
            "children": [
              "IPY_MODEL_2adb2311c0924528b2d4cc3e352dbac8",
              "IPY_MODEL_f1fd76ad088e432b989bc54bc0d1d590",
              "IPY_MODEL_e3c6edce3270484db524eed682960046"
            ],
            "layout": "IPY_MODEL_084004b34d0445ef83add3f243fa9f1b"
          }
        },
        "2adb2311c0924528b2d4cc3e352dbac8": {
          "model_module": "@jupyter-widgets/controls",
          "model_name": "HTMLModel",
          "model_module_version": "1.5.0",
          "state": {
            "_dom_classes": [],
            "_model_module": "@jupyter-widgets/controls",
            "_model_module_version": "1.5.0",
            "_model_name": "HTMLModel",
            "_view_count": null,
            "_view_module": "@jupyter-widgets/controls",
            "_view_module_version": "1.5.0",
            "_view_name": "HTMLView",
            "description": "",
            "description_tooltip": null,
            "layout": "IPY_MODEL_7bf9148aa82a42c8be08a06b114f3e97",
            "placeholder": "​",
            "style": "IPY_MODEL_691e8b56cfed45669c328c15ba7744c3",
            "value": "special_tokens_map.json: 100%"
          }
        },
        "f1fd76ad088e432b989bc54bc0d1d590": {
          "model_module": "@jupyter-widgets/controls",
          "model_name": "FloatProgressModel",
          "model_module_version": "1.5.0",
          "state": {
            "_dom_classes": [],
            "_model_module": "@jupyter-widgets/controls",
            "_model_module_version": "1.5.0",
            "_model_name": "FloatProgressModel",
            "_view_count": null,
            "_view_module": "@jupyter-widgets/controls",
            "_view_module_version": "1.5.0",
            "_view_name": "ProgressView",
            "bar_style": "success",
            "description": "",
            "description_tooltip": null,
            "layout": "IPY_MODEL_0405723a50b54aea8d4289cb3185aba6",
            "max": 125,
            "min": 0,
            "orientation": "horizontal",
            "style": "IPY_MODEL_ac126b8e0bf94d17b11583882dfd9a5b",
            "value": 125
          }
        },
        "e3c6edce3270484db524eed682960046": {
          "model_module": "@jupyter-widgets/controls",
          "model_name": "HTMLModel",
          "model_module_version": "1.5.0",
          "state": {
            "_dom_classes": [],
            "_model_module": "@jupyter-widgets/controls",
            "_model_module_version": "1.5.0",
            "_model_name": "HTMLModel",
            "_view_count": null,
            "_view_module": "@jupyter-widgets/controls",
            "_view_module_version": "1.5.0",
            "_view_name": "HTMLView",
            "description": "",
            "description_tooltip": null,
            "layout": "IPY_MODEL_0c4cc235d0744d7a827d5a2ff48dcb9b",
            "placeholder": "​",
            "style": "IPY_MODEL_22523befca344dc7ba2cefb5c29d5a31",
            "value": " 125/125 [00:00&lt;00:00, 9.18kB/s]"
          }
        },
        "084004b34d0445ef83add3f243fa9f1b": {
          "model_module": "@jupyter-widgets/base",
          "model_name": "LayoutModel",
          "model_module_version": "1.2.0",
          "state": {
            "_model_module": "@jupyter-widgets/base",
            "_model_module_version": "1.2.0",
            "_model_name": "LayoutModel",
            "_view_count": null,
            "_view_module": "@jupyter-widgets/base",
            "_view_module_version": "1.2.0",
            "_view_name": "LayoutView",
            "align_content": null,
            "align_items": null,
            "align_self": null,
            "border": null,
            "bottom": null,
            "display": null,
            "flex": null,
            "flex_flow": null,
            "grid_area": null,
            "grid_auto_columns": null,
            "grid_auto_flow": null,
            "grid_auto_rows": null,
            "grid_column": null,
            "grid_gap": null,
            "grid_row": null,
            "grid_template_areas": null,
            "grid_template_columns": null,
            "grid_template_rows": null,
            "height": null,
            "justify_content": null,
            "justify_items": null,
            "left": null,
            "margin": null,
            "max_height": null,
            "max_width": null,
            "min_height": null,
            "min_width": null,
            "object_fit": null,
            "object_position": null,
            "order": null,
            "overflow": null,
            "overflow_x": null,
            "overflow_y": null,
            "padding": null,
            "right": null,
            "top": null,
            "visibility": null,
            "width": null
          }
        },
        "7bf9148aa82a42c8be08a06b114f3e97": {
          "model_module": "@jupyter-widgets/base",
          "model_name": "LayoutModel",
          "model_module_version": "1.2.0",
          "state": {
            "_model_module": "@jupyter-widgets/base",
            "_model_module_version": "1.2.0",
            "_model_name": "LayoutModel",
            "_view_count": null,
            "_view_module": "@jupyter-widgets/base",
            "_view_module_version": "1.2.0",
            "_view_name": "LayoutView",
            "align_content": null,
            "align_items": null,
            "align_self": null,
            "border": null,
            "bottom": null,
            "display": null,
            "flex": null,
            "flex_flow": null,
            "grid_area": null,
            "grid_auto_columns": null,
            "grid_auto_flow": null,
            "grid_auto_rows": null,
            "grid_column": null,
            "grid_gap": null,
            "grid_row": null,
            "grid_template_areas": null,
            "grid_template_columns": null,
            "grid_template_rows": null,
            "height": null,
            "justify_content": null,
            "justify_items": null,
            "left": null,
            "margin": null,
            "max_height": null,
            "max_width": null,
            "min_height": null,
            "min_width": null,
            "object_fit": null,
            "object_position": null,
            "order": null,
            "overflow": null,
            "overflow_x": null,
            "overflow_y": null,
            "padding": null,
            "right": null,
            "top": null,
            "visibility": null,
            "width": null
          }
        },
        "691e8b56cfed45669c328c15ba7744c3": {
          "model_module": "@jupyter-widgets/controls",
          "model_name": "DescriptionStyleModel",
          "model_module_version": "1.5.0",
          "state": {
            "_model_module": "@jupyter-widgets/controls",
            "_model_module_version": "1.5.0",
            "_model_name": "DescriptionStyleModel",
            "_view_count": null,
            "_view_module": "@jupyter-widgets/base",
            "_view_module_version": "1.2.0",
            "_view_name": "StyleView",
            "description_width": ""
          }
        },
        "0405723a50b54aea8d4289cb3185aba6": {
          "model_module": "@jupyter-widgets/base",
          "model_name": "LayoutModel",
          "model_module_version": "1.2.0",
          "state": {
            "_model_module": "@jupyter-widgets/base",
            "_model_module_version": "1.2.0",
            "_model_name": "LayoutModel",
            "_view_count": null,
            "_view_module": "@jupyter-widgets/base",
            "_view_module_version": "1.2.0",
            "_view_name": "LayoutView",
            "align_content": null,
            "align_items": null,
            "align_self": null,
            "border": null,
            "bottom": null,
            "display": null,
            "flex": null,
            "flex_flow": null,
            "grid_area": null,
            "grid_auto_columns": null,
            "grid_auto_flow": null,
            "grid_auto_rows": null,
            "grid_column": null,
            "grid_gap": null,
            "grid_row": null,
            "grid_template_areas": null,
            "grid_template_columns": null,
            "grid_template_rows": null,
            "height": null,
            "justify_content": null,
            "justify_items": null,
            "left": null,
            "margin": null,
            "max_height": null,
            "max_width": null,
            "min_height": null,
            "min_width": null,
            "object_fit": null,
            "object_position": null,
            "order": null,
            "overflow": null,
            "overflow_x": null,
            "overflow_y": null,
            "padding": null,
            "right": null,
            "top": null,
            "visibility": null,
            "width": null
          }
        },
        "ac126b8e0bf94d17b11583882dfd9a5b": {
          "model_module": "@jupyter-widgets/controls",
          "model_name": "ProgressStyleModel",
          "model_module_version": "1.5.0",
          "state": {
            "_model_module": "@jupyter-widgets/controls",
            "_model_module_version": "1.5.0",
            "_model_name": "ProgressStyleModel",
            "_view_count": null,
            "_view_module": "@jupyter-widgets/base",
            "_view_module_version": "1.2.0",
            "_view_name": "StyleView",
            "bar_color": null,
            "description_width": ""
          }
        },
        "0c4cc235d0744d7a827d5a2ff48dcb9b": {
          "model_module": "@jupyter-widgets/base",
          "model_name": "LayoutModel",
          "model_module_version": "1.2.0",
          "state": {
            "_model_module": "@jupyter-widgets/base",
            "_model_module_version": "1.2.0",
            "_model_name": "LayoutModel",
            "_view_count": null,
            "_view_module": "@jupyter-widgets/base",
            "_view_module_version": "1.2.0",
            "_view_name": "LayoutView",
            "align_content": null,
            "align_items": null,
            "align_self": null,
            "border": null,
            "bottom": null,
            "display": null,
            "flex": null,
            "flex_flow": null,
            "grid_area": null,
            "grid_auto_columns": null,
            "grid_auto_flow": null,
            "grid_auto_rows": null,
            "grid_column": null,
            "grid_gap": null,
            "grid_row": null,
            "grid_template_areas": null,
            "grid_template_columns": null,
            "grid_template_rows": null,
            "height": null,
            "justify_content": null,
            "justify_items": null,
            "left": null,
            "margin": null,
            "max_height": null,
            "max_width": null,
            "min_height": null,
            "min_width": null,
            "object_fit": null,
            "object_position": null,
            "order": null,
            "overflow": null,
            "overflow_x": null,
            "overflow_y": null,
            "padding": null,
            "right": null,
            "top": null,
            "visibility": null,
            "width": null
          }
        },
        "22523befca344dc7ba2cefb5c29d5a31": {
          "model_module": "@jupyter-widgets/controls",
          "model_name": "DescriptionStyleModel",
          "model_module_version": "1.5.0",
          "state": {
            "_model_module": "@jupyter-widgets/controls",
            "_model_module_version": "1.5.0",
            "_model_name": "DescriptionStyleModel",
            "_view_count": null,
            "_view_module": "@jupyter-widgets/base",
            "_view_module_version": "1.2.0",
            "_view_name": "StyleView",
            "description_width": ""
          }
        },
        "0409be57c2c84d6d8fae74d5d01d8561": {
          "model_module": "@jupyter-widgets/controls",
          "model_name": "HBoxModel",
          "model_module_version": "1.5.0",
          "state": {
            "_dom_classes": [],
            "_model_module": "@jupyter-widgets/controls",
            "_model_module_version": "1.5.0",
            "_model_name": "HBoxModel",
            "_view_count": null,
            "_view_module": "@jupyter-widgets/controls",
            "_view_module_version": "1.5.0",
            "_view_name": "HBoxView",
            "box_style": "",
            "children": [
              "IPY_MODEL_6734945dc197416f9cb4d88ed4b702db",
              "IPY_MODEL_081684d2ad74439da239daebca4f4727",
              "IPY_MODEL_941ac23ba1584cd69805297a41b0c0d3"
            ],
            "layout": "IPY_MODEL_3845796fc1234b9eb10e98f366c815d6"
          }
        },
        "6734945dc197416f9cb4d88ed4b702db": {
          "model_module": "@jupyter-widgets/controls",
          "model_name": "HTMLModel",
          "model_module_version": "1.5.0",
          "state": {
            "_dom_classes": [],
            "_model_module": "@jupyter-widgets/controls",
            "_model_module_version": "1.5.0",
            "_model_name": "HTMLModel",
            "_view_count": null,
            "_view_module": "@jupyter-widgets/controls",
            "_view_module_version": "1.5.0",
            "_view_name": "HTMLView",
            "description": "",
            "description_tooltip": null,
            "layout": "IPY_MODEL_1945d565374440ef96e4bc570dee524b",
            "placeholder": "​",
            "style": "IPY_MODEL_86d6215c098449a2a3d21b483f48e2de",
            "value": "config.json: 100%"
          }
        },
        "081684d2ad74439da239daebca4f4727": {
          "model_module": "@jupyter-widgets/controls",
          "model_name": "FloatProgressModel",
          "model_module_version": "1.5.0",
          "state": {
            "_dom_classes": [],
            "_model_module": "@jupyter-widgets/controls",
            "_model_module_version": "1.5.0",
            "_model_name": "FloatProgressModel",
            "_view_count": null,
            "_view_module": "@jupyter-widgets/controls",
            "_view_module_version": "1.5.0",
            "_view_name": "ProgressView",
            "bar_style": "success",
            "description": "",
            "description_tooltip": null,
            "layout": "IPY_MODEL_b1226458bf304ff497d50c1beb72b351",
            "max": 425,
            "min": 0,
            "orientation": "horizontal",
            "style": "IPY_MODEL_7b4119c0a85942faad1ec5901b10ebe5",
            "value": 425
          }
        },
        "941ac23ba1584cd69805297a41b0c0d3": {
          "model_module": "@jupyter-widgets/controls",
          "model_name": "HTMLModel",
          "model_module_version": "1.5.0",
          "state": {
            "_dom_classes": [],
            "_model_module": "@jupyter-widgets/controls",
            "_model_module_version": "1.5.0",
            "_model_name": "HTMLModel",
            "_view_count": null,
            "_view_module": "@jupyter-widgets/controls",
            "_view_module_version": "1.5.0",
            "_view_name": "HTMLView",
            "description": "",
            "description_tooltip": null,
            "layout": "IPY_MODEL_a6a82b43451f4570ab78b23e37255ecb",
            "placeholder": "​",
            "style": "IPY_MODEL_6693bd8bd67e4b5da28cd1f8b1244b8f",
            "value": " 425/425 [00:00&lt;00:00, 34.3kB/s]"
          }
        },
        "3845796fc1234b9eb10e98f366c815d6": {
          "model_module": "@jupyter-widgets/base",
          "model_name": "LayoutModel",
          "model_module_version": "1.2.0",
          "state": {
            "_model_module": "@jupyter-widgets/base",
            "_model_module_version": "1.2.0",
            "_model_name": "LayoutModel",
            "_view_count": null,
            "_view_module": "@jupyter-widgets/base",
            "_view_module_version": "1.2.0",
            "_view_name": "LayoutView",
            "align_content": null,
            "align_items": null,
            "align_self": null,
            "border": null,
            "bottom": null,
            "display": null,
            "flex": null,
            "flex_flow": null,
            "grid_area": null,
            "grid_auto_columns": null,
            "grid_auto_flow": null,
            "grid_auto_rows": null,
            "grid_column": null,
            "grid_gap": null,
            "grid_row": null,
            "grid_template_areas": null,
            "grid_template_columns": null,
            "grid_template_rows": null,
            "height": null,
            "justify_content": null,
            "justify_items": null,
            "left": null,
            "margin": null,
            "max_height": null,
            "max_width": null,
            "min_height": null,
            "min_width": null,
            "object_fit": null,
            "object_position": null,
            "order": null,
            "overflow": null,
            "overflow_x": null,
            "overflow_y": null,
            "padding": null,
            "right": null,
            "top": null,
            "visibility": null,
            "width": null
          }
        },
        "1945d565374440ef96e4bc570dee524b": {
          "model_module": "@jupyter-widgets/base",
          "model_name": "LayoutModel",
          "model_module_version": "1.2.0",
          "state": {
            "_model_module": "@jupyter-widgets/base",
            "_model_module_version": "1.2.0",
            "_model_name": "LayoutModel",
            "_view_count": null,
            "_view_module": "@jupyter-widgets/base",
            "_view_module_version": "1.2.0",
            "_view_name": "LayoutView",
            "align_content": null,
            "align_items": null,
            "align_self": null,
            "border": null,
            "bottom": null,
            "display": null,
            "flex": null,
            "flex_flow": null,
            "grid_area": null,
            "grid_auto_columns": null,
            "grid_auto_flow": null,
            "grid_auto_rows": null,
            "grid_column": null,
            "grid_gap": null,
            "grid_row": null,
            "grid_template_areas": null,
            "grid_template_columns": null,
            "grid_template_rows": null,
            "height": null,
            "justify_content": null,
            "justify_items": null,
            "left": null,
            "margin": null,
            "max_height": null,
            "max_width": null,
            "min_height": null,
            "min_width": null,
            "object_fit": null,
            "object_position": null,
            "order": null,
            "overflow": null,
            "overflow_x": null,
            "overflow_y": null,
            "padding": null,
            "right": null,
            "top": null,
            "visibility": null,
            "width": null
          }
        },
        "86d6215c098449a2a3d21b483f48e2de": {
          "model_module": "@jupyter-widgets/controls",
          "model_name": "DescriptionStyleModel",
          "model_module_version": "1.5.0",
          "state": {
            "_model_module": "@jupyter-widgets/controls",
            "_model_module_version": "1.5.0",
            "_model_name": "DescriptionStyleModel",
            "_view_count": null,
            "_view_module": "@jupyter-widgets/base",
            "_view_module_version": "1.2.0",
            "_view_name": "StyleView",
            "description_width": ""
          }
        },
        "b1226458bf304ff497d50c1beb72b351": {
          "model_module": "@jupyter-widgets/base",
          "model_name": "LayoutModel",
          "model_module_version": "1.2.0",
          "state": {
            "_model_module": "@jupyter-widgets/base",
            "_model_module_version": "1.2.0",
            "_model_name": "LayoutModel",
            "_view_count": null,
            "_view_module": "@jupyter-widgets/base",
            "_view_module_version": "1.2.0",
            "_view_name": "LayoutView",
            "align_content": null,
            "align_items": null,
            "align_self": null,
            "border": null,
            "bottom": null,
            "display": null,
            "flex": null,
            "flex_flow": null,
            "grid_area": null,
            "grid_auto_columns": null,
            "grid_auto_flow": null,
            "grid_auto_rows": null,
            "grid_column": null,
            "grid_gap": null,
            "grid_row": null,
            "grid_template_areas": null,
            "grid_template_columns": null,
            "grid_template_rows": null,
            "height": null,
            "justify_content": null,
            "justify_items": null,
            "left": null,
            "margin": null,
            "max_height": null,
            "max_width": null,
            "min_height": null,
            "min_width": null,
            "object_fit": null,
            "object_position": null,
            "order": null,
            "overflow": null,
            "overflow_x": null,
            "overflow_y": null,
            "padding": null,
            "right": null,
            "top": null,
            "visibility": null,
            "width": null
          }
        },
        "7b4119c0a85942faad1ec5901b10ebe5": {
          "model_module": "@jupyter-widgets/controls",
          "model_name": "ProgressStyleModel",
          "model_module_version": "1.5.0",
          "state": {
            "_model_module": "@jupyter-widgets/controls",
            "_model_module_version": "1.5.0",
            "_model_name": "ProgressStyleModel",
            "_view_count": null,
            "_view_module": "@jupyter-widgets/base",
            "_view_module_version": "1.2.0",
            "_view_name": "StyleView",
            "bar_color": null,
            "description_width": ""
          }
        },
        "a6a82b43451f4570ab78b23e37255ecb": {
          "model_module": "@jupyter-widgets/base",
          "model_name": "LayoutModel",
          "model_module_version": "1.2.0",
          "state": {
            "_model_module": "@jupyter-widgets/base",
            "_model_module_version": "1.2.0",
            "_model_name": "LayoutModel",
            "_view_count": null,
            "_view_module": "@jupyter-widgets/base",
            "_view_module_version": "1.2.0",
            "_view_name": "LayoutView",
            "align_content": null,
            "align_items": null,
            "align_self": null,
            "border": null,
            "bottom": null,
            "display": null,
            "flex": null,
            "flex_flow": null,
            "grid_area": null,
            "grid_auto_columns": null,
            "grid_auto_flow": null,
            "grid_auto_rows": null,
            "grid_column": null,
            "grid_gap": null,
            "grid_row": null,
            "grid_template_areas": null,
            "grid_template_columns": null,
            "grid_template_rows": null,
            "height": null,
            "justify_content": null,
            "justify_items": null,
            "left": null,
            "margin": null,
            "max_height": null,
            "max_width": null,
            "min_height": null,
            "min_width": null,
            "object_fit": null,
            "object_position": null,
            "order": null,
            "overflow": null,
            "overflow_x": null,
            "overflow_y": null,
            "padding": null,
            "right": null,
            "top": null,
            "visibility": null,
            "width": null
          }
        },
        "6693bd8bd67e4b5da28cd1f8b1244b8f": {
          "model_module": "@jupyter-widgets/controls",
          "model_name": "DescriptionStyleModel",
          "model_module_version": "1.5.0",
          "state": {
            "_model_module": "@jupyter-widgets/controls",
            "_model_module_version": "1.5.0",
            "_model_name": "DescriptionStyleModel",
            "_view_count": null,
            "_view_module": "@jupyter-widgets/base",
            "_view_module_version": "1.2.0",
            "_view_name": "StyleView",
            "description_width": ""
          }
        }
      }
    }
  },
  "nbformat": 4,
  "nbformat_minor": 0
}