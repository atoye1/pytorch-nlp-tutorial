{
  "nbformat": 4,
  "nbformat_minor": 0,
  "metadata": {
    "colab": {
      "provenance": [],
      "gpuType": "T4"
    },
    "kernelspec": {
      "name": "python3",
      "display_name": "Python 3"
    },
    "language_info": {
      "name": "python"
    },
    "accelerator": "GPU"
  },
  "cells": [
    {
      "cell_type": "markdown",
      "source": [
        "## 1. 마스크드 언어 모델과 토크나이저"
      ],
      "metadata": {
        "id": "k08Y-gXv8EMS"
      }
    },
    {
      "cell_type": "code",
      "execution_count": 15,
      "metadata": {
        "id": "JmrgTA-K784R",
        "colab": {
          "base_uri": "https://localhost:8080/",
          "height": 110
        },
        "outputId": "23caa24c-707d-4ed6-8d25-879cf5c3edec"
      },
      "outputs": [
        {
          "output_type": "error",
          "ename": "SyntaxError",
          "evalue": "invalid syntax (<ipython-input-15-5161828de823>, line 1)",
          "traceback": [
            "\u001b[0;36m  File \u001b[0;32m\"<ipython-input-15-5161828de823>\"\u001b[0;36m, line \u001b[0;32m1\u001b[0m\n\u001b[0;31m    pip install transformers\u001b[0m\n\u001b[0m        ^\u001b[0m\n\u001b[0;31mSyntaxError\u001b[0m\u001b[0;31m:\u001b[0m invalid syntax\n"
          ]
        }
      ],
      "source": [
        "pip install transformers"
      ]
    },
    {
      "cell_type": "code",
      "source": [
        "from transformers import BertForMaskedLM\n",
        "from transformers import AutoTokenizer"
      ],
      "metadata": {
        "id": "aXvX07ph8AHK"
      },
      "execution_count": 16,
      "outputs": []
    },
    {
      "cell_type": "code",
      "source": [
        "model = BertForMaskedLM.from_pretrained('bert-large-uncased')\n",
        "tokenizer = AutoTokenizer.from_pretrained(\"bert-large-uncased\")"
      ],
      "metadata": {
        "id": "1V6SMcLl8CY5",
        "colab": {
          "base_uri": "https://localhost:8080/"
        },
        "outputId": "aa527506-4278-4014-b3d8-b4a198c9b059"
      },
      "execution_count": 17,
      "outputs": [
        {
          "output_type": "stream",
          "name": "stderr",
          "text": [
            "Some weights of the model checkpoint at bert-large-uncased were not used when initializing BertForMaskedLM: ['bert.pooler.dense.bias', 'bert.pooler.dense.weight', 'cls.seq_relationship.bias', 'cls.seq_relationship.weight']\n",
            "- This IS expected if you are initializing BertForMaskedLM from the checkpoint of a model trained on another task or with another architecture (e.g. initializing a BertForSequenceClassification model from a BertForPreTraining model).\n",
            "- This IS NOT expected if you are initializing BertForMaskedLM from the checkpoint of a model that you expect to be exactly identical (initializing a BertForSequenceClassification model from a BertForSequenceClassification model).\n"
          ]
        }
      ]
    },
    {
      "cell_type": "markdown",
      "source": [
        "## 2. BERT의 입력"
      ],
      "metadata": {
        "id": "k90oChmq8IiE"
      }
    },
    {
      "cell_type": "code",
      "source": [
        "inputs = tokenizer('Soccer is a really fun [MASK].')"
      ],
      "metadata": {
        "id": "Ol0mI7C_8DOx"
      },
      "execution_count": 18,
      "outputs": []
    },
    {
      "cell_type": "code",
      "source": [
        "print(inputs['input_ids'])"
      ],
      "metadata": {
        "id": "bbtjB8RS8KtR",
        "colab": {
          "base_uri": "https://localhost:8080/"
        },
        "outputId": "3f4ff55a-5b7b-4326-c307-6fdf563f1153"
      },
      "execution_count": 19,
      "outputs": [
        {
          "output_type": "stream",
          "name": "stdout",
          "text": [
            "[101, 4715, 2003, 1037, 2428, 4569, 103, 1012, 102]\n"
          ]
        }
      ]
    },
    {
      "cell_type": "code",
      "source": [
        "print(inputs['token_type_ids'])"
      ],
      "metadata": {
        "id": "PW2sKOPh8Lgg",
        "colab": {
          "base_uri": "https://localhost:8080/"
        },
        "outputId": "51be25dc-0abe-497f-ab46-cbbb673b8625"
      },
      "execution_count": 20,
      "outputs": [
        {
          "output_type": "stream",
          "name": "stdout",
          "text": [
            "[0, 0, 0, 0, 0, 0, 0, 0, 0]\n"
          ]
        }
      ]
    },
    {
      "cell_type": "code",
      "source": [
        "print(inputs['attention_mask'])"
      ],
      "metadata": {
        "id": "A_SUbPLO8Mco",
        "colab": {
          "base_uri": "https://localhost:8080/"
        },
        "outputId": "29c646fb-61ec-4275-9c6f-dbab9846b55c"
      },
      "execution_count": 21,
      "outputs": [
        {
          "output_type": "stream",
          "name": "stdout",
          "text": [
            "[1, 1, 1, 1, 1, 1, 1, 1, 1]\n"
          ]
        }
      ]
    },
    {
      "cell_type": "markdown",
      "source": [
        "## 3. [MASK] 토큰 예측하기"
      ],
      "metadata": {
        "id": "vgwBHckt8OZI"
      }
    },
    {
      "cell_type": "code",
      "source": [
        "from transformers import FillMaskPipeline\n",
        "pip = FillMaskPipeline(model=model, tokenizer=tokenizer)"
      ],
      "metadata": {
        "id": "EvzO1zI58NTo"
      },
      "execution_count": 22,
      "outputs": []
    },
    {
      "cell_type": "code",
      "source": [
        "pip('Soccer is a really fun [MASK].')"
      ],
      "metadata": {
        "id": "tB0taEbK8Pyo",
        "colab": {
          "base_uri": "https://localhost:8080/"
        },
        "outputId": "962330f2-477f-4f75-c14a-b2a74f519ef0"
      },
      "execution_count": 23,
      "outputs": [
        {
          "output_type": "execute_result",
          "data": {
            "text/plain": [
              "[{'score': 0.7621225714683533,\n",
              "  'token': 4368,\n",
              "  'token_str': 'sport',\n",
              "  'sequence': 'soccer is a really fun sport.'},\n",
              " {'score': 0.20342221856117249,\n",
              "  'token': 2208,\n",
              "  'token_str': 'game',\n",
              "  'sequence': 'soccer is a really fun game.'},\n",
              " {'score': 0.012208708561956882,\n",
              "  'token': 2518,\n",
              "  'token_str': 'thing',\n",
              "  'sequence': 'soccer is a really fun thing.'},\n",
              " {'score': 0.0018630452686920762,\n",
              "  'token': 4023,\n",
              "  'token_str': 'activity',\n",
              "  'sequence': 'soccer is a really fun activity.'},\n",
              " {'score': 0.0013354998081922531,\n",
              "  'token': 2492,\n",
              "  'token_str': 'field',\n",
              "  'sequence': 'soccer is a really fun field.'}]"
            ]
          },
          "metadata": {},
          "execution_count": 23
        }
      ]
    },
    {
      "cell_type": "code",
      "source": [
        "pip('The Avengers is a really fun [MASK].')"
      ],
      "metadata": {
        "id": "KYO0zP808YTC",
        "colab": {
          "base_uri": "https://localhost:8080/"
        },
        "outputId": "06e519ca-ab21-490c-f4a8-baff27896048"
      },
      "execution_count": 24,
      "outputs": [
        {
          "output_type": "execute_result",
          "data": {
            "text/plain": [
              "[{'score': 0.25629162788391113,\n",
              "  'token': 2265,\n",
              "  'token_str': 'show',\n",
              "  'sequence': 'the avengers is a really fun show.'},\n",
              " {'score': 0.17284215986728668,\n",
              "  'token': 3185,\n",
              "  'token_str': 'movie',\n",
              "  'sequence': 'the avengers is a really fun movie.'},\n",
              " {'score': 0.11107756197452545,\n",
              "  'token': 2466,\n",
              "  'token_str': 'story',\n",
              "  'sequence': 'the avengers is a really fun story.'},\n",
              " {'score': 0.07249030470848083,\n",
              "  'token': 2186,\n",
              "  'token_str': 'series',\n",
              "  'sequence': 'the avengers is a really fun series.'},\n",
              " {'score': 0.07046662271022797,\n",
              "  'token': 2143,\n",
              "  'token_str': 'film',\n",
              "  'sequence': 'the avengers is a really fun film.'}]"
            ]
          },
          "metadata": {},
          "execution_count": 24
        }
      ]
    },
    {
      "cell_type": "code",
      "source": [
        "pip('I went to [MASK] this morning.')"
      ],
      "metadata": {
        "id": "FPbc4wxV8ZuK",
        "colab": {
          "base_uri": "https://localhost:8080/"
        },
        "outputId": "8966c981-975f-4387-c8c7-d04c63bea432"
      },
      "execution_count": 25,
      "outputs": [
        {
          "output_type": "execute_result",
          "data": {
            "text/plain": [
              "[{'score': 0.3573085367679596,\n",
              "  'token': 2147,\n",
              "  'token_str': 'work',\n",
              "  'sequence': 'i went to work this morning.'},\n",
              " {'score': 0.23304520547389984,\n",
              "  'token': 2793,\n",
              "  'token_str': 'bed',\n",
              "  'sequence': 'i went to bed this morning.'},\n",
              " {'score': 0.12845049798488617,\n",
              "  'token': 2082,\n",
              "  'token_str': 'school',\n",
              "  'sequence': 'i went to school this morning.'},\n",
              " {'score': 0.06230570003390312,\n",
              "  'token': 3637,\n",
              "  'token_str': 'sleep',\n",
              "  'sequence': 'i went to sleep this morning.'},\n",
              " {'score': 0.04695269465446472,\n",
              "  'token': 2465,\n",
              "  'token_str': 'class',\n",
              "  'sequence': 'i went to class this morning.'}]"
            ]
          },
          "metadata": {},
          "execution_count": 25
        }
      ]
    },
    {
      "cell_type": "markdown",
      "source": [
        "## 4. 마스크드 언어 모델과 토크나이저"
      ],
      "metadata": {
        "id": "qVzqEf9u8SGo"
      }
    },
    {
      "cell_type": "code",
      "source": [
        "from transformers import BertForMaskedLM\n",
        "from transformers import AutoTokenizer"
      ],
      "metadata": {
        "id": "O0gKyW5d8Qgw"
      },
      "execution_count": 26,
      "outputs": []
    },
    {
      "cell_type": "code",
      "source": [
        "model = BertForMaskedLM.from_pretrained('klue/bert-base')\n",
        "tokenizer = AutoTokenizer.from_pretrained(\"klue/bert-base\")"
      ],
      "metadata": {
        "id": "UoDZ6kbg8TQY",
        "colab": {
          "base_uri": "https://localhost:8080/"
        },
        "outputId": "2044756e-791e-4e47-b68d-5a30406ddf7d"
      },
      "execution_count": 27,
      "outputs": [
        {
          "output_type": "stream",
          "name": "stderr",
          "text": [
            "Some weights of the model checkpoint at klue/bert-base were not used when initializing BertForMaskedLM: ['bert.pooler.dense.bias', 'bert.pooler.dense.weight', 'cls.seq_relationship.bias', 'cls.seq_relationship.weight']\n",
            "- This IS expected if you are initializing BertForMaskedLM from the checkpoint of a model trained on another task or with another architecture (e.g. initializing a BertForSequenceClassification model from a BertForPreTraining model).\n",
            "- This IS NOT expected if you are initializing BertForMaskedLM from the checkpoint of a model that you expect to be exactly identical (initializing a BertForSequenceClassification model from a BertForSequenceClassification model).\n"
          ]
        }
      ]
    },
    {
      "cell_type": "markdown",
      "source": [
        "## 5. BERT의 입력"
      ],
      "metadata": {
        "id": "0d1N2qOh8rNU"
      }
    },
    {
      "cell_type": "code",
      "source": [
        "inputs = tokenizer('축구는 정말 재미있는 [MASK]다.')"
      ],
      "metadata": {
        "id": "9hnz1vYD8UKY"
      },
      "execution_count": 28,
      "outputs": []
    },
    {
      "cell_type": "code",
      "source": [
        "print(inputs['input_ids'])"
      ],
      "metadata": {
        "colab": {
          "base_uri": "https://localhost:8080/"
        },
        "id": "0eMTnBV38jeq",
        "outputId": "9b99eacd-6a94-4513-c1a8-e69921fbe8a0"
      },
      "execution_count": 29,
      "outputs": [
        {
          "output_type": "stream",
          "name": "stdout",
          "text": [
            "[2, 4713, 2259, 3944, 6001, 2259, 4, 809, 18, 3]\n"
          ]
        }
      ]
    },
    {
      "cell_type": "code",
      "source": [
        "print(inputs['token_type_ids'])"
      ],
      "metadata": {
        "colab": {
          "base_uri": "https://localhost:8080/"
        },
        "id": "G8Dh9bSe8kWJ",
        "outputId": "0d87633b-af08-4d59-a961-d31acb82b5da"
      },
      "execution_count": 30,
      "outputs": [
        {
          "output_type": "stream",
          "name": "stdout",
          "text": [
            "[0, 0, 0, 0, 0, 0, 0, 0, 0, 0]\n"
          ]
        }
      ]
    },
    {
      "cell_type": "code",
      "source": [
        "print(inputs['attention_mask'])"
      ],
      "metadata": {
        "colab": {
          "base_uri": "https://localhost:8080/"
        },
        "id": "asJvKhR18lHZ",
        "outputId": "8d87d58e-5e1c-487f-a735-565cae395bcd"
      },
      "execution_count": 31,
      "outputs": [
        {
          "output_type": "stream",
          "name": "stdout",
          "text": [
            "[1, 1, 1, 1, 1, 1, 1, 1, 1, 1]\n"
          ]
        }
      ]
    },
    {
      "cell_type": "markdown",
      "source": [
        "## 6. [MASK] 토큰 예측하기"
      ],
      "metadata": {
        "id": "3j1ip6kW8nFs"
      }
    },
    {
      "cell_type": "code",
      "source": [
        "from transformers import FillMaskPipeline\n",
        "pip = FillMaskPipeline(model=model, tokenizer=tokenizer)"
      ],
      "metadata": {
        "id": "FWkJn-j78l55"
      },
      "execution_count": 32,
      "outputs": []
    },
    {
      "cell_type": "code",
      "source": [
        "pip('축구는 정말 재미있는 [MASK]다.')"
      ],
      "metadata": {
        "colab": {
          "base_uri": "https://localhost:8080/"
        },
        "id": "7PiYfrj48t-5",
        "outputId": "4473a030-9d3a-41c5-efce-89d8e6f287ca"
      },
      "execution_count": 33,
      "outputs": [
        {
          "output_type": "execute_result",
          "data": {
            "text/plain": [
              "[{'score': 0.8963626623153687,\n",
              "  'token': 4559,\n",
              "  'token_str': '스포츠',\n",
              "  'sequence': '축구는 정말 재미있는 스포츠 다.'},\n",
              " {'score': 0.025958072394132614,\n",
              "  'token': 568,\n",
              "  'token_str': '거',\n",
              "  'sequence': '축구는 정말 재미있는 거 다.'},\n",
              " {'score': 0.010034152306616306,\n",
              "  'token': 3682,\n",
              "  'token_str': '경기',\n",
              "  'sequence': '축구는 정말 재미있는 경기 다.'},\n",
              " {'score': 0.007924537174403667,\n",
              "  'token': 4713,\n",
              "  'token_str': '축구',\n",
              "  'sequence': '축구는 정말 재미있는 축구 다.'},\n",
              " {'score': 0.007844330742955208,\n",
              "  'token': 5845,\n",
              "  'token_str': '놀이',\n",
              "  'sequence': '축구는 정말 재미있는 놀이 다.'}]"
            ]
          },
          "metadata": {},
          "execution_count": 33
        }
      ]
    },
    {
      "cell_type": "code",
      "source": [
        "pip('어벤져스는 정말 재미있는 [MASK]다.')"
      ],
      "metadata": {
        "colab": {
          "base_uri": "https://localhost:8080/"
        },
        "id": "RyZKTwyk8uqB",
        "outputId": "57732046-ea22-43c7-e93e-130907179881"
      },
      "execution_count": 34,
      "outputs": [
        {
          "output_type": "execute_result",
          "data": {
            "text/plain": [
              "[{'score': 0.8382549285888672,\n",
              "  'token': 3771,\n",
              "  'token_str': '영화',\n",
              "  'sequence': '어벤져스는 정말 재미있는 영화 다.'},\n",
              " {'score': 0.02827594429254532,\n",
              "  'token': 568,\n",
              "  'token_str': '거',\n",
              "  'sequence': '어벤져스는 정말 재미있는 거 다.'},\n",
              " {'score': 0.01718960888683796,\n",
              "  'token': 4665,\n",
              "  'token_str': '드라마',\n",
              "  'sequence': '어벤져스는 정말 재미있는 드라마 다.'},\n",
              " {'score': 0.014989868737757206,\n",
              "  'token': 3758,\n",
              "  'token_str': '이야기',\n",
              "  'sequence': '어벤져스는 정말 재미있는 이야기 다.'},\n",
              " {'score': 0.009382720105350018,\n",
              "  'token': 4938,\n",
              "  'token_str': '장소',\n",
              "  'sequence': '어벤져스는 정말 재미있는 장소 다.'}]"
            ]
          },
          "metadata": {},
          "execution_count": 34
        }
      ]
    },
    {
      "cell_type": "code",
      "source": [
        "pip('나는 오늘 아침에 [MASK]에 출근을 했다.')"
      ],
      "metadata": {
        "colab": {
          "base_uri": "https://localhost:8080/"
        },
        "id": "JQ0ft7CY8vxJ",
        "outputId": "a46c5a7d-6079-416d-db73-f0fa4e51c296"
      },
      "execution_count": 35,
      "outputs": [
        {
          "output_type": "execute_result",
          "data": {
            "text/plain": [
              "[{'score': 0.08012595772743225,\n",
              "  'token': 3769,\n",
              "  'token_str': '회사',\n",
              "  'sequence': '나는 오늘 아침에 회사 에 출근을 했다.'},\n",
              " {'score': 0.061240848153829575,\n",
              "  'token': 1,\n",
              "  'token_str': '[UNK]',\n",
              "  'sequence': '나는 오늘 아침에 에 출근을 했다.'},\n",
              " {'score': 0.017486728727817535,\n",
              "  'token': 4345,\n",
              "  'token_str': '공장',\n",
              "  'sequence': '나는 오늘 아침에 공장 에 출근을 했다.'},\n",
              " {'score': 0.016131851822137833,\n",
              "  'token': 5841,\n",
              "  'token_str': '사무실',\n",
              "  'sequence': '나는 오늘 아침에 사무실 에 출근을 했다.'},\n",
              " {'score': 0.015360784716904163,\n",
              "  'token': 3671,\n",
              "  'token_str': '서울',\n",
              "  'sequence': '나는 오늘 아침에 서울 에 출근을 했다.'}]"
            ]
          },
          "metadata": {},
          "execution_count": 35
        }
      ]
    }
  ]
}