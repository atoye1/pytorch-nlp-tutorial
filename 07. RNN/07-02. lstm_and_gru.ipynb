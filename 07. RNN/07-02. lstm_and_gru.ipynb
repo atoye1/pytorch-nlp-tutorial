{
  "nbformat": 4,
  "nbformat_minor": 0,
  "metadata": {
    "colab": {
      "provenance": []
    },
    "kernelspec": {
      "name": "python3",
      "display_name": "Python 3"
    },
    "language_info": {
      "name": "python"
    }
  },
  "cells": [
    {
      "cell_type": "code",
      "execution_count": 16,
      "metadata": {
        "id": "QMzJLjdWKeGq"
      },
      "outputs": [],
      "source": [
        "import torch\n",
        "import torch.nn as nn"
      ]
    },
    {
      "cell_type": "code",
      "source": [
        "torch.__version__"
      ],
      "metadata": {
        "colab": {
          "base_uri": "https://localhost:8080/",
          "height": 35
        },
        "id": "SkxicVl8LJqb",
        "outputId": "e6e46763-77a3-4433-ca3e-0e067560a98d"
      },
      "execution_count": 12,
      "outputs": [
        {
          "output_type": "execute_result",
          "data": {
            "text/plain": [
              "'2.4.0+cu121'"
            ],
            "application/vnd.google.colaboratory.intrinsic+json": {
              "type": "string"
            }
          },
          "metadata": {},
          "execution_count": 12
        }
      ]
    },
    {
      "cell_type": "code",
      "source": [
        "input_dim = 5 # 입력의 크기\n",
        "hidden_size = 8 # 은닉 상태의 크기"
      ],
      "metadata": {
        "id": "ymiskJafKt2q"
      },
      "execution_count": 34,
      "outputs": []
    },
    {
      "cell_type": "markdown",
      "source": [
        "## 4. 파이토치의 nn.LSTM()"
      ],
      "metadata": {
        "id": "11Nd2oq7KoFG"
      }
    },
    {
      "cell_type": "code",
      "source": [
        "nn.RNN(input_dim, hidden_size, batch_first=True)"
      ],
      "metadata": {
        "colab": {
          "base_uri": "https://localhost:8080/"
        },
        "id": "HLIb2IMPL3pn",
        "outputId": "2c8f51db-79b0-42cd-9ef8-77c81aafb519"
      },
      "execution_count": 35,
      "outputs": [
        {
          "output_type": "execute_result",
          "data": {
            "text/plain": [
              "RNN(5, 8, batch_first=True)"
            ]
          },
          "metadata": {},
          "execution_count": 35
        }
      ]
    },
    {
      "cell_type": "code",
      "source": [
        "nn.LSTM(input_dim, hidden_size, batch_first=True)"
      ],
      "metadata": {
        "colab": {
          "base_uri": "https://localhost:8080/"
        },
        "id": "EDe3UV_7Kj4-",
        "outputId": "79b9cfc9-ec98-4d32-e2d0-bc89b62a3c10"
      },
      "execution_count": 33,
      "outputs": [
        {
          "output_type": "execute_result",
          "data": {
            "text/plain": [
              "LSTM(8, 8, batch_first=True)"
            ]
          },
          "metadata": {},
          "execution_count": 33
        }
      ]
    },
    {
      "cell_type": "markdown",
      "source": [
        "## 5. GRU(Gated Recurrent Unit)"
      ],
      "metadata": {
        "id": "0AUQyE61KpsF"
      }
    },
    {
      "cell_type": "code",
      "source": [
        "nn.RNN(input_dim, hidden_size, batch_first=True)"
      ],
      "metadata": {
        "colab": {
          "base_uri": "https://localhost:8080/"
        },
        "id": "8lsDMuUTKlpQ",
        "outputId": "c1b378f7-938d-4d76-e214-4f2037bc914a"
      },
      "execution_count": 36,
      "outputs": [
        {
          "output_type": "execute_result",
          "data": {
            "text/plain": [
              "RNN(5, 8, batch_first=True)"
            ]
          },
          "metadata": {},
          "execution_count": 36
        }
      ]
    },
    {
      "cell_type": "code",
      "source": [
        "nn.GRU(input_dim, hidden_size, batch_first=True)"
      ],
      "metadata": {
        "colab": {
          "base_uri": "https://localhost:8080/"
        },
        "id": "Fq4dL2ZUKvsn",
        "outputId": "0b4d34ee-373f-4de4-aec6-4020234b3a69"
      },
      "execution_count": 37,
      "outputs": [
        {
          "output_type": "execute_result",
          "data": {
            "text/plain": [
              "GRU(5, 8, batch_first=True)"
            ]
          },
          "metadata": {},
          "execution_count": 37
        }
      ]
    }
  ]
}